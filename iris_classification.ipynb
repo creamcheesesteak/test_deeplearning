{
  "nbformat": 4,
  "nbformat_minor": 0,
  "metadata": {
    "colab": {
      "name": "iris_classification.ipynb",
      "provenance": [],
      "authorship_tag": "ABX9TyM1Uid2w+Pxkkt/ZA9yAOVw",
      "include_colab_link": true
    },
    "kernelspec": {
      "name": "python3",
      "display_name": "Python 3"
    },
    "language_info": {
      "name": "python"
    }
  },
  "cells": [
    {
      "cell_type": "markdown",
      "metadata": {
        "id": "view-in-github",
        "colab_type": "text"
      },
      "source": [
        "<a href=\"https://colab.research.google.com/github/creamcheesesteak/test_deeplearning/blob/master/iris_classification.ipynb\" target=\"_parent\"><img src=\"https://colab.research.google.com/assets/colab-badge.svg\" alt=\"Open In Colab\"/></a>"
      ]
    },
    {
      "cell_type": "code",
      "metadata": {
        "id": "ePg3y_ln-3EU"
      },
      "source": [
        "from sklearn import datasets"
      ],
      "execution_count": 1,
      "outputs": []
    },
    {
      "cell_type": "code",
      "metadata": {
        "colab": {
          "base_uri": "https://localhost:8080/"
        },
        "id": "dW15_Dn6_ZQU",
        "outputId": "ef3b3ca5-9583-48fd-d0bd-d543d973e3f1"
      },
      "source": [
        "iris = datasets.load_iris()\n",
        "iris.feature_names"
      ],
      "execution_count": 3,
      "outputs": [
        {
          "output_type": "execute_result",
          "data": {
            "text/plain": [
              "['sepal length (cm)',\n",
              " 'sepal width (cm)',\n",
              " 'petal length (cm)',\n",
              " 'petal width (cm)']"
            ]
          },
          "metadata": {
            "tags": []
          },
          "execution_count": 3
        }
      ]
    },
    {
      "cell_type": "code",
      "metadata": {
        "colab": {
          "base_uri": "https://localhost:8080/"
        },
        "id": "IJLnkl5KAPod",
        "outputId": "3a11e7fa-468c-48ba-f11e-6fa3eed489f5"
      },
      "source": [
        "import pandas as pd\n",
        "df_iris = pd.DataFrame(iris.data)\n",
        "df_iris.info()"
      ],
      "execution_count": 4,
      "outputs": [
        {
          "output_type": "stream",
          "text": [
            "<class 'pandas.core.frame.DataFrame'>\n",
            "RangeIndex: 150 entries, 0 to 149\n",
            "Data columns (total 4 columns):\n",
            " #   Column  Non-Null Count  Dtype  \n",
            "---  ------  --------------  -----  \n",
            " 0   0       150 non-null    float64\n",
            " 1   1       150 non-null    float64\n",
            " 2   2       150 non-null    float64\n",
            " 3   3       150 non-null    float64\n",
            "dtypes: float64(4)\n",
            "memory usage: 4.8 KB\n"
          ],
          "name": "stdout"
        }
      ]
    },
    {
      "cell_type": "code",
      "metadata": {
        "id": "jb4MjOl6A6rI"
      },
      "source": [
        "import sqlite3\n",
        "connect = sqlite3.connect('./db.sqlite3')\n",
        "df_iris.to_sql('iris_resource', connect, if_exists='append', index=False)"
      ],
      "execution_count": 5,
      "outputs": []
    },
    {
      "cell_type": "code",
      "metadata": {
        "id": "_0wn-b9WCa7A"
      },
      "source": [
        "df_load = pd.read_sql_query('select * from iris_resource', connect)"
      ],
      "execution_count": 6,
      "outputs": []
    },
    {
      "cell_type": "code",
      "metadata": {
        "colab": {
          "base_uri": "https://localhost:8080/",
          "height": 171
        },
        "id": "Ikb3HmZhDAZT",
        "outputId": "dadab9cf-32c0-4d10-e604-7ad40477b562"
      },
      "source": [
        "df_load.head(4)"
      ],
      "execution_count": 7,
      "outputs": [
        {
          "output_type": "execute_result",
          "data": {
            "text/html": [
              "<div>\n",
              "<style scoped>\n",
              "    .dataframe tbody tr th:only-of-type {\n",
              "        vertical-align: middle;\n",
              "    }\n",
              "\n",
              "    .dataframe tbody tr th {\n",
              "        vertical-align: top;\n",
              "    }\n",
              "\n",
              "    .dataframe thead th {\n",
              "        text-align: right;\n",
              "    }\n",
              "</style>\n",
              "<table border=\"1\" class=\"dataframe\">\n",
              "  <thead>\n",
              "    <tr style=\"text-align: right;\">\n",
              "      <th></th>\n",
              "      <th>0</th>\n",
              "      <th>1</th>\n",
              "      <th>2</th>\n",
              "      <th>3</th>\n",
              "    </tr>\n",
              "  </thead>\n",
              "  <tbody>\n",
              "    <tr>\n",
              "      <th>0</th>\n",
              "      <td>5.1</td>\n",
              "      <td>3.5</td>\n",
              "      <td>1.4</td>\n",
              "      <td>0.2</td>\n",
              "    </tr>\n",
              "    <tr>\n",
              "      <th>1</th>\n",
              "      <td>4.9</td>\n",
              "      <td>3.0</td>\n",
              "      <td>1.4</td>\n",
              "      <td>0.2</td>\n",
              "    </tr>\n",
              "    <tr>\n",
              "      <th>2</th>\n",
              "      <td>4.7</td>\n",
              "      <td>3.2</td>\n",
              "      <td>1.3</td>\n",
              "      <td>0.2</td>\n",
              "    </tr>\n",
              "    <tr>\n",
              "      <th>3</th>\n",
              "      <td>4.6</td>\n",
              "      <td>3.1</td>\n",
              "      <td>1.5</td>\n",
              "      <td>0.2</td>\n",
              "    </tr>\n",
              "  </tbody>\n",
              "</table>\n",
              "</div>"
            ],
            "text/plain": [
              "     0    1    2    3\n",
              "0  5.1  3.5  1.4  0.2\n",
              "1  4.9  3.0  1.4  0.2\n",
              "2  4.7  3.2  1.3  0.2\n",
              "3  4.6  3.1  1.5  0.2"
            ]
          },
          "metadata": {
            "tags": []
          },
          "execution_count": 7
        }
      ]
    },
    {
      "cell_type": "code",
      "metadata": {
        "colab": {
          "base_uri": "https://localhost:8080/"
        },
        "id": "g_SNMxFu_ZuJ",
        "outputId": "eec94121-7ff9-4c68-9a97-928d4c9c9ed9"
      },
      "source": [
        "x_data = df_load.to_numpy()\n",
        "x_data.shape"
      ],
      "execution_count": 9,
      "outputs": [
        {
          "output_type": "execute_result",
          "data": {
            "text/plain": [
              "(150, 4)"
            ]
          },
          "metadata": {
            "tags": []
          },
          "execution_count": 9
        }
      ]
    },
    {
      "cell_type": "code",
      "metadata": {
        "id": "kShyGXyqVuO6"
      },
      "source": [
        "import numpy as np"
      ],
      "execution_count": 13,
      "outputs": []
    },
    {
      "cell_type": "code",
      "metadata": {
        "colab": {
          "base_uri": "https://localhost:8080/"
        },
        "id": "EP4BVRYzVp7i",
        "outputId": "b7557bc5-0546-4927-c617-159c3afb863f"
      },
      "source": [
        "y_data = iris.target\n",
        "y_data, np.unique(y_data)"
      ],
      "execution_count": 14,
      "outputs": [
        {
          "output_type": "execute_result",
          "data": {
            "text/plain": [
              "(array([0, 0, 0, 0, 0, 0, 0, 0, 0, 0, 0, 0, 0, 0, 0, 0, 0, 0, 0, 0, 0, 0,\n",
              "        0, 0, 0, 0, 0, 0, 0, 0, 0, 0, 0, 0, 0, 0, 0, 0, 0, 0, 0, 0, 0, 0,\n",
              "        0, 0, 0, 0, 0, 0, 1, 1, 1, 1, 1, 1, 1, 1, 1, 1, 1, 1, 1, 1, 1, 1,\n",
              "        1, 1, 1, 1, 1, 1, 1, 1, 1, 1, 1, 1, 1, 1, 1, 1, 1, 1, 1, 1, 1, 1,\n",
              "        1, 1, 1, 1, 1, 1, 1, 1, 1, 1, 1, 1, 2, 2, 2, 2, 2, 2, 2, 2, 2, 2,\n",
              "        2, 2, 2, 2, 2, 2, 2, 2, 2, 2, 2, 2, 2, 2, 2, 2, 2, 2, 2, 2, 2, 2,\n",
              "        2, 2, 2, 2, 2, 2, 2, 2, 2, 2, 2, 2, 2, 2, 2, 2, 2, 2]),\n",
              " array([0, 1, 2]))"
            ]
          },
          "metadata": {
            "tags": []
          },
          "execution_count": 14
        }
      ]
    },
    {
      "cell_type": "code",
      "metadata": {
        "id": "4QcIgwhdV0sp"
      },
      "source": [
        ""
      ],
      "execution_count": null,
      "outputs": []
    },
    {
      "cell_type": "code",
      "metadata": {
        "id": "vlYkPndM_Zw8"
      },
      "source": [
        "import tensorflow as tf"
      ],
      "execution_count": 10,
      "outputs": []
    },
    {
      "cell_type": "code",
      "metadata": {
        "id": "0jPuDDvGEJt0"
      },
      "source": [
        "model = tf.keras.Sequential()"
      ],
      "execution_count": 11,
      "outputs": []
    },
    {
      "cell_type": "code",
      "metadata": {
        "colab": {
          "base_uri": "https://localhost:8080/"
        },
        "id": "G-MLtEsAENPC",
        "outputId": "0a258466-61c7-4cb0-cbd7-5d77f35038b9"
      },
      "source": [
        "model.add(tf.keras.Input(shape=(4, ))) # input layer\n",
        "model.add(tf.keras.layers.Dense(64, activation='relu')) # hidden layer\n",
        "model.add(tf.keras.layers.Dense(24, activation='relu')) # hidden layer\n",
        "model.add(tf.keras.layers.Dense(3, activation='softmax')) # output layer\n",
        "\n",
        "model.compile(optimizer='adam', loss='mse', metrics=['acc']) # gadget "
      ],
      "execution_count": 20,
      "outputs": [
        {
          "output_type": "stream",
          "text": [
            "WARNING:tensorflow:Please add `keras.layers.InputLayer` instead of `keras.Input` to Sequential model. `keras.Input` is intended to be used by Functional model.\n"
          ],
          "name": "stdout"
        }
      ]
    },
    {
      "cell_type": "code",
      "metadata": {
        "colab": {
          "base_uri": "https://localhost:8080/"
        },
        "id": "b8qJU18-YsfP",
        "outputId": "78b1d71c-3f44-48de-f2ad-48ec7df88814"
      },
      "source": [
        "model.summary()"
      ],
      "execution_count": 21,
      "outputs": [
        {
          "output_type": "stream",
          "text": [
            "Model: \"sequential\"\n",
            "_________________________________________________________________\n",
            "Layer (type)                 Output Shape              Param #   \n",
            "=================================================================\n",
            "dense (Dense)                (None, 64)                320       \n",
            "_________________________________________________________________\n",
            "dense_1 (Dense)              (None, 24)                1560      \n",
            "_________________________________________________________________\n",
            "input_2 (InputLayer)         multiple                  0         \n",
            "_________________________________________________________________\n",
            "dense_2 (Dense)              (None, 64)                1600      \n",
            "_________________________________________________________________\n",
            "dense_3 (Dense)              (None, 24)                1560      \n",
            "_________________________________________________________________\n",
            "dense_4 (Dense)              (None, 3)                 75        \n",
            "_________________________________________________________________\n",
            "input_3 (InputLayer)         multiple                  0         \n",
            "_________________________________________________________________\n",
            "dense_5 (Dense)              (None, 64)                256       \n",
            "_________________________________________________________________\n",
            "dense_6 (Dense)              (None, 24)                1560      \n",
            "_________________________________________________________________\n",
            "dense_7 (Dense)              (None, 3)                 75        \n",
            "=================================================================\n",
            "Total params: 7,006\n",
            "Trainable params: 7,006\n",
            "Non-trainable params: 0\n",
            "_________________________________________________________________\n"
          ],
          "name": "stdout"
        }
      ]
    },
    {
      "cell_type": "code",
      "metadata": {
        "colab": {
          "base_uri": "https://localhost:8080/"
        },
        "id": "R6NQrUhv_Z3Q",
        "outputId": "34cdee4e-23b4-4cd5-da37-7a6401c95628"
      },
      "source": [
        "model.fit(x_data, y_data, epochs=50, validation_split=0.3) # 학습"
      ],
      "execution_count": 22,
      "outputs": [
        {
          "output_type": "stream",
          "text": [
            "Epoch 1/50\n",
            "4/4 [==============================] - 1s 65ms/step - loss: 0.3969 - acc: 0.1905 - val_loss: 2.7778 - val_acc: 0.0000e+00\n",
            "Epoch 2/50\n",
            "4/4 [==============================] - 0s 9ms/step - loss: 0.3968 - acc: 0.4762 - val_loss: 2.7778 - val_acc: 0.0000e+00\n",
            "Epoch 3/50\n",
            "4/4 [==============================] - 0s 12ms/step - loss: 0.3968 - acc: 0.5143 - val_loss: 2.7778 - val_acc: 0.0000e+00\n",
            "Epoch 4/50\n",
            "4/4 [==============================] - 0s 8ms/step - loss: 0.3968 - acc: 0.1714 - val_loss: 2.7778 - val_acc: 1.0000\n",
            "Epoch 5/50\n",
            "4/4 [==============================] - 0s 9ms/step - loss: 0.3968 - acc: 0.0476 - val_loss: 2.7778 - val_acc: 0.0222\n",
            "Epoch 6/50\n",
            "4/4 [==============================] - 0s 9ms/step - loss: 0.3968 - acc: 0.5333 - val_loss: 2.7778 - val_acc: 0.0000e+00\n",
            "Epoch 7/50\n",
            "4/4 [==============================] - 0s 9ms/step - loss: 0.3968 - acc: 0.4762 - val_loss: 2.7778 - val_acc: 0.0000e+00\n",
            "Epoch 8/50\n",
            "4/4 [==============================] - 0s 10ms/step - loss: 0.3968 - acc: 0.2667 - val_loss: 2.7778 - val_acc: 0.8000\n",
            "Epoch 9/50\n",
            "4/4 [==============================] - 0s 10ms/step - loss: 0.3968 - acc: 0.1048 - val_loss: 2.7778 - val_acc: 0.6222\n",
            "Epoch 10/50\n",
            "4/4 [==============================] - 0s 8ms/step - loss: 0.3968 - acc: 0.2000 - val_loss: 2.7778 - val_acc: 0.0000e+00\n",
            "Epoch 11/50\n",
            "4/4 [==============================] - 0s 10ms/step - loss: 0.3968 - acc: 0.4762 - val_loss: 2.7778 - val_acc: 0.0000e+00\n",
            "Epoch 12/50\n",
            "4/4 [==============================] - 0s 8ms/step - loss: 0.3968 - acc: 0.5048 - val_loss: 2.7778 - val_acc: 0.4667\n",
            "Epoch 13/50\n",
            "4/4 [==============================] - 0s 8ms/step - loss: 0.3968 - acc: 0.1619 - val_loss: 2.7778 - val_acc: 0.8222\n",
            "Epoch 14/50\n",
            "4/4 [==============================] - 0s 8ms/step - loss: 0.3968 - acc: 0.0952 - val_loss: 2.7778 - val_acc: 0.0000e+00\n",
            "Epoch 15/50\n",
            "4/4 [==============================] - 0s 9ms/step - loss: 0.3968 - acc: 0.4762 - val_loss: 2.7778 - val_acc: 0.0000e+00\n",
            "Epoch 16/50\n",
            "4/4 [==============================] - 0s 9ms/step - loss: 0.3968 - acc: 0.4857 - val_loss: 2.7778 - val_acc: 0.6444\n",
            "Epoch 17/50\n",
            "4/4 [==============================] - 0s 9ms/step - loss: 0.3968 - acc: 0.2000 - val_loss: 2.7778 - val_acc: 0.4444\n",
            "Epoch 18/50\n",
            "4/4 [==============================] - 0s 8ms/step - loss: 0.3968 - acc: 0.2476 - val_loss: 2.7778 - val_acc: 0.0000e+00\n",
            "Epoch 19/50\n",
            "4/4 [==============================] - 0s 8ms/step - loss: 0.3968 - acc: 0.4667 - val_loss: 2.7778 - val_acc: 0.0000e+00\n",
            "Epoch 20/50\n",
            "4/4 [==============================] - 0s 10ms/step - loss: 0.3968 - acc: 0.5048 - val_loss: 2.7778 - val_acc: 0.5111\n",
            "Epoch 21/50\n",
            "4/4 [==============================] - 0s 9ms/step - loss: 0.3968 - acc: 0.1333 - val_loss: 2.7778 - val_acc: 0.4444\n",
            "Epoch 22/50\n",
            "4/4 [==============================] - 0s 9ms/step - loss: 0.3968 - acc: 0.4000 - val_loss: 2.7778 - val_acc: 0.0000e+00\n",
            "Epoch 23/50\n",
            "4/4 [==============================] - 0s 8ms/step - loss: 0.3968 - acc: 0.4762 - val_loss: 2.7778 - val_acc: 0.0000e+00\n",
            "Epoch 24/50\n",
            "4/4 [==============================] - 0s 8ms/step - loss: 0.3968 - acc: 0.3238 - val_loss: 2.7778 - val_acc: 0.2222\n",
            "Epoch 25/50\n",
            "4/4 [==============================] - 0s 9ms/step - loss: 0.3968 - acc: 0.3048 - val_loss: 2.7778 - val_acc: 0.0000e+00\n",
            "Epoch 26/50\n",
            "4/4 [==============================] - 0s 11ms/step - loss: 0.3968 - acc: 0.4000 - val_loss: 2.7778 - val_acc: 0.0000e+00\n",
            "Epoch 27/50\n",
            "4/4 [==============================] - 0s 8ms/step - loss: 0.3968 - acc: 0.5333 - val_loss: 2.7778 - val_acc: 0.0222\n",
            "Epoch 28/50\n",
            "4/4 [==============================] - 0s 10ms/step - loss: 0.3968 - acc: 0.2476 - val_loss: 2.7778 - val_acc: 0.3778\n",
            "Epoch 29/50\n",
            "4/4 [==============================] - 0s 8ms/step - loss: 0.3968 - acc: 0.3429 - val_loss: 2.7778 - val_acc: 0.0000e+00\n",
            "Epoch 30/50\n",
            "4/4 [==============================] - 0s 10ms/step - loss: 0.3968 - acc: 0.5429 - val_loss: 2.7778 - val_acc: 0.0222\n",
            "Epoch 31/50\n",
            "4/4 [==============================] - 0s 10ms/step - loss: 0.3968 - acc: 0.1238 - val_loss: 2.7778 - val_acc: 0.0222\n",
            "Epoch 32/50\n",
            "4/4 [==============================] - 0s 9ms/step - loss: 0.3968 - acc: 0.4190 - val_loss: 2.7778 - val_acc: 0.0000e+00\n",
            "Epoch 33/50\n",
            "4/4 [==============================] - 0s 10ms/step - loss: 0.3968 - acc: 0.4857 - val_loss: 2.7778 - val_acc: 0.0000e+00\n",
            "Epoch 34/50\n",
            "4/4 [==============================] - 0s 9ms/step - loss: 0.3968 - acc: 0.4571 - val_loss: 2.7778 - val_acc: 0.0000e+00\n",
            "Epoch 35/50\n",
            "4/4 [==============================] - 0s 9ms/step - loss: 0.3968 - acc: 0.2095 - val_loss: 2.7778 - val_acc: 0.0000e+00\n",
            "Epoch 36/50\n",
            "4/4 [==============================] - 0s 11ms/step - loss: 0.3968 - acc: 0.5143 - val_loss: 2.7778 - val_acc: 0.0222\n",
            "Epoch 37/50\n",
            "4/4 [==============================] - 0s 8ms/step - loss: 0.3968 - acc: 0.1524 - val_loss: 2.7778 - val_acc: 0.0000e+00\n",
            "Epoch 38/50\n",
            "4/4 [==============================] - 0s 8ms/step - loss: 0.3968 - acc: 0.4952 - val_loss: 2.7778 - val_acc: 0.0000e+00\n",
            "Epoch 39/50\n",
            "4/4 [==============================] - 0s 14ms/step - loss: 0.3968 - acc: 0.2667 - val_loss: 2.7778 - val_acc: 0.0000e+00\n",
            "Epoch 40/50\n",
            "4/4 [==============================] - 0s 9ms/step - loss: 0.3968 - acc: 0.5238 - val_loss: 2.7778 - val_acc: 0.0000e+00\n",
            "Epoch 41/50\n",
            "4/4 [==============================] - 0s 8ms/step - loss: 0.3968 - acc: 0.1714 - val_loss: 2.7778 - val_acc: 0.0000e+00\n",
            "Epoch 42/50\n",
            "4/4 [==============================] - 0s 8ms/step - loss: 0.3968 - acc: 0.5143 - val_loss: 2.7778 - val_acc: 0.0222\n",
            "Epoch 43/50\n",
            "4/4 [==============================] - 0s 9ms/step - loss: 0.3968 - acc: 0.1143 - val_loss: 2.7778 - val_acc: 0.0000e+00\n",
            "Epoch 44/50\n",
            "4/4 [==============================] - 0s 9ms/step - loss: 0.3968 - acc: 0.5429 - val_loss: 2.7778 - val_acc: 0.0222\n",
            "Epoch 45/50\n",
            "4/4 [==============================] - 0s 9ms/step - loss: 0.3968 - acc: 0.1429 - val_loss: 2.7778 - val_acc: 0.0000e+00\n",
            "Epoch 46/50\n",
            "4/4 [==============================] - 0s 9ms/step - loss: 0.3968 - acc: 0.5333 - val_loss: 2.7778 - val_acc: 0.0000e+00\n",
            "Epoch 47/50\n",
            "4/4 [==============================] - 0s 9ms/step - loss: 0.3968 - acc: 0.3619 - val_loss: 2.7778 - val_acc: 0.0000e+00\n",
            "Epoch 48/50\n",
            "4/4 [==============================] - 0s 10ms/step - loss: 0.3968 - acc: 0.3619 - val_loss: 2.7778 - val_acc: 0.0000e+00\n",
            "Epoch 49/50\n",
            "4/4 [==============================] - 0s 9ms/step - loss: 0.3968 - acc: 0.4952 - val_loss: 2.7778 - val_acc: 0.0000e+00\n",
            "Epoch 50/50\n",
            "4/4 [==============================] - 0s 10ms/step - loss: 0.3968 - acc: 0.3810 - val_loss: 2.7778 - val_acc: 0.0000e+00\n"
          ],
          "name": "stdout"
        },
        {
          "output_type": "execute_result",
          "data": {
            "text/plain": [
              "<tensorflow.python.keras.callbacks.History at 0x7fd4b690bf90>"
            ]
          },
          "metadata": {
            "tags": []
          },
          "execution_count": 22
        }
      ]
    },
    {
      "cell_type": "markdown",
      "metadata": {
        "id": "zJKWasCgZ4Aq"
      },
      "source": [
        "# Evaluation"
      ]
    },
    {
      "cell_type": "code",
      "metadata": {
        "colab": {
          "base_uri": "https://localhost:8080/"
        },
        "id": "yRNNLYSJZYtf",
        "outputId": "1f3cc817-66f7-4d2b-9a80-4722b18ff641"
      },
      "source": [
        "model.evaluate(x_data, y_data)"
      ],
      "execution_count": 23,
      "outputs": [
        {
          "output_type": "stream",
          "text": [
            "5/5 [==============================] - 0s 2ms/step - loss: 1.1111 - acc: 0.2800\n"
          ],
          "name": "stdout"
        },
        {
          "output_type": "execute_result",
          "data": {
            "text/plain": [
              "[1.111111044883728, 0.2800000011920929]"
            ]
          },
          "metadata": {
            "tags": []
          },
          "execution_count": 23
        }
      ]
    },
    {
      "cell_type": "code",
      "metadata": {
        "id": "u7eazGUhZ8wk"
      },
      "source": [
        ""
      ],
      "execution_count": null,
      "outputs": []
    },
    {
      "cell_type": "markdown",
      "metadata": {
        "id": "Wd_Kq0d2ErTM"
      },
      "source": [
        "# service"
      ]
    },
    {
      "cell_type": "code",
      "metadata": {
        "colab": {
          "base_uri": "https://localhost:8080/"
        },
        "id": "xn_DX6N8aZTL",
        "outputId": "da1b0a18-115c-4ea8-d22b-a4a6f03e4ab9"
      },
      "source": [
        "x_data[25], y_data[25]"
      ],
      "execution_count": 24,
      "outputs": [
        {
          "output_type": "execute_result",
          "data": {
            "text/plain": [
              "(array([5. , 3. , 1.6, 0.2]), 0)"
            ]
          },
          "metadata": {
            "tags": []
          },
          "execution_count": 24
        }
      ]
    },
    {
      "cell_type": "code",
      "metadata": {
        "id": "g80_Xl2aacUH"
      },
      "source": [
        ""
      ],
      "execution_count": null,
      "outputs": []
    },
    {
      "cell_type": "code",
      "metadata": {
        "colab": {
          "base_uri": "https://localhost:8080/"
        },
        "id": "fvG6pFQN_Z-r",
        "outputId": "d8fad6c3-9b6d-4050-82b5-c97494b8f4ad"
      },
      "source": [
        "pred = model.predict([[5. , 3. , 1.6, 0.2]])\n",
        "pred"
      ],
      "execution_count": 26,
      "outputs": [
        {
          "output_type": "execute_result",
          "data": {
            "text/plain": [
              "array([[0.33334416, 0.33331066, 0.3333452 ]], dtype=float32)"
            ]
          },
          "metadata": {
            "tags": []
          },
          "execution_count": 26
        }
      ]
    },
    {
      "cell_type": "code",
      "metadata": {
        "colab": {
          "base_uri": "https://localhost:8080/"
        },
        "id": "eZWDmX_E_aEw",
        "outputId": "2a9a81e5-a21c-41ac-ba40-2344c4bece8a"
      },
      "source": [
        "import numpy as np\n",
        "np.argmax(pred)"
      ],
      "execution_count": 27,
      "outputs": [
        {
          "output_type": "execute_result",
          "data": {
            "text/plain": [
              "2"
            ]
          },
          "metadata": {
            "tags": []
          },
          "execution_count": 27
        }
      ]
    },
    {
      "cell_type": "code",
      "metadata": {
        "id": "IrG0x4ALbKYk"
      },
      "source": [
        ""
      ],
      "execution_count": null,
      "outputs": []
    },
    {
      "cell_type": "code",
      "metadata": {
        "id": "NPdRNWK1_aIX"
      },
      "source": [
        ""
      ],
      "execution_count": null,
      "outputs": []
    },
    {
      "cell_type": "code",
      "metadata": {
        "id": "Eie-N5Gh_aMx"
      },
      "source": [
        ""
      ],
      "execution_count": null,
      "outputs": []
    },
    {
      "cell_type": "code",
      "metadata": {
        "id": "ugl4Hq-x_aRJ"
      },
      "source": [
        ""
      ],
      "execution_count": null,
      "outputs": []
    },
    {
      "cell_type": "code",
      "metadata": {
        "id": "5-EaxtVE_aWR"
      },
      "source": [
        ""
      ],
      "execution_count": null,
      "outputs": []
    },
    {
      "cell_type": "code",
      "metadata": {
        "id": "CvhP9gUk_aaL"
      },
      "source": [
        ""
      ],
      "execution_count": null,
      "outputs": []
    },
    {
      "cell_type": "code",
      "metadata": {
        "id": "cfaFpXDT_afO"
      },
      "source": [
        ""
      ],
      "execution_count": null,
      "outputs": []
    },
    {
      "cell_type": "code",
      "metadata": {
        "id": "dxkFafbC_air"
      },
      "source": [
        ""
      ],
      "execution_count": null,
      "outputs": []
    },
    {
      "cell_type": "code",
      "metadata": {
        "id": "jAmTZrtY_amm"
      },
      "source": [
        ""
      ],
      "execution_count": null,
      "outputs": []
    },
    {
      "cell_type": "code",
      "metadata": {
        "id": "djkCsunb_aqx"
      },
      "source": [
        ""
      ],
      "execution_count": null,
      "outputs": []
    },
    {
      "cell_type": "code",
      "metadata": {
        "id": "A1rpeNzj_auR"
      },
      "source": [
        ""
      ],
      "execution_count": null,
      "outputs": []
    },
    {
      "cell_type": "code",
      "metadata": {
        "id": "VzNG_eSH_azP"
      },
      "source": [
        ""
      ],
      "execution_count": null,
      "outputs": []
    },
    {
      "cell_type": "code",
      "metadata": {
        "id": "XuWYhm_d_a5w"
      },
      "source": [
        ""
      ],
      "execution_count": null,
      "outputs": []
    }
  ]
}