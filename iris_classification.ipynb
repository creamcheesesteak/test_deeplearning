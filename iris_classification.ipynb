{
  "nbformat": 4,
  "nbformat_minor": 0,
  "metadata": {
    "colab": {
      "name": "iris_classification.ipynb",
      "provenance": [],
      "authorship_tag": "ABX9TyPvlbCLy86B6NLvet1eIVOr",
      "include_colab_link": true
    },
    "kernelspec": {
      "name": "python3",
      "display_name": "Python 3"
    },
    "language_info": {
      "name": "python"
    }
  },
  "cells": [
    {
      "cell_type": "markdown",
      "metadata": {
        "id": "view-in-github",
        "colab_type": "text"
      },
      "source": [
        "<a href=\"https://colab.research.google.com/github/creamcheesesteak/test_deeplearning/blob/master/iris_classification.ipynb\" target=\"_parent\"><img src=\"https://colab.research.google.com/assets/colab-badge.svg\" alt=\"Open In Colab\"/></a>"
      ]
    },
    {
      "cell_type": "code",
      "metadata": {
        "id": "ePg3y_ln-3EU"
      },
      "source": [
        "from sklearn import datasets"
      ],
      "execution_count": 1,
      "outputs": []
    },
    {
      "cell_type": "code",
      "metadata": {
        "colab": {
          "base_uri": "https://localhost:8080/"
        },
        "id": "dW15_Dn6_ZQU",
        "outputId": "f6db4d89-1d89-49bd-e19d-8efec5c3488e"
      },
      "source": [
        "iris = datasets.load_iris()\n",
        "iris.feature_names"
      ],
      "execution_count": 2,
      "outputs": [
        {
          "output_type": "execute_result",
          "data": {
            "text/plain": [
              "['sepal length (cm)',\n",
              " 'sepal width (cm)',\n",
              " 'petal length (cm)',\n",
              " 'petal width (cm)']"
            ]
          },
          "metadata": {
            "tags": []
          },
          "execution_count": 2
        }
      ]
    },
    {
      "cell_type": "code",
      "metadata": {
        "colab": {
          "base_uri": "https://localhost:8080/"
        },
        "id": "IJLnkl5KAPod",
        "outputId": "e4853538-d79c-4dfb-f604-bb16eb473ccc"
      },
      "source": [
        "import pandas as pd\n",
        "df_iris = pd.DataFrame(iris.data)\n",
        "df_iris.info()"
      ],
      "execution_count": 3,
      "outputs": [
        {
          "output_type": "stream",
          "text": [
            "<class 'pandas.core.frame.DataFrame'>\n",
            "RangeIndex: 150 entries, 0 to 149\n",
            "Data columns (total 4 columns):\n",
            " #   Column  Non-Null Count  Dtype  \n",
            "---  ------  --------------  -----  \n",
            " 0   0       150 non-null    float64\n",
            " 1   1       150 non-null    float64\n",
            " 2   2       150 non-null    float64\n",
            " 3   3       150 non-null    float64\n",
            "dtypes: float64(4)\n",
            "memory usage: 4.8 KB\n"
          ],
          "name": "stdout"
        }
      ]
    },
    {
      "cell_type": "code",
      "metadata": {
        "id": "jb4MjOl6A6rI"
      },
      "source": [
        "import sqlite3\n",
        "connect = sqlite3.connect('./db.sqlite3')\n",
        "df_iris.to_sql('iris_resource', connect, if_exists='append', index=False)"
      ],
      "execution_count": 4,
      "outputs": []
    },
    {
      "cell_type": "code",
      "metadata": {
        "id": "_0wn-b9WCa7A"
      },
      "source": [
        "df_load = pd.read_sql_query('select * from iris_resource', connect)"
      ],
      "execution_count": 5,
      "outputs": []
    },
    {
      "cell_type": "code",
      "metadata": {
        "colab": {
          "base_uri": "https://localhost:8080/",
          "height": 171
        },
        "id": "Ikb3HmZhDAZT",
        "outputId": "cb253a36-7cd2-4b24-fda9-0be4036b839f"
      },
      "source": [
        "df_load.head(4)"
      ],
      "execution_count": 6,
      "outputs": [
        {
          "output_type": "execute_result",
          "data": {
            "text/html": [
              "<div>\n",
              "<style scoped>\n",
              "    .dataframe tbody tr th:only-of-type {\n",
              "        vertical-align: middle;\n",
              "    }\n",
              "\n",
              "    .dataframe tbody tr th {\n",
              "        vertical-align: top;\n",
              "    }\n",
              "\n",
              "    .dataframe thead th {\n",
              "        text-align: right;\n",
              "    }\n",
              "</style>\n",
              "<table border=\"1\" class=\"dataframe\">\n",
              "  <thead>\n",
              "    <tr style=\"text-align: right;\">\n",
              "      <th></th>\n",
              "      <th>0</th>\n",
              "      <th>1</th>\n",
              "      <th>2</th>\n",
              "      <th>3</th>\n",
              "    </tr>\n",
              "  </thead>\n",
              "  <tbody>\n",
              "    <tr>\n",
              "      <th>0</th>\n",
              "      <td>5.1</td>\n",
              "      <td>3.5</td>\n",
              "      <td>1.4</td>\n",
              "      <td>0.2</td>\n",
              "    </tr>\n",
              "    <tr>\n",
              "      <th>1</th>\n",
              "      <td>4.9</td>\n",
              "      <td>3.0</td>\n",
              "      <td>1.4</td>\n",
              "      <td>0.2</td>\n",
              "    </tr>\n",
              "    <tr>\n",
              "      <th>2</th>\n",
              "      <td>4.7</td>\n",
              "      <td>3.2</td>\n",
              "      <td>1.3</td>\n",
              "      <td>0.2</td>\n",
              "    </tr>\n",
              "    <tr>\n",
              "      <th>3</th>\n",
              "      <td>4.6</td>\n",
              "      <td>3.1</td>\n",
              "      <td>1.5</td>\n",
              "      <td>0.2</td>\n",
              "    </tr>\n",
              "  </tbody>\n",
              "</table>\n",
              "</div>"
            ],
            "text/plain": [
              "     0    1    2    3\n",
              "0  5.1  3.5  1.4  0.2\n",
              "1  4.9  3.0  1.4  0.2\n",
              "2  4.7  3.2  1.3  0.2\n",
              "3  4.6  3.1  1.5  0.2"
            ]
          },
          "metadata": {
            "tags": []
          },
          "execution_count": 6
        }
      ]
    },
    {
      "cell_type": "code",
      "metadata": {
        "colab": {
          "base_uri": "https://localhost:8080/"
        },
        "id": "g_SNMxFu_ZuJ",
        "outputId": "d9b56e05-03a7-4b76-ccd8-480cc3562f6a"
      },
      "source": [
        "x_data = df_load.to_numpy()\n",
        "x_data.shape"
      ],
      "execution_count": 7,
      "outputs": [
        {
          "output_type": "execute_result",
          "data": {
            "text/plain": [
              "(150, 4)"
            ]
          },
          "metadata": {
            "tags": []
          },
          "execution_count": 7
        }
      ]
    },
    {
      "cell_type": "code",
      "metadata": {
        "id": "kShyGXyqVuO6"
      },
      "source": [
        "import numpy as np"
      ],
      "execution_count": 8,
      "outputs": []
    },
    {
      "cell_type": "code",
      "metadata": {
        "colab": {
          "base_uri": "https://localhost:8080/"
        },
        "id": "EP4BVRYzVp7i",
        "outputId": "d2f10086-5be1-46d8-f507-481c58492b1d"
      },
      "source": [
        "y_data = iris.target\n",
        "y_data, np.unique(y_data)"
      ],
      "execution_count": 9,
      "outputs": [
        {
          "output_type": "execute_result",
          "data": {
            "text/plain": [
              "(array([0, 0, 0, 0, 0, 0, 0, 0, 0, 0, 0, 0, 0, 0, 0, 0, 0, 0, 0, 0, 0, 0,\n",
              "        0, 0, 0, 0, 0, 0, 0, 0, 0, 0, 0, 0, 0, 0, 0, 0, 0, 0, 0, 0, 0, 0,\n",
              "        0, 0, 0, 0, 0, 0, 1, 1, 1, 1, 1, 1, 1, 1, 1, 1, 1, 1, 1, 1, 1, 1,\n",
              "        1, 1, 1, 1, 1, 1, 1, 1, 1, 1, 1, 1, 1, 1, 1, 1, 1, 1, 1, 1, 1, 1,\n",
              "        1, 1, 1, 1, 1, 1, 1, 1, 1, 1, 1, 1, 2, 2, 2, 2, 2, 2, 2, 2, 2, 2,\n",
              "        2, 2, 2, 2, 2, 2, 2, 2, 2, 2, 2, 2, 2, 2, 2, 2, 2, 2, 2, 2, 2, 2,\n",
              "        2, 2, 2, 2, 2, 2, 2, 2, 2, 2, 2, 2, 2, 2, 2, 2, 2, 2]),\n",
              " array([0, 1, 2]))"
            ]
          },
          "metadata": {
            "tags": []
          },
          "execution_count": 9
        }
      ]
    },
    {
      "cell_type": "code",
      "metadata": {
        "id": "4QcIgwhdV0sp"
      },
      "source": [
        "from sklearn.model_selection import train_test_split"
      ],
      "execution_count": 10,
      "outputs": []
    },
    {
      "cell_type": "code",
      "metadata": {
        "id": "3LgAK8zdJeCv"
      },
      "source": [
        "x_train, x_test, y_train, y_test = train_test_split(x_data, y_data)"
      ],
      "execution_count": 11,
      "outputs": []
    },
    {
      "cell_type": "code",
      "metadata": {
        "id": "vlYkPndM_Zw8"
      },
      "source": [
        "import tensorflow as tf"
      ],
      "execution_count": 12,
      "outputs": []
    },
    {
      "cell_type": "code",
      "metadata": {
        "id": "0jPuDDvGEJt0"
      },
      "source": [
        "model = tf.keras.Sequential()"
      ],
      "execution_count": 13,
      "outputs": []
    },
    {
      "cell_type": "code",
      "metadata": {
        "colab": {
          "base_uri": "https://localhost:8080/"
        },
        "id": "G-MLtEsAENPC",
        "outputId": "fe40117a-9a9a-4c03-faf6-85168d417ee6"
      },
      "source": [
        "model.add(tf.keras.Input(shape=(4, ))) # input layer\n",
        "model.add(tf.keras.layers.Dense(64, activation='relu')) # hidden layer\n",
        "model.add(tf.keras.layers.Dense(24, activation='relu')) # hidden layer\n",
        "model.add(tf.keras.layers.Dense(3, activation='softmax')) # output layer\n",
        "\n",
        "model.compile(optimizer='adam', loss='sparse_categorical_crossentropy', metrics=['acc']) # gadget "
      ],
      "execution_count": 14,
      "outputs": [
        {
          "output_type": "stream",
          "text": [
            "WARNING:tensorflow:Please add `keras.layers.InputLayer` instead of `keras.Input` to Sequential model. `keras.Input` is intended to be used by Functional model.\n"
          ],
          "name": "stdout"
        }
      ]
    },
    {
      "cell_type": "code",
      "metadata": {
        "colab": {
          "base_uri": "https://localhost:8080/"
        },
        "id": "b8qJU18-YsfP",
        "outputId": "4a1bef7c-3cb5-4b86-d4ce-74c2da4ea2a9"
      },
      "source": [
        "model.summary()"
      ],
      "execution_count": 15,
      "outputs": [
        {
          "output_type": "stream",
          "text": [
            "Model: \"sequential\"\n",
            "_________________________________________________________________\n",
            "Layer (type)                 Output Shape              Param #   \n",
            "=================================================================\n",
            "dense (Dense)                (None, 64)                320       \n",
            "_________________________________________________________________\n",
            "dense_1 (Dense)              (None, 24)                1560      \n",
            "_________________________________________________________________\n",
            "dense_2 (Dense)              (None, 3)                 75        \n",
            "=================================================================\n",
            "Total params: 1,955\n",
            "Trainable params: 1,955\n",
            "Non-trainable params: 0\n",
            "_________________________________________________________________\n"
          ],
          "name": "stdout"
        }
      ]
    },
    {
      "cell_type": "code",
      "metadata": {
        "colab": {
          "base_uri": "https://localhost:8080/"
        },
        "id": "R6NQrUhv_Z3Q",
        "outputId": "7e8c8b5b-9432-4a33-fb65-d2a1102b1a26"
      },
      "source": [
        "model.fit(x_train, y_train, epochs=50, validation_data=(x_test, y_test)) # 학습"
      ],
      "execution_count": 16,
      "outputs": [
        {
          "output_type": "stream",
          "text": [
            "Epoch 1/50\n",
            "4/4 [==============================] - 1s 99ms/step - loss: 1.0942 - acc: 0.3571 - val_loss: 1.1029 - val_acc: 0.4737\n",
            "Epoch 2/50\n",
            "4/4 [==============================] - 0s 8ms/step - loss: 1.0213 - acc: 0.4196 - val_loss: 1.0317 - val_acc: 0.2895\n",
            "Epoch 3/50\n",
            "4/4 [==============================] - 0s 8ms/step - loss: 0.9733 - acc: 0.3571 - val_loss: 0.9749 - val_acc: 0.5789\n",
            "Epoch 4/50\n",
            "4/4 [==============================] - 0s 8ms/step - loss: 0.9300 - acc: 0.5982 - val_loss: 0.9229 - val_acc: 0.7105\n",
            "Epoch 5/50\n",
            "4/4 [==============================] - 0s 8ms/step - loss: 0.8920 - acc: 0.6518 - val_loss: 0.8756 - val_acc: 0.7105\n",
            "Epoch 6/50\n",
            "4/4 [==============================] - 0s 8ms/step - loss: 0.8514 - acc: 0.6518 - val_loss: 0.8356 - val_acc: 0.7105\n",
            "Epoch 7/50\n",
            "4/4 [==============================] - 0s 8ms/step - loss: 0.8149 - acc: 0.6518 - val_loss: 0.8065 - val_acc: 0.7105\n",
            "Epoch 8/50\n",
            "4/4 [==============================] - 0s 8ms/step - loss: 0.7876 - acc: 0.6518 - val_loss: 0.7670 - val_acc: 0.7105\n",
            "Epoch 9/50\n",
            "4/4 [==============================] - 0s 9ms/step - loss: 0.7510 - acc: 0.6518 - val_loss: 0.7295 - val_acc: 0.7105\n",
            "Epoch 10/50\n",
            "4/4 [==============================] - 0s 11ms/step - loss: 0.7293 - acc: 0.6518 - val_loss: 0.6979 - val_acc: 0.7105\n",
            "Epoch 11/50\n",
            "4/4 [==============================] - 0s 8ms/step - loss: 0.6985 - acc: 0.6518 - val_loss: 0.6659 - val_acc: 0.7105\n",
            "Epoch 12/50\n",
            "4/4 [==============================] - 0s 8ms/step - loss: 0.6688 - acc: 0.6518 - val_loss: 0.6381 - val_acc: 0.7632\n",
            "Epoch 13/50\n",
            "4/4 [==============================] - 0s 10ms/step - loss: 0.6452 - acc: 0.7589 - val_loss: 0.6091 - val_acc: 0.8684\n",
            "Epoch 14/50\n",
            "4/4 [==============================] - 0s 8ms/step - loss: 0.6208 - acc: 0.7857 - val_loss: 0.5794 - val_acc: 0.8684\n",
            "Epoch 15/50\n",
            "4/4 [==============================] - 0s 9ms/step - loss: 0.5995 - acc: 0.7500 - val_loss: 0.5507 - val_acc: 0.7895\n",
            "Epoch 16/50\n",
            "4/4 [==============================] - 0s 9ms/step - loss: 0.5732 - acc: 0.7768 - val_loss: 0.5270 - val_acc: 0.8684\n",
            "Epoch 17/50\n",
            "4/4 [==============================] - 0s 10ms/step - loss: 0.5537 - acc: 0.8036 - val_loss: 0.5054 - val_acc: 0.8947\n",
            "Epoch 18/50\n",
            "4/4 [==============================] - 0s 8ms/step - loss: 0.5353 - acc: 0.8304 - val_loss: 0.4850 - val_acc: 0.8684\n",
            "Epoch 19/50\n",
            "4/4 [==============================] - 0s 9ms/step - loss: 0.5206 - acc: 0.8036 - val_loss: 0.4669 - val_acc: 0.8684\n",
            "Epoch 20/50\n",
            "4/4 [==============================] - 0s 15ms/step - loss: 0.5054 - acc: 0.7679 - val_loss: 0.4512 - val_acc: 0.7632\n",
            "Epoch 21/50\n",
            "4/4 [==============================] - 0s 8ms/step - loss: 0.4923 - acc: 0.7411 - val_loss: 0.4361 - val_acc: 0.8421\n",
            "Epoch 22/50\n",
            "4/4 [==============================] - 0s 9ms/step - loss: 0.4782 - acc: 0.7946 - val_loss: 0.4225 - val_acc: 0.8947\n",
            "Epoch 23/50\n",
            "4/4 [==============================] - 0s 8ms/step - loss: 0.4651 - acc: 0.8839 - val_loss: 0.4104 - val_acc: 0.9474\n",
            "Epoch 24/50\n",
            "4/4 [==============================] - 0s 9ms/step - loss: 0.4534 - acc: 0.9196 - val_loss: 0.3987 - val_acc: 0.9474\n",
            "Epoch 25/50\n",
            "4/4 [==============================] - 0s 9ms/step - loss: 0.4428 - acc: 0.9375 - val_loss: 0.3878 - val_acc: 0.9737\n",
            "Epoch 26/50\n",
            "4/4 [==============================] - 0s 8ms/step - loss: 0.4324 - acc: 0.9286 - val_loss: 0.3768 - val_acc: 0.9474\n",
            "Epoch 27/50\n",
            "4/4 [==============================] - 0s 8ms/step - loss: 0.4232 - acc: 0.9107 - val_loss: 0.3664 - val_acc: 0.9474\n",
            "Epoch 28/50\n",
            "4/4 [==============================] - 0s 14ms/step - loss: 0.4131 - acc: 0.9286 - val_loss: 0.3574 - val_acc: 0.9737\n",
            "Epoch 29/50\n",
            "4/4 [==============================] - 0s 8ms/step - loss: 0.4042 - acc: 0.9464 - val_loss: 0.3497 - val_acc: 0.9737\n",
            "Epoch 30/50\n",
            "4/4 [==============================] - 0s 8ms/step - loss: 0.3959 - acc: 0.9464 - val_loss: 0.3405 - val_acc: 0.9737\n",
            "Epoch 31/50\n",
            "4/4 [==============================] - 0s 8ms/step - loss: 0.3867 - acc: 0.9375 - val_loss: 0.3319 - val_acc: 0.9737\n",
            "Epoch 32/50\n",
            "4/4 [==============================] - 0s 8ms/step - loss: 0.3810 - acc: 0.9286 - val_loss: 0.3240 - val_acc: 0.9474\n",
            "Epoch 33/50\n",
            "4/4 [==============================] - 0s 8ms/step - loss: 0.3699 - acc: 0.9375 - val_loss: 0.3181 - val_acc: 1.0000\n",
            "Epoch 34/50\n",
            "4/4 [==============================] - 0s 8ms/step - loss: 0.3637 - acc: 0.9643 - val_loss: 0.3148 - val_acc: 1.0000\n",
            "Epoch 35/50\n",
            "4/4 [==============================] - 0s 9ms/step - loss: 0.3570 - acc: 0.9732 - val_loss: 0.3048 - val_acc: 1.0000\n",
            "Epoch 36/50\n",
            "4/4 [==============================] - 0s 8ms/step - loss: 0.3486 - acc: 0.9464 - val_loss: 0.2949 - val_acc: 0.9737\n",
            "Epoch 37/50\n",
            "4/4 [==============================] - 0s 8ms/step - loss: 0.3425 - acc: 0.9375 - val_loss: 0.2887 - val_acc: 0.9737\n",
            "Epoch 38/50\n",
            "4/4 [==============================] - 0s 10ms/step - loss: 0.3336 - acc: 0.9464 - val_loss: 0.2831 - val_acc: 1.0000\n",
            "Epoch 39/50\n",
            "4/4 [==============================] - 0s 8ms/step - loss: 0.3254 - acc: 0.9643 - val_loss: 0.2811 - val_acc: 1.0000\n",
            "Epoch 40/50\n",
            "4/4 [==============================] - 0s 8ms/step - loss: 0.3229 - acc: 0.9821 - val_loss: 0.2758 - val_acc: 1.0000\n",
            "Epoch 41/50\n",
            "4/4 [==============================] - 0s 9ms/step - loss: 0.3140 - acc: 0.9643 - val_loss: 0.2631 - val_acc: 1.0000\n",
            "Epoch 42/50\n",
            "4/4 [==============================] - 0s 9ms/step - loss: 0.3066 - acc: 0.9554 - val_loss: 0.2562 - val_acc: 1.0000\n",
            "Epoch 43/50\n",
            "4/4 [==============================] - 0s 9ms/step - loss: 0.2986 - acc: 0.9554 - val_loss: 0.2519 - val_acc: 1.0000\n",
            "Epoch 44/50\n",
            "4/4 [==============================] - 0s 10ms/step - loss: 0.2972 - acc: 0.9732 - val_loss: 0.2500 - val_acc: 1.0000\n",
            "Epoch 45/50\n",
            "4/4 [==============================] - 0s 9ms/step - loss: 0.2856 - acc: 0.9732 - val_loss: 0.2384 - val_acc: 1.0000\n",
            "Epoch 46/50\n",
            "4/4 [==============================] - 0s 8ms/step - loss: 0.2826 - acc: 0.9464 - val_loss: 0.2322 - val_acc: 0.9737\n",
            "Epoch 47/50\n",
            "4/4 [==============================] - 0s 8ms/step - loss: 0.2760 - acc: 0.9554 - val_loss: 0.2280 - val_acc: 1.0000\n",
            "Epoch 48/50\n",
            "4/4 [==============================] - 0s 9ms/step - loss: 0.2734 - acc: 0.9732 - val_loss: 0.2257 - val_acc: 1.0000\n",
            "Epoch 49/50\n",
            "4/4 [==============================] - 0s 9ms/step - loss: 0.2619 - acc: 0.9732 - val_loss: 0.2168 - val_acc: 1.0000\n",
            "Epoch 50/50\n",
            "4/4 [==============================] - 0s 9ms/step - loss: 0.2580 - acc: 0.9554 - val_loss: 0.2117 - val_acc: 1.0000\n"
          ],
          "name": "stdout"
        },
        {
          "output_type": "execute_result",
          "data": {
            "text/plain": [
              "<tensorflow.python.keras.callbacks.History at 0x7f24c60af110>"
            ]
          },
          "metadata": {
            "tags": []
          },
          "execution_count": 16
        }
      ]
    },
    {
      "cell_type": "markdown",
      "metadata": {
        "id": "zJKWasCgZ4Aq"
      },
      "source": [
        "# Evaluation"
      ]
    },
    {
      "cell_type": "code",
      "metadata": {
        "colab": {
          "base_uri": "https://localhost:8080/"
        },
        "id": "yRNNLYSJZYtf",
        "outputId": "d0af3db0-66e4-46df-8df9-041a7f4676e7"
      },
      "source": [
        "model.evaluate(x_data, y_data)"
      ],
      "execution_count": 17,
      "outputs": [
        {
          "output_type": "stream",
          "text": [
            "5/5 [==============================] - 0s 2ms/step - loss: 0.2425 - acc: 0.9667\n"
          ],
          "name": "stdout"
        },
        {
          "output_type": "execute_result",
          "data": {
            "text/plain": [
              "[0.24249644577503204, 0.9666666388511658]"
            ]
          },
          "metadata": {
            "tags": []
          },
          "execution_count": 17
        }
      ]
    },
    {
      "cell_type": "code",
      "metadata": {
        "id": "u7eazGUhZ8wk"
      },
      "source": [
        "from sklearn.metrics import roc_curve, auc\n",
        "from sklearn.metrics import classification_report, confusion_matrix"
      ],
      "execution_count": 18,
      "outputs": []
    },
    {
      "cell_type": "code",
      "metadata": {
        "colab": {
          "base_uri": "https://localhost:8080/"
        },
        "id": "S29VDIZbn2Nu",
        "outputId": "2e070c6a-0955-4a71-b999-f526918d8830"
      },
      "source": [
        "y_pred = model.predict(x_data)\n",
        "y_pred.shape, y_pred[4]"
      ],
      "execution_count": 19,
      "outputs": [
        {
          "output_type": "execute_result",
          "data": {
            "text/plain": [
              "((150, 3), array([0.98128235, 0.0144074 , 0.00431027], dtype=float32))"
            ]
          },
          "metadata": {
            "tags": []
          },
          "execution_count": 19
        }
      ]
    },
    {
      "cell_type": "code",
      "metadata": {
        "colab": {
          "base_uri": "https://localhost:8080/"
        },
        "id": "glKMax0mn2Da",
        "outputId": "f4f336d6-50fe-43ab-c1a4-8a8000276ad4"
      },
      "source": [
        "import numpy as np\n",
        "y_pred_argmax = np.argmax(y_pred, axis=1)\n",
        "y_pred_argmax.shape, y_pred_argmax[4]"
      ],
      "execution_count": 20,
      "outputs": [
        {
          "output_type": "execute_result",
          "data": {
            "text/plain": [
              "((150,), 0)"
            ]
          },
          "metadata": {
            "tags": []
          },
          "execution_count": 20
        }
      ]
    },
    {
      "cell_type": "code",
      "metadata": {
        "colab": {
          "base_uri": "https://localhost:8080/"
        },
        "id": "1XC8u_gJn11m",
        "outputId": "91d68a41-eddf-4dfd-d717-be2dee5d74b4"
      },
      "source": [
        "y_data.shape, y_data[4]"
      ],
      "execution_count": 21,
      "outputs": [
        {
          "output_type": "execute_result",
          "data": {
            "text/plain": [
              "((150,), 0)"
            ]
          },
          "metadata": {
            "tags": []
          },
          "execution_count": 21
        }
      ]
    },
    {
      "cell_type": "code",
      "metadata": {
        "colab": {
          "base_uri": "https://localhost:8080/",
          "height": 101
        },
        "id": "ORzN510En1v4",
        "outputId": "19c6c7b6-bdb8-44ea-bbeb-c08034813c0f"
      },
      "source": [
        "classification_report(y_data, y_pred_argmax)"
      ],
      "execution_count": 22,
      "outputs": [
        {
          "output_type": "execute_result",
          "data": {
            "application/vnd.google.colaboratory.intrinsic+json": {
              "type": "string"
            },
            "text/plain": [
              "'              precision    recall  f1-score   support\\n\\n           0       1.00      1.00      1.00        50\\n           1       1.00      0.90      0.95        50\\n           2       0.91      1.00      0.95        50\\n\\n    accuracy                           0.97       150\\n   macro avg       0.97      0.97      0.97       150\\nweighted avg       0.97      0.97      0.97       150\\n'"
            ]
          },
          "metadata": {
            "tags": []
          },
          "execution_count": 22
        }
      ]
    },
    {
      "cell_type": "code",
      "metadata": {
        "colab": {
          "base_uri": "https://localhost:8080/"
        },
        "id": "nOZK_dy6n1rY",
        "outputId": "db3bed09-a018-4591-b85d-bc453e7c802c"
      },
      "source": [
        "\n",
        "confusion_matrix(y_data, y_pred_argmax)"
      ],
      "execution_count": 23,
      "outputs": [
        {
          "output_type": "execute_result",
          "data": {
            "text/plain": [
              "array([[50,  0,  0],\n",
              "       [ 0, 45,  5],\n",
              "       [ 0,  0, 50]])"
            ]
          },
          "metadata": {
            "tags": []
          },
          "execution_count": 23
        }
      ]
    },
    {
      "cell_type": "code",
      "metadata": {
        "colab": {
          "base_uri": "https://localhost:8080/",
          "height": 286
        },
        "id": "_Un1SDi4oN0m",
        "outputId": "92c7c844-08aa-40bf-e97d-667d2fb0d11f"
      },
      "source": [
        "import seaborn as sns\n",
        "sns.heatmap(confusion_matrix(y_data, y_pred_argmax), annot=True)"
      ],
      "execution_count": 24,
      "outputs": [
        {
          "output_type": "execute_result",
          "data": {
            "text/plain": [
              "<matplotlib.axes._subplots.AxesSubplot at 0x7f24c5839a50>"
            ]
          },
          "metadata": {
            "tags": []
          },
          "execution_count": 24
        },
        {
          "output_type": "display_data",
          "data": {
            "image/png": "[encoded data removed]",
            "text/plain": [
              "<Figure size 432x288 with 2 Axes>"
            ]
          },
          "metadata": {
            "tags": [],
            "needs_background": "light"
          }
        }
      ]
    },
    {
      "cell_type": "markdown",
      "metadata": {
        "id": "DcqR380eoOmE"
      },
      "source": [
        "# service"
      ]
    },
    {
      "cell_type": "code",
      "metadata": {
        "colab": {
          "base_uri": "https://localhost:8080/"
        },
        "id": "xn_DX6N8aZTL",
        "outputId": "4b56fd3c-dea7-4801-8a56-f90357cc571b"
      },
      "source": [
        "x_data[25], y_data[25]"
      ],
      "execution_count": 25,
      "outputs": [
        {
          "output_type": "execute_result",
          "data": {
            "text/plain": [
              "(array([5. , 3. , 1.6, 0.2]), 0)"
            ]
          },
          "metadata": {
            "tags": []
          },
          "execution_count": 25
        }
      ]
    },
    {
      "cell_type": "code",
      "metadata": {
        "colab": {
          "base_uri": "https://localhost:8080/"
        },
        "id": "fvG6pFQN_Z-r",
        "outputId": "0f052d2e-07c4-40f4-f798-1bcda6457a25"
      },
      "source": [
        "pred = model.predict([[5. , 3. , 1.6, 0.2]])\n",
        "pred"
      ],
      "execution_count": 26,
      "outputs": [
        {
          "output_type": "execute_result",
          "data": {
            "text/plain": [
              "array([[0.95573133, 0.03519812, 0.00907051]], dtype=float32)"
            ]
          },
          "metadata": {
            "tags": []
          },
          "execution_count": 26
        }
      ]
    },
    {
      "cell_type": "code",
      "metadata": {
        "colab": {
          "base_uri": "https://localhost:8080/"
        },
        "id": "eZWDmX_E_aEw",
        "outputId": "d160c7e8-dbe8-4381-9740-8b92304ecfbd"
      },
      "source": [
        "import numpy as np\n",
        "np.argmax(pred)"
      ],
      "execution_count": 27,
      "outputs": [
        {
          "output_type": "execute_result",
          "data": {
            "text/plain": [
              "0"
            ]
          },
          "metadata": {
            "tags": []
          },
          "execution_count": 27
        }
      ]
    },
    {
      "cell_type": "code",
      "metadata": {
        "colab": {
          "base_uri": "https://localhost:8080/"
        },
        "id": "2aQ2Zi2SoD_x",
        "outputId": "45d0bbdc-7e60-45fe-f45f-e635e92eb58d"
      },
      "source": [
        "y_pred = model.predict(x_data)\n",
        "y_pred.shape"
      ],
      "execution_count": 28,
      "outputs": [
        {
          "output_type": "execute_result",
          "data": {
            "text/plain": [
              "(150, 3)"
            ]
          },
          "metadata": {
            "tags": []
          },
          "execution_count": 28
        }
      ]
    }
  ]
}