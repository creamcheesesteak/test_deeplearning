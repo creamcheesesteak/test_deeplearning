{
  "nbformat": 4,
  "nbformat_minor": 0,
  "metadata": {
    "colab": {
      "name": "Notescale_LSTM.ipynb",
      "provenance": [],
      "authorship_tag": "ABX9TyMc2dFVNH+1Q/VWajuk7C22",
      "include_colab_link": true
    },
    "kernelspec": {
      "name": "python3",
      "display_name": "Python 3"
    },
    "language_info": {
      "name": "python"
    }
  },
  "cells": [
    {
      "cell_type": "markdown",
      "metadata": {
        "id": "view-in-github",
        "colab_type": "text"
      },
      "source": [
        "<a href=\"https://colab.research.google.com/github/creamcheesesteak/test_deeplearning/blob/master/Notescale_LSTM.ipynb\" target=\"_parent\"><img src=\"https://colab.research.google.com/assets/colab-badge.svg\" alt=\"Open In Colab\"/></a>"
      ]
    },
    {
      "cell_type": "code",
      "metadata": {
        "id": "JDgbQV2AlL4Z"
      },
      "source": [
        "note_seq = ['g8', 'e8', 'e4', 'f8', 'd8', 'd4', 'c8', 'd8', 'e8', 'f8', 'g8', 'g8', 'g4',\n",
        "       'g8', 'e8', 'e8', 'e8', 'f8', 'd8', 'd4', 'c8', 'e8', 'g8', 'g8', 'e8', 'e8', 'e4',\n",
        "       'd8', 'd8', 'd8', 'd8', 'd8', 'e8', 'f4', 'e8', 'e8', 'e8', 'e8', 'e8', 'f8', 'g4',\n",
        "       'g8', 'e8', 'e4', 'f8', 'd8', 'd4', 'c8', 'e8', 'g8', 'g8', 'e8', 'e8', 'e4']\n"
      ],
      "execution_count": 1,
      "outputs": []
    },
    {
      "cell_type": "code",
      "metadata": {
        "colab": {
          "base_uri": "https://localhost:8080/"
        },
        "id": "JJoRAPibRc1g",
        "outputId": "962933d2-03ae-47a2-f086-aaba8b123484"
      },
      "source": [
        "note_seq[0:4], note_seq[1:5], note_seq[2:6]"
      ],
      "execution_count": 2,
      "outputs": [
        {
          "output_type": "execute_result",
          "data": {
            "text/plain": [
              "(['g8', 'e8', 'e4', 'f8'], ['e8', 'e4', 'f8', 'd8'], ['e4', 'f8', 'd8', 'd4'])"
            ]
          },
          "metadata": {
            "tags": []
          },
          "execution_count": 2
        }
      ]
    },
    {
      "cell_type": "code",
      "metadata": {
        "id": "JZzwJ0qVlPuH"
      },
      "source": [
        "code2idx = {'c4':0, 'd4':1, 'e4':2, 'f4':3, 'g4':4, 'a4':5, 'b4':6,\n",
        "            'c8':7, 'd8':8, 'e8':9, 'f8':10, 'g8':11, 'a8':12, 'b8':13}"
      ],
      "execution_count": 3,
      "outputs": []
    },
    {
      "cell_type": "code",
      "metadata": {
        "colab": {
          "base_uri": "https://localhost:8080/"
        },
        "id": "VSDzm7QdWx81",
        "outputId": "ecd8af89-b389-4aa3-862d-6f12a01ac671"
      },
      "source": [
        "len(code2idx)"
      ],
      "execution_count": 4,
      "outputs": [
        {
          "output_type": "execute_result",
          "data": {
            "text/plain": [
              "14"
            ]
          },
          "metadata": {
            "tags": []
          },
          "execution_count": 4
        }
      ]
    },
    {
      "cell_type": "code",
      "metadata": {
        "colab": {
          "base_uri": "https://localhost:8080/"
        },
        "id": "HCcGmQ-HUfIg",
        "outputId": "d1c5ea71-6449-44b2-8537-50d277e4b9b3"
      },
      "source": [
        "code2idx['g8']"
      ],
      "execution_count": 5,
      "outputs": [
        {
          "output_type": "execute_result",
          "data": {
            "text/plain": [
              "11"
            ]
          },
          "metadata": {
            "tags": []
          },
          "execution_count": 5
        }
      ]
    },
    {
      "cell_type": "code",
      "metadata": {
        "id": "qqtkPgn8lP0l",
        "colab": {
          "base_uri": "https://localhost:8080/"
        },
        "outputId": "3d7b4de0-7e3d-481d-af2e-66fda8eaef0f"
      },
      "source": [
        "range(len(note_seq)-4) # [4, 8, 12 ...]"
      ],
      "execution_count": 6,
      "outputs": [
        {
          "output_type": "execute_result",
          "data": {
            "text/plain": [
              "range(0, 50)"
            ]
          },
          "metadata": {
            "tags": []
          },
          "execution_count": 6
        }
      ]
    },
    {
      "cell_type": "code",
      "metadata": {
        "id": "ny76f7VJlP9M",
        "colab": {
          "base_uri": "https://localhost:8080/"
        },
        "outputId": "26a57841-0c6b-4316-d429-a12f86f180cd"
      },
      "source": [
        "dataset = list()\n",
        "for i in range(len(note_seq)-4):\n",
        "  subset = note_seq[i:i+4]\n",
        "  items = list()\n",
        "  # print(subset)\n",
        "  for item in subset:\n",
        "    # print(code2idx[item])\n",
        "    items.append(code2idx[item])\n",
        "    # print(items)\n",
        "  dataset.append(items)\n",
        "\n",
        "print(dataset)"
      ],
      "execution_count": 7,
      "outputs": [
        {
          "output_type": "stream",
          "text": [
            "[[11, 9, 2, 10], [9, 2, 10, 8], [2, 10, 8, 1], [10, 8, 1, 7], [8, 1, 7, 8], [1, 7, 8, 9], [7, 8, 9, 10], [8, 9, 10, 11], [9, 10, 11, 11], [10, 11, 11, 4], [11, 11, 4, 11], [11, 4, 11, 9], [4, 11, 9, 9], [11, 9, 9, 9], [9, 9, 9, 10], [9, 9, 10, 8], [9, 10, 8, 1], [10, 8, 1, 7], [8, 1, 7, 9], [1, 7, 9, 11], [7, 9, 11, 11], [9, 11, 11, 9], [11, 11, 9, 9], [11, 9, 9, 2], [9, 9, 2, 8], [9, 2, 8, 8], [2, 8, 8, 8], [8, 8, 8, 8], [8, 8, 8, 8], [8, 8, 8, 9], [8, 8, 9, 3], [8, 9, 3, 9], [9, 3, 9, 9], [3, 9, 9, 9], [9, 9, 9, 9], [9, 9, 9, 9], [9, 9, 9, 10], [9, 9, 10, 4], [9, 10, 4, 11], [10, 4, 11, 9], [4, 11, 9, 2], [11, 9, 2, 10], [9, 2, 10, 8], [2, 10, 8, 1], [10, 8, 1, 7], [8, 1, 7, 9], [1, 7, 9, 11], [7, 9, 11, 11], [9, 11, 11, 9], [11, 11, 9, 9]]\n"
          ],
          "name": "stdout"
        }
      ]
    },
    {
      "cell_type": "code",
      "metadata": {
        "id": "tLoFAjWaV0Bf"
      },
      "source": [
        "import numpy as np"
      ],
      "execution_count": 8,
      "outputs": []
    },
    {
      "cell_type": "code",
      "metadata": {
        "id": "tm78wYphV3Ou"
      },
      "source": [
        "datasets = np.array(dataset)"
      ],
      "execution_count": 9,
      "outputs": []
    },
    {
      "cell_type": "code",
      "metadata": {
        "colab": {
          "base_uri": "https://localhost:8080/"
        },
        "id": "HFn4gKWdQeuW",
        "outputId": "0f55e3bc-134b-4b41-87d4-8c64ebfccfa6"
      },
      "source": [
        "x_train = datasets[:,0:3]\n",
        "x_train.shape, # x_train"
      ],
      "execution_count": 10,
      "outputs": [
        {
          "output_type": "execute_result",
          "data": {
            "text/plain": [
              "((50, 3),)"
            ]
          },
          "metadata": {
            "tags": []
          },
          "execution_count": 10
        }
      ]
    },
    {
      "cell_type": "code",
      "metadata": {
        "colab": {
          "base_uri": "https://localhost:8080/"
        },
        "id": "wOvFP6AhQez-",
        "outputId": "3709ae3b-e993-4883-966c-aee3768b9ef2"
      },
      "source": [
        "y_train = datasets[:,3]\n",
        "y_train.shape, # y_train"
      ],
      "execution_count": 11,
      "outputs": [
        {
          "output_type": "execute_result",
          "data": {
            "text/plain": [
              "((50,),)"
            ]
          },
          "metadata": {
            "tags": []
          },
          "execution_count": 11
        }
      ]
    },
    {
      "cell_type": "code",
      "metadata": {
        "colab": {
          "base_uri": "https://localhost:8080/"
        },
        "id": "sf9qp6V7WMfa",
        "outputId": "41eddb8f-0b4b-43e9-8b7d-233128223d25"
      },
      "source": [
        "x_train = x_train / 13  # len(code2dix)\n",
        "x_train[3]"
      ],
      "execution_count": 12,
      "outputs": [
        {
          "output_type": "execute_result",
          "data": {
            "text/plain": [
              "array([0.76923077, 0.61538462, 0.07692308])"
            ]
          },
          "metadata": {
            "tags": []
          },
          "execution_count": 12
        }
      ]
    },
    {
      "cell_type": "markdown",
      "metadata": {
        "id": "esuPAFFRXk3V"
      },
      "source": [
        "# make model"
      ]
    },
    {
      "cell_type": "code",
      "metadata": {
        "id": "ul6JaEGVXgxs"
      },
      "source": [
        "import tensorflow as tf\n",
        "model = tf.keras.models.Sequential()"
      ],
      "execution_count": 13,
      "outputs": []
    },
    {
      "cell_type": "code",
      "metadata": {
        "colab": {
          "base_uri": "https://localhost:8080/"
        },
        "id": "JANPP6XRZI2B",
        "outputId": "35b2ae4d-00ba-497f-d2f1-7dd1223f8d02"
      },
      "source": [
        "x_train.shape # --> tensorflow type(tensor)  (50,3,1)\n",
        "x_train[2]"
      ],
      "execution_count": 14,
      "outputs": [
        {
          "output_type": "execute_result",
          "data": {
            "text/plain": [
              "array([0.15384615, 0.76923077, 0.61538462])"
            ]
          },
          "metadata": {
            "tags": []
          },
          "execution_count": 14
        }
      ]
    },
    {
      "cell_type": "code",
      "metadata": {
        "colab": {
          "base_uri": "https://localhost:8080/"
        },
        "id": "UsKHt0vKeMPy",
        "outputId": "fe93c47d-df73-433b-9d98-e3d179f3720a"
      },
      "source": [
        "X_train = np.reshape(x_train, (50, 3, 1))\n",
        "X_train.shape, X_train[2]"
      ],
      "execution_count": 15,
      "outputs": [
        {
          "output_type": "execute_result",
          "data": {
            "text/plain": [
              "((50, 3, 1), array([[0.15384615],\n",
              "        [0.76923077],\n",
              "        [0.61538462]]))"
            ]
          },
          "metadata": {
            "tags": []
          },
          "execution_count": 15
        }
      ]
    },
    {
      "cell_type": "code",
      "metadata": {
        "colab": {
          "base_uri": "https://localhost:8080/"
        },
        "id": "CVAMqQNOgnWy",
        "outputId": "0ff62c99-cd0e-468d-9819-2bc993d6b903"
      },
      "source": [
        "np.unique(y_train)"
      ],
      "execution_count": 16,
      "outputs": [
        {
          "output_type": "execute_result",
          "data": {
            "text/plain": [
              "array([ 1,  2,  3,  4,  7,  8,  9, 10, 11])"
            ]
          },
          "metadata": {
            "tags": []
          },
          "execution_count": 16
        }
      ]
    },
    {
      "cell_type": "code",
      "metadata": {
        "colab": {
          "base_uri": "https://localhost:8080/"
        },
        "id": "XfY7OHxpX_VV",
        "outputId": "ac3320d7-a694-457b-fb5f-a1ca2b8e1b1c"
      },
      "source": [
        "model.add(tf.keras.Input(shape=(3,1)))\n",
        "model.add(tf.keras.layers.LSTM(128)) # input layer, column의 값을 input으로\n",
        "# LSTM(batch_size, timesteps, input_dim) -> (row, cols, )\n",
        "# model.add() # hidden layer\n",
        "model.add(tf.keras.layers.Dense(13, activation='softmax')) # output layer\n",
        "\n",
        "model.compile(optimizer='adam', loss='sparse_categorical_crossentropy', metrics=['accuracy'])"
      ],
      "execution_count": 17,
      "outputs": [
        {
          "output_type": "stream",
          "text": [
            "WARNING:tensorflow:Please add `keras.layers.InputLayer` instead of `keras.Input` to Sequential model. `keras.Input` is intended to be used by Functional model.\n"
          ],
          "name": "stdout"
        }
      ]
    },
    {
      "cell_type": "code",
      "metadata": {
        "colab": {
          "base_uri": "https://localhost:8080/"
        },
        "id": "2l5mO04Nh0Ta",
        "outputId": "e3d8d8a3-c05a-4d5a-9c69-70deec5565cf"
      },
      "source": [
        "hist = model.fit(X_train, y_train, epochs=2, batch_size=1)"
      ],
      "execution_count": 18,
      "outputs": [
        {
          "output_type": "stream",
          "text": [
            "Epoch 1/2\n",
            "50/50 [==============================] - 1s 2ms/step - loss: 2.4821 - accuracy: 0.2800\n",
            "Epoch 2/2\n",
            "50/50 [==============================] - 0s 2ms/step - loss: 2.1227 - accuracy: 0.3400\n"
          ],
          "name": "stdout"
        }
      ]
    },
    {
      "cell_type": "code",
      "metadata": {
        "colab": {
          "base_uri": "https://localhost:8080/"
        },
        "id": "zT8TxbyLluDY",
        "outputId": "6b4b4e02-ec3f-464e-f3a3-9e32dc8d01a6"
      },
      "source": [
        "model.evaluate(X_train, y_train)"
      ],
      "execution_count": 19,
      "outputs": [
        {
          "output_type": "stream",
          "text": [
            "2/2 [==============================] - 0s 7ms/step - loss: 1.9444 - accuracy: 0.3400\n"
          ],
          "name": "stdout"
        },
        {
          "output_type": "execute_result",
          "data": {
            "text/plain": [
              "[1.9444409608840942, 0.3400000035762787]"
            ]
          },
          "metadata": {
            "tags": []
          },
          "execution_count": 19
        }
      ]
    },
    {
      "cell_type": "code",
      "metadata": {
        "id": "7XO_c99WrCEh"
      },
      "source": [
        ""
      ],
      "execution_count": null,
      "outputs": []
    }
  ]
}