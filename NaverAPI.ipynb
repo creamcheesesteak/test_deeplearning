{
  "nbformat": 4,
  "nbformat_minor": 0,
  "metadata": {
    "colab": {
      "name": "NaverAPI.ipynb",
      "provenance": [],
      "authorship_tag": "ABX9TyO37QsmPgrlKSRhsLw0MVgQ",
      "include_colab_link": true
    },
    "kernelspec": {
      "name": "python3",
      "display_name": "Python 3"
    },
    "language_info": {
      "name": "python"
    }
  },
  "cells": [
    {
      "cell_type": "markdown",
      "metadata": {
        "id": "view-in-github",
        "colab_type": "text"
      },
      "source": [
        "<a href=\"https://colab.research.google.com/github/creamcheesesteak/test_deeplearning/blob/master/NaverAPI.ipynb\" target=\"_parent\"><img src=\"https://colab.research.google.com/assets/colab-badge.svg\" alt=\"Open In Colab\"/></a>"
      ]
    },
    {
      "cell_type": "code",
      "metadata": {
        "id": "T5eg8M6F6fza"
      },
      "source": [
        "import requests"
      ],
      "execution_count": 14,
      "outputs": []
    },
    {
      "cell_type": "code",
      "metadata": {
        "id": "Syw7JUAB6giJ"
      },
      "source": [
        "auth_dict = {'X-Naver-Client-Id: RmqV8FRJNSg2N91ykdKS',\n",
        "             'X-Naver-Client-Secret: Vkqv9j1hmw'}"
      ],
      "execution_count": 2,
      "outputs": []
    },
    {
      "cell_type": "code",
      "metadata": {
        "id": "rqh_DObe6gop"
      },
      "source": [
        "# https://openapi.naver.com/v1/search/{serviceid}\n",
        "# serviced=blog\n",
        "# query=진주\n",
        "# display=10\n",
        "# start=1\n",
        "# sort=sim\n",
        "# filter=all\n"
      ],
      "execution_count": 7,
      "outputs": []
    },
    {
      "cell_type": "markdown",
      "metadata": {
        "id": "JV1Dovkt8Plc"
      },
      "source": [
        "?를 기준으로 왼측은 api 오른쪽은 파라미터\n",
        "파라미터는 key-value로 입력됨\n",
        "파라미터간 연결하는 구분자는 &"
      ]
    },
    {
      "cell_type": "code",
      "metadata": {
        "id": "o-T2j7zg6gum"
      },
      "source": [
        "url = 'https://openapi.naver.com/v1/search/blog?query=진주&display=10&start=1&sort=sim'"
      ],
      "execution_count": 8,
      "outputs": []
    },
    {
      "cell_type": "code",
      "metadata": {
        "id": "PjXNYjrz6g0G"
      },
      "source": [
        "req = requests.get(url, headers = auth_dict)"
      ],
      "execution_count": null,
      "outputs": []
    },
    {
      "cell_type": "code",
      "metadata": {
        "id": "nHQvALpV6g42"
      },
      "source": [
        "req.status_code"
      ],
      "execution_count": null,
      "outputs": []
    },
    {
      "cell_type": "code",
      "metadata": {
        "id": "fmrAlFPd6g75"
      },
      "source": [
        "req.contents"
      ],
      "execution_count": null,
      "outputs": []
    },
    {
      "cell_type": "code",
      "metadata": {
        "id": "v6jgA7xf6hDZ"
      },
      "source": [
        "import json"
      ],
      "execution_count": 12,
      "outputs": []
    },
    {
      "cell_type": "code",
      "metadata": {
        "id": "maOeMVVF6hK_"
      },
      "source": [
        "body_dict = json.loads(req.content)"
      ],
      "execution_count": null,
      "outputs": []
    },
    {
      "cell_type": "code",
      "metadata": {
        "id": "x_hSZv1M_DVr"
      },
      "source": [
        "type(body_dict), body_dict.key()"
      ],
      "execution_count": null,
      "outputs": []
    },
    {
      "cell_type": "code",
      "metadata": {
        "id": "xBI33zWE_DYZ"
      },
      "source": [
        "body_dict['total']"
      ],
      "execution_count": null,
      "outputs": []
    },
    {
      "cell_type": "code",
      "metadata": {
        "id": "ihWIPUH0_Db2"
      },
      "source": [
        "body_dict['items']"
      ],
      "execution_count": null,
      "outputs": []
    },
    {
      "cell_type": "code",
      "metadata": {
        "id": "p1SJINWn_DeF"
      },
      "source": [
        "type(body_dict['total'])"
      ],
      "execution_count": null,
      "outputs": []
    },
    {
      "cell_type": "code",
      "metadata": {
        "id": "dRXMYO_L_Dgi"
      },
      "source": [
        "body_dict['items'][4]['bloggerlink']"
      ],
      "execution_count": null,
      "outputs": []
    },
    {
      "cell_type": "code",
      "metadata": {
        "id": "kcXuHMWq_Djh"
      },
      "source": [
        ""
      ],
      "execution_count": null,
      "outputs": []
    },
    {
      "cell_type": "code",
      "metadata": {
        "id": "2aWRi0LW_Dln"
      },
      "source": [
        ""
      ],
      "execution_count": null,
      "outputs": []
    },
    {
      "cell_type": "code",
      "metadata": {
        "id": "DuJVK8aW_Dn6"
      },
      "source": [
        ""
      ],
      "execution_count": null,
      "outputs": []
    }
  ]
}