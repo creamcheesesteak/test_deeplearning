{
  "nbformat": 4,
  "nbformat_minor": 0,
  "metadata": {
    "colab": {
      "name": "NLTK_korean.ipynb",
      "provenance": [],
      "mount_file_id": "1tUWwIBGO1I36eDU_okwrFIoH8GhGbJxu",
      "authorship_tag": "ABX9TyPQHSMbht0ldDVEiEVz7lLm",
      "include_colab_link": true
    },
    "kernelspec": {
      "name": "python3",
      "display_name": "Python 3"
    },
    "language_info": {
      "name": "python"
    }
  },
  "cells": [
    {
      "cell_type": "markdown",
      "metadata": {
        "id": "view-in-github",
        "colab_type": "text"
      },
      "source": [
        "<a href=\"https://colab.research.google.com/github/creamcheesesteak/test_deeplearning/blob/master/NLTK_korean.ipynb\" target=\"_parent\"><img src=\"https://colab.research.google.com/assets/colab-badge.svg\" alt=\"Open In Colab\"/></a>"
      ]
    },
    {
      "cell_type": "code",
      "metadata": {
        "id": "KYimm9DrYykr"
      },
      "source": [
        "import pandas as pd"
      ],
      "execution_count": 1,
      "outputs": []
    },
    {
      "cell_type": "code",
      "metadata": {
        "colab": {
          "base_uri": "https://localhost:8080/"
        },
        "id": "hhHi4B4aZ59W",
        "outputId": "98f4faf9-b4ca-4b61-d402-1ec6ff0bcb30"
      },
      "source": [
        "!ls ./drive/MyDrive/Test01"
      ],
      "execution_count": 5,
      "outputs": [
        {
          "output_type": "stream",
          "text": [
            " boston_housing_withregression.ipynb   NLTK_korean.ipynb\n",
            " CEO3.csv\t\t\t       reuters_embeddinglayer_9.ipynb\n",
            " dff_sigmoid_softmax.ipynb\t       reuters_LSTM.ipynb\n",
            " embeddinglayer.ipynb\t\t       roc_curve.ipynb\n",
            " imdb_embedding.ipynb\t\t       single_perceptron.ipynb\n",
            " imdb_LSTM_9.ipynb\t\t       smtph_total.csv\n",
            " iris_classification.ipynb\t       Untitled0.ipynb\n",
            " mnist_classification.ipynb\t       Untitled1.ipynb\n",
            " multi_perceptron.ipynb\t\t       Untitled2.ipynb\n",
            "'NLTK_english (1).ipynb'\t       Untitled3.ipynb\n",
            " NLTK_english.ipynb\t\t       win_deeplearning_practice.ipynb\n"
          ],
          "name": "stdout"
        }
      ]
    },
    {
      "cell_type": "code",
      "metadata": {
        "id": "6-seqd6aZbQa"
      },
      "source": [
        "!ls ./smtphP"
      ],
      "execution_count": null,
      "outputs": []
    },
    {
      "cell_type": "code",
      "metadata": {
        "id": "DHTJv7M8ZbZk"
      },
      "source": [
        "df = pd.read_csv('./drive/MyDrive/Test01/smtph_total.csv')\n",
        "df.head(5)"
      ],
      "execution_count": null,
      "outputs": []
    },
    {
      "cell_type": "code",
      "metadata": {
        "colab": {
          "base_uri": "https://localhost:8080/"
        },
        "id": "rLhsoDNMZbgs",
        "outputId": "c7efaa25-0fc4-4937-c61e-c040133e988c"
      },
      "source": [
        "posts = df['Description']\n",
        "posts"
      ],
      "execution_count": 8,
      "outputs": [
        {
          "output_type": "execute_result",
          "data": {
            "text/plain": [
              "0      반으로 접을 수 있는 갤럭시 Z 플립이 접지 않는 스마트폰과 얼마나 다른 경험인가를...\n",
              "1      그래서 스마트폰 삼각대 추천 하는 제품을 구매하게 된 것 같아요. 2018년 4월 ...\n",
              "2      오늘은 스마트폰으로 차 키를 대체할 수 있는 카버샵의 더컵이라는 제품을 리뷰해보겠습...\n",
              "3      바쁜 현대인들의 곁에서 어디서든 일상을 함께하는 스마트폰은 한순간도 뗄레야 뗄 수 ...\n",
              "4      일상에서 스마트폰 사용량은 점점 늘어나고 있습니다. 카카오톡, 라인 같은 기본적인 ...\n",
              "                             ...                        \n",
              "995    공식 스마트폰을 공급한다. 비보가 공개한 X21 월드컵 에디션은 흥미롭게도 퀄컴의 ...\n",
              "996    사진은 권력이다 스마트폰으로 키우는 채소 Foop 본문 IT/가젯/IT월드 스마트폰...\n",
              "997    홍미 고는 초저가 라인업 스마트폰으로 가격이 10만원도 하지 않는다. 직구시 가격이...\n",
              "998    2017년 9월 출시된 샤오미A1은 샤오미 스마트폰 중 최초로 안드로이드 OS를 탑...\n",
              "999    이 제품의 가장 큰 특징은 모바일 데이터를 완전하게 차단한 것으로 스마트폰의 유혹을...\n",
              "Name: Description, Length: 1000, dtype: object"
            ]
          },
          "metadata": {
            "tags": []
          },
          "execution_count": 8
        }
      ]
    },
    {
      "cell_type": "code",
      "metadata": {
        "id": "ZiQ-4X9cZbj8"
      },
      "source": [
        "!python -m pip install konlpy"
      ],
      "execution_count": null,
      "outputs": []
    },
    {
      "cell_type": "code",
      "metadata": {
        "colab": {
          "base_uri": "https://localhost:8080/"
        },
        "id": "jG4DWRAlbCRZ",
        "outputId": "4caa590b-8afa-42be-ccc4-9607562d1923"
      },
      "source": [
        "!python -m pip install eunjeon"
      ],
      "execution_count": 10,
      "outputs": [
        {
          "output_type": "stream",
          "text": [
            "Collecting eunjeon\n",
            "  Downloading eunjeon-0.4.0.tar.gz (34.7 MB)\n",
            "\u001b[K     |████████████████████████████████| 34.7 MB 69 kB/s \n",
            "\u001b[33mWARNING: Discarding https://files.pythonhosted.org/packages/68/90/3232725f974abf6d38f1e2cfd7a6b958337133b3fdc5b3e8994e03d7c2d3/eunjeon-0.4.0.tar.gz#sha256=60865fbe28537e820ab864cd135467ea277c8182908e2bc364e83e5fd29ef07f (from https://pypi.org/simple/eunjeon/). Command errored out with exit status 1: python setup.py egg_info Check the logs for full command output.\u001b[0m\n",
            "\u001b[?25h  Downloading eunjeon-0.3.9.6.tar.gz (34.7 MB)\n",
            "\u001b[K     |████████████████████████████████| 34.7 MB 53 kB/s \n",
            "\u001b[33mWARNING: Discarding https://files.pythonhosted.org/packages/64/d3/743807b1ec82a99872ad785c5c244a6806ecbc3ba369cf09fdc1c4767509/eunjeon-0.3.9.6.tar.gz#sha256=d088714a537d999e16afb1cd3c1375c81fd1f03a169c47c95250ee5b704e1bd5 (from https://pypi.org/simple/eunjeon/). Command errored out with exit status 1: python setup.py egg_info Check the logs for full command output.\u001b[0m\n",
            "\u001b[?25h  Downloading eunjeon-0.3.9.5.tar.gz (34.1 MB)\n",
            "\u001b[K     |████████████████████████████████| 34.1 MB 75 kB/s \n",
            "\u001b[33mWARNING: Discarding https://files.pythonhosted.org/packages/aa/8e/909ee5bdb2e6e4255f5f9c80a8cf180adcc002bd319bde1aa9141416cf6e/eunjeon-0.3.9.5.tar.gz#sha256=556d99ce96f39dedd3e0f2470e6c45343740ba85a27ef34c2b6d8c61f57c7388 (from https://pypi.org/simple/eunjeon/). Command errored out with exit status 1: python setup.py egg_info Check the logs for full command output.\u001b[0m\n",
            "\u001b[?25h  Downloading eunjeon-0.3.9.4.tar.gz (33.2 MB)\n",
            "\u001b[K     |████████████████████████████████| 33.2 MB 45 kB/s \n",
            "\u001b[33mWARNING: Discarding https://files.pythonhosted.org/packages/16/d1/804f0322c6b2715ddb0c5f47d78c03e5fcdbe252a0d5c4f4b0936c2bdf46/eunjeon-0.3.9.4.tar.gz#sha256=9032fe0860fb4d4edec4113a4258f2599fea5df46e0e86413d7ffdf8c6adbee9 (from https://pypi.org/simple/eunjeon/). Command errored out with exit status 1: python setup.py egg_info Check the logs for full command output.\u001b[0m\n",
            "\u001b[?25h  Downloading eunjeon-0.3.9.3.tar.gz (33.2 MB)\n",
            "\u001b[K     |████████████████████████████████| 33.2 MB 45 kB/s \n",
            "\u001b[33mWARNING: Discarding https://files.pythonhosted.org/packages/e3/24/c1c6bf9d0adfcf5a49ed1adb3d3a45fd014c6d9621b5ac7bec1fde4d4666/eunjeon-0.3.9.3.tar.gz#sha256=4004da49581b44b14746521e20a69e1a08acec1778a1ccfa59b7442c16a86490 (from https://pypi.org/simple/eunjeon/). Command errored out with exit status 1: python setup.py egg_info Check the logs for full command output.\u001b[0m\n",
            "\u001b[?25h  Downloading eunjeon-0.3.9.0.tar.gz (33.2 MB)\n",
            "\u001b[K     |████████████████████████████████| 33.2 MB 57 kB/s \n",
            "\u001b[33mWARNING: Discarding https://files.pythonhosted.org/packages/08/df/7981c91ccea41cbabded1a28cb36442b8ff75a355aa77a2ef65272fa1472/eunjeon-0.3.9.0.tar.gz#sha256=46c96b1797211e179e3e61d90c7a1aa86a34cdba825a0979b8f83480a90adf21 (from https://pypi.org/simple/eunjeon/). Command errored out with exit status 1: python setup.py egg_info Check the logs for full command output.\u001b[0m\n",
            "\u001b[31mERROR: Could not find a version that satisfies the requirement eunjeon (from versions: 0.3.9.0, 0.3.9.3, 0.3.9.4, 0.3.9.5, 0.3.9.6, 0.4.0)\u001b[0m\n",
            "\u001b[31mERROR: No matching distribution found for eunjeon\u001b[0m\n",
            "\u001b[?25h"
          ],
          "name": "stdout"
        }
      ]
    },
    {
      "cell_type": "code",
      "metadata": {
        "id": "QFlHKZRAZbp7"
      },
      "source": [
        "from konlpy.tag import Mecab\n",
        "tagger = Mecab()"
      ],
      "execution_count": null,
      "outputs": []
    },
    {
      "cell_type": "code",
      "metadata": {
        "id": "czjwHVUBZcBk"
      },
      "source": [
        ""
      ],
      "execution_count": null,
      "outputs": []
    },
    {
      "cell_type": "code",
      "metadata": {
        "id": "55pvcDh2ZcGi"
      },
      "source": [
        ""
      ],
      "execution_count": null,
      "outputs": []
    },
    {
      "cell_type": "code",
      "metadata": {
        "id": "omr0jr8EZcJM"
      },
      "source": [
        ""
      ],
      "execution_count": null,
      "outputs": []
    },
    {
      "cell_type": "code",
      "metadata": {
        "id": "V8Q8a8YCZcYx"
      },
      "source": [
        ""
      ],
      "execution_count": null,
      "outputs": []
    },
    {
      "cell_type": "code",
      "metadata": {
        "id": "jE0eP6VpZcj-"
      },
      "source": [
        ""
      ],
      "execution_count": null,
      "outputs": []
    },
    {
      "cell_type": "code",
      "metadata": {
        "id": "QsVTRdu2ZcpM"
      },
      "source": [
        ""
      ],
      "execution_count": null,
      "outputs": []
    }
  ]
}