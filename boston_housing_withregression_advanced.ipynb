{
  "nbformat": 4,
  "nbformat_minor": 0,
  "metadata": {
    "colab": {
      "name": "boston_housing_withregression.ipynb",
      "provenance": [],
      "authorship_tag": "ABX9TyNkkWOegOeXr6Nt8MDoEbUo",
      "include_colab_link": true
    },
    "kernelspec": {
      "name": "python3",
      "display_name": "Python 3"
    },
    "language_info": {
      "name": "python"
    }
  },
  "cells": [
    {
      "cell_type": "markdown",
      "metadata": {
        "id": "view-in-github",
        "colab_type": "text"
      },
      "source": [
        "<a href=\"https://colab.research.google.com/github/creamcheesesteak/test_deeplearning/blob/master/boston_housing_withregression_advanced.ipynb\" target=\"_parent\"><img src=\"https://colab.research.google.com/assets/colab-badge.svg\" alt=\"Open In Colab\"/></a>"
      ]
    },
    {
      "cell_type": "code",
      "metadata": {
        "id": "bTEbxlJ4X6dB"
      },
      "source": [
        "import tensorflow as tf\n",
        "from tensorflow.keras.datasets.boston_housing import load_data"
      ],
      "execution_count": 1,
      "outputs": []
    },
    {
      "cell_type": "code",
      "metadata": {
        "colab": {
          "base_uri": "https://localhost:8080/"
        },
        "id": "Yq7zY3YuX8br",
        "outputId": "f9028db6-113f-40dc-8d6b-0a7305a5c100"
      },
      "source": [
        "(x_train, y_train), (x_test, y_test) = load_data(path='boston_housing.npz', test_split=0.2, seed=113)\n",
        "x_train.shape, y_train.shape, x_test.shape, y_test.shape\n"
      ],
      "execution_count": 2,
      "outputs": [
        {
          "output_type": "execute_result",
          "data": {
            "text/plain": [
              "((404, 13), (404,), (102, 13), (102,))"
            ]
          },
          "metadata": {
            "tags": []
          },
          "execution_count": 2
        }
      ]
    },
    {
      "cell_type": "code",
      "metadata": {
        "id": "xg1Yqlu51aLr"
      },
      "source": [
        "import pandas as pd"
      ],
      "execution_count": 3,
      "outputs": []
    },
    {
      "cell_type": "code",
      "metadata": {
        "colab": {
          "base_uri": "https://localhost:8080/"
        },
        "id": "a0nk1rTu1cXK",
        "outputId": "bc737b35-0bd6-4a90-d854-22f7ec34af2a"
      },
      "source": [
        "df = pd.DataFrame(x_train)\n",
        "df.info()"
      ],
      "execution_count": 4,
      "outputs": [
        {
          "output_type": "stream",
          "text": [
            "<class 'pandas.core.frame.DataFrame'>\n",
            "RangeIndex: 404 entries, 0 to 403\n",
            "Data columns (total 13 columns):\n",
            " #   Column  Non-Null Count  Dtype  \n",
            "---  ------  --------------  -----  \n",
            " 0   0       404 non-null    float64\n",
            " 1   1       404 non-null    float64\n",
            " 2   2       404 non-null    float64\n",
            " 3   3       404 non-null    float64\n",
            " 4   4       404 non-null    float64\n",
            " 5   5       404 non-null    float64\n",
            " 6   6       404 non-null    float64\n",
            " 7   7       404 non-null    float64\n",
            " 8   8       404 non-null    float64\n",
            " 9   9       404 non-null    float64\n",
            " 10  10      404 non-null    float64\n",
            " 11  11      404 non-null    float64\n",
            " 12  12      404 non-null    float64\n",
            "dtypes: float64(13)\n",
            "memory usage: 41.2 KB\n"
          ],
          "name": "stdout"
        }
      ]
    },
    {
      "cell_type": "code",
      "metadata": {
        "id": "6p9hjhXlMUAz"
      },
      "source": [
        "import sqlite3"
      ],
      "execution_count": 5,
      "outputs": []
    },
    {
      "cell_type": "code",
      "metadata": {
        "id": "SlEa94quMi7g"
      },
      "source": [
        "connect = sqlite3.connect('./db.sqlite')"
      ],
      "execution_count": 6,
      "outputs": []
    },
    {
      "cell_type": "code",
      "metadata": {
        "id": "010pxQo7M4DB"
      },
      "source": [
        "df.to_sql('boston_housing_resource', connect, if_exists='append', index=False) # save"
      ],
      "execution_count": 7,
      "outputs": []
    },
    {
      "cell_type": "code",
      "metadata": {
        "id": "A6FEBNBjNjWu"
      },
      "source": [
        "df = pd.read_sql_query('select * from boston_housing_resource', connect) # load"
      ],
      "execution_count": 8,
      "outputs": []
    },
    {
      "cell_type": "code",
      "metadata": {
        "colab": {
          "base_uri": "https://localhost:8080/",
          "height": 294
        },
        "id": "HdFx_X5cOtoc",
        "outputId": "04865a45-10e1-4bf6-ea5b-0f8b1ff8555b"
      },
      "source": [
        "df.describe()"
      ],
      "execution_count": 9,
      "outputs": [
        {
          "output_type": "execute_result",
          "data": {
            "text/html": [
              "<div>\n",
              "<style scoped>\n",
              "    .dataframe tbody tr th:only-of-type {\n",
              "        vertical-align: middle;\n",
              "    }\n",
              "\n",
              "    .dataframe tbody tr th {\n",
              "        vertical-align: top;\n",
              "    }\n",
              "\n",
              "    .dataframe thead th {\n",
              "        text-align: right;\n",
              "    }\n",
              "</style>\n",
              "<table border=\"1\" class=\"dataframe\">\n",
              "  <thead>\n",
              "    <tr style=\"text-align: right;\">\n",
              "      <th></th>\n",
              "      <th>0</th>\n",
              "      <th>1</th>\n",
              "      <th>2</th>\n",
              "      <th>3</th>\n",
              "      <th>4</th>\n",
              "      <th>5</th>\n",
              "      <th>6</th>\n",
              "      <th>7</th>\n",
              "      <th>8</th>\n",
              "      <th>9</th>\n",
              "      <th>10</th>\n",
              "      <th>11</th>\n",
              "      <th>12</th>\n",
              "    </tr>\n",
              "  </thead>\n",
              "  <tbody>\n",
              "    <tr>\n",
              "      <th>count</th>\n",
              "      <td>1212.000000</td>\n",
              "      <td>1212.000000</td>\n",
              "      <td>1212.000000</td>\n",
              "      <td>1212.000000</td>\n",
              "      <td>1212.000000</td>\n",
              "      <td>1212.000000</td>\n",
              "      <td>1212.000000</td>\n",
              "      <td>1212.000000</td>\n",
              "      <td>1212.000000</td>\n",
              "      <td>1212.000000</td>\n",
              "      <td>1212.000000</td>\n",
              "      <td>1212.000000</td>\n",
              "      <td>1212.000000</td>\n",
              "    </tr>\n",
              "    <tr>\n",
              "      <th>mean</th>\n",
              "      <td>2.496740</td>\n",
              "      <td>7.653465</td>\n",
              "      <td>7.402954</td>\n",
              "      <td>0.041254</td>\n",
              "      <td>0.371571</td>\n",
              "      <td>4.178054</td>\n",
              "      <td>46.007096</td>\n",
              "      <td>2.493514</td>\n",
              "      <td>6.293729</td>\n",
              "      <td>270.599010</td>\n",
              "      <td>12.317327</td>\n",
              "      <td>236.522112</td>\n",
              "      <td>8.493878</td>\n",
              "    </tr>\n",
              "    <tr>\n",
              "      <th>std</th>\n",
              "      <td>7.764436</td>\n",
              "      <td>20.140166</td>\n",
              "      <td>7.657434</td>\n",
              "      <td>0.610896</td>\n",
              "      <td>0.641759</td>\n",
              "      <td>3.066626</td>\n",
              "      <td>39.738247</td>\n",
              "      <td>2.487628</td>\n",
              "      <td>8.397211</td>\n",
              "      <td>234.660735</td>\n",
              "      <td>8.914986</td>\n",
              "      <td>184.091390</td>\n",
              "      <td>8.453641</td>\n",
              "    </tr>\n",
              "    <tr>\n",
              "      <th>min</th>\n",
              "      <td>-0.405101</td>\n",
              "      <td>-0.483615</td>\n",
              "      <td>-1.564696</td>\n",
              "      <td>-0.256833</td>\n",
              "      <td>-1.471269</td>\n",
              "      <td>-3.817250</td>\n",
              "      <td>-2.369042</td>\n",
              "      <td>-1.287503</td>\n",
              "      <td>-0.971569</td>\n",
              "      <td>-1.311311</td>\n",
              "      <td>-2.673752</td>\n",
              "      <td>-3.771101</td>\n",
              "      <td>-1.519664</td>\n",
              "    </tr>\n",
              "    <tr>\n",
              "      <th>25%</th>\n",
              "      <td>-0.007371</td>\n",
              "      <td>0.000000</td>\n",
              "      <td>1.028326</td>\n",
              "      <td>-0.256833</td>\n",
              "      <td>0.404000</td>\n",
              "      <td>0.490780</td>\n",
              "      <td>0.899065</td>\n",
              "      <td>0.679454</td>\n",
              "      <td>1.000000</td>\n",
              "      <td>1.565287</td>\n",
              "      <td>0.784476</td>\n",
              "      <td>0.439140</td>\n",
              "      <td>0.601290</td>\n",
              "    </tr>\n",
              "    <tr>\n",
              "      <th>50%</th>\n",
              "      <td>0.127440</td>\n",
              "      <td>0.000000</td>\n",
              "      <td>5.130000</td>\n",
              "      <td>0.000000</td>\n",
              "      <td>0.507000</td>\n",
              "      <td>5.874500</td>\n",
              "      <td>45.350000</td>\n",
              "      <td>2.111400</td>\n",
              "      <td>4.000000</td>\n",
              "      <td>279.000000</td>\n",
              "      <td>17.150000</td>\n",
              "      <td>374.635000</td>\n",
              "      <td>6.880000</td>\n",
              "    </tr>\n",
              "    <tr>\n",
              "      <th>75%</th>\n",
              "      <td>1.082620</td>\n",
              "      <td>0.358906</td>\n",
              "      <td>15.040000</td>\n",
              "      <td>0.000000</td>\n",
              "      <td>0.631000</td>\n",
              "      <td>6.398000</td>\n",
              "      <td>88.000000</td>\n",
              "      <td>3.998600</td>\n",
              "      <td>6.000000</td>\n",
              "      <td>403.000000</td>\n",
              "      <td>20.200000</td>\n",
              "      <td>394.080000</td>\n",
              "      <td>14.190000</td>\n",
              "    </tr>\n",
              "    <tr>\n",
              "      <th>max</th>\n",
              "      <td>88.976200</td>\n",
              "      <td>100.000000</td>\n",
              "      <td>27.740000</td>\n",
              "      <td>3.893584</td>\n",
              "      <td>2.677335</td>\n",
              "      <td>8.725000</td>\n",
              "      <td>100.000000</td>\n",
              "      <td>10.710300</td>\n",
              "      <td>24.000000</td>\n",
              "      <td>711.000000</td>\n",
              "      <td>22.000000</td>\n",
              "      <td>396.900000</td>\n",
              "      <td>37.970000</td>\n",
              "    </tr>\n",
              "  </tbody>\n",
              "</table>\n",
              "</div>"
            ],
            "text/plain": [
              "                 0            1  ...           11           12\n",
              "count  1212.000000  1212.000000  ...  1212.000000  1212.000000\n",
              "mean      2.496740     7.653465  ...   236.522112     8.493878\n",
              "std       7.764436    20.140166  ...   184.091390     8.453641\n",
              "min      -0.405101    -0.483615  ...    -3.771101    -1.519664\n",
              "25%      -0.007371     0.000000  ...     0.439140     0.601290\n",
              "50%       0.127440     0.000000  ...   374.635000     6.880000\n",
              "75%       1.082620     0.358906  ...   394.080000    14.190000\n",
              "max      88.976200   100.000000  ...   396.900000    37.970000\n",
              "\n",
              "[8 rows x 13 columns]"
            ]
          },
          "metadata": {
            "tags": []
          },
          "execution_count": 9
        }
      ]
    },
    {
      "cell_type": "code",
      "metadata": {
        "id": "zdmUzshQO1X3"
      },
      "source": [
        ""
      ],
      "execution_count": 9,
      "outputs": []
    },
    {
      "cell_type": "code",
      "metadata": {
        "colab": {
          "base_uri": "https://localhost:8080/"
        },
        "id": "Ykq7XwDCX8f0",
        "outputId": "a3709a19-db9d-4de1-8cf2-b36e7d4d86fe"
      },
      "source": [
        "type(x_train), type(y_train), type(x_test), type(y_test)"
      ],
      "execution_count": 10,
      "outputs": [
        {
          "output_type": "execute_result",
          "data": {
            "text/plain": [
              "(numpy.ndarray, numpy.ndarray, numpy.ndarray, numpy.ndarray)"
            ]
          },
          "metadata": {
            "tags": []
          },
          "execution_count": 10
        }
      ]
    },
    {
      "cell_type": "code",
      "metadata": {
        "colab": {
          "base_uri": "https://localhost:8080/",
          "height": 294
        },
        "id": "W3ZKYbWd2xFh",
        "outputId": "01bf227b-9aff-4d10-b7f3-8e5f9ff66673"
      },
      "source": [
        "df.describe()"
      ],
      "execution_count": 11,
      "outputs": [
        {
          "output_type": "execute_result",
          "data": {
            "text/html": [
              "<div>\n",
              "<style scoped>\n",
              "    .dataframe tbody tr th:only-of-type {\n",
              "        vertical-align: middle;\n",
              "    }\n",
              "\n",
              "    .dataframe tbody tr th {\n",
              "        vertical-align: top;\n",
              "    }\n",
              "\n",
              "    .dataframe thead th {\n",
              "        text-align: right;\n",
              "    }\n",
              "</style>\n",
              "<table border=\"1\" class=\"dataframe\">\n",
              "  <thead>\n",
              "    <tr style=\"text-align: right;\">\n",
              "      <th></th>\n",
              "      <th>0</th>\n",
              "      <th>1</th>\n",
              "      <th>2</th>\n",
              "      <th>3</th>\n",
              "      <th>4</th>\n",
              "      <th>5</th>\n",
              "      <th>6</th>\n",
              "      <th>7</th>\n",
              "      <th>8</th>\n",
              "      <th>9</th>\n",
              "      <th>10</th>\n",
              "      <th>11</th>\n",
              "      <th>12</th>\n",
              "    </tr>\n",
              "  </thead>\n",
              "  <tbody>\n",
              "    <tr>\n",
              "      <th>count</th>\n",
              "      <td>1212.000000</td>\n",
              "      <td>1212.000000</td>\n",
              "      <td>1212.000000</td>\n",
              "      <td>1212.000000</td>\n",
              "      <td>1212.000000</td>\n",
              "      <td>1212.000000</td>\n",
              "      <td>1212.000000</td>\n",
              "      <td>1212.000000</td>\n",
              "      <td>1212.000000</td>\n",
              "      <td>1212.000000</td>\n",
              "      <td>1212.000000</td>\n",
              "      <td>1212.000000</td>\n",
              "      <td>1212.000000</td>\n",
              "    </tr>\n",
              "    <tr>\n",
              "      <th>mean</th>\n",
              "      <td>2.496740</td>\n",
              "      <td>7.653465</td>\n",
              "      <td>7.402954</td>\n",
              "      <td>0.041254</td>\n",
              "      <td>0.371571</td>\n",
              "      <td>4.178054</td>\n",
              "      <td>46.007096</td>\n",
              "      <td>2.493514</td>\n",
              "      <td>6.293729</td>\n",
              "      <td>270.599010</td>\n",
              "      <td>12.317327</td>\n",
              "      <td>236.522112</td>\n",
              "      <td>8.493878</td>\n",
              "    </tr>\n",
              "    <tr>\n",
              "      <th>std</th>\n",
              "      <td>7.764436</td>\n",
              "      <td>20.140166</td>\n",
              "      <td>7.657434</td>\n",
              "      <td>0.610896</td>\n",
              "      <td>0.641759</td>\n",
              "      <td>3.066626</td>\n",
              "      <td>39.738247</td>\n",
              "      <td>2.487628</td>\n",
              "      <td>8.397211</td>\n",
              "      <td>234.660735</td>\n",
              "      <td>8.914986</td>\n",
              "      <td>184.091390</td>\n",
              "      <td>8.453641</td>\n",
              "    </tr>\n",
              "    <tr>\n",
              "      <th>min</th>\n",
              "      <td>-0.405101</td>\n",
              "      <td>-0.483615</td>\n",
              "      <td>-1.564696</td>\n",
              "      <td>-0.256833</td>\n",
              "      <td>-1.471269</td>\n",
              "      <td>-3.817250</td>\n",
              "      <td>-2.369042</td>\n",
              "      <td>-1.287503</td>\n",
              "      <td>-0.971569</td>\n",
              "      <td>-1.311311</td>\n",
              "      <td>-2.673752</td>\n",
              "      <td>-3.771101</td>\n",
              "      <td>-1.519664</td>\n",
              "    </tr>\n",
              "    <tr>\n",
              "      <th>25%</th>\n",
              "      <td>-0.007371</td>\n",
              "      <td>0.000000</td>\n",
              "      <td>1.028326</td>\n",
              "      <td>-0.256833</td>\n",
              "      <td>0.404000</td>\n",
              "      <td>0.490780</td>\n",
              "      <td>0.899065</td>\n",
              "      <td>0.679454</td>\n",
              "      <td>1.000000</td>\n",
              "      <td>1.565287</td>\n",
              "      <td>0.784476</td>\n",
              "      <td>0.439140</td>\n",
              "      <td>0.601290</td>\n",
              "    </tr>\n",
              "    <tr>\n",
              "      <th>50%</th>\n",
              "      <td>0.127440</td>\n",
              "      <td>0.000000</td>\n",
              "      <td>5.130000</td>\n",
              "      <td>0.000000</td>\n",
              "      <td>0.507000</td>\n",
              "      <td>5.874500</td>\n",
              "      <td>45.350000</td>\n",
              "      <td>2.111400</td>\n",
              "      <td>4.000000</td>\n",
              "      <td>279.000000</td>\n",
              "      <td>17.150000</td>\n",
              "      <td>374.635000</td>\n",
              "      <td>6.880000</td>\n",
              "    </tr>\n",
              "    <tr>\n",
              "      <th>75%</th>\n",
              "      <td>1.082620</td>\n",
              "      <td>0.358906</td>\n",
              "      <td>15.040000</td>\n",
              "      <td>0.000000</td>\n",
              "      <td>0.631000</td>\n",
              "      <td>6.398000</td>\n",
              "      <td>88.000000</td>\n",
              "      <td>3.998600</td>\n",
              "      <td>6.000000</td>\n",
              "      <td>403.000000</td>\n",
              "      <td>20.200000</td>\n",
              "      <td>394.080000</td>\n",
              "      <td>14.190000</td>\n",
              "    </tr>\n",
              "    <tr>\n",
              "      <th>max</th>\n",
              "      <td>88.976200</td>\n",
              "      <td>100.000000</td>\n",
              "      <td>27.740000</td>\n",
              "      <td>3.893584</td>\n",
              "      <td>2.677335</td>\n",
              "      <td>8.725000</td>\n",
              "      <td>100.000000</td>\n",
              "      <td>10.710300</td>\n",
              "      <td>24.000000</td>\n",
              "      <td>711.000000</td>\n",
              "      <td>22.000000</td>\n",
              "      <td>396.900000</td>\n",
              "      <td>37.970000</td>\n",
              "    </tr>\n",
              "  </tbody>\n",
              "</table>\n",
              "</div>"
            ],
            "text/plain": [
              "                 0            1  ...           11           12\n",
              "count  1212.000000  1212.000000  ...  1212.000000  1212.000000\n",
              "mean      2.496740     7.653465  ...   236.522112     8.493878\n",
              "std       7.764436    20.140166  ...   184.091390     8.453641\n",
              "min      -0.405101    -0.483615  ...    -3.771101    -1.519664\n",
              "25%      -0.007371     0.000000  ...     0.439140     0.601290\n",
              "50%       0.127440     0.000000  ...   374.635000     6.880000\n",
              "75%       1.082620     0.358906  ...   394.080000    14.190000\n",
              "max      88.976200   100.000000  ...   396.900000    37.970000\n",
              "\n",
              "[8 rows x 13 columns]"
            ]
          },
          "metadata": {
            "tags": []
          },
          "execution_count": 11
        }
      ]
    },
    {
      "cell_type": "code",
      "metadata": {
        "id": "VEmhqZMq2yI_"
      },
      "source": [
        "from sklearn.preprocessing import StandardScaler"
      ],
      "execution_count": 12,
      "outputs": []
    },
    {
      "cell_type": "code",
      "metadata": {
        "colab": {
          "base_uri": "https://localhost:8080/"
        },
        "id": "7oN8fvNs2yMz",
        "outputId": "72bbce6a-d5cb-4291-c34e-2763aef96119"
      },
      "source": [
        "scaler = StandardScaler()\n",
        "scaler.fit(x_train)"
      ],
      "execution_count": 13,
      "outputs": [
        {
          "output_type": "execute_result",
          "data": {
            "text/plain": [
              "StandardScaler(copy=True, with_mean=True, with_std=True)"
            ]
          },
          "metadata": {
            "tags": []
          },
          "execution_count": 13
        }
      ]
    },
    {
      "cell_type": "code",
      "metadata": {
        "colab": {
          "base_uri": "https://localhost:8080/"
        },
        "id": "k-3XKVbe3yqL",
        "outputId": "74e73d2b-5f56-4949-963b-965a5282d115"
      },
      "source": [
        "x_train = scaler.transform(x_train)\n",
        "x_test = scaler.transform(x_test)\n",
        "x_train.shape, x_test.shape"
      ],
      "execution_count": 14,
      "outputs": [
        {
          "output_type": "execute_result",
          "data": {
            "text/plain": [
              "((404, 13), (102, 13))"
            ]
          },
          "metadata": {
            "tags": []
          },
          "execution_count": 14
        }
      ]
    },
    {
      "cell_type": "code",
      "metadata": {
        "colab": {
          "base_uri": "https://localhost:8080/",
          "height": 314
        },
        "id": "z9Zm7C014DGA",
        "outputId": "b8fd43f8-bcb0-4cb8-f350-d379ac2b5d09"
      },
      "source": [
        "df= pd.DataFrame(x_train)\n",
        "df.describe()"
      ],
      "execution_count": 15,
      "outputs": [
        {
          "output_type": "execute_result",
          "data": {
            "text/html": [
              "<div>\n",
              "<style scoped>\n",
              "    .dataframe tbody tr th:only-of-type {\n",
              "        vertical-align: middle;\n",
              "    }\n",
              "\n",
              "    .dataframe tbody tr th {\n",
              "        vertical-align: top;\n",
              "    }\n",
              "\n",
              "    .dataframe thead th {\n",
              "        text-align: right;\n",
              "    }\n",
              "</style>\n",
              "<table border=\"1\" class=\"dataframe\">\n",
              "  <thead>\n",
              "    <tr style=\"text-align: right;\">\n",
              "      <th></th>\n",
              "      <th>0</th>\n",
              "      <th>1</th>\n",
              "      <th>2</th>\n",
              "      <th>3</th>\n",
              "      <th>4</th>\n",
              "      <th>5</th>\n",
              "      <th>6</th>\n",
              "      <th>7</th>\n",
              "      <th>8</th>\n",
              "      <th>9</th>\n",
              "      <th>10</th>\n",
              "      <th>11</th>\n",
              "      <th>12</th>\n",
              "    </tr>\n",
              "  </thead>\n",
              "  <tbody>\n",
              "    <tr>\n",
              "      <th>count</th>\n",
              "      <td>4.040000e+02</td>\n",
              "      <td>4.040000e+02</td>\n",
              "      <td>4.040000e+02</td>\n",
              "      <td>4.040000e+02</td>\n",
              "      <td>4.040000e+02</td>\n",
              "      <td>4.040000e+02</td>\n",
              "      <td>4.040000e+02</td>\n",
              "      <td>4.040000e+02</td>\n",
              "      <td>4.040000e+02</td>\n",
              "      <td>4.040000e+02</td>\n",
              "      <td>4.040000e+02</td>\n",
              "      <td>4.040000e+02</td>\n",
              "      <td>4.040000e+02</td>\n",
              "    </tr>\n",
              "    <tr>\n",
              "      <th>mean</th>\n",
              "      <td>-1.015414e-16</td>\n",
              "      <td>1.099231e-17</td>\n",
              "      <td>1.743380e-15</td>\n",
              "      <td>-1.266863e-16</td>\n",
              "      <td>-5.253773e-15</td>\n",
              "      <td>6.414149e-15</td>\n",
              "      <td>2.984411e-16</td>\n",
              "      <td>4.946538e-16</td>\n",
              "      <td>1.126711e-17</td>\n",
              "      <td>-1.981363e-16</td>\n",
              "      <td>2.366864e-14</td>\n",
              "      <td>5.956800e-15</td>\n",
              "      <td>6.139204e-16</td>\n",
              "    </tr>\n",
              "    <tr>\n",
              "      <th>std</th>\n",
              "      <td>1.001240e+00</td>\n",
              "      <td>1.001240e+00</td>\n",
              "      <td>1.001240e+00</td>\n",
              "      <td>1.001240e+00</td>\n",
              "      <td>1.001240e+00</td>\n",
              "      <td>1.001240e+00</td>\n",
              "      <td>1.001240e+00</td>\n",
              "      <td>1.001240e+00</td>\n",
              "      <td>1.001240e+00</td>\n",
              "      <td>1.001240e+00</td>\n",
              "      <td>1.001240e+00</td>\n",
              "      <td>1.001240e+00</td>\n",
              "      <td>1.001240e+00</td>\n",
              "    </tr>\n",
              "    <tr>\n",
              "      <th>min</th>\n",
              "      <td>-4.051005e-01</td>\n",
              "      <td>-4.836155e-01</td>\n",
              "      <td>-1.564696e+00</td>\n",
              "      <td>-2.568327e-01</td>\n",
              "      <td>-1.471269e+00</td>\n",
              "      <td>-3.817250e+00</td>\n",
              "      <td>-2.369042e+00</td>\n",
              "      <td>-1.287503e+00</td>\n",
              "      <td>-9.715693e-01</td>\n",
              "      <td>-1.311311e+00</td>\n",
              "      <td>-2.673752e+00</td>\n",
              "      <td>-3.771101e+00</td>\n",
              "      <td>-1.519664e+00</td>\n",
              "    </tr>\n",
              "    <tr>\n",
              "      <th>25%</th>\n",
              "      <td>-3.969615e-01</td>\n",
              "      <td>-4.836155e-01</td>\n",
              "      <td>-8.782218e-01</td>\n",
              "      <td>-2.568327e-01</td>\n",
              "      <td>-8.908055e-01</td>\n",
              "      <td>-5.534305e-01</td>\n",
              "      <td>-8.433882e-01</td>\n",
              "      <td>-8.202251e-01</td>\n",
              "      <td>-6.262491e-01</td>\n",
              "      <td>-7.636737e-01</td>\n",
              "      <td>-5.692381e-01</td>\n",
              "      <td>2.116008e-01</td>\n",
              "      <td>-8.075036e-01</td>\n",
              "    </tr>\n",
              "    <tr>\n",
              "      <th>50%</th>\n",
              "      <td>-3.766520e-01</td>\n",
              "      <td>-4.836155e-01</td>\n",
              "      <td>-2.079167e-01</td>\n",
              "      <td>-2.568327e-01</td>\n",
              "      <td>-1.652266e-01</td>\n",
              "      <td>-9.674263e-02</td>\n",
              "      <td>3.400464e-01</td>\n",
              "      <td>-2.949009e-01</td>\n",
              "      <td>-5.111423e-01</td>\n",
              "      <td>-4.567563e-01</td>\n",
              "      <td>2.839433e-01</td>\n",
              "      <td>3.879673e-01</td>\n",
              "      <td>-1.857436e-01</td>\n",
              "    </tr>\n",
              "    <tr>\n",
              "      <th>75%</th>\n",
              "      <td>-7.617386e-03</td>\n",
              "      <td>4.296024e-02</td>\n",
              "      <td>1.028326e+00</td>\n",
              "      <td>-2.568327e-01</td>\n",
              "      <td>6.286420e-01</td>\n",
              "      <td>4.823165e-01</td>\n",
              "      <td>8.990647e-01</td>\n",
              "      <td>6.794540e-01</td>\n",
              "      <td>1.675886e+00</td>\n",
              "      <td>1.565287e+00</td>\n",
              "      <td>7.844764e-01</td>\n",
              "      <td>4.401777e-01</td>\n",
              "      <td>6.005999e-01</td>\n",
              "    </tr>\n",
              "    <tr>\n",
              "      <th>max</th>\n",
              "      <td>9.234847e+00</td>\n",
              "      <td>3.728990e+00</td>\n",
              "      <td>2.445374e+00</td>\n",
              "      <td>3.893584e+00</td>\n",
              "      <td>2.677335e+00</td>\n",
              "      <td>3.467186e+00</td>\n",
              "      <td>1.110488e+00</td>\n",
              "      <td>3.437406e+00</td>\n",
              "      <td>1.675886e+00</td>\n",
              "      <td>1.836097e+00</td>\n",
              "      <td>1.603531e+00</td>\n",
              "      <td>4.480771e-01</td>\n",
              "      <td>3.482019e+00</td>\n",
              "    </tr>\n",
              "  </tbody>\n",
              "</table>\n",
              "</div>"
            ],
            "text/plain": [
              "                 0             1   ...            11            12\n",
              "count  4.040000e+02  4.040000e+02  ...  4.040000e+02  4.040000e+02\n",
              "mean  -1.015414e-16  1.099231e-17  ...  5.956800e-15  6.139204e-16\n",
              "std    1.001240e+00  1.001240e+00  ...  1.001240e+00  1.001240e+00\n",
              "min   -4.051005e-01 -4.836155e-01  ... -3.771101e+00 -1.519664e+00\n",
              "25%   -3.969615e-01 -4.836155e-01  ...  2.116008e-01 -8.075036e-01\n",
              "50%   -3.766520e-01 -4.836155e-01  ...  3.879673e-01 -1.857436e-01\n",
              "75%   -7.617386e-03  4.296024e-02  ...  4.401777e-01  6.005999e-01\n",
              "max    9.234847e+00  3.728990e+00  ...  4.480771e-01  3.482019e+00\n",
              "\n",
              "[8 rows x 13 columns]"
            ]
          },
          "metadata": {
            "tags": []
          },
          "execution_count": 15
        }
      ]
    },
    {
      "cell_type": "code",
      "metadata": {
        "id": "DuPiQeAtPFfG"
      },
      "source": [
        "df.to_sql('boston_housing_scale_xtrain', connect , if_exists='append', index=False)"
      ],
      "execution_count": 16,
      "outputs": []
    },
    {
      "cell_type": "code",
      "metadata": {
        "id": "wtWLJ8_aPjYI"
      },
      "source": [
        "dfr = pd.read_sql_query('select * from boston_housing_scale_xtrain', connect)"
      ],
      "execution_count": 17,
      "outputs": []
    },
    {
      "cell_type": "markdown",
      "metadata": {
        "id": "BvSdcBhFx9_8"
      },
      "source": [
        "# Model and fit"
      ]
    },
    {
      "cell_type": "code",
      "metadata": {
        "id": "eWy_8cTHa5tU"
      },
      "source": [
        "model = tf.keras.models.Sequential()"
      ],
      "execution_count": 18,
      "outputs": []
    },
    {
      "cell_type": "code",
      "metadata": {
        "colab": {
          "base_uri": "https://localhost:8080/"
        },
        "id": "PJJgNtfZeeW_",
        "outputId": "d8d66f4d-2146-4f5a-cc79-840a7fd9f835"
      },
      "source": [
        "model.add(tf.keras.Input(shape=(13, ))) # input layer # input은 언제나 column\n",
        "model.add(tf.keras.layers.Dense(128, activation='relu')) # hidden layer\n",
        "model.add(tf.keras.layers.Dense(128, activation='relu')) # hidden layer\n",
        "model.add(tf.keras.layers.Dense(128, activation='relu')) # hidden layer\n",
        "model.add(tf.keras.layers.Dense(64, activation='relu')) # hidden layer\n",
        "model.add(tf.keras.layers.Dense(32, activation='relu')) # hidden layer\n",
        "model.add(tf.keras.layers.Dense(1)) # output layer\n",
        "\n",
        "# sdg = tf.keras.optimizers.SGD(\n",
        "#     learning_rate=0.001,\n",
        "#     momentum=0.004,\n",
        "# )\n",
        "\n",
        "# model.compile(optimizer='sgd', loss='mse', metrics=['mae'])\n",
        "model.compile(optimizer='adam', loss='mse', metrics=['mae'])"
      ],
      "execution_count": 19,
      "outputs": [
        {
          "output_type": "stream",
          "text": [
            "WARNING:tensorflow:Please add `keras.layers.InputLayer` instead of `keras.Input` to Sequential model. `keras.Input` is intended to be used by Functional model.\n"
          ],
          "name": "stdout"
        }
      ]
    },
    {
      "cell_type": "code",
      "metadata": {
        "colab": {
          "base_uri": "https://localhost:8080/",
          "height": 754
        },
        "id": "hd_lo7oDX8nb",
        "outputId": "b87fcb6a-833c-480c-987f-937afc704566"
      },
      "source": [
        "tf.keras.utils.plot_model(model, show_shapes=True)"
      ],
      "execution_count": 20,
      "outputs": [
        {
          "output_type": "execute_result",
          "data": {
            "image/png": "[encoded data removed]",
            "text/plain": [
              "<IPython.core.display.Image object>"
            ]
          },
          "metadata": {
            "tags": []
          },
          "execution_count": 20
        }
      ]
    },
    {
      "cell_type": "code",
      "metadata": {
        "colab": {
          "base_uri": "https://localhost:8080/"
        },
        "id": "L9st8QdmX8t3",
        "outputId": "2c26ef7b-ada2-455f-8da3-430e7b2e5145"
      },
      "source": [
        "model.summary()"
      ],
      "execution_count": 21,
      "outputs": [
        {
          "output_type": "stream",
          "text": [
            "Model: \"sequential\"\n",
            "_________________________________________________________________\n",
            "Layer (type)                 Output Shape              Param #   \n",
            "=================================================================\n",
            "dense (Dense)                (None, 128)               1792      \n",
            "_________________________________________________________________\n",
            "dense_1 (Dense)              (None, 128)               16512     \n",
            "_________________________________________________________________\n",
            "dense_2 (Dense)              (None, 128)               16512     \n",
            "_________________________________________________________________\n",
            "dense_3 (Dense)              (None, 64)                8256      \n",
            "_________________________________________________________________\n",
            "dense_4 (Dense)              (None, 32)                2080      \n",
            "_________________________________________________________________\n",
            "dense_5 (Dense)              (None, 1)                 33        \n",
            "=================================================================\n",
            "Total params: 45,185\n",
            "Trainable params: 45,185\n",
            "Non-trainable params: 0\n",
            "_________________________________________________________________\n"
          ],
          "name": "stdout"
        }
      ]
    },
    {
      "cell_type": "code",
      "metadata": {
        "colab": {
          "base_uri": "https://localhost:8080/"
        },
        "id": "0OEznH_-X8zk",
        "outputId": "1d5ce017-4715-409e-a373-f3bf90f7d65b"
      },
      "source": [
        "hist = model.fit(x_train, y_train, epochs=500, validation_split=0.3)"
      ],
      "execution_count": 31,
      "outputs": [
        {
          "output_type": "stream",
          "text": [
            "Epoch 1/500\n",
            "9/9 [==============================] - 0s 8ms/step - loss: 0.2613 - mae: 0.3668 - val_loss: 2.2860 - val_mae: 1.0563\n",
            "Epoch 2/500\n",
            "9/9 [==============================] - 0s 5ms/step - loss: 0.2076 - mae: 0.3551 - val_loss: 2.2358 - val_mae: 1.0779\n",
            "Epoch 3/500\n",
            "9/9 [==============================] - 0s 6ms/step - loss: 0.2329 - mae: 0.3689 - val_loss: 2.3761 - val_mae: 1.0289\n",
            "Epoch 4/500\n",
            "9/9 [==============================] - 0s 4ms/step - loss: 0.2191 - mae: 0.3485 - val_loss: 2.4555 - val_mae: 1.0764\n",
            "Epoch 5/500\n",
            "9/9 [==============================] - 0s 4ms/step - loss: 0.1074 - mae: 0.2546 - val_loss: 2.3125 - val_mae: 1.0491\n",
            "Epoch 6/500\n",
            "9/9 [==============================] - 0s 4ms/step - loss: 0.1188 - mae: 0.2641 - val_loss: 2.3181 - val_mae: 1.0447\n",
            "Epoch 7/500\n",
            "9/9 [==============================] - 0s 6ms/step - loss: 0.1046 - mae: 0.2372 - val_loss: 2.0137 - val_mae: 1.0006\n",
            "Epoch 8/500\n",
            "9/9 [==============================] - 0s 4ms/step - loss: 0.1126 - mae: 0.2366 - val_loss: 2.3790 - val_mae: 1.0808\n",
            "Epoch 9/500\n",
            "9/9 [==============================] - 0s 4ms/step - loss: 0.1146 - mae: 0.2461 - val_loss: 2.2935 - val_mae: 1.0458\n",
            "Epoch 10/500\n",
            "9/9 [==============================] - 0s 5ms/step - loss: 0.0930 - mae: 0.2287 - val_loss: 2.4662 - val_mae: 1.0618\n",
            "Epoch 11/500\n",
            "9/9 [==============================] - 0s 4ms/step - loss: 0.0780 - mae: 0.2192 - val_loss: 2.4284 - val_mae: 1.0719\n",
            "Epoch 12/500\n",
            "9/9 [==============================] - 0s 4ms/step - loss: 0.1036 - mae: 0.2451 - val_loss: 2.1570 - val_mae: 0.9836\n",
            "Epoch 13/500\n",
            "9/9 [==============================] - 0s 5ms/step - loss: 0.1083 - mae: 0.2355 - val_loss: 2.2113 - val_mae: 1.0305\n",
            "Epoch 14/500\n",
            "9/9 [==============================] - 0s 4ms/step - loss: 0.0905 - mae: 0.2282 - val_loss: 2.5636 - val_mae: 1.1373\n",
            "Epoch 15/500\n",
            "9/9 [==============================] - 0s 4ms/step - loss: 0.0975 - mae: 0.2309 - val_loss: 2.2154 - val_mae: 1.0578\n",
            "Epoch 16/500\n",
            "9/9 [==============================] - 0s 5ms/step - loss: 0.1632 - mae: 0.3123 - val_loss: 2.5289 - val_mae: 1.0757\n",
            "Epoch 17/500\n",
            "9/9 [==============================] - 0s 5ms/step - loss: 0.1047 - mae: 0.2371 - val_loss: 2.2352 - val_mae: 1.0380\n",
            "Epoch 18/500\n",
            "9/9 [==============================] - 0s 5ms/step - loss: 0.0625 - mae: 0.1841 - val_loss: 2.1192 - val_mae: 0.9862\n",
            "Epoch 19/500\n",
            "9/9 [==============================] - 0s 5ms/step - loss: 0.0764 - mae: 0.2128 - val_loss: 2.3134 - val_mae: 1.0562\n",
            "Epoch 20/500\n",
            "9/9 [==============================] - 0s 7ms/step - loss: 0.0652 - mae: 0.1945 - val_loss: 2.2987 - val_mae: 1.0351\n",
            "Epoch 21/500\n",
            "9/9 [==============================] - 0s 5ms/step - loss: 0.0715 - mae: 0.1880 - val_loss: 2.2264 - val_mae: 1.0197\n",
            "Epoch 22/500\n",
            "9/9 [==============================] - 0s 5ms/step - loss: 0.1163 - mae: 0.2440 - val_loss: 2.5669 - val_mae: 1.1100\n",
            "Epoch 23/500\n",
            "9/9 [==============================] - 0s 5ms/step - loss: 0.2096 - mae: 0.3407 - val_loss: 2.4028 - val_mae: 1.0751\n",
            "Epoch 24/500\n",
            "9/9 [==============================] - 0s 4ms/step - loss: 0.1348 - mae: 0.2787 - val_loss: 2.2442 - val_mae: 1.0613\n",
            "Epoch 25/500\n",
            "9/9 [==============================] - 0s 7ms/step - loss: 0.1040 - mae: 0.2394 - val_loss: 2.3670 - val_mae: 1.0755\n",
            "Epoch 26/500\n",
            "9/9 [==============================] - 0s 4ms/step - loss: 0.0848 - mae: 0.2262 - val_loss: 2.4343 - val_mae: 1.0950\n",
            "Epoch 27/500\n",
            "9/9 [==============================] - 0s 5ms/step - loss: 0.0806 - mae: 0.2260 - val_loss: 2.2736 - val_mae: 1.0190\n",
            "Epoch 28/500\n",
            "9/9 [==============================] - 0s 4ms/step - loss: 0.1076 - mae: 0.2518 - val_loss: 2.3000 - val_mae: 1.0735\n",
            "Epoch 29/500\n",
            "9/9 [==============================] - 0s 6ms/step - loss: 0.1662 - mae: 0.2935 - val_loss: 2.2546 - val_mae: 1.0767\n",
            "Epoch 30/500\n",
            "9/9 [==============================] - 0s 5ms/step - loss: 0.1164 - mae: 0.2627 - val_loss: 2.1798 - val_mae: 1.0354\n",
            "Epoch 31/500\n",
            "9/9 [==============================] - 0s 5ms/step - loss: 0.1079 - mae: 0.2435 - val_loss: 2.2188 - val_mae: 1.0428\n",
            "Epoch 32/500\n",
            "9/9 [==============================] - 0s 5ms/step - loss: 0.0940 - mae: 0.2283 - val_loss: 2.5044 - val_mae: 1.0618\n",
            "Epoch 33/500\n",
            "9/9 [==============================] - 0s 5ms/step - loss: 0.0917 - mae: 0.2059 - val_loss: 2.2912 - val_mae: 1.0556\n",
            "Epoch 34/500\n",
            "9/9 [==============================] - 0s 4ms/step - loss: 0.0950 - mae: 0.2350 - val_loss: 2.2172 - val_mae: 1.0210\n",
            "Epoch 35/500\n",
            "9/9 [==============================] - 0s 5ms/step - loss: 0.0814 - mae: 0.2011 - val_loss: 2.3015 - val_mae: 1.0440\n",
            "Epoch 36/500\n",
            "9/9 [==============================] - 0s 6ms/step - loss: 0.1194 - mae: 0.2420 - val_loss: 2.2427 - val_mae: 1.0489\n",
            "Epoch 37/500\n",
            "9/9 [==============================] - 0s 5ms/step - loss: 0.0973 - mae: 0.2176 - val_loss: 2.2933 - val_mae: 1.0484\n",
            "Epoch 38/500\n",
            "9/9 [==============================] - 0s 4ms/step - loss: 0.1674 - mae: 0.3046 - val_loss: 2.4816 - val_mae: 1.0793\n",
            "Epoch 39/500\n",
            "9/9 [==============================] - 0s 4ms/step - loss: 0.2139 - mae: 0.3470 - val_loss: 2.4324 - val_mae: 1.1244\n",
            "Epoch 40/500\n",
            "9/9 [==============================] - 0s 4ms/step - loss: 0.1230 - mae: 0.2574 - val_loss: 2.4785 - val_mae: 1.0758\n",
            "Epoch 41/500\n",
            "9/9 [==============================] - 0s 4ms/step - loss: 0.1196 - mae: 0.2474 - val_loss: 2.4344 - val_mae: 1.0857\n",
            "Epoch 42/500\n",
            "9/9 [==============================] - 0s 4ms/step - loss: 0.0561 - mae: 0.1820 - val_loss: 2.3428 - val_mae: 1.0335\n",
            "Epoch 43/500\n",
            "9/9 [==============================] - 0s 5ms/step - loss: 0.0573 - mae: 0.1798 - val_loss: 2.2990 - val_mae: 1.0654\n",
            "Epoch 44/500\n",
            "9/9 [==============================] - 0s 5ms/step - loss: 0.0583 - mae: 0.1770 - val_loss: 2.4149 - val_mae: 1.0549\n",
            "Epoch 45/500\n",
            "9/9 [==============================] - 0s 4ms/step - loss: 0.0726 - mae: 0.1942 - val_loss: 2.2273 - val_mae: 1.0386\n",
            "Epoch 46/500\n",
            "9/9 [==============================] - 0s 6ms/step - loss: 0.1181 - mae: 0.2587 - val_loss: 2.4298 - val_mae: 1.1609\n",
            "Epoch 47/500\n",
            "9/9 [==============================] - 0s 4ms/step - loss: 0.1340 - mae: 0.2798 - val_loss: 2.3896 - val_mae: 1.0339\n",
            "Epoch 48/500\n",
            "9/9 [==============================] - 0s 6ms/step - loss: 0.1630 - mae: 0.2922 - val_loss: 2.5106 - val_mae: 1.0893\n",
            "Epoch 49/500\n",
            "9/9 [==============================] - 0s 4ms/step - loss: 0.1236 - mae: 0.2585 - val_loss: 2.3708 - val_mae: 1.0694\n",
            "Epoch 50/500\n",
            "9/9 [==============================] - 0s 4ms/step - loss: 0.1282 - mae: 0.2734 - val_loss: 2.4233 - val_mae: 1.0642\n",
            "Epoch 51/500\n",
            "9/9 [==============================] - 0s 7ms/step - loss: 0.0965 - mae: 0.2291 - val_loss: 2.4145 - val_mae: 1.0918\n",
            "Epoch 52/500\n",
            "9/9 [==============================] - 0s 4ms/step - loss: 0.0978 - mae: 0.2415 - val_loss: 2.2970 - val_mae: 1.0363\n",
            "Epoch 53/500\n",
            "9/9 [==============================] - 0s 7ms/step - loss: 0.0662 - mae: 0.1965 - val_loss: 2.3239 - val_mae: 1.0954\n",
            "Epoch 54/500\n",
            "9/9 [==============================] - 0s 5ms/step - loss: 0.0630 - mae: 0.1789 - val_loss: 2.6548 - val_mae: 1.0919\n",
            "Epoch 55/500\n",
            "9/9 [==============================] - 0s 7ms/step - loss: 0.0678 - mae: 0.1687 - val_loss: 2.3422 - val_mae: 1.1072\n",
            "Epoch 56/500\n",
            "9/9 [==============================] - 0s 5ms/step - loss: 0.1027 - mae: 0.2272 - val_loss: 2.5857 - val_mae: 1.0693\n",
            "Epoch 57/500\n",
            "9/9 [==============================] - 0s 5ms/step - loss: 0.0655 - mae: 0.1948 - val_loss: 2.5926 - val_mae: 1.1455\n",
            "Epoch 58/500\n",
            "9/9 [==============================] - 0s 4ms/step - loss: 0.1519 - mae: 0.2940 - val_loss: 2.7240 - val_mae: 1.1074\n",
            "Epoch 59/500\n",
            "9/9 [==============================] - 0s 6ms/step - loss: 0.1212 - mae: 0.2435 - val_loss: 2.3834 - val_mae: 1.0664\n",
            "Epoch 60/500\n",
            "9/9 [==============================] - 0s 6ms/step - loss: 0.0933 - mae: 0.2207 - val_loss: 2.5499 - val_mae: 1.1397\n",
            "Epoch 61/500\n",
            "9/9 [==============================] - 0s 5ms/step - loss: 0.1330 - mae: 0.2736 - val_loss: 2.4220 - val_mae: 1.0826\n",
            "Epoch 62/500\n",
            "9/9 [==============================] - 0s 5ms/step - loss: 0.1483 - mae: 0.2714 - val_loss: 2.5344 - val_mae: 1.0800\n",
            "Epoch 63/500\n",
            "9/9 [==============================] - 0s 4ms/step - loss: 0.1589 - mae: 0.3082 - val_loss: 2.6825 - val_mae: 1.1958\n",
            "Epoch 64/500\n",
            "9/9 [==============================] - 0s 4ms/step - loss: 0.2541 - mae: 0.3875 - val_loss: 2.4314 - val_mae: 1.0813\n",
            "Epoch 65/500\n",
            "9/9 [==============================] - 0s 4ms/step - loss: 0.2419 - mae: 0.3764 - val_loss: 2.4601 - val_mae: 1.0727\n",
            "Epoch 66/500\n",
            "9/9 [==============================] - 0s 4ms/step - loss: 0.2003 - mae: 0.3271 - val_loss: 2.7383 - val_mae: 1.1414\n",
            "Epoch 67/500\n",
            "9/9 [==============================] - 0s 4ms/step - loss: 0.1640 - mae: 0.2845 - val_loss: 2.5885 - val_mae: 1.1372\n",
            "Epoch 68/500\n",
            "9/9 [==============================] - 0s 7ms/step - loss: 0.1166 - mae: 0.2591 - val_loss: 2.3234 - val_mae: 1.0994\n",
            "Epoch 69/500\n",
            "9/9 [==============================] - 0s 5ms/step - loss: 0.1524 - mae: 0.2709 - val_loss: 2.3519 - val_mae: 1.1310\n",
            "Epoch 70/500\n",
            "9/9 [==============================] - 0s 5ms/step - loss: 0.1414 - mae: 0.2767 - val_loss: 2.6600 - val_mae: 1.1121\n",
            "Epoch 71/500\n",
            "9/9 [==============================] - 0s 7ms/step - loss: 0.1274 - mae: 0.2567 - val_loss: 2.2287 - val_mae: 1.1066\n",
            "Epoch 72/500\n",
            "9/9 [==============================] - 0s 4ms/step - loss: 0.1095 - mae: 0.2526 - val_loss: 2.4071 - val_mae: 1.1227\n",
            "Epoch 73/500\n",
            "9/9 [==============================] - 0s 7ms/step - loss: 0.1095 - mae: 0.2598 - val_loss: 2.5757 - val_mae: 1.1073\n",
            "Epoch 74/500\n",
            "9/9 [==============================] - 0s 7ms/step - loss: 0.0812 - mae: 0.2171 - val_loss: 2.3899 - val_mae: 1.0753\n",
            "Epoch 75/500\n",
            "9/9 [==============================] - 0s 5ms/step - loss: 0.0753 - mae: 0.1960 - val_loss: 2.3107 - val_mae: 1.0866\n",
            "Epoch 76/500\n",
            "9/9 [==============================] - 0s 4ms/step - loss: 0.0381 - mae: 0.1362 - val_loss: 2.4957 - val_mae: 1.0651\n",
            "Epoch 77/500\n",
            "9/9 [==============================] - 0s 4ms/step - loss: 0.0894 - mae: 0.2013 - val_loss: 2.3897 - val_mae: 1.0499\n",
            "Epoch 78/500\n",
            "9/9 [==============================] - 0s 5ms/step - loss: 0.1334 - mae: 0.2731 - val_loss: 2.4704 - val_mae: 1.0943\n",
            "Epoch 79/500\n",
            "9/9 [==============================] - 0s 5ms/step - loss: 0.1499 - mae: 0.2886 - val_loss: 2.7984 - val_mae: 1.1202\n",
            "Epoch 80/500\n",
            "9/9 [==============================] - 0s 4ms/step - loss: 0.1626 - mae: 0.2881 - val_loss: 2.5077 - val_mae: 1.1801\n",
            "Epoch 81/500\n",
            "9/9 [==============================] - 0s 5ms/step - loss: 0.2266 - mae: 0.3368 - val_loss: 2.7400 - val_mae: 1.1318\n",
            "Epoch 82/500\n",
            "9/9 [==============================] - 0s 4ms/step - loss: 0.1695 - mae: 0.3151 - val_loss: 2.4728 - val_mae: 1.1288\n",
            "Epoch 83/500\n",
            "9/9 [==============================] - 0s 5ms/step - loss: 0.1999 - mae: 0.3458 - val_loss: 2.5874 - val_mae: 1.1610\n",
            "Epoch 84/500\n",
            "9/9 [==============================] - 0s 5ms/step - loss: 0.1269 - mae: 0.2755 - val_loss: 2.4143 - val_mae: 1.0742\n",
            "Epoch 85/500\n",
            "9/9 [==============================] - 0s 7ms/step - loss: 0.1439 - mae: 0.2870 - val_loss: 2.6708 - val_mae: 1.1358\n",
            "Epoch 86/500\n",
            "9/9 [==============================] - 0s 4ms/step - loss: 0.1304 - mae: 0.2669 - val_loss: 2.7110 - val_mae: 1.1407\n",
            "Epoch 87/500\n",
            "9/9 [==============================] - 0s 4ms/step - loss: 0.1058 - mae: 0.2398 - val_loss: 2.6207 - val_mae: 1.1003\n",
            "Epoch 88/500\n",
            "9/9 [==============================] - 0s 4ms/step - loss: 0.1014 - mae: 0.2491 - val_loss: 2.6047 - val_mae: 1.1559\n",
            "Epoch 89/500\n",
            "9/9 [==============================] - 0s 6ms/step - loss: 0.1030 - mae: 0.2332 - val_loss: 2.5240 - val_mae: 1.0938\n",
            "Epoch 90/500\n",
            "9/9 [==============================] - 0s 8ms/step - loss: 0.1086 - mae: 0.2264 - val_loss: 2.6312 - val_mae: 1.1012\n",
            "Epoch 91/500\n",
            "9/9 [==============================] - 0s 5ms/step - loss: 0.0936 - mae: 0.2288 - val_loss: 2.5406 - val_mae: 1.0840\n",
            "Epoch 92/500\n",
            "9/9 [==============================] - 0s 5ms/step - loss: 0.0840 - mae: 0.2191 - val_loss: 2.4531 - val_mae: 1.0617\n",
            "Epoch 93/500\n",
            "9/9 [==============================] - 0s 4ms/step - loss: 0.0537 - mae: 0.1595 - val_loss: 2.4975 - val_mae: 1.0964\n",
            "Epoch 94/500\n",
            "9/9 [==============================] - 0s 4ms/step - loss: 0.0381 - mae: 0.1356 - val_loss: 2.4673 - val_mae: 1.0815\n",
            "Epoch 95/500\n",
            "9/9 [==============================] - 0s 4ms/step - loss: 0.0506 - mae: 0.1719 - val_loss: 2.5686 - val_mae: 1.0868\n",
            "Epoch 96/500\n",
            "9/9 [==============================] - 0s 4ms/step - loss: 0.0323 - mae: 0.1342 - val_loss: 2.5604 - val_mae: 1.0946\n",
            "Epoch 97/500\n",
            "9/9 [==============================] - 0s 22ms/step - loss: 0.0285 - mae: 0.1212 - val_loss: 2.4953 - val_mae: 1.0772\n",
            "Epoch 98/500\n",
            "9/9 [==============================] - 0s 5ms/step - loss: 0.0535 - mae: 0.1748 - val_loss: 2.5127 - val_mae: 1.0862\n",
            "Epoch 99/500\n",
            "9/9 [==============================] - 0s 4ms/step - loss: 0.0647 - mae: 0.2009 - val_loss: 2.5931 - val_mae: 1.1583\n",
            "Epoch 100/500\n",
            "9/9 [==============================] - 0s 5ms/step - loss: 0.0502 - mae: 0.1658 - val_loss: 2.5132 - val_mae: 1.0751\n",
            "Epoch 101/500\n",
            "9/9 [==============================] - 0s 7ms/step - loss: 0.0505 - mae: 0.1586 - val_loss: 2.5744 - val_mae: 1.1044\n",
            "Epoch 102/500\n",
            "9/9 [==============================] - 0s 5ms/step - loss: 0.0343 - mae: 0.1339 - val_loss: 2.5664 - val_mae: 1.1235\n",
            "Epoch 103/500\n",
            "9/9 [==============================] - 0s 7ms/step - loss: 0.0440 - mae: 0.1509 - val_loss: 2.5306 - val_mae: 1.1006\n",
            "Epoch 104/500\n",
            "9/9 [==============================] - 0s 5ms/step - loss: 0.0319 - mae: 0.1308 - val_loss: 2.5115 - val_mae: 1.0774\n",
            "Epoch 105/500\n",
            "9/9 [==============================] - 0s 4ms/step - loss: 0.0348 - mae: 0.1232 - val_loss: 2.5172 - val_mae: 1.0757\n",
            "Epoch 106/500\n",
            "9/9 [==============================] - 0s 5ms/step - loss: 0.0589 - mae: 0.1894 - val_loss: 2.5668 - val_mae: 1.1414\n",
            "Epoch 107/500\n",
            "9/9 [==============================] - 0s 4ms/step - loss: 0.1122 - mae: 0.2587 - val_loss: 2.8103 - val_mae: 1.1657\n",
            "Epoch 108/500\n",
            "9/9 [==============================] - 0s 4ms/step - loss: 0.2104 - mae: 0.3517 - val_loss: 2.6638 - val_mae: 1.1248\n",
            "Epoch 109/500\n",
            "9/9 [==============================] - 0s 4ms/step - loss: 0.2502 - mae: 0.3714 - val_loss: 3.2127 - val_mae: 1.1873\n",
            "Epoch 110/500\n",
            "9/9 [==============================] - 0s 6ms/step - loss: 0.1964 - mae: 0.3441 - val_loss: 2.5967 - val_mae: 1.1647\n",
            "Epoch 111/500\n",
            "9/9 [==============================] - 0s 7ms/step - loss: 0.1726 - mae: 0.3202 - val_loss: 2.8169 - val_mae: 1.1581\n",
            "Epoch 112/500\n",
            "9/9 [==============================] - 0s 4ms/step - loss: 0.1292 - mae: 0.2658 - val_loss: 2.5857 - val_mae: 1.1031\n",
            "Epoch 113/500\n",
            "9/9 [==============================] - 0s 6ms/step - loss: 0.1247 - mae: 0.2807 - val_loss: 2.4486 - val_mae: 1.1271\n",
            "Epoch 114/500\n",
            "9/9 [==============================] - 0s 4ms/step - loss: 0.1243 - mae: 0.2643 - val_loss: 2.6459 - val_mae: 1.1461\n",
            "Epoch 115/500\n",
            "9/9 [==============================] - 0s 5ms/step - loss: 0.1262 - mae: 0.2710 - val_loss: 2.5087 - val_mae: 1.1165\n",
            "Epoch 116/500\n",
            "9/9 [==============================] - 0s 4ms/step - loss: 0.1116 - mae: 0.2457 - val_loss: 2.6689 - val_mae: 1.1393\n",
            "Epoch 117/500\n",
            "9/9 [==============================] - 0s 4ms/step - loss: 0.1667 - mae: 0.3104 - val_loss: 2.8734 - val_mae: 1.1895\n",
            "Epoch 118/500\n",
            "9/9 [==============================] - 0s 5ms/step - loss: 0.1998 - mae: 0.3520 - val_loss: 2.7709 - val_mae: 1.1902\n",
            "Epoch 119/500\n",
            "9/9 [==============================] - 0s 4ms/step - loss: 0.2571 - mae: 0.3790 - val_loss: 2.5897 - val_mae: 1.2103\n",
            "Epoch 120/500\n",
            "9/9 [==============================] - 0s 6ms/step - loss: 0.2105 - mae: 0.3493 - val_loss: 2.9890 - val_mae: 1.1625\n",
            "Epoch 121/500\n",
            "9/9 [==============================] - 0s 5ms/step - loss: 0.2978 - mae: 0.4220 - val_loss: 2.7497 - val_mae: 1.2399\n",
            "Epoch 122/500\n",
            "9/9 [==============================] - 0s 6ms/step - loss: 0.2508 - mae: 0.3878 - val_loss: 2.7495 - val_mae: 1.1410\n",
            "Epoch 123/500\n",
            "9/9 [==============================] - 0s 7ms/step - loss: 0.3516 - mae: 0.4600 - val_loss: 2.9363 - val_mae: 1.2338\n",
            "Epoch 124/500\n",
            "9/9 [==============================] - 0s 4ms/step - loss: 0.3092 - mae: 0.4229 - val_loss: 3.0092 - val_mae: 1.1805\n",
            "Epoch 125/500\n",
            "9/9 [==============================] - 0s 4ms/step - loss: 0.1417 - mae: 0.2651 - val_loss: 2.5376 - val_mae: 1.1311\n",
            "Epoch 126/500\n",
            "9/9 [==============================] - 0s 4ms/step - loss: 0.1379 - mae: 0.2858 - val_loss: 2.7928 - val_mae: 1.1606\n",
            "Epoch 127/500\n",
            "9/9 [==============================] - 0s 6ms/step - loss: 0.1188 - mae: 0.2564 - val_loss: 2.7187 - val_mae: 1.1056\n",
            "Epoch 128/500\n",
            "9/9 [==============================] - 0s 4ms/step - loss: 0.1068 - mae: 0.2413 - val_loss: 2.7279 - val_mae: 1.2025\n",
            "Epoch 129/500\n",
            "9/9 [==============================] - 0s 7ms/step - loss: 0.0995 - mae: 0.2504 - val_loss: 2.6532 - val_mae: 1.0996\n",
            "Epoch 130/500\n",
            "9/9 [==============================] - 0s 5ms/step - loss: 0.0948 - mae: 0.2332 - val_loss: 2.5203 - val_mae: 1.1258\n",
            "Epoch 131/500\n",
            "9/9 [==============================] - 0s 6ms/step - loss: 0.1400 - mae: 0.2761 - val_loss: 2.7037 - val_mae: 1.1250\n",
            "Epoch 132/500\n",
            "9/9 [==============================] - 0s 7ms/step - loss: 0.1047 - mae: 0.2387 - val_loss: 2.5550 - val_mae: 1.1031\n",
            "Epoch 133/500\n",
            "9/9 [==============================] - 0s 5ms/step - loss: 0.0898 - mae: 0.2340 - val_loss: 2.7449 - val_mae: 1.1566\n",
            "Epoch 134/500\n",
            "9/9 [==============================] - 0s 5ms/step - loss: 0.0751 - mae: 0.2115 - val_loss: 2.5353 - val_mae: 1.0823\n",
            "Epoch 135/500\n",
            "9/9 [==============================] - 0s 4ms/step - loss: 0.0426 - mae: 0.1573 - val_loss: 2.5253 - val_mae: 1.1058\n",
            "Epoch 136/500\n",
            "9/9 [==============================] - 0s 5ms/step - loss: 0.0341 - mae: 0.1348 - val_loss: 2.5446 - val_mae: 1.0868\n",
            "Epoch 137/500\n",
            "9/9 [==============================] - 0s 4ms/step - loss: 0.0266 - mae: 0.1103 - val_loss: 2.5205 - val_mae: 1.1157\n",
            "Epoch 138/500\n",
            "9/9 [==============================] - 0s 4ms/step - loss: 0.0266 - mae: 0.1183 - val_loss: 2.6303 - val_mae: 1.1015\n",
            "Epoch 139/500\n",
            "9/9 [==============================] - 0s 5ms/step - loss: 0.0386 - mae: 0.1454 - val_loss: 2.4708 - val_mae: 1.0870\n",
            "Epoch 140/500\n",
            "9/9 [==============================] - 0s 5ms/step - loss: 0.0299 - mae: 0.1263 - val_loss: 2.6738 - val_mae: 1.1202\n",
            "Epoch 141/500\n",
            "9/9 [==============================] - 0s 6ms/step - loss: 0.0625 - mae: 0.1813 - val_loss: 2.7564 - val_mae: 1.1163\n",
            "Epoch 142/500\n",
            "9/9 [==============================] - 0s 6ms/step - loss: 0.1011 - mae: 0.2452 - val_loss: 2.6868 - val_mae: 1.1001\n",
            "Epoch 143/500\n",
            "9/9 [==============================] - 0s 5ms/step - loss: 0.0827 - mae: 0.2218 - val_loss: 2.7364 - val_mae: 1.1602\n",
            "Epoch 144/500\n",
            "9/9 [==============================] - 0s 5ms/step - loss: 0.0724 - mae: 0.1973 - val_loss: 2.7070 - val_mae: 1.1168\n",
            "Epoch 145/500\n",
            "9/9 [==============================] - 0s 4ms/step - loss: 0.0539 - mae: 0.1707 - val_loss: 2.6497 - val_mae: 1.0957\n",
            "Epoch 146/500\n",
            "9/9 [==============================] - 0s 5ms/step - loss: 0.0542 - mae: 0.1683 - val_loss: 2.6685 - val_mae: 1.1862\n",
            "Epoch 147/500\n",
            "9/9 [==============================] - 0s 5ms/step - loss: 0.0758 - mae: 0.1964 - val_loss: 2.6016 - val_mae: 1.1049\n",
            "Epoch 148/500\n",
            "9/9 [==============================] - 0s 5ms/step - loss: 0.0526 - mae: 0.1797 - val_loss: 2.6755 - val_mae: 1.1326\n",
            "Epoch 149/500\n",
            "9/9 [==============================] - 0s 6ms/step - loss: 0.0404 - mae: 0.1381 - val_loss: 2.6858 - val_mae: 1.1167\n",
            "Epoch 150/500\n",
            "9/9 [==============================] - 0s 5ms/step - loss: 0.0360 - mae: 0.1335 - val_loss: 2.5641 - val_mae: 1.1111\n",
            "Epoch 151/500\n",
            "9/9 [==============================] - 0s 6ms/step - loss: 0.0261 - mae: 0.1173 - val_loss: 2.6105 - val_mae: 1.0897\n",
            "Epoch 152/500\n",
            "9/9 [==============================] - 0s 5ms/step - loss: 0.0238 - mae: 0.1160 - val_loss: 2.6318 - val_mae: 1.1170\n",
            "Epoch 153/500\n",
            "9/9 [==============================] - 0s 7ms/step - loss: 0.0288 - mae: 0.1258 - val_loss: 2.6004 - val_mae: 1.1175\n",
            "Epoch 154/500\n",
            "9/9 [==============================] - 0s 5ms/step - loss: 0.0211 - mae: 0.1034 - val_loss: 2.6186 - val_mae: 1.1080\n",
            "Epoch 155/500\n",
            "9/9 [==============================] - 0s 7ms/step - loss: 0.0249 - mae: 0.0996 - val_loss: 2.5984 - val_mae: 1.0971\n",
            "Epoch 156/500\n",
            "9/9 [==============================] - 0s 5ms/step - loss: 0.0246 - mae: 0.1039 - val_loss: 2.6085 - val_mae: 1.1018\n",
            "Epoch 157/500\n",
            "9/9 [==============================] - 0s 5ms/step - loss: 0.0376 - mae: 0.1487 - val_loss: 2.6714 - val_mae: 1.1103\n",
            "Epoch 158/500\n",
            "9/9 [==============================] - 0s 7ms/step - loss: 0.0370 - mae: 0.1424 - val_loss: 2.6323 - val_mae: 1.1335\n",
            "Epoch 159/500\n",
            "9/9 [==============================] - 0s 7ms/step - loss: 0.0340 - mae: 0.1419 - val_loss: 2.5431 - val_mae: 1.1092\n",
            "Epoch 160/500\n",
            "9/9 [==============================] - 0s 4ms/step - loss: 0.0509 - mae: 0.1593 - val_loss: 2.6748 - val_mae: 1.1415\n",
            "Epoch 161/500\n",
            "9/9 [==============================] - 0s 7ms/step - loss: 0.0749 - mae: 0.1950 - val_loss: 2.7290 - val_mae: 1.1376\n",
            "Epoch 162/500\n",
            "9/9 [==============================] - 0s 5ms/step - loss: 0.0950 - mae: 0.2255 - val_loss: 2.5266 - val_mae: 1.0835\n",
            "Epoch 163/500\n",
            "9/9 [==============================] - 0s 7ms/step - loss: 0.0994 - mae: 0.2257 - val_loss: 2.9758 - val_mae: 1.1437\n",
            "Epoch 164/500\n",
            "9/9 [==============================] - 0s 7ms/step - loss: 0.1041 - mae: 0.2403 - val_loss: 2.5201 - val_mae: 1.1257\n",
            "Epoch 165/500\n",
            "9/9 [==============================] - 0s 4ms/step - loss: 0.0987 - mae: 0.2380 - val_loss: 2.7498 - val_mae: 1.1445\n",
            "Epoch 166/500\n",
            "9/9 [==============================] - 0s 5ms/step - loss: 0.0999 - mae: 0.2439 - val_loss: 2.6351 - val_mae: 1.1278\n",
            "Epoch 167/500\n",
            "9/9 [==============================] - 0s 4ms/step - loss: 0.1150 - mae: 0.2569 - val_loss: 2.5070 - val_mae: 1.0961\n",
            "Epoch 168/500\n",
            "9/9 [==============================] - 0s 5ms/step - loss: 0.1024 - mae: 0.2380 - val_loss: 2.7451 - val_mae: 1.1577\n",
            "Epoch 169/500\n",
            "9/9 [==============================] - 0s 7ms/step - loss: 0.0582 - mae: 0.1784 - val_loss: 2.5644 - val_mae: 1.1254\n",
            "Epoch 170/500\n",
            "9/9 [==============================] - 0s 5ms/step - loss: 0.0561 - mae: 0.1718 - val_loss: 2.4913 - val_mae: 1.1153\n",
            "Epoch 171/500\n",
            "9/9 [==============================] - 0s 5ms/step - loss: 0.0527 - mae: 0.1651 - val_loss: 2.5938 - val_mae: 1.0946\n",
            "Epoch 172/500\n",
            "9/9 [==============================] - 0s 5ms/step - loss: 0.0505 - mae: 0.1735 - val_loss: 2.6237 - val_mae: 1.1224\n",
            "Epoch 173/500\n",
            "9/9 [==============================] - 0s 4ms/step - loss: 0.0598 - mae: 0.1637 - val_loss: 2.6931 - val_mae: 1.1267\n",
            "Epoch 174/500\n",
            "9/9 [==============================] - 0s 5ms/step - loss: 0.0988 - mae: 0.2347 - val_loss: 2.7924 - val_mae: 1.1146\n",
            "Epoch 175/500\n",
            "9/9 [==============================] - 0s 4ms/step - loss: 0.1968 - mae: 0.3248 - val_loss: 3.2935 - val_mae: 1.2172\n",
            "Epoch 176/500\n",
            "9/9 [==============================] - 0s 4ms/step - loss: 0.1806 - mae: 0.3004 - val_loss: 3.3519 - val_mae: 1.4034\n",
            "Epoch 177/500\n",
            "9/9 [==============================] - 0s 7ms/step - loss: 0.7194 - mae: 0.6235 - val_loss: 3.1192 - val_mae: 1.1523\n",
            "Epoch 178/500\n",
            "9/9 [==============================] - 0s 5ms/step - loss: 0.3476 - mae: 0.4385 - val_loss: 3.4429 - val_mae: 1.2591\n",
            "Epoch 179/500\n",
            "9/9 [==============================] - 0s 7ms/step - loss: 0.2393 - mae: 0.3662 - val_loss: 2.9777 - val_mae: 1.2152\n",
            "Epoch 180/500\n",
            "9/9 [==============================] - 0s 4ms/step - loss: 0.1976 - mae: 0.3471 - val_loss: 3.1021 - val_mae: 1.2055\n",
            "Epoch 181/500\n",
            "9/9 [==============================] - 0s 6ms/step - loss: 0.1619 - mae: 0.2900 - val_loss: 2.9307 - val_mae: 1.1631\n",
            "Epoch 182/500\n",
            "9/9 [==============================] - 0s 5ms/step - loss: 0.1351 - mae: 0.2817 - val_loss: 2.6832 - val_mae: 1.1317\n",
            "Epoch 183/500\n",
            "9/9 [==============================] - 0s 5ms/step - loss: 0.1294 - mae: 0.2742 - val_loss: 2.9265 - val_mae: 1.1470\n",
            "Epoch 184/500\n",
            "9/9 [==============================] - 0s 5ms/step - loss: 0.0945 - mae: 0.2275 - val_loss: 2.7907 - val_mae: 1.1824\n",
            "Epoch 185/500\n",
            "9/9 [==============================] - 0s 5ms/step - loss: 0.0912 - mae: 0.2325 - val_loss: 3.0677 - val_mae: 1.1622\n",
            "Epoch 186/500\n",
            "9/9 [==============================] - 0s 5ms/step - loss: 0.1679 - mae: 0.3154 - val_loss: 3.2474 - val_mae: 1.2247\n",
            "Epoch 187/500\n",
            "9/9 [==============================] - 0s 7ms/step - loss: 0.1435 - mae: 0.3047 - val_loss: 3.2349 - val_mae: 1.2847\n",
            "Epoch 188/500\n",
            "9/9 [==============================] - 0s 4ms/step - loss: 0.1340 - mae: 0.2845 - val_loss: 3.1471 - val_mae: 1.1654\n",
            "Epoch 189/500\n",
            "9/9 [==============================] - 0s 6ms/step - loss: 0.0921 - mae: 0.2153 - val_loss: 2.9170 - val_mae: 1.1773\n",
            "Epoch 190/500\n",
            "9/9 [==============================] - 0s 6ms/step - loss: 0.1064 - mae: 0.2248 - val_loss: 3.3259 - val_mae: 1.2390\n",
            "Epoch 191/500\n",
            "9/9 [==============================] - 0s 4ms/step - loss: 0.1895 - mae: 0.2857 - val_loss: 3.0196 - val_mae: 1.2136\n",
            "Epoch 192/500\n",
            "9/9 [==============================] - 0s 7ms/step - loss: 0.1589 - mae: 0.2929 - val_loss: 3.2149 - val_mae: 1.2187\n",
            "Epoch 193/500\n",
            "9/9 [==============================] - 0s 5ms/step - loss: 0.1781 - mae: 0.3137 - val_loss: 3.1137 - val_mae: 1.1898\n",
            "Epoch 194/500\n",
            "9/9 [==============================] - 0s 5ms/step - loss: 0.1623 - mae: 0.2925 - val_loss: 3.2649 - val_mae: 1.2116\n",
            "Epoch 195/500\n",
            "9/9 [==============================] - 0s 5ms/step - loss: 0.2074 - mae: 0.3429 - val_loss: 3.3978 - val_mae: 1.2418\n",
            "Epoch 196/500\n",
            "9/9 [==============================] - 0s 5ms/step - loss: 0.1335 - mae: 0.2813 - val_loss: 2.7878 - val_mae: 1.1501\n",
            "Epoch 197/500\n",
            "9/9 [==============================] - 0s 5ms/step - loss: 0.1620 - mae: 0.2929 - val_loss: 3.3690 - val_mae: 1.2431\n",
            "Epoch 198/500\n",
            "9/9 [==============================] - 0s 8ms/step - loss: 0.1642 - mae: 0.2848 - val_loss: 2.9510 - val_mae: 1.2433\n",
            "Epoch 199/500\n",
            "9/9 [==============================] - 0s 4ms/step - loss: 0.2211 - mae: 0.3127 - val_loss: 3.3242 - val_mae: 1.1886\n",
            "Epoch 200/500\n",
            "9/9 [==============================] - 0s 7ms/step - loss: 0.2353 - mae: 0.3507 - val_loss: 3.3792 - val_mae: 1.2849\n",
            "Epoch 201/500\n",
            "9/9 [==============================] - 0s 4ms/step - loss: 0.2040 - mae: 0.3311 - val_loss: 3.2506 - val_mae: 1.1839\n",
            "Epoch 202/500\n",
            "9/9 [==============================] - 0s 4ms/step - loss: 0.1420 - mae: 0.2728 - val_loss: 3.1045 - val_mae: 1.2297\n",
            "Epoch 203/500\n",
            "9/9 [==============================] - 0s 7ms/step - loss: 0.1355 - mae: 0.2644 - val_loss: 3.4086 - val_mae: 1.2340\n",
            "Epoch 204/500\n",
            "9/9 [==============================] - 0s 4ms/step - loss: 0.1247 - mae: 0.2732 - val_loss: 2.9794 - val_mae: 1.1563\n",
            "Epoch 205/500\n",
            "9/9 [==============================] - 0s 5ms/step - loss: 0.0937 - mae: 0.2338 - val_loss: 3.0397 - val_mae: 1.1722\n",
            "Epoch 206/500\n",
            "9/9 [==============================] - 0s 5ms/step - loss: 0.0841 - mae: 0.2224 - val_loss: 3.2320 - val_mae: 1.2298\n",
            "Epoch 207/500\n",
            "9/9 [==============================] - 0s 5ms/step - loss: 0.0831 - mae: 0.2224 - val_loss: 3.2201 - val_mae: 1.1989\n",
            "Epoch 208/500\n",
            "9/9 [==============================] - 0s 5ms/step - loss: 0.0632 - mae: 0.1862 - val_loss: 3.0280 - val_mae: 1.1749\n",
            "Epoch 209/500\n",
            "9/9 [==============================] - 0s 5ms/step - loss: 0.0421 - mae: 0.1630 - val_loss: 3.2330 - val_mae: 1.1835\n",
            "Epoch 210/500\n",
            "9/9 [==============================] - 0s 5ms/step - loss: 0.0476 - mae: 0.1550 - val_loss: 3.0554 - val_mae: 1.2124\n",
            "Epoch 211/500\n",
            "9/9 [==============================] - 0s 5ms/step - loss: 0.0348 - mae: 0.1318 - val_loss: 3.1119 - val_mae: 1.1761\n",
            "Epoch 212/500\n",
            "9/9 [==============================] - 0s 7ms/step - loss: 0.0254 - mae: 0.1089 - val_loss: 3.1147 - val_mae: 1.1698\n",
            "Epoch 213/500\n",
            "9/9 [==============================] - 0s 5ms/step - loss: 0.0352 - mae: 0.1341 - val_loss: 3.2020 - val_mae: 1.2157\n",
            "Epoch 214/500\n",
            "9/9 [==============================] - 0s 6ms/step - loss: 0.0423 - mae: 0.1524 - val_loss: 3.1912 - val_mae: 1.1834\n",
            "Epoch 215/500\n",
            "9/9 [==============================] - 0s 4ms/step - loss: 0.0496 - mae: 0.1602 - val_loss: 3.0543 - val_mae: 1.2305\n",
            "Epoch 216/500\n",
            "9/9 [==============================] - 0s 4ms/step - loss: 0.0560 - mae: 0.1682 - val_loss: 3.1699 - val_mae: 1.1686\n",
            "Epoch 217/500\n",
            "9/9 [==============================] - 0s 5ms/step - loss: 0.0436 - mae: 0.1554 - val_loss: 2.9767 - val_mae: 1.1755\n",
            "Epoch 218/500\n",
            "9/9 [==============================] - 0s 7ms/step - loss: 0.0584 - mae: 0.1707 - val_loss: 3.0747 - val_mae: 1.1737\n",
            "Epoch 219/500\n",
            "9/9 [==============================] - 0s 4ms/step - loss: 0.0624 - mae: 0.1867 - val_loss: 3.1881 - val_mae: 1.2369\n",
            "Epoch 220/500\n",
            "9/9 [==============================] - 0s 5ms/step - loss: 0.0574 - mae: 0.1843 - val_loss: 3.0779 - val_mae: 1.1690\n",
            "Epoch 221/500\n",
            "9/9 [==============================] - 0s 7ms/step - loss: 0.0783 - mae: 0.2001 - val_loss: 3.2375 - val_mae: 1.1851\n",
            "Epoch 222/500\n",
            "9/9 [==============================] - 0s 4ms/step - loss: 0.0718 - mae: 0.2007 - val_loss: 3.1702 - val_mae: 1.2430\n",
            "Epoch 223/500\n",
            "9/9 [==============================] - 0s 5ms/step - loss: 0.0469 - mae: 0.1708 - val_loss: 3.1172 - val_mae: 1.1978\n",
            "Epoch 224/500\n",
            "9/9 [==============================] - 0s 5ms/step - loss: 0.0455 - mae: 0.1507 - val_loss: 3.2183 - val_mae: 1.1930\n",
            "Epoch 225/500\n",
            "9/9 [==============================] - 0s 5ms/step - loss: 0.0577 - mae: 0.1760 - val_loss: 3.3348 - val_mae: 1.1996\n",
            "Epoch 226/500\n",
            "9/9 [==============================] - 0s 5ms/step - loss: 0.0743 - mae: 0.2026 - val_loss: 3.0767 - val_mae: 1.1850\n",
            "Epoch 227/500\n",
            "9/9 [==============================] - 0s 5ms/step - loss: 0.0578 - mae: 0.1755 - val_loss: 3.1816 - val_mae: 1.2257\n",
            "Epoch 228/500\n",
            "9/9 [==============================] - 0s 5ms/step - loss: 0.0692 - mae: 0.1879 - val_loss: 3.0169 - val_mae: 1.1839\n",
            "Epoch 229/500\n",
            "9/9 [==============================] - 0s 5ms/step - loss: 0.0382 - mae: 0.1462 - val_loss: 3.0611 - val_mae: 1.1652\n",
            "Epoch 230/500\n",
            "9/9 [==============================] - 0s 5ms/step - loss: 0.0512 - mae: 0.1739 - val_loss: 2.9486 - val_mae: 1.1716\n",
            "Epoch 231/500\n",
            "9/9 [==============================] - 0s 8ms/step - loss: 0.0483 - mae: 0.1614 - val_loss: 3.0619 - val_mae: 1.2004\n",
            "Epoch 232/500\n",
            "9/9 [==============================] - 0s 4ms/step - loss: 0.0346 - mae: 0.1389 - val_loss: 3.0402 - val_mae: 1.1883\n",
            "Epoch 233/500\n",
            "9/9 [==============================] - 0s 4ms/step - loss: 0.0447 - mae: 0.1483 - val_loss: 3.0643 - val_mae: 1.1833\n",
            "Epoch 234/500\n",
            "9/9 [==============================] - 0s 5ms/step - loss: 0.0580 - mae: 0.1803 - val_loss: 3.0976 - val_mae: 1.1686\n",
            "Epoch 235/500\n",
            "9/9 [==============================] - 0s 6ms/step - loss: 0.0569 - mae: 0.1836 - val_loss: 2.9466 - val_mae: 1.1720\n",
            "Epoch 236/500\n",
            "9/9 [==============================] - 0s 5ms/step - loss: 0.0792 - mae: 0.2126 - val_loss: 3.0798 - val_mae: 1.2252\n",
            "Epoch 237/500\n",
            "9/9 [==============================] - 0s 5ms/step - loss: 0.0691 - mae: 0.2031 - val_loss: 3.3125 - val_mae: 1.1994\n",
            "Epoch 238/500\n",
            "9/9 [==============================] - 0s 5ms/step - loss: 0.0596 - mae: 0.1706 - val_loss: 3.0660 - val_mae: 1.2030\n",
            "Epoch 239/500\n",
            "9/9 [==============================] - 0s 5ms/step - loss: 0.0859 - mae: 0.2140 - val_loss: 3.1693 - val_mae: 1.2207\n",
            "Epoch 240/500\n",
            "9/9 [==============================] - 0s 6ms/step - loss: 0.1211 - mae: 0.2591 - val_loss: 2.9122 - val_mae: 1.1774\n",
            "Epoch 241/500\n",
            "9/9 [==============================] - 0s 8ms/step - loss: 0.1391 - mae: 0.2868 - val_loss: 3.4500 - val_mae: 1.2265\n",
            "Epoch 242/500\n",
            "9/9 [==============================] - 0s 5ms/step - loss: 0.2652 - mae: 0.3896 - val_loss: 3.7193 - val_mae: 1.2587\n",
            "Epoch 243/500\n",
            "9/9 [==============================] - 0s 5ms/step - loss: 1.0199 - mae: 0.7418 - val_loss: 3.6516 - val_mae: 1.4342\n",
            "Epoch 244/500\n",
            "9/9 [==============================] - 0s 4ms/step - loss: 0.7362 - mae: 0.6327 - val_loss: 3.5968 - val_mae: 1.3235\n",
            "Epoch 245/500\n",
            "9/9 [==============================] - 0s 4ms/step - loss: 0.6024 - mae: 0.5648 - val_loss: 3.8413 - val_mae: 1.3925\n",
            "Epoch 246/500\n",
            "9/9 [==============================] - 0s 4ms/step - loss: 0.9848 - mae: 0.7208 - val_loss: 4.0314 - val_mae: 1.4623\n",
            "Epoch 247/500\n",
            "9/9 [==============================] - 0s 5ms/step - loss: 0.7983 - mae: 0.6686 - val_loss: 5.2973 - val_mae: 1.6097\n",
            "Epoch 248/500\n",
            "9/9 [==============================] - 0s 5ms/step - loss: 1.3653 - mae: 0.8977 - val_loss: 3.5113 - val_mae: 1.4361\n",
            "Epoch 249/500\n",
            "9/9 [==============================] - 0s 7ms/step - loss: 1.2764 - mae: 0.8681 - val_loss: 5.0367 - val_mae: 1.6453\n",
            "Epoch 250/500\n",
            "9/9 [==============================] - 0s 6ms/step - loss: 0.9340 - mae: 0.7700 - val_loss: 4.6469 - val_mae: 1.4644\n",
            "Epoch 251/500\n",
            "9/9 [==============================] - 0s 5ms/step - loss: 0.4316 - mae: 0.5119 - val_loss: 3.6028 - val_mae: 1.3140\n",
            "Epoch 252/500\n",
            "9/9 [==============================] - 0s 5ms/step - loss: 0.4061 - mae: 0.4791 - val_loss: 4.5796 - val_mae: 1.4620\n",
            "Epoch 253/500\n",
            "9/9 [==============================] - 0s 7ms/step - loss: 0.2804 - mae: 0.4023 - val_loss: 3.3270 - val_mae: 1.3048\n",
            "Epoch 254/500\n",
            "9/9 [==============================] - 0s 7ms/step - loss: 0.2641 - mae: 0.3909 - val_loss: 3.9054 - val_mae: 1.3498\n",
            "Epoch 255/500\n",
            "9/9 [==============================] - 0s 7ms/step - loss: 0.1967 - mae: 0.3251 - val_loss: 3.6505 - val_mae: 1.3036\n",
            "Epoch 256/500\n",
            "9/9 [==============================] - 0s 5ms/step - loss: 0.1252 - mae: 0.2732 - val_loss: 3.7300 - val_mae: 1.2669\n",
            "Epoch 257/500\n",
            "9/9 [==============================] - 0s 5ms/step - loss: 0.1155 - mae: 0.2586 - val_loss: 3.4343 - val_mae: 1.2660\n",
            "Epoch 258/500\n",
            "9/9 [==============================] - 0s 5ms/step - loss: 0.1168 - mae: 0.2512 - val_loss: 4.0340 - val_mae: 1.3147\n",
            "Epoch 259/500\n",
            "9/9 [==============================] - 0s 5ms/step - loss: 0.1267 - mae: 0.2524 - val_loss: 3.4076 - val_mae: 1.2778\n",
            "Epoch 260/500\n",
            "9/9 [==============================] - 0s 5ms/step - loss: 0.0866 - mae: 0.2205 - val_loss: 3.7514 - val_mae: 1.2719\n",
            "Epoch 261/500\n",
            "9/9 [==============================] - 0s 5ms/step - loss: 0.1022 - mae: 0.2371 - val_loss: 3.8099 - val_mae: 1.3218\n",
            "Epoch 262/500\n",
            "9/9 [==============================] - 0s 5ms/step - loss: 0.1549 - mae: 0.3028 - val_loss: 3.6608 - val_mae: 1.2928\n",
            "Epoch 263/500\n",
            "9/9 [==============================] - 0s 4ms/step - loss: 0.1670 - mae: 0.3004 - val_loss: 3.8190 - val_mae: 1.3838\n",
            "Epoch 264/500\n",
            "9/9 [==============================] - 0s 5ms/step - loss: 0.2174 - mae: 0.3561 - val_loss: 4.0856 - val_mae: 1.3363\n",
            "Epoch 265/500\n",
            "9/9 [==============================] - 0s 4ms/step - loss: 0.4661 - mae: 0.4968 - val_loss: 3.9110 - val_mae: 1.4994\n",
            "Epoch 266/500\n",
            "9/9 [==============================] - 0s 5ms/step - loss: 0.5338 - mae: 0.5812 - val_loss: 4.8934 - val_mae: 1.5395\n",
            "Epoch 267/500\n",
            "9/9 [==============================] - 0s 5ms/step - loss: 0.5313 - mae: 0.5704 - val_loss: 3.7835 - val_mae: 1.3879\n",
            "Epoch 268/500\n",
            "9/9 [==============================] - 0s 5ms/step - loss: 0.3372 - mae: 0.4425 - val_loss: 4.2184 - val_mae: 1.3291\n",
            "Epoch 269/500\n",
            "9/9 [==============================] - 0s 5ms/step - loss: 0.3729 - mae: 0.4529 - val_loss: 3.8278 - val_mae: 1.3524\n",
            "Epoch 270/500\n",
            "9/9 [==============================] - 0s 6ms/step - loss: 0.3566 - mae: 0.4542 - val_loss: 3.6760 - val_mae: 1.2886\n",
            "Epoch 271/500\n",
            "9/9 [==============================] - 0s 7ms/step - loss: 0.6032 - mae: 0.5782 - val_loss: 3.7639 - val_mae: 1.3426\n",
            "Epoch 272/500\n",
            "9/9 [==============================] - 0s 6ms/step - loss: 0.4040 - mae: 0.4792 - val_loss: 3.9700 - val_mae: 1.4408\n",
            "Epoch 273/500\n",
            "9/9 [==============================] - 0s 5ms/step - loss: 0.4334 - mae: 0.5200 - val_loss: 3.8605 - val_mae: 1.3456\n",
            "Epoch 274/500\n",
            "9/9 [==============================] - 0s 5ms/step - loss: 0.3830 - mae: 0.4973 - val_loss: 3.8849 - val_mae: 1.3802\n",
            "Epoch 275/500\n",
            "9/9 [==============================] - 0s 4ms/step - loss: 0.5466 - mae: 0.5714 - val_loss: 3.9114 - val_mae: 1.4062\n",
            "Epoch 276/500\n",
            "9/9 [==============================] - 0s 5ms/step - loss: 0.4620 - mae: 0.5140 - val_loss: 4.7249 - val_mae: 1.4214\n",
            "Epoch 277/500\n",
            "9/9 [==============================] - 0s 5ms/step - loss: 0.3413 - mae: 0.4529 - val_loss: 3.9156 - val_mae: 1.3396\n",
            "Epoch 278/500\n",
            "9/9 [==============================] - 0s 4ms/step - loss: 0.3497 - mae: 0.4713 - val_loss: 3.8809 - val_mae: 1.4162\n",
            "Epoch 279/500\n",
            "9/9 [==============================] - 0s 7ms/step - loss: 0.2882 - mae: 0.4034 - val_loss: 4.1540 - val_mae: 1.3220\n",
            "Epoch 280/500\n",
            "9/9 [==============================] - 0s 7ms/step - loss: 0.1827 - mae: 0.3265 - val_loss: 4.1123 - val_mae: 1.4078\n",
            "Epoch 281/500\n",
            "9/9 [==============================] - 0s 5ms/step - loss: 0.1973 - mae: 0.3104 - val_loss: 3.8197 - val_mae: 1.3141\n",
            "Epoch 282/500\n",
            "9/9 [==============================] - 0s 5ms/step - loss: 0.1887 - mae: 0.3350 - val_loss: 3.8423 - val_mae: 1.3220\n",
            "Epoch 283/500\n",
            "9/9 [==============================] - 0s 5ms/step - loss: 0.1093 - mae: 0.2532 - val_loss: 3.9729 - val_mae: 1.3482\n",
            "Epoch 284/500\n",
            "9/9 [==============================] - 0s 5ms/step - loss: 0.0864 - mae: 0.2161 - val_loss: 3.7647 - val_mae: 1.2964\n",
            "Epoch 285/500\n",
            "9/9 [==============================] - 0s 7ms/step - loss: 0.0462 - mae: 0.1637 - val_loss: 3.7921 - val_mae: 1.3111\n",
            "Epoch 286/500\n",
            "9/9 [==============================] - 0s 6ms/step - loss: 0.0422 - mae: 0.1531 - val_loss: 3.6594 - val_mae: 1.3054\n",
            "Epoch 287/500\n",
            "9/9 [==============================] - 0s 7ms/step - loss: 0.0320 - mae: 0.1251 - val_loss: 3.7915 - val_mae: 1.3020\n",
            "Epoch 288/500\n",
            "9/9 [==============================] - 0s 6ms/step - loss: 0.0214 - mae: 0.1048 - val_loss: 3.6998 - val_mae: 1.3047\n",
            "Epoch 289/500\n",
            "9/9 [==============================] - 0s 5ms/step - loss: 0.0202 - mae: 0.1017 - val_loss: 3.7463 - val_mae: 1.2966\n",
            "Epoch 290/500\n",
            "9/9 [==============================] - 0s 5ms/step - loss: 0.0178 - mae: 0.1004 - val_loss: 3.7438 - val_mae: 1.3051\n",
            "Epoch 291/500\n",
            "9/9 [==============================] - 0s 8ms/step - loss: 0.0251 - mae: 0.1148 - val_loss: 3.6462 - val_mae: 1.2976\n",
            "Epoch 292/500\n",
            "9/9 [==============================] - 0s 5ms/step - loss: 0.0453 - mae: 0.1569 - val_loss: 3.7553 - val_mae: 1.2935\n",
            "Epoch 293/500\n",
            "9/9 [==============================] - 0s 5ms/step - loss: 0.0362 - mae: 0.1479 - val_loss: 3.8854 - val_mae: 1.3143\n",
            "Epoch 294/500\n",
            "9/9 [==============================] - 0s 5ms/step - loss: 0.0358 - mae: 0.1325 - val_loss: 3.6447 - val_mae: 1.3016\n",
            "Epoch 295/500\n",
            "9/9 [==============================] - 0s 5ms/step - loss: 0.0350 - mae: 0.1348 - val_loss: 3.6797 - val_mae: 1.2836\n",
            "Epoch 296/500\n",
            "9/9 [==============================] - 0s 5ms/step - loss: 0.0313 - mae: 0.1221 - val_loss: 3.6352 - val_mae: 1.2969\n",
            "Epoch 297/500\n",
            "9/9 [==============================] - 0s 7ms/step - loss: 0.0172 - mae: 0.0927 - val_loss: 3.6629 - val_mae: 1.2935\n",
            "Epoch 298/500\n",
            "9/9 [==============================] - 0s 6ms/step - loss: 0.0146 - mae: 0.0844 - val_loss: 3.8074 - val_mae: 1.2976\n",
            "Epoch 299/500\n",
            "9/9 [==============================] - 0s 5ms/step - loss: 0.0156 - mae: 0.0855 - val_loss: 3.7394 - val_mae: 1.2961\n",
            "Epoch 300/500\n",
            "9/9 [==============================] - 0s 5ms/step - loss: 0.0126 - mae: 0.0755 - val_loss: 3.6562 - val_mae: 1.2946\n",
            "Epoch 301/500\n",
            "9/9 [==============================] - 0s 5ms/step - loss: 0.0140 - mae: 0.0745 - val_loss: 3.7152 - val_mae: 1.2841\n",
            "Epoch 302/500\n",
            "9/9 [==============================] - 0s 5ms/step - loss: 0.0143 - mae: 0.0905 - val_loss: 3.7286 - val_mae: 1.2953\n",
            "Epoch 303/500\n",
            "9/9 [==============================] - 0s 5ms/step - loss: 0.0129 - mae: 0.0818 - val_loss: 3.6984 - val_mae: 1.2931\n",
            "Epoch 304/500\n",
            "9/9 [==============================] - 0s 5ms/step - loss: 0.0161 - mae: 0.0874 - val_loss: 3.6476 - val_mae: 1.2865\n",
            "Epoch 305/500\n",
            "9/9 [==============================] - 0s 6ms/step - loss: 0.0141 - mae: 0.0802 - val_loss: 3.7291 - val_mae: 1.2897\n",
            "Epoch 306/500\n",
            "9/9 [==============================] - 0s 5ms/step - loss: 0.0112 - mae: 0.0765 - val_loss: 3.6337 - val_mae: 1.2814\n",
            "Epoch 307/500\n",
            "9/9 [==============================] - 0s 5ms/step - loss: 0.0116 - mae: 0.0773 - val_loss: 3.6859 - val_mae: 1.2857\n",
            "Epoch 308/500\n",
            "9/9 [==============================] - 0s 7ms/step - loss: 0.0198 - mae: 0.0980 - val_loss: 3.7058 - val_mae: 1.2855\n",
            "Epoch 309/500\n",
            "9/9 [==============================] - 0s 5ms/step - loss: 0.0222 - mae: 0.1155 - val_loss: 3.6737 - val_mae: 1.2797\n",
            "Epoch 310/500\n",
            "9/9 [==============================] - 0s 7ms/step - loss: 0.0168 - mae: 0.0930 - val_loss: 3.6596 - val_mae: 1.2811\n",
            "Epoch 311/500\n",
            "9/9 [==============================] - 0s 5ms/step - loss: 0.0143 - mae: 0.0849 - val_loss: 3.7099 - val_mae: 1.2897\n",
            "Epoch 312/500\n",
            "9/9 [==============================] - 0s 5ms/step - loss: 0.0167 - mae: 0.0906 - val_loss: 3.6512 - val_mae: 1.2778\n",
            "Epoch 313/500\n",
            "9/9 [==============================] - 0s 7ms/step - loss: 0.0193 - mae: 0.0976 - val_loss: 3.7457 - val_mae: 1.2861\n",
            "Epoch 314/500\n",
            "9/9 [==============================] - 0s 5ms/step - loss: 0.0189 - mae: 0.0940 - val_loss: 3.6965 - val_mae: 1.2876\n",
            "Epoch 315/500\n",
            "9/9 [==============================] - 0s 5ms/step - loss: 0.0191 - mae: 0.0925 - val_loss: 3.6541 - val_mae: 1.2778\n",
            "Epoch 316/500\n",
            "9/9 [==============================] - 0s 5ms/step - loss: 0.0118 - mae: 0.0759 - val_loss: 3.6372 - val_mae: 1.2781\n",
            "Epoch 317/500\n",
            "9/9 [==============================] - 0s 7ms/step - loss: 0.0115 - mae: 0.0687 - val_loss: 3.6926 - val_mae: 1.2847\n",
            "Epoch 318/500\n",
            "9/9 [==============================] - 0s 5ms/step - loss: 0.0091 - mae: 0.0630 - val_loss: 3.6318 - val_mae: 1.2711\n",
            "Epoch 319/500\n",
            "9/9 [==============================] - 0s 5ms/step - loss: 0.0097 - mae: 0.0653 - val_loss: 3.6905 - val_mae: 1.2812\n",
            "Epoch 320/500\n",
            "9/9 [==============================] - 0s 5ms/step - loss: 0.0085 - mae: 0.0603 - val_loss: 3.6542 - val_mae: 1.2747\n",
            "Epoch 321/500\n",
            "9/9 [==============================] - 0s 5ms/step - loss: 0.0100 - mae: 0.0581 - val_loss: 3.5847 - val_mae: 1.2830\n",
            "Epoch 322/500\n",
            "9/9 [==============================] - 0s 5ms/step - loss: 0.0097 - mae: 0.0689 - val_loss: 3.6938 - val_mae: 1.2753\n",
            "Epoch 323/500\n",
            "9/9 [==============================] - 0s 5ms/step - loss: 0.0106 - mae: 0.0608 - val_loss: 3.6293 - val_mae: 1.2723\n",
            "Epoch 324/500\n",
            "9/9 [==============================] - 0s 5ms/step - loss: 0.0109 - mae: 0.0601 - val_loss: 3.6689 - val_mae: 1.2828\n",
            "Epoch 325/500\n",
            "9/9 [==============================] - 0s 5ms/step - loss: 0.0118 - mae: 0.0690 - val_loss: 3.6901 - val_mae: 1.2835\n",
            "Epoch 326/500\n",
            "9/9 [==============================] - 0s 8ms/step - loss: 0.0143 - mae: 0.0881 - val_loss: 3.6857 - val_mae: 1.2789\n",
            "Epoch 327/500\n",
            "9/9 [==============================] - 0s 6ms/step - loss: 0.0123 - mae: 0.0798 - val_loss: 3.7265 - val_mae: 1.2882\n",
            "Epoch 328/500\n",
            "9/9 [==============================] - 0s 5ms/step - loss: 0.0142 - mae: 0.0854 - val_loss: 3.6256 - val_mae: 1.2769\n",
            "Epoch 329/500\n",
            "9/9 [==============================] - 0s 7ms/step - loss: 0.0118 - mae: 0.0701 - val_loss: 3.7277 - val_mae: 1.2875\n",
            "Epoch 330/500\n",
            "9/9 [==============================] - 0s 5ms/step - loss: 0.0096 - mae: 0.0561 - val_loss: 3.6789 - val_mae: 1.2820\n",
            "Epoch 331/500\n",
            "9/9 [==============================] - 0s 5ms/step - loss: 0.0111 - mae: 0.0622 - val_loss: 3.6661 - val_mae: 1.2732\n",
            "Epoch 332/500\n",
            "9/9 [==============================] - 0s 7ms/step - loss: 0.0114 - mae: 0.0705 - val_loss: 3.6750 - val_mae: 1.2935\n",
            "Epoch 333/500\n",
            "9/9 [==============================] - 0s 5ms/step - loss: 0.0177 - mae: 0.0841 - val_loss: 3.6717 - val_mae: 1.2740\n",
            "Epoch 334/500\n",
            "9/9 [==============================] - 0s 5ms/step - loss: 0.0131 - mae: 0.0773 - val_loss: 3.6686 - val_mae: 1.2823\n",
            "Epoch 335/500\n",
            "9/9 [==============================] - 0s 5ms/step - loss: 0.0119 - mae: 0.0733 - val_loss: 3.6639 - val_mae: 1.2760\n",
            "Epoch 336/500\n",
            "9/9 [==============================] - 0s 6ms/step - loss: 0.0137 - mae: 0.0779 - val_loss: 3.6988 - val_mae: 1.2861\n",
            "Epoch 337/500\n",
            "9/9 [==============================] - 0s 5ms/step - loss: 0.0205 - mae: 0.1051 - val_loss: 3.7300 - val_mae: 1.2927\n",
            "Epoch 338/500\n",
            "9/9 [==============================] - 0s 5ms/step - loss: 0.0161 - mae: 0.0873 - val_loss: 3.6613 - val_mae: 1.2839\n",
            "Epoch 339/500\n",
            "9/9 [==============================] - 0s 5ms/step - loss: 0.0148 - mae: 0.0866 - val_loss: 3.6500 - val_mae: 1.2850\n",
            "Epoch 340/500\n",
            "9/9 [==============================] - 0s 7ms/step - loss: 0.0202 - mae: 0.1043 - val_loss: 3.5730 - val_mae: 1.2789\n",
            "Epoch 341/500\n",
            "9/9 [==============================] - 0s 5ms/step - loss: 0.0172 - mae: 0.0951 - val_loss: 3.6878 - val_mae: 1.2856\n",
            "Epoch 342/500\n",
            "9/9 [==============================] - 0s 5ms/step - loss: 0.0230 - mae: 0.1091 - val_loss: 3.6690 - val_mae: 1.2787\n",
            "Epoch 343/500\n",
            "9/9 [==============================] - 0s 7ms/step - loss: 0.0134 - mae: 0.0880 - val_loss: 3.6471 - val_mae: 1.2784\n",
            "Epoch 344/500\n",
            "9/9 [==============================] - 0s 5ms/step - loss: 0.0136 - mae: 0.0795 - val_loss: 3.6785 - val_mae: 1.2790\n",
            "Epoch 345/500\n",
            "9/9 [==============================] - 0s 5ms/step - loss: 0.0100 - mae: 0.0655 - val_loss: 3.5723 - val_mae: 1.2814\n",
            "Epoch 346/500\n",
            "9/9 [==============================] - 0s 5ms/step - loss: 0.0173 - mae: 0.0801 - val_loss: 3.8111 - val_mae: 1.2819\n",
            "Epoch 347/500\n",
            "9/9 [==============================] - 0s 7ms/step - loss: 0.0269 - mae: 0.1077 - val_loss: 3.6116 - val_mae: 1.2922\n",
            "Epoch 348/500\n",
            "9/9 [==============================] - 0s 5ms/step - loss: 0.0155 - mae: 0.0940 - val_loss: 3.7099 - val_mae: 1.2798\n",
            "Epoch 349/500\n",
            "9/9 [==============================] - 0s 5ms/step - loss: 0.0131 - mae: 0.0803 - val_loss: 3.5952 - val_mae: 1.2770\n",
            "Epoch 350/500\n",
            "9/9 [==============================] - 0s 6ms/step - loss: 0.0145 - mae: 0.0883 - val_loss: 3.6664 - val_mae: 1.2828\n",
            "Epoch 351/500\n",
            "9/9 [==============================] - 0s 7ms/step - loss: 0.0236 - mae: 0.1227 - val_loss: 3.6610 - val_mae: 1.2917\n",
            "Epoch 352/500\n",
            "9/9 [==============================] - 0s 5ms/step - loss: 0.0247 - mae: 0.1211 - val_loss: 3.8468 - val_mae: 1.2950\n",
            "Epoch 353/500\n",
            "9/9 [==============================] - 0s 5ms/step - loss: 0.0227 - mae: 0.1073 - val_loss: 3.6535 - val_mae: 1.2827\n",
            "Epoch 354/500\n",
            "9/9 [==============================] - 0s 4ms/step - loss: 0.0184 - mae: 0.0953 - val_loss: 3.8409 - val_mae: 1.2952\n",
            "Epoch 355/500\n",
            "9/9 [==============================] - 0s 6ms/step - loss: 0.0231 - mae: 0.1149 - val_loss: 3.5738 - val_mae: 1.2841\n",
            "Epoch 356/500\n",
            "9/9 [==============================] - 0s 5ms/step - loss: 0.0276 - mae: 0.1172 - val_loss: 3.8040 - val_mae: 1.2885\n",
            "Epoch 357/500\n",
            "9/9 [==============================] - 0s 5ms/step - loss: 0.0335 - mae: 0.1326 - val_loss: 3.6514 - val_mae: 1.2810\n",
            "Epoch 358/500\n",
            "9/9 [==============================] - 0s 5ms/step - loss: 0.0361 - mae: 0.1367 - val_loss: 3.5984 - val_mae: 1.2734\n",
            "Epoch 359/500\n",
            "9/9 [==============================] - 0s 5ms/step - loss: 0.0352 - mae: 0.1367 - val_loss: 3.6217 - val_mae: 1.2830\n",
            "Epoch 360/500\n",
            "9/9 [==============================] - 0s 5ms/step - loss: 0.0269 - mae: 0.1217 - val_loss: 3.7368 - val_mae: 1.2854\n",
            "Epoch 361/500\n",
            "9/9 [==============================] - 0s 7ms/step - loss: 0.0288 - mae: 0.1163 - val_loss: 3.6293 - val_mae: 1.2859\n",
            "Epoch 362/500\n",
            "9/9 [==============================] - 0s 5ms/step - loss: 0.0332 - mae: 0.1330 - val_loss: 3.5995 - val_mae: 1.2802\n",
            "Epoch 363/500\n",
            "9/9 [==============================] - 0s 5ms/step - loss: 0.0561 - mae: 0.1843 - val_loss: 3.8609 - val_mae: 1.3238\n",
            "Epoch 364/500\n",
            "9/9 [==============================] - 0s 5ms/step - loss: 0.0739 - mae: 0.2080 - val_loss: 3.8493 - val_mae: 1.3231\n",
            "Epoch 365/500\n",
            "9/9 [==============================] - 0s 5ms/step - loss: 0.0726 - mae: 0.2045 - val_loss: 3.7928 - val_mae: 1.3077\n",
            "Epoch 366/500\n",
            "9/9 [==============================] - 0s 6ms/step - loss: 0.0602 - mae: 0.1741 - val_loss: 3.8675 - val_mae: 1.3149\n",
            "Epoch 367/500\n",
            "9/9 [==============================] - 0s 5ms/step - loss: 0.0427 - mae: 0.1521 - val_loss: 3.5974 - val_mae: 1.2973\n",
            "Epoch 368/500\n",
            "9/9 [==============================] - 0s 7ms/step - loss: 0.0479 - mae: 0.1566 - val_loss: 3.7566 - val_mae: 1.2955\n",
            "Epoch 369/500\n",
            "9/9 [==============================] - 0s 5ms/step - loss: 0.0318 - mae: 0.1384 - val_loss: 3.6894 - val_mae: 1.3030\n",
            "Epoch 370/500\n",
            "9/9 [==============================] - 0s 5ms/step - loss: 0.0336 - mae: 0.1331 - val_loss: 3.7836 - val_mae: 1.2884\n",
            "Epoch 371/500\n",
            "9/9 [==============================] - 0s 5ms/step - loss: 0.0355 - mae: 0.1352 - val_loss: 3.6952 - val_mae: 1.2987\n",
            "Epoch 372/500\n",
            "9/9 [==============================] - 0s 7ms/step - loss: 0.0257 - mae: 0.1125 - val_loss: 3.7730 - val_mae: 1.2875\n",
            "Epoch 373/500\n",
            "9/9 [==============================] - 0s 5ms/step - loss: 0.0248 - mae: 0.1187 - val_loss: 3.6306 - val_mae: 1.2849\n",
            "Epoch 374/500\n",
            "9/9 [==============================] - 0s 6ms/step - loss: 0.0292 - mae: 0.1289 - val_loss: 3.8221 - val_mae: 1.2978\n",
            "Epoch 375/500\n",
            "9/9 [==============================] - 0s 5ms/step - loss: 0.0416 - mae: 0.1437 - val_loss: 3.6212 - val_mae: 1.3103\n",
            "Epoch 376/500\n",
            "9/9 [==============================] - 0s 5ms/step - loss: 0.0803 - mae: 0.2164 - val_loss: 3.9641 - val_mae: 1.3412\n",
            "Epoch 377/500\n",
            "9/9 [==============================] - 0s 7ms/step - loss: 0.1092 - mae: 0.2609 - val_loss: 3.7455 - val_mae: 1.3192\n",
            "Epoch 378/500\n",
            "9/9 [==============================] - 0s 5ms/step - loss: 0.1494 - mae: 0.2865 - val_loss: 3.7949 - val_mae: 1.3425\n",
            "Epoch 379/500\n",
            "9/9 [==============================] - 0s 6ms/step - loss: 0.1350 - mae: 0.2755 - val_loss: 3.8889 - val_mae: 1.3014\n",
            "Epoch 380/500\n",
            "9/9 [==============================] - 0s 5ms/step - loss: 0.1471 - mae: 0.2964 - val_loss: 3.8738 - val_mae: 1.3694\n",
            "Epoch 381/500\n",
            "9/9 [==============================] - 0s 5ms/step - loss: 0.1317 - mae: 0.2553 - val_loss: 4.1059 - val_mae: 1.3195\n",
            "Epoch 382/500\n",
            "9/9 [==============================] - 0s 5ms/step - loss: 0.1339 - mae: 0.2860 - val_loss: 3.8118 - val_mae: 1.3123\n",
            "Epoch 383/500\n",
            "9/9 [==============================] - 0s 5ms/step - loss: 0.1176 - mae: 0.2708 - val_loss: 4.0607 - val_mae: 1.3478\n",
            "Epoch 384/500\n",
            "9/9 [==============================] - 0s 5ms/step - loss: 0.1298 - mae: 0.2787 - val_loss: 3.7688 - val_mae: 1.3421\n",
            "Epoch 385/500\n",
            "9/9 [==============================] - 0s 5ms/step - loss: 0.0620 - mae: 0.1902 - val_loss: 3.9388 - val_mae: 1.3207\n",
            "Epoch 386/500\n",
            "9/9 [==============================] - 0s 7ms/step - loss: 0.0426 - mae: 0.1530 - val_loss: 3.9505 - val_mae: 1.3300\n",
            "Epoch 387/500\n",
            "9/9 [==============================] - 0s 5ms/step - loss: 0.0293 - mae: 0.1261 - val_loss: 3.8950 - val_mae: 1.3210\n",
            "Epoch 388/500\n",
            "9/9 [==============================] - 0s 5ms/step - loss: 0.0301 - mae: 0.1299 - val_loss: 3.7845 - val_mae: 1.2967\n",
            "Epoch 389/500\n",
            "9/9 [==============================] - 0s 5ms/step - loss: 0.0243 - mae: 0.1058 - val_loss: 3.6893 - val_mae: 1.3012\n",
            "Epoch 390/500\n",
            "9/9 [==============================] - 0s 6ms/step - loss: 0.0245 - mae: 0.1216 - val_loss: 3.8301 - val_mae: 1.3093\n",
            "Epoch 391/500\n",
            "9/9 [==============================] - 0s 5ms/step - loss: 0.0304 - mae: 0.1245 - val_loss: 3.8445 - val_mae: 1.2888\n",
            "Epoch 392/500\n",
            "9/9 [==============================] - 0s 7ms/step - loss: 0.0463 - mae: 0.1567 - val_loss: 3.6293 - val_mae: 1.2822\n",
            "Epoch 393/500\n",
            "9/9 [==============================] - 0s 5ms/step - loss: 0.0533 - mae: 0.1677 - val_loss: 4.0012 - val_mae: 1.3422\n",
            "Epoch 394/500\n",
            "9/9 [==============================] - 0s 5ms/step - loss: 0.0405 - mae: 0.1567 - val_loss: 3.8070 - val_mae: 1.3110\n",
            "Epoch 395/500\n",
            "9/9 [==============================] - 0s 6ms/step - loss: 0.0387 - mae: 0.1470 - val_loss: 3.7297 - val_mae: 1.3052\n",
            "Epoch 396/500\n",
            "9/9 [==============================] - 0s 5ms/step - loss: 0.0478 - mae: 0.1655 - val_loss: 3.9404 - val_mae: 1.3168\n",
            "Epoch 397/500\n",
            "9/9 [==============================] - 0s 5ms/step - loss: 0.0540 - mae: 0.1700 - val_loss: 3.6370 - val_mae: 1.3321\n",
            "Epoch 398/500\n",
            "9/9 [==============================] - 0s 5ms/step - loss: 0.0723 - mae: 0.2076 - val_loss: 3.8164 - val_mae: 1.2837\n",
            "Epoch 399/500\n",
            "9/9 [==============================] - 0s 6ms/step - loss: 0.1043 - mae: 0.2361 - val_loss: 3.6328 - val_mae: 1.2945\n",
            "Epoch 400/500\n",
            "9/9 [==============================] - 0s 6ms/step - loss: 0.0854 - mae: 0.2106 - val_loss: 4.0218 - val_mae: 1.3196\n",
            "Epoch 401/500\n",
            "9/9 [==============================] - 0s 5ms/step - loss: 0.1459 - mae: 0.2859 - val_loss: 4.3132 - val_mae: 1.3822\n",
            "Epoch 402/500\n",
            "9/9 [==============================] - 0s 7ms/step - loss: 0.1590 - mae: 0.3011 - val_loss: 3.6842 - val_mae: 1.2783\n",
            "Epoch 403/500\n",
            "9/9 [==============================] - 0s 7ms/step - loss: 0.1538 - mae: 0.2927 - val_loss: 3.7707 - val_mae: 1.3278\n",
            "Epoch 404/500\n",
            "9/9 [==============================] - 0s 5ms/step - loss: 0.1223 - mae: 0.2641 - val_loss: 4.1548 - val_mae: 1.4164\n",
            "Epoch 405/500\n",
            "9/9 [==============================] - 0s 6ms/step - loss: 0.1463 - mae: 0.2822 - val_loss: 3.5918 - val_mae: 1.3229\n",
            "Epoch 406/500\n",
            "9/9 [==============================] - 0s 7ms/step - loss: 0.0973 - mae: 0.2296 - val_loss: 4.1289 - val_mae: 1.3253\n",
            "Epoch 407/500\n",
            "9/9 [==============================] - 0s 5ms/step - loss: 0.1294 - mae: 0.2620 - val_loss: 3.5601 - val_mae: 1.2932\n",
            "Epoch 408/500\n",
            "9/9 [==============================] - 0s 5ms/step - loss: 0.1780 - mae: 0.2944 - val_loss: 4.6142 - val_mae: 1.3982\n",
            "Epoch 409/500\n",
            "9/9 [==============================] - 0s 5ms/step - loss: 0.2350 - mae: 0.3568 - val_loss: 3.9492 - val_mae: 1.3310\n",
            "Epoch 410/500\n",
            "9/9 [==============================] - 0s 6ms/step - loss: 0.2812 - mae: 0.3786 - val_loss: 4.4675 - val_mae: 1.4255\n",
            "Epoch 411/500\n",
            "9/9 [==============================] - 0s 7ms/step - loss: 0.5316 - mae: 0.5440 - val_loss: 3.8303 - val_mae: 1.3580\n",
            "Epoch 412/500\n",
            "9/9 [==============================] - 0s 6ms/step - loss: 0.5537 - mae: 0.5563 - val_loss: 5.1404 - val_mae: 1.3965\n",
            "Epoch 413/500\n",
            "9/9 [==============================] - 0s 5ms/step - loss: 0.4173 - mae: 0.4393 - val_loss: 4.4209 - val_mae: 1.4402\n",
            "Epoch 414/500\n",
            "9/9 [==============================] - 0s 6ms/step - loss: 0.3033 - mae: 0.4123 - val_loss: 3.8770 - val_mae: 1.3010\n",
            "Epoch 415/500\n",
            "9/9 [==============================] - 0s 6ms/step - loss: 0.2726 - mae: 0.3848 - val_loss: 4.6777 - val_mae: 1.3972\n",
            "Epoch 416/500\n",
            "9/9 [==============================] - 0s 5ms/step - loss: 0.3266 - mae: 0.4246 - val_loss: 3.9886 - val_mae: 1.3861\n",
            "Epoch 417/500\n",
            "9/9 [==============================] - 0s 5ms/step - loss: 0.2319 - mae: 0.3620 - val_loss: 4.2277 - val_mae: 1.3666\n",
            "Epoch 418/500\n",
            "9/9 [==============================] - 0s 6ms/step - loss: 0.2270 - mae: 0.3635 - val_loss: 3.8589 - val_mae: 1.3135\n",
            "Epoch 419/500\n",
            "9/9 [==============================] - 0s 5ms/step - loss: 0.2867 - mae: 0.3904 - val_loss: 4.0490 - val_mae: 1.4142\n",
            "Epoch 420/500\n",
            "9/9 [==============================] - 0s 5ms/step - loss: 0.1403 - mae: 0.2875 - val_loss: 3.9519 - val_mae: 1.3324\n",
            "Epoch 421/500\n",
            "9/9 [==============================] - 0s 7ms/step - loss: 0.0995 - mae: 0.2433 - val_loss: 4.0597 - val_mae: 1.4346\n",
            "Epoch 422/500\n",
            "9/9 [==============================] - 0s 7ms/step - loss: 0.1995 - mae: 0.3297 - val_loss: 4.1219 - val_mae: 1.3485\n",
            "Epoch 423/500\n",
            "9/9 [==============================] - 0s 5ms/step - loss: 0.0918 - mae: 0.2425 - val_loss: 3.9356 - val_mae: 1.3352\n",
            "Epoch 424/500\n",
            "9/9 [==============================] - 0s 5ms/step - loss: 0.0821 - mae: 0.2191 - val_loss: 3.8005 - val_mae: 1.3518\n",
            "Epoch 425/500\n",
            "9/9 [==============================] - 0s 5ms/step - loss: 0.0870 - mae: 0.2178 - val_loss: 3.9656 - val_mae: 1.3448\n",
            "Epoch 426/500\n",
            "9/9 [==============================] - 0s 5ms/step - loss: 0.0802 - mae: 0.2249 - val_loss: 4.0636 - val_mae: 1.3485\n",
            "Epoch 427/500\n",
            "9/9 [==============================] - 0s 5ms/step - loss: 0.0595 - mae: 0.1890 - val_loss: 4.0779 - val_mae: 1.3615\n",
            "Epoch 428/500\n",
            "9/9 [==============================] - 0s 5ms/step - loss: 0.0623 - mae: 0.1948 - val_loss: 4.1469 - val_mae: 1.3337\n",
            "Epoch 429/500\n",
            "9/9 [==============================] - 0s 6ms/step - loss: 0.0826 - mae: 0.2121 - val_loss: 3.7862 - val_mae: 1.3150\n",
            "Epoch 430/500\n",
            "9/9 [==============================] - 0s 5ms/step - loss: 0.0662 - mae: 0.1889 - val_loss: 3.9065 - val_mae: 1.3607\n",
            "Epoch 431/500\n",
            "9/9 [==============================] - 0s 5ms/step - loss: 0.1038 - mae: 0.2428 - val_loss: 4.1379 - val_mae: 1.3515\n",
            "Epoch 432/500\n",
            "9/9 [==============================] - 0s 5ms/step - loss: 0.0908 - mae: 0.2262 - val_loss: 4.1431 - val_mae: 1.3594\n",
            "Epoch 433/500\n",
            "9/9 [==============================] - 0s 7ms/step - loss: 0.1453 - mae: 0.2882 - val_loss: 4.3296 - val_mae: 1.4251\n",
            "Epoch 434/500\n",
            "9/9 [==============================] - 0s 8ms/step - loss: 0.1369 - mae: 0.2659 - val_loss: 3.7708 - val_mae: 1.3127\n",
            "Epoch 435/500\n",
            "9/9 [==============================] - 0s 5ms/step - loss: 0.1243 - mae: 0.2550 - val_loss: 4.0521 - val_mae: 1.3152\n",
            "Epoch 436/500\n",
            "9/9 [==============================] - 0s 5ms/step - loss: 0.0909 - mae: 0.2323 - val_loss: 4.3649 - val_mae: 1.3917\n",
            "Epoch 437/500\n",
            "9/9 [==============================] - 0s 5ms/step - loss: 0.0836 - mae: 0.2145 - val_loss: 3.8335 - val_mae: 1.2943\n",
            "Epoch 438/500\n",
            "9/9 [==============================] - 0s 5ms/step - loss: 0.0717 - mae: 0.1959 - val_loss: 4.0404 - val_mae: 1.3675\n",
            "Epoch 439/500\n",
            "9/9 [==============================] - 0s 5ms/step - loss: 0.0694 - mae: 0.1924 - val_loss: 4.1030 - val_mae: 1.3549\n",
            "Epoch 440/500\n",
            "9/9 [==============================] - 0s 5ms/step - loss: 0.0345 - mae: 0.1327 - val_loss: 3.8069 - val_mae: 1.3117\n",
            "Epoch 441/500\n",
            "9/9 [==============================] - 0s 5ms/step - loss: 0.0484 - mae: 0.1645 - val_loss: 3.9530 - val_mae: 1.3185\n",
            "Epoch 442/500\n",
            "9/9 [==============================] - 0s 5ms/step - loss: 0.0370 - mae: 0.1475 - val_loss: 3.9922 - val_mae: 1.3428\n",
            "Epoch 443/500\n",
            "9/9 [==============================] - 0s 6ms/step - loss: 0.0327 - mae: 0.1400 - val_loss: 3.9683 - val_mae: 1.3154\n",
            "Epoch 444/500\n",
            "9/9 [==============================] - 0s 6ms/step - loss: 0.0353 - mae: 0.1299 - val_loss: 3.8146 - val_mae: 1.3071\n",
            "Epoch 445/500\n",
            "9/9 [==============================] - 0s 6ms/step - loss: 0.0363 - mae: 0.1434 - val_loss: 3.9862 - val_mae: 1.3358\n",
            "Epoch 446/500\n",
            "9/9 [==============================] - 0s 5ms/step - loss: 0.0426 - mae: 0.1540 - val_loss: 3.7873 - val_mae: 1.3011\n",
            "Epoch 447/500\n",
            "9/9 [==============================] - 0s 9ms/step - loss: 0.0715 - mae: 0.1918 - val_loss: 4.1120 - val_mae: 1.3660\n",
            "Epoch 448/500\n",
            "9/9 [==============================] - 0s 5ms/step - loss: 0.0530 - mae: 0.1714 - val_loss: 4.0234 - val_mae: 1.3425\n",
            "Epoch 449/500\n",
            "9/9 [==============================] - 0s 6ms/step - loss: 0.0356 - mae: 0.1491 - val_loss: 3.9853 - val_mae: 1.3533\n",
            "Epoch 450/500\n",
            "9/9 [==============================] - 0s 5ms/step - loss: 0.0387 - mae: 0.1506 - val_loss: 3.9682 - val_mae: 1.3263\n",
            "Epoch 451/500\n",
            "9/9 [==============================] - 0s 5ms/step - loss: 0.0473 - mae: 0.1712 - val_loss: 4.1837 - val_mae: 1.3978\n",
            "Epoch 452/500\n",
            "9/9 [==============================] - 0s 6ms/step - loss: 0.0640 - mae: 0.1857 - val_loss: 3.8154 - val_mae: 1.3178\n",
            "Epoch 453/500\n",
            "9/9 [==============================] - 0s 6ms/step - loss: 0.0606 - mae: 0.1910 - val_loss: 3.9247 - val_mae: 1.3284\n",
            "Epoch 454/500\n",
            "9/9 [==============================] - 0s 7ms/step - loss: 0.0556 - mae: 0.1854 - val_loss: 3.9397 - val_mae: 1.3274\n",
            "Epoch 455/500\n",
            "9/9 [==============================] - 0s 5ms/step - loss: 0.0512 - mae: 0.1518 - val_loss: 3.8292 - val_mae: 1.3364\n",
            "Epoch 456/500\n",
            "9/9 [==============================] - 0s 5ms/step - loss: 0.0373 - mae: 0.1379 - val_loss: 4.1056 - val_mae: 1.3369\n",
            "Epoch 457/500\n",
            "9/9 [==============================] - 0s 7ms/step - loss: 0.0274 - mae: 0.1241 - val_loss: 3.9498 - val_mae: 1.3312\n",
            "Epoch 458/500\n",
            "9/9 [==============================] - 0s 6ms/step - loss: 0.0239 - mae: 0.1075 - val_loss: 3.9782 - val_mae: 1.3220\n",
            "Epoch 459/500\n",
            "9/9 [==============================] - 0s 5ms/step - loss: 0.0212 - mae: 0.1070 - val_loss: 3.9269 - val_mae: 1.3246\n",
            "Epoch 460/500\n",
            "9/9 [==============================] - 0s 6ms/step - loss: 0.0410 - mae: 0.1256 - val_loss: 4.0160 - val_mae: 1.3343\n",
            "Epoch 461/500\n",
            "9/9 [==============================] - 0s 5ms/step - loss: 0.0638 - mae: 0.1738 - val_loss: 4.1629 - val_mae: 1.3672\n",
            "Epoch 462/500\n",
            "9/9 [==============================] - 0s 5ms/step - loss: 0.0653 - mae: 0.1950 - val_loss: 4.4149 - val_mae: 1.4160\n",
            "Epoch 463/500\n",
            "9/9 [==============================] - 0s 5ms/step - loss: 0.0685 - mae: 0.1850 - val_loss: 4.0071 - val_mae: 1.3339\n",
            "Epoch 464/500\n",
            "9/9 [==============================] - 0s 5ms/step - loss: 0.0540 - mae: 0.1694 - val_loss: 4.0197 - val_mae: 1.3457\n",
            "Epoch 465/500\n",
            "9/9 [==============================] - 0s 7ms/step - loss: 0.0788 - mae: 0.2131 - val_loss: 4.1814 - val_mae: 1.3640\n",
            "Epoch 466/500\n",
            "9/9 [==============================] - 0s 5ms/step - loss: 0.0818 - mae: 0.2197 - val_loss: 4.3430 - val_mae: 1.3709\n",
            "Epoch 467/500\n",
            "9/9 [==============================] - 0s 6ms/step - loss: 0.0832 - mae: 0.2196 - val_loss: 3.9444 - val_mae: 1.3440\n",
            "Epoch 468/500\n",
            "9/9 [==============================] - 0s 5ms/step - loss: 0.0684 - mae: 0.2037 - val_loss: 4.0197 - val_mae: 1.3228\n",
            "Epoch 469/500\n",
            "9/9 [==============================] - 0s 5ms/step - loss: 0.0547 - mae: 0.1813 - val_loss: 3.9208 - val_mae: 1.3288\n",
            "Epoch 470/500\n",
            "9/9 [==============================] - 0s 5ms/step - loss: 0.0820 - mae: 0.2137 - val_loss: 4.0352 - val_mae: 1.3736\n",
            "Epoch 471/500\n",
            "9/9 [==============================] - 0s 5ms/step - loss: 0.0657 - mae: 0.1900 - val_loss: 4.2135 - val_mae: 1.3531\n",
            "Epoch 472/500\n",
            "9/9 [==============================] - 0s 5ms/step - loss: 0.0620 - mae: 0.1954 - val_loss: 3.9608 - val_mae: 1.3514\n",
            "Epoch 473/500\n",
            "9/9 [==============================] - 0s 7ms/step - loss: 0.1142 - mae: 0.2539 - val_loss: 4.3573 - val_mae: 1.3962\n",
            "Epoch 474/500\n",
            "9/9 [==============================] - 0s 6ms/step - loss: 0.1661 - mae: 0.3153 - val_loss: 4.2538 - val_mae: 1.3614\n",
            "Epoch 475/500\n",
            "9/9 [==============================] - 0s 5ms/step - loss: 0.2159 - mae: 0.3492 - val_loss: 4.3518 - val_mae: 1.4210\n",
            "Epoch 476/500\n",
            "9/9 [==============================] - 0s 7ms/step - loss: 0.1113 - mae: 0.2462 - val_loss: 4.1071 - val_mae: 1.3709\n",
            "Epoch 477/500\n",
            "9/9 [==============================] - 0s 8ms/step - loss: 0.1950 - mae: 0.3103 - val_loss: 4.0778 - val_mae: 1.4331\n",
            "Epoch 478/500\n",
            "9/9 [==============================] - 0s 5ms/step - loss: 0.1804 - mae: 0.3125 - val_loss: 4.5012 - val_mae: 1.4035\n",
            "Epoch 479/500\n",
            "9/9 [==============================] - 0s 6ms/step - loss: 0.1689 - mae: 0.2983 - val_loss: 4.4787 - val_mae: 1.4206\n",
            "Epoch 480/500\n",
            "9/9 [==============================] - 0s 6ms/step - loss: 0.1251 - mae: 0.2614 - val_loss: 4.2620 - val_mae: 1.3816\n",
            "Epoch 481/500\n",
            "9/9 [==============================] - 0s 6ms/step - loss: 0.1126 - mae: 0.2554 - val_loss: 4.0746 - val_mae: 1.3409\n",
            "Epoch 482/500\n",
            "9/9 [==============================] - 0s 7ms/step - loss: 0.0993 - mae: 0.2160 - val_loss: 4.0980 - val_mae: 1.3583\n",
            "Epoch 483/500\n",
            "9/9 [==============================] - 0s 7ms/step - loss: 0.1453 - mae: 0.2754 - val_loss: 4.0064 - val_mae: 1.3349\n",
            "Epoch 484/500\n",
            "9/9 [==============================] - 0s 6ms/step - loss: 0.1578 - mae: 0.3099 - val_loss: 4.0743 - val_mae: 1.4194\n",
            "Epoch 485/500\n",
            "9/9 [==============================] - 0s 6ms/step - loss: 0.1470 - mae: 0.2941 - val_loss: 4.5250 - val_mae: 1.3876\n",
            "Epoch 486/500\n",
            "9/9 [==============================] - 0s 5ms/step - loss: 0.0873 - mae: 0.2255 - val_loss: 3.8989 - val_mae: 1.3404\n",
            "Epoch 487/500\n",
            "9/9 [==============================] - 0s 6ms/step - loss: 0.0939 - mae: 0.2194 - val_loss: 4.2313 - val_mae: 1.3522\n",
            "Epoch 488/500\n",
            "9/9 [==============================] - 0s 6ms/step - loss: 0.0714 - mae: 0.1999 - val_loss: 4.0056 - val_mae: 1.3283\n",
            "Epoch 489/500\n",
            "9/9 [==============================] - 0s 5ms/step - loss: 0.0702 - mae: 0.1801 - val_loss: 4.0465 - val_mae: 1.3455\n",
            "Epoch 490/500\n",
            "9/9 [==============================] - 0s 5ms/step - loss: 0.0581 - mae: 0.1893 - val_loss: 4.2534 - val_mae: 1.3429\n",
            "Epoch 491/500\n",
            "9/9 [==============================] - 0s 6ms/step - loss: 0.0581 - mae: 0.1866 - val_loss: 4.0804 - val_mae: 1.3544\n",
            "Epoch 492/500\n",
            "9/9 [==============================] - 0s 8ms/step - loss: 0.0507 - mae: 0.1739 - val_loss: 4.1478 - val_mae: 1.3345\n",
            "Epoch 493/500\n",
            "9/9 [==============================] - 0s 6ms/step - loss: 0.0567 - mae: 0.1794 - val_loss: 4.0335 - val_mae: 1.3840\n",
            "Epoch 494/500\n",
            "9/9 [==============================] - 0s 5ms/step - loss: 0.1597 - mae: 0.3028 - val_loss: 4.6657 - val_mae: 1.4017\n",
            "Epoch 495/500\n",
            "9/9 [==============================] - 0s 7ms/step - loss: 0.2495 - mae: 0.3758 - val_loss: 4.1416 - val_mae: 1.4012\n",
            "Epoch 496/500\n",
            "9/9 [==============================] - 0s 6ms/step - loss: 0.3624 - mae: 0.4369 - val_loss: 5.4412 - val_mae: 1.7482\n",
            "Epoch 497/500\n",
            "9/9 [==============================] - 0s 6ms/step - loss: 0.9602 - mae: 0.7655 - val_loss: 6.1191 - val_mae: 1.7599\n",
            "Epoch 498/500\n",
            "9/9 [==============================] - 0s 5ms/step - loss: 1.1029 - mae: 0.8218 - val_loss: 5.8069 - val_mae: 1.7719\n",
            "Epoch 499/500\n",
            "9/9 [==============================] - 0s 6ms/step - loss: 1.0171 - mae: 0.7468 - val_loss: 5.6579 - val_mae: 1.5563\n",
            "Epoch 500/500\n",
            "9/9 [==============================] - 0s 6ms/step - loss: 0.8784 - mae: 0.6955 - val_loss: 4.8301 - val_mae: 1.5353\n"
          ],
          "name": "stdout"
        }
      ]
    },
    {
      "cell_type": "markdown",
      "metadata": {
        "id": "8DWNeELvwVnu"
      },
      "source": [
        "# evaluation"
      ]
    },
    {
      "cell_type": "code",
      "metadata": {
        "colab": {
          "base_uri": "https://localhost:8080/"
        },
        "id": "49KVqus_gldc",
        "outputId": "1bf4cf0b-e85c-4c80-f26d-96501503c684"
      },
      "source": [
        "hist.history.keys()"
      ],
      "execution_count": 32,
      "outputs": [
        {
          "output_type": "execute_result",
          "data": {
            "text/plain": [
              "dict_keys(['loss', 'mae', 'val_loss', 'val_mae'])"
            ]
          },
          "metadata": {
            "tags": []
          },
          "execution_count": 32
        }
      ]
    },
    {
      "cell_type": "code",
      "metadata": {
        "id": "s_1oXUZ1hkCW"
      },
      "source": [
        "import matplotlib.pyplot as plt"
      ],
      "execution_count": 37,
      "outputs": []
    },
    {
      "cell_type": "code",
      "metadata": {
        "colab": {
          "base_uri": "https://localhost:8080/",
          "height": 265
        },
        "id": "t6UZi1Bohodq",
        "outputId": "8aa6d02e-774a-4d67-8dee-2bf17558ee88"
      },
      "source": [
        "plt.plot(hist.history['loss'], 'b--')\n",
        "plt.plot(hist.history['val_loss'])\n",
        "plt.show()"
      ],
      "execution_count": 38,
      "outputs": [
        {
          "output_type": "display_data",
          "data": {
            "image/png": "[encoded data removed]",
            "text/plain": [
              "<Figure size 432x288 with 1 Axes>"
            ]
          },
          "metadata": {
            "tags": [],
            "needs_background": "light"
          }
        }
      ]
    },
    {
      "cell_type": "code",
      "metadata": {
        "colab": {
          "base_uri": "https://localhost:8080/"
        },
        "id": "zVMcsaB-X85Z",
        "outputId": "9688ca15-d651-42b8-d8e4-bf0a76667857"
      },
      "source": [
        "model.evaluate(x_train, y_train) # activation = sigmoid loss: 8.4523 - mae: 2.1573"
      ],
      "execution_count": 23,
      "outputs": [
        {
          "output_type": "stream",
          "text": [
            "13/13 [==============================] - 0s 1ms/step - loss: 0.1798 - mae: 0.3144\n"
          ],
          "name": "stdout"
        },
        {
          "output_type": "execute_result",
          "data": {
            "text/plain": [
              "[0.1798359900712967, 0.31438153982162476]"
            ]
          },
          "metadata": {
            "tags": []
          },
          "execution_count": 23
        }
      ]
    },
    {
      "cell_type": "code",
      "metadata": {
        "colab": {
          "base_uri": "https://localhost:8080/"
        },
        "id": "dt3KwufrXwqY",
        "outputId": "8368a330-7ee2-445d-e36b-1d3a36bf9fc3"
      },
      "source": [
        "model.evaluate(x_train, y_train) # activation = relu loss: 4.3601 - mae: 1.4995 "
      ],
      "execution_count": 24,
      "outputs": [
        {
          "output_type": "stream",
          "text": [
            "13/13 [==============================] - 0s 1ms/step - loss: 0.1798 - mae: 0.3144\n"
          ],
          "name": "stdout"
        },
        {
          "output_type": "execute_result",
          "data": {
            "text/plain": [
              "[0.1798359900712967, 0.31438153982162476]"
            ]
          },
          "metadata": {
            "tags": []
          },
          "execution_count": 24
        }
      ]
    },
    {
      "cell_type": "markdown",
      "metadata": {
        "id": "FwVkNR2awlW7"
      },
      "source": [
        "# service"
      ]
    },
    {
      "cell_type": "code",
      "metadata": {
        "colab": {
          "base_uri": "https://localhost:8080/"
        },
        "id": "hGA952qyxd0l",
        "outputId": "4537d20c-67b0-449e-a195-8f9bd36dad14"
      },
      "source": [
        "x_test[10]"
      ],
      "execution_count": 25,
      "outputs": [
        {
          "output_type": "execute_result",
          "data": {
            "text/plain": [
              "array([-0.380999  , -0.48361547, -0.37402299, -0.25683275, -0.31887859,\n",
              "        0.1945502 ,  0.58730449, -0.50578021, -0.51114231, -0.13178499,\n",
              "        1.10299743, -3.02127105, -0.29132553])"
            ]
          },
          "metadata": {
            "tags": []
          },
          "execution_count": 25
        }
      ]
    },
    {
      "cell_type": "code",
      "metadata": {
        "colab": {
          "base_uri": "https://localhost:8080/"
        },
        "id": "P99ZP4_1X8_G",
        "outputId": "91b85017-ab29-4373-9b70-0eec39088606"
      },
      "source": [
        "model.predict([[2.2876e-01, 0.0000e+00, 8.5600e+00, 0.0000e+00, 5.2000e-01,\n",
        "       6.4050e+00, 8.5400e+01, 2.7147e+00, 5.0000e+00, 3.8400e+02,\n",
        "       2.0900e+01, 7.0800e+01, 1.0630e+01]])"
      ],
      "execution_count": 26,
      "outputs": [
        {
          "output_type": "execute_result",
          "data": {
            "text/plain": [
              "array([[1344.2085]], dtype=float32)"
            ]
          },
          "metadata": {
            "tags": []
          },
          "execution_count": 26
        }
      ]
    },
    {
      "cell_type": "code",
      "metadata": {
        "colab": {
          "base_uri": "https://localhost:8080/"
        },
        "id": "08C0rNksudl6",
        "outputId": "be81dca9-972a-4fba-b435-9f336c5775e7"
      },
      "source": [
        "y_train[10]"
      ],
      "execution_count": 27,
      "outputs": [
        {
          "output_type": "execute_result",
          "data": {
            "text/plain": [
              "12.1"
            ]
          },
          "metadata": {
            "tags": []
          },
          "execution_count": 27
        }
      ]
    },
    {
      "cell_type": "code",
      "metadata": {
        "id": "1e1mt500X9Da"
      },
      "source": [
        ""
      ],
      "execution_count": 27,
      "outputs": []
    },
    {
      "cell_type": "markdown",
      "metadata": {
        "id": "bGBP6VFOLIxz"
      },
      "source": [
        "# Tensorboard lab"
      ]
    },
    {
      "cell_type": "code",
      "metadata": {
        "id": "U39oaqz6X9J3"
      },
      "source": [
        ""
      ],
      "execution_count": 27,
      "outputs": []
    },
    {
      "cell_type": "markdown",
      "metadata": {
        "id": "zlZshEq8L_mJ"
      },
      "source": [
        ""
      ]
    },
    {
      "cell_type": "code",
      "metadata": {
        "id": "teqtv5pdX9PU"
      },
      "source": [
        ""
      ],
      "execution_count": 27,
      "outputs": []
    },
    {
      "cell_type": "code",
      "metadata": {
        "id": "zbmkQwHJX9Uh"
      },
      "source": [
        ""
      ],
      "execution_count": 27,
      "outputs": []
    },
    {
      "cell_type": "code",
      "metadata": {
        "id": "u6ojdNYKX9Z3"
      },
      "source": [
        ""
      ],
      "execution_count": 27,
      "outputs": []
    },
    {
      "cell_type": "code",
      "metadata": {
        "id": "TXfv-yyaX9hU"
      },
      "source": [
        ""
      ],
      "execution_count": 27,
      "outputs": []
    }
  ]
}