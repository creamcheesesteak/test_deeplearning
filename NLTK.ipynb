{
  "nbformat": 4,
  "nbformat_minor": 0,
  "metadata": {
    "colab": {
      "name": "NLTK.ipynb",
      "provenance": [],
      "authorship_tag": "ABX9TyNWTPPkenBnqN0D07Ljap8w",
      "include_colab_link": true
    },
    "kernelspec": {
      "name": "python3",
      "display_name": "Python 3"
    },
    "language_info": {
      "name": "python"
    }
  },
  "cells": [
    {
      "cell_type": "markdown",
      "metadata": {
        "id": "view-in-github",
        "colab_type": "text"
      },
      "source": [
        "<a href=\"https://colab.research.google.com/github/creamcheesesteak/test_deeplearning/blob/master/NLTK.ipynb\" target=\"_parent\"><img src=\"https://colab.research.google.com/assets/colab-badge.svg\" alt=\"Open In Colab\"/></a>"
      ]
    },
    {
      "cell_type": "code",
      "metadata": {
        "id": "7EsLgEAPG86C"
      },
      "source": [
        "# example = \"Family is not an important thing. It's everything.\"\n",
        "example = \"A barber is a person. a barber is good person. a barber is huge person. he Knew A Secret! The Secret He Kept is huge secret. Huge secret. His barber kept his word. a barber kept his word. His barber kept his secret. But keeping and keeping such a huge secret to himself was driving the barber crazy. the barber went up a huge mountain.\""
      ],
      "execution_count": 1,
      "outputs": []
    },
    {
      "cell_type": "code",
      "metadata": {
        "colab": {
          "base_uri": "https://localhost:8080/"
        },
        "id": "OrzY6lItUP8Y",
        "outputId": "e39d8490-94e1-4236-a652-f553c72fc24c"
      },
      "source": [
        "import nltk\n",
        "nltk.download('punkt')"
      ],
      "execution_count": 2,
      "outputs": [
        {
          "output_type": "stream",
          "text": [
            "[nltk_data] Downloading package punkt to /root/nltk_data...\n",
            "[nltk_data]   Unzipping tokenizers/punkt.zip.\n"
          ],
          "name": "stdout"
        },
        {
          "output_type": "execute_result",
          "data": {
            "text/plain": [
              "True"
            ]
          },
          "metadata": {
            "tags": []
          },
          "execution_count": 2
        }
      ]
    },
    {
      "cell_type": "code",
      "metadata": {
        "colab": {
          "base_uri": "https://localhost:8080/"
        },
        "id": "hJwkLp28UQRd",
        "outputId": "a5b4b7cd-b0ed-4657-b599-0f2bddfe5887"
      },
      "source": [
        "tok_words = nltk.tokenize.word_tokenize(example)\n",
        "print(tok_words)"
      ],
      "execution_count": 3,
      "outputs": [
        {
          "output_type": "stream",
          "text": [
            "['A', 'barber', 'is', 'a', 'person', '.', 'a', 'barber', 'is', 'good', 'person', '.', 'a', 'barber', 'is', 'huge', 'person', '.', 'he', 'Knew', 'A', 'Secret', '!', 'The', 'Secret', 'He', 'Kept', 'is', 'huge', 'secret', '.', 'Huge', 'secret', '.', 'His', 'barber', 'kept', 'his', 'word', '.', 'a', 'barber', 'kept', 'his', 'word', '.', 'His', 'barber', 'kept', 'his', 'secret', '.', 'But', 'keeping', 'and', 'keeping', 'such', 'a', 'huge', 'secret', 'to', 'himself', 'was', 'driving', 'the', 'barber', 'crazy', '.', 'the', 'barber', 'went', 'up', 'a', 'huge', 'mountain', '.']\n"
          ],
          "name": "stdout"
        }
      ]
    },
    {
      "cell_type": "code",
      "metadata": {
        "colab": {
          "base_uri": "https://localhost:8080/"
        },
        "id": "uJwuYg1zUQYa",
        "outputId": "57881ec2-7cdd-47e0-baf4-5f65783366ff"
      },
      "source": [
        "nltk.download('stopwords')"
      ],
      "execution_count": 4,
      "outputs": [
        {
          "output_type": "stream",
          "text": [
            "[nltk_data] Downloading package stopwords to /root/nltk_data...\n",
            "[nltk_data]   Unzipping corpora/stopwords.zip.\n"
          ],
          "name": "stdout"
        },
        {
          "output_type": "execute_result",
          "data": {
            "text/plain": [
              "True"
            ]
          },
          "metadata": {
            "tags": []
          },
          "execution_count": 4
        }
      ]
    },
    {
      "cell_type": "code",
      "metadata": {
        "colab": {
          "base_uri": "https://localhost:8080/"
        },
        "id": "saw2MF9CUQeh",
        "outputId": "9aa810f5-3e66-4465-889c-d40adc720e5b"
      },
      "source": [
        "stop_words = nltk.corpus.stopwords.words('english')\n",
        "len(stop_words)"
      ],
      "execution_count": 5,
      "outputs": [
        {
          "output_type": "execute_result",
          "data": {
            "text/plain": [
              "179"
            ]
          },
          "metadata": {
            "tags": []
          },
          "execution_count": 5
        }
      ]
    },
    {
      "cell_type": "code",
      "metadata": {
        "colab": {
          "base_uri": "https://localhost:8080/"
        },
        "id": "Kt9Kb8VoYT2c",
        "outputId": "a1210849-7b5d-47f4-cb0e-5d91b5b83d63"
      },
      "source": [
        "stop_words.extend([','])\n",
        "len(stop_words)"
      ],
      "execution_count": 6,
      "outputs": [
        {
          "output_type": "execute_result",
          "data": {
            "text/plain": [
              "180"
            ]
          },
          "metadata": {
            "tags": []
          },
          "execution_count": 6
        }
      ]
    },
    {
      "cell_type": "code",
      "metadata": {
        "colab": {
          "base_uri": "https://localhost:8080/"
        },
        "id": "N5Khf5HKUQjh",
        "outputId": "9fbfa1fe-27ad-4081-f1c3-27b933048b52"
      },
      "source": [
        "for tok in tok_words:\n",
        "  print(tok)\n",
        "  if tok in stop_words:\n",
        "    print(tok)"
      ],
      "execution_count": 7,
      "outputs": [
        {
          "output_type": "stream",
          "text": [
            "A\n",
            "barber\n",
            "is\n",
            "is\n",
            "a\n",
            "a\n",
            "person\n",
            ".\n",
            "a\n",
            "a\n",
            "barber\n",
            "is\n",
            "is\n",
            "good\n",
            "person\n",
            ".\n",
            "a\n",
            "a\n",
            "barber\n",
            "is\n",
            "is\n",
            "huge\n",
            "person\n",
            ".\n",
            "he\n",
            "he\n",
            "Knew\n",
            "A\n",
            "Secret\n",
            "!\n",
            "The\n",
            "Secret\n",
            "He\n",
            "Kept\n",
            "is\n",
            "is\n",
            "huge\n",
            "secret\n",
            ".\n",
            "Huge\n",
            "secret\n",
            ".\n",
            "His\n",
            "barber\n",
            "kept\n",
            "his\n",
            "his\n",
            "word\n",
            ".\n",
            "a\n",
            "a\n",
            "barber\n",
            "kept\n",
            "his\n",
            "his\n",
            "word\n",
            ".\n",
            "His\n",
            "barber\n",
            "kept\n",
            "his\n",
            "his\n",
            "secret\n",
            ".\n",
            "But\n",
            "keeping\n",
            "and\n",
            "and\n",
            "keeping\n",
            "such\n",
            "such\n",
            "a\n",
            "a\n",
            "huge\n",
            "secret\n",
            "to\n",
            "to\n",
            "himself\n",
            "himself\n",
            "was\n",
            "was\n",
            "driving\n",
            "the\n",
            "the\n",
            "barber\n",
            "crazy\n",
            ".\n",
            "the\n",
            "the\n",
            "barber\n",
            "went\n",
            "up\n",
            "up\n",
            "a\n",
            "a\n",
            "huge\n",
            "mountain\n",
            ".\n"
          ],
          "name": "stdout"
        }
      ]
    },
    {
      "cell_type": "code",
      "metadata": {
        "id": "pVr4A4x9UQqR"
      },
      "source": [
        "lemm = nltk.stem.WordNetLemmatizer()"
      ],
      "execution_count": 8,
      "outputs": []
    },
    {
      "cell_type": "code",
      "metadata": {
        "colab": {
          "base_uri": "https://localhost:8080/"
        },
        "id": "lc9O3AZ_a3_1",
        "outputId": "ac3bad09-a065-4452-a8a8-a1637d10fff6"
      },
      "source": [
        "nltk.download('wordnet')"
      ],
      "execution_count": 9,
      "outputs": [
        {
          "output_type": "stream",
          "text": [
            "[nltk_data] Downloading package wordnet to /root/nltk_data...\n",
            "[nltk_data]   Unzipping corpora/wordnet.zip.\n"
          ],
          "name": "stdout"
        },
        {
          "output_type": "execute_result",
          "data": {
            "text/plain": [
              "True"
            ]
          },
          "metadata": {
            "tags": []
          },
          "execution_count": 9
        }
      ]
    },
    {
      "cell_type": "code",
      "metadata": {
        "colab": {
          "base_uri": "https://localhost:8080/"
        },
        "id": "kLGlQP9LaJzU",
        "outputId": "40dc8344-7223-4da7-e712-4b683d53d5f6"
      },
      "source": [
        "sentence = list()\n",
        "for tok in tok_words:\n",
        "  # print(tok, ',', lemm.lemmatize(tok))\n",
        "  sentence.append(lemm.lemmatize(tok))\n",
        "\n",
        "print(sentence)"
      ],
      "execution_count": 10,
      "outputs": [
        {
          "output_type": "stream",
          "text": [
            "['A', 'barber', 'is', 'a', 'person', '.', 'a', 'barber', 'is', 'good', 'person', '.', 'a', 'barber', 'is', 'huge', 'person', '.', 'he', 'Knew', 'A', 'Secret', '!', 'The', 'Secret', 'He', 'Kept', 'is', 'huge', 'secret', '.', 'Huge', 'secret', '.', 'His', 'barber', 'kept', 'his', 'word', '.', 'a', 'barber', 'kept', 'his', 'word', '.', 'His', 'barber', 'kept', 'his', 'secret', '.', 'But', 'keeping', 'and', 'keeping', 'such', 'a', 'huge', 'secret', 'to', 'himself', 'wa', 'driving', 'the', 'barber', 'crazy', '.', 'the', 'barber', 'went', 'up', 'a', 'huge', 'mountain', '.']\n"
          ],
          "name": "stdout"
        }
      ]
    },
    {
      "cell_type": "code",
      "metadata": {
        "id": "iR9Q9eO7a83y"
      },
      "source": [
        "import tensorflow as tf"
      ],
      "execution_count": 11,
      "outputs": []
    },
    {
      "cell_type": "code",
      "metadata": {
        "colab": {
          "base_uri": "https://localhost:8080/"
        },
        "id": "hHgx__ZEbo4S",
        "outputId": "1c791fd9-316a-4086-850e-35c9cc3833a5"
      },
      "source": [
        "tokenizer = tf.keras.preprocessing.text.Tokenizer()\n",
        "tokenizer"
      ],
      "execution_count": 12,
      "outputs": [
        {
          "output_type": "execute_result",
          "data": {
            "text/plain": [
              "<keras_preprocessing.text.Tokenizer at 0x7f6a3ac07ad0>"
            ]
          },
          "metadata": {
            "tags": []
          },
          "execution_count": 12
        }
      ]
    },
    {
      "cell_type": "code",
      "metadata": {
        "id": "yH9UoFLdbo1f"
      },
      "source": [
        "tokenizer.fit_on_texts(sentence)"
      ],
      "execution_count": 13,
      "outputs": []
    },
    {
      "cell_type": "code",
      "metadata": {
        "colab": {
          "base_uri": "https://localhost:8080/"
        },
        "id": "mD6HeGTTboy5",
        "outputId": "b370d84a-f90b-4565-cc89-a9ed8e9b9458"
      },
      "source": [
        "print(tokenizer.word_index)"
      ],
      "execution_count": 14,
      "outputs": [
        {
          "output_type": "stream",
          "text": [
            "{'a': 1, 'barber': 2, 'secret': 3, 'huge': 4, 'his': 5, 'is': 6, 'kept': 7, 'person': 8, 'the': 9, 'he': 10, 'word': 11, 'keeping': 12, 'good': 13, 'knew': 14, 'but': 15, 'and': 16, 'such': 17, 'to': 18, 'himself': 19, 'wa': 20, 'driving': 21, 'crazy': 22, 'went': 23, 'up': 24, 'mountain': 25}\n"
          ],
          "name": "stdout"
        }
      ]
    },
    {
      "cell_type": "code",
      "metadata": {
        "colab": {
          "base_uri": "https://localhost:8080/"
        },
        "id": "4DPGVqembouy",
        "outputId": "12e515bd-acf5-4222-cf2d-39fd32e4ea60"
      },
      "source": [
        "print(tokenizer.word_counts)"
      ],
      "execution_count": 15,
      "outputs": [
        {
          "output_type": "stream",
          "text": [
            "OrderedDict([('a', 8), ('barber', 8), ('is', 4), ('person', 3), ('good', 1), ('huge', 5), ('he', 2), ('knew', 1), ('secret', 6), ('the', 3), ('kept', 4), ('his', 5), ('word', 2), ('but', 1), ('keeping', 2), ('and', 1), ('such', 1), ('to', 1), ('himself', 1), ('wa', 1), ('driving', 1), ('crazy', 1), ('went', 1), ('up', 1), ('mountain', 1)])\n"
          ],
          "name": "stdout"
        }
      ]
    },
    {
      "cell_type": "code",
      "metadata": {
        "colab": {
          "base_uri": "https://localhost:8080/"
        },
        "id": "cGdyHi5qbosX",
        "outputId": "4472de14-ad82-4d4a-e082-e4fccc1b9b68"
      },
      "source": [
        "seq = tokenizer.texts_to_sequences(sentence)\n",
        "print(seq)"
      ],
      "execution_count": 16,
      "outputs": [
        {
          "output_type": "stream",
          "text": [
            "[[1], [2], [6], [1], [8], [], [1], [2], [6], [13], [8], [], [1], [2], [6], [4], [8], [], [10], [14], [1], [3], [], [9], [3], [10], [7], [6], [4], [3], [], [4], [3], [], [5], [2], [7], [5], [11], [], [1], [2], [7], [5], [11], [], [5], [2], [7], [5], [3], [], [15], [12], [16], [12], [17], [1], [4], [3], [18], [19], [20], [21], [9], [2], [22], [], [9], [2], [23], [24], [1], [4], [25], []]\n"
          ],
          "name": "stdout"
        }
      ]
    },
    {
      "cell_type": "code",
      "metadata": {
        "id": "VhL6tUvVuaV6"
      },
      "source": [
        ""
      ],
      "execution_count": 16,
      "outputs": []
    }
  ]
}