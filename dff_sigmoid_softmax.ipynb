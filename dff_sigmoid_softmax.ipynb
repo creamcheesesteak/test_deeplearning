{
  "nbformat": 4,
  "nbformat_minor": 0,
  "metadata": {
    "colab": {
      "name": "dff_sigmoid_softmax.ipynb",
      "provenance": [],
      "authorship_tag": "ABX9TyPcwF7v3kN5RQ2SV+8YGcBt",
      "include_colab_link": true
    },
    "kernelspec": {
      "name": "python3",
      "display_name": "Python 3"
    },
    "language_info": {
      "name": "python"
    }
  },
  "cells": [
    {
      "cell_type": "markdown",
      "metadata": {
        "id": "view-in-github",
        "colab_type": "text"
      },
      "source": [
        "<a href=\"https://colab.research.google.com/github/creamcheesesteak/test_deeplearning/blob/master/dff_sigmoid_softmax.ipynb\" target=\"_parent\"><img src=\"https://colab.research.google.com/assets/colab-badge.svg\" alt=\"Open In Colab\"/></a>"
      ]
    },
    {
      "cell_type": "code",
      "metadata": {
        "id": "9C2QOxN23uw2"
      },
      "source": [
        "import tensorflow as tf\n",
        "import numpy"
      ],
      "execution_count": 1,
      "outputs": []
    },
    {
      "cell_type": "code",
      "metadata": {
        "id": "x2td8KrA4CGG"
      },
      "source": [
        ""
      ],
      "execution_count": null,
      "outputs": []
    },
    {
      "cell_type": "markdown",
      "metadata": {
        "id": "-owVJzLS4QFE"
      },
      "source": [
        "# sigmoid"
      ]
    },
    {
      "cell_type": "code",
      "metadata": {
        "id": "xNNKmrzr4CJt"
      },
      "source": [
        "a = tf.constant([-2, -1.0, 0.0, 1.0, 20], dtype = tf.float32)"
      ],
      "execution_count": 2,
      "outputs": []
    },
    {
      "cell_type": "code",
      "metadata": {
        "colab": {
          "base_uri": "https://localhost:8080/"
        },
        "id": "ZHIhpOfS7m3q",
        "outputId": "dff0b1c0-1e90-4e88-c0ed-537b54e8528d"
      },
      "source": [
        "a, type(a)"
      ],
      "execution_count": 5,
      "outputs": [
        {
          "output_type": "execute_result",
          "data": {
            "text/plain": [
              "(<tf.Tensor: shape=(5,), dtype=float32, numpy=array([-2., -1.,  0.,  1., 20.], dtype=float32)>,\n",
              " tensorflow.python.framework.ops.EagerTensor)"
            ]
          },
          "metadata": {
            "tags": []
          },
          "execution_count": 5
        }
      ]
    },
    {
      "cell_type": "code",
      "metadata": {
        "id": "gR2m28YG4CPA"
      },
      "source": [
        "b = tf.keras.activations.sigmoid(a) "
      ],
      "execution_count": 3,
      "outputs": []
    },
    {
      "cell_type": "code",
      "metadata": {
        "colab": {
          "base_uri": "https://localhost:8080/"
        },
        "id": "4qAkfjzH4CVL",
        "outputId": "2e50c5f4-3461-46ad-b65a-225694dd4a2a"
      },
      "source": [
        "b.numpy()"
      ],
      "execution_count": 4,
      "outputs": [
        {
          "output_type": "execute_result",
          "data": {
            "text/plain": [
              "array([0.11920291, 0.26894143, 0.5       , 0.7310586 , 1.        ],\n",
              "      dtype=float32)"
            ]
          },
          "metadata": {
            "tags": []
          },
          "execution_count": 4
        }
      ]
    },
    {
      "cell_type": "markdown",
      "metadata": {
        "id": "9Qpa9kQn8ss6"
      },
      "source": [
        "# softmax"
      ]
    },
    {
      "cell_type": "code",
      "metadata": {
        "colab": {
          "base_uri": "https://localhost:8080/"
        },
        "id": "jEieTSZ-4Cau",
        "outputId": "5f44f5b0-afe0-4173-a516-b3ac494878d7"
      },
      "source": [
        "inputs = tf.random.normal(shape=(1, 3))\n",
        "inputs"
      ],
      "execution_count": 9,
      "outputs": [
        {
          "output_type": "execute_result",
          "data": {
            "text/plain": [
              "<tf.Tensor: shape=(1, 3), dtype=float32, numpy=array([[-0.61820215, -0.31310037,  0.9484779 ]], dtype=float32)>"
            ]
          },
          "metadata": {
            "tags": []
          },
          "execution_count": 9
        }
      ]
    },
    {
      "cell_type": "code",
      "metadata": {
        "id": "aPLl9xz-85eM"
      },
      "source": [
        "outputs = tf.keras.activations.softmax(inputs)"
      ],
      "execution_count": 10,
      "outputs": []
    },
    {
      "cell_type": "code",
      "metadata": {
        "colab": {
          "base_uri": "https://localhost:8080/"
        },
        "id": "zPtKRYHP4Cf7",
        "outputId": "fa5632c5-5071-4ed0-8daf-672347783cd7"
      },
      "source": [
        "outputs.numpy()"
      ],
      "execution_count": 11,
      "outputs": [
        {
          "output_type": "execute_result",
          "data": {
            "text/plain": [
              "array([[0.13990945, 0.18982397, 0.67026657]], dtype=float32)"
            ]
          },
          "metadata": {
            "tags": []
          },
          "execution_count": 11
        }
      ]
    },
    {
      "cell_type": "code",
      "metadata": {
        "id": "xZStpqaE8zt8"
      },
      "source": [
        ""
      ],
      "execution_count": null,
      "outputs": []
    }
  ]
}