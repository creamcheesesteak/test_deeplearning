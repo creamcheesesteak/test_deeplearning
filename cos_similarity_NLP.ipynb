{
  "nbformat": 4,
  "nbformat_minor": 0,
  "metadata": {
    "colab": {
      "name": "cos_similarity_NLP.ipynb",
      "provenance": [],
      "authorship_tag": "ABX9TyMXA13VVxcyamYooHzKEAxb",
      "include_colab_link": true
    },
    "kernelspec": {
      "name": "python3",
      "display_name": "Python 3"
    },
    "language_info": {
      "name": "python"
    }
  },
  "cells": [
    {
      "cell_type": "markdown",
      "metadata": {
        "id": "view-in-github",
        "colab_type": "text"
      },
      "source": [
        "<a href=\"https://colab.research.google.com/github/creamcheesesteak/test_deeplearning/blob/master/cos_similarity_NLP.ipynb\" target=\"_parent\"><img src=\"https://colab.research.google.com/assets/colab-badge.svg\" alt=\"Open In Colab\"/></a>"
      ]
    },
    {
      "cell_type": "code",
      "metadata": {
        "id": "dPSXbO3Wir6u"
      },
      "source": [
        ""
      ],
      "execution_count": null,
      "outputs": []
    },
    {
      "cell_type": "code",
      "metadata": {
        "id": "MW5ZRyNSiyvv"
      },
      "source": [
        "from numpy import dot\n",
        "from numpy.linalg import norm\n",
        "import numpy as np\n",
        "def cos_sim(A, B):\n",
        "       return dot(A, B)/(norm(A)*norm(B))\n"
      ],
      "execution_count": null,
      "outputs": []
    },
    {
      "cell_type": "code",
      "metadata": {
        "id": "AqT_V2xDiy6J"
      },
      "source": [
        "doc1 = np.array([1,0,1,1,1,])\n",
        "doc2 = np.array([2,1,0,1,1,])\n",
        "doc3 = np.array([3,2,0,2,2,])"
      ],
      "execution_count": null,
      "outputs": []
    },
    {
      "cell_type": "code",
      "metadata": {
        "colab": {
          "base_uri": "https://localhost:8080/"
        },
        "id": "kcd-B0weizHx",
        "outputId": "df1e2796-0ce2-490d-cda5-05f5d65440c4"
      },
      "source": [
        "cos_sim(doc1, doc2)"
      ],
      "execution_count": null,
      "outputs": [
        {
          "output_type": "execute_result",
          "data": {
            "text/plain": [
              "0.7559289460184544"
            ]
          },
          "metadata": {},
          "execution_count": 6
        }
      ]
    },
    {
      "cell_type": "code",
      "metadata": {
        "colab": {
          "base_uri": "https://localhost:8080/"
        },
        "id": "2RCULsfKizbR",
        "outputId": "a6e2f08d-0523-4ca0-e78b-b95df2bf349c"
      },
      "source": [
        "cos_sim(doc1, doc3)"
      ],
      "execution_count": null,
      "outputs": [
        {
          "output_type": "execute_result",
          "data": {
            "text/plain": [
              "0.7637626158259734"
            ]
          },
          "metadata": {},
          "execution_count": 5
        }
      ]
    },
    {
      "cell_type": "code",
      "metadata": {
        "id": "Xkk7lBYeizx2"
      },
      "source": [
        ""
      ],
      "execution_count": null,
      "outputs": []
    },
    {
      "cell_type": "code",
      "metadata": {
        "id": "FknUUO_2iz_p"
      },
      "source": [
        "id : RmqV8FRJNSg2N91ykdKS"
      ],
      "execution_count": null,
      "outputs": []
    },
    {
      "cell_type": "code",
      "metadata": {
        "id": "9yPNTwsJi0ow"
      },
      "source": [
        "secret key : Vkqv9j1hmw"
      ],
      "execution_count": null,
      "outputs": []
    },
    {
      "cell_type": "code",
      "metadata": {
        "id": "3tYxGys9i1qA"
      },
      "source": [
        "from sklearn.feature_extraction.text import TfidfVectorizer\n",
        "from sklearn.feature_extraction.text import TfidfTransformer"
      ],
      "execution_count": 7,
      "outputs": []
    },
    {
      "cell_type": "code",
      "metadata": {
        "id": "Zt-Nz3DQi130"
      },
      "source": [
        "corpus = [\n",
        "    'you know I want your love',\n",
        "    'I like you',\n",
        "    'what should I do ',    \n",
        "]\n"
      ],
      "execution_count": 8,
      "outputs": []
    },
    {
      "cell_type": "code",
      "metadata": {
        "id": "lxZRy-qzi196",
        "colab": {
          "base_uri": "https://localhost:8080/"
        },
        "outputId": "1f76f86c-2e15-41e4-f058-c591d02596aa"
      },
      "source": [
        "tfidf = TfidfVectorizer()\n",
        "tfidf.fit_transform(corpus).toarray()"
      ],
      "execution_count": 9,
      "outputs": [
        {
          "output_type": "execute_result",
          "data": {
            "text/plain": [
              "array([[0.        , 0.46735098, 0.        , 0.46735098, 0.        ,\n",
              "        0.46735098, 0.        , 0.35543247, 0.46735098],\n",
              "       [0.        , 0.        , 0.79596054, 0.        , 0.        ,\n",
              "        0.        , 0.        , 0.60534851, 0.        ],\n",
              "       [0.57735027, 0.        , 0.        , 0.        , 0.57735027,\n",
              "        0.        , 0.57735027, 0.        , 0.        ]])"
            ]
          },
          "metadata": {},
          "execution_count": 9
        }
      ]
    },
    {
      "cell_type": "code",
      "metadata": {
        "id": "OrqVqEUtjhb2"
      },
      "source": [
        ""
      ],
      "execution_count": null,
      "outputs": []
    },
    {
      "cell_type": "code",
      "metadata": {
        "id": "-E7J2jeljhec"
      },
      "source": [
        ""
      ],
      "execution_count": null,
      "outputs": []
    },
    {
      "cell_type": "markdown",
      "metadata": {
        "id": "EwgVtGi2mgy_"
      },
      "source": [
        "# recommanded with cos simuliaty\n",
        "data from https://www.kaggle.com/rounakbanik/the-movies-dataset/version/7?select=movies_metadata.csv\n"
      ]
    },
    {
      "cell_type": "code",
      "metadata": {
        "id": "_kuM9Jbkjhhs"
      },
      "source": [
        "import pandas as pd"
      ],
      "execution_count": 10,
      "outputs": []
    },
    {
      "cell_type": "code",
      "metadata": {
        "colab": {
          "base_uri": "https://localhost:8080/",
          "height": 444
        },
        "id": "fruqGNCRm3ms",
        "outputId": "41c4cf8c-71a9-466b-e35f-0c87376062fb"
      },
      "source": [
        "df_data = pd.read_csv('./movies_metadata.csv')\n",
        "df_data.head(3)"
      ],
      "execution_count": 11,
      "outputs": [
        {
          "output_type": "stream",
          "text": [
            "/usr/local/lib/python3.7/dist-packages/IPython/core/interactiveshell.py:2718: DtypeWarning: Columns (10) have mixed types.Specify dtype option on import or set low_memory=False.\n",
            "  interactivity=interactivity, compiler=compiler, result=result)\n"
          ],
          "name": "stderr"
        },
        {
          "output_type": "execute_result",
          "data": {
            "text/html": [
              "<div>\n",
              "<style scoped>\n",
              "    .dataframe tbody tr th:only-of-type {\n",
              "        vertical-align: middle;\n",
              "    }\n",
              "\n",
              "    .dataframe tbody tr th {\n",
              "        vertical-align: top;\n",
              "    }\n",
              "\n",
              "    .dataframe thead th {\n",
              "        text-align: right;\n",
              "    }\n",
              "</style>\n",
              "<table border=\"1\" class=\"dataframe\">\n",
              "  <thead>\n",
              "    <tr style=\"text-align: right;\">\n",
              "      <th></th>\n",
              "      <th>adult</th>\n",
              "      <th>belongs_to_collection</th>\n",
              "      <th>budget</th>\n",
              "      <th>genres</th>\n",
              "      <th>homepage</th>\n",
              "      <th>id</th>\n",
              "      <th>imdb_id</th>\n",
              "      <th>original_language</th>\n",
              "      <th>original_title</th>\n",
              "      <th>overview</th>\n",
              "      <th>popularity</th>\n",
              "      <th>poster_path</th>\n",
              "      <th>production_companies</th>\n",
              "      <th>production_countries</th>\n",
              "      <th>release_date</th>\n",
              "      <th>revenue</th>\n",
              "      <th>runtime</th>\n",
              "      <th>spoken_languages</th>\n",
              "      <th>status</th>\n",
              "      <th>tagline</th>\n",
              "      <th>title</th>\n",
              "      <th>video</th>\n",
              "      <th>vote_average</th>\n",
              "      <th>vote_count</th>\n",
              "    </tr>\n",
              "  </thead>\n",
              "  <tbody>\n",
              "    <tr>\n",
              "      <th>0</th>\n",
              "      <td>False</td>\n",
              "      <td>{'id': 10194, 'name': 'Toy Story Collection', ...</td>\n",
              "      <td>30000000</td>\n",
              "      <td>[{'id': 16, 'name': 'Animation'}, {'id': 35, '...</td>\n",
              "      <td>http://toystory.disney.com/toy-story</td>\n",
              "      <td>862</td>\n",
              "      <td>tt0114709</td>\n",
              "      <td>en</td>\n",
              "      <td>Toy Story</td>\n",
              "      <td>Led by Woody, Andy's toys live happily in his ...</td>\n",
              "      <td>21.9469</td>\n",
              "      <td>/rhIRbceoE9lR4veEXuwCC2wARtG.jpg</td>\n",
              "      <td>[{'name': 'Pixar Animation Studios', 'id': 3}]</td>\n",
              "      <td>[{'iso_3166_1': 'US', 'name': 'United States o...</td>\n",
              "      <td>1995-10-30</td>\n",
              "      <td>373554033.0</td>\n",
              "      <td>81.0</td>\n",
              "      <td>[{'iso_639_1': 'en', 'name': 'English'}]</td>\n",
              "      <td>Released</td>\n",
              "      <td>NaN</td>\n",
              "      <td>Toy Story</td>\n",
              "      <td>False</td>\n",
              "      <td>7.7</td>\n",
              "      <td>5415.0</td>\n",
              "    </tr>\n",
              "    <tr>\n",
              "      <th>1</th>\n",
              "      <td>False</td>\n",
              "      <td>NaN</td>\n",
              "      <td>65000000</td>\n",
              "      <td>[{'id': 12, 'name': 'Adventure'}, {'id': 14, '...</td>\n",
              "      <td>NaN</td>\n",
              "      <td>8844</td>\n",
              "      <td>tt0113497</td>\n",
              "      <td>en</td>\n",
              "      <td>Jumanji</td>\n",
              "      <td>When siblings Judy and Peter discover an encha...</td>\n",
              "      <td>17.0155</td>\n",
              "      <td>/vzmL6fP7aPKNKPRTFnZmiUfciyV.jpg</td>\n",
              "      <td>[{'name': 'TriStar Pictures', 'id': 559}, {'na...</td>\n",
              "      <td>[{'iso_3166_1': 'US', 'name': 'United States o...</td>\n",
              "      <td>1995-12-15</td>\n",
              "      <td>262797249.0</td>\n",
              "      <td>104.0</td>\n",
              "      <td>[{'iso_639_1': 'en', 'name': 'English'}, {'iso...</td>\n",
              "      <td>Released</td>\n",
              "      <td>Roll the dice and unleash the excitement!</td>\n",
              "      <td>Jumanji</td>\n",
              "      <td>False</td>\n",
              "      <td>6.9</td>\n",
              "      <td>2413.0</td>\n",
              "    </tr>\n",
              "    <tr>\n",
              "      <th>2</th>\n",
              "      <td>False</td>\n",
              "      <td>{'id': 119050, 'name': 'Grumpy Old Men Collect...</td>\n",
              "      <td>0</td>\n",
              "      <td>[{'id': 10749, 'name': 'Romance'}, {'id': 35, ...</td>\n",
              "      <td>NaN</td>\n",
              "      <td>15602</td>\n",
              "      <td>tt0113228</td>\n",
              "      <td>en</td>\n",
              "      <td>Grumpier Old Men</td>\n",
              "      <td>A family wedding reignites the ancient feud be...</td>\n",
              "      <td>11.7129</td>\n",
              "      <td>/6ksm1sjKMFLbO7UY2i6G1ju9SML.jpg</td>\n",
              "      <td>[{'name': 'Warner Bros.', 'id': 6194}, {'name'...</td>\n",
              "      <td>[{'iso_3166_1': 'US', 'name': 'United States o...</td>\n",
              "      <td>1995-12-22</td>\n",
              "      <td>0.0</td>\n",
              "      <td>101.0</td>\n",
              "      <td>[{'iso_639_1': 'en', 'name': 'English'}]</td>\n",
              "      <td>Released</td>\n",
              "      <td>Still Yelling. Still Fighting. Still Ready for...</td>\n",
              "      <td>Grumpier Old Men</td>\n",
              "      <td>False</td>\n",
              "      <td>6.5</td>\n",
              "      <td>92.0</td>\n",
              "    </tr>\n",
              "  </tbody>\n",
              "</table>\n",
              "</div>"
            ],
            "text/plain": [
              "   adult  ... vote_count\n",
              "0  False  ...     5415.0\n",
              "1  False  ...     2413.0\n",
              "2  False  ...       92.0\n",
              "\n",
              "[3 rows x 24 columns]"
            ]
          },
          "metadata": {},
          "execution_count": 11
        }
      ]
    },
    {
      "cell_type": "code",
      "metadata": {
        "colab": {
          "base_uri": "https://localhost:8080/"
        },
        "id": "3gWdne7Njhj-",
        "outputId": "00408630-022a-441c-d27c-f17cb8436dc6"
      },
      "source": [
        "df_data.columns"
      ],
      "execution_count": 12,
      "outputs": [
        {
          "output_type": "execute_result",
          "data": {
            "text/plain": [
              "Index(['adult', 'belongs_to_collection', 'budget', 'genres', 'homepage', 'id',\n",
              "       'imdb_id', 'original_language', 'original_title', 'overview',\n",
              "       'popularity', 'poster_path', 'production_companies',\n",
              "       'production_countries', 'release_date', 'revenue', 'runtime',\n",
              "       'spoken_languages', 'status', 'tagline', 'title', 'video',\n",
              "       'vote_average', 'vote_count'],\n",
              "      dtype='object')"
            ]
          },
          "metadata": {},
          "execution_count": 12
        }
      ]
    },
    {
      "cell_type": "code",
      "metadata": {
        "id": "jAw9TuDSjhmp"
      },
      "source": [
        "data = df_data.head(10000)"
      ],
      "execution_count": 14,
      "outputs": []
    },
    {
      "cell_type": "code",
      "metadata": {
        "id": "IvtXs8-RoXtF"
      },
      "source": [
        "data = data.dropna()"
      ],
      "execution_count": 16,
      "outputs": []
    },
    {
      "cell_type": "code",
      "metadata": {
        "colab": {
          "base_uri": "https://localhost:8080/"
        },
        "id": "kIromzcRjhpM",
        "outputId": "e000405c-56b1-40ca-e532-0cb82f932a15"
      },
      "source": [
        "data.info()"
      ],
      "execution_count": 17,
      "outputs": [
        {
          "output_type": "stream",
          "text": [
            "<class 'pandas.core.frame.DataFrame'>\n",
            "Int64Index: 158 entries, 9 to 9888\n",
            "Data columns (total 24 columns):\n",
            " #   Column                 Non-Null Count  Dtype  \n",
            "---  ------                 --------------  -----  \n",
            " 0   adult                  158 non-null    object \n",
            " 1   belongs_to_collection  158 non-null    object \n",
            " 2   budget                 158 non-null    object \n",
            " 3   genres                 158 non-null    object \n",
            " 4   homepage               158 non-null    object \n",
            " 5   id                     158 non-null    object \n",
            " 6   imdb_id                158 non-null    object \n",
            " 7   original_language      158 non-null    object \n",
            " 8   original_title         158 non-null    object \n",
            " 9   overview               158 non-null    object \n",
            " 10  popularity             158 non-null    object \n",
            " 11  poster_path            158 non-null    object \n",
            " 12  production_companies   158 non-null    object \n",
            " 13  production_countries   158 non-null    object \n",
            " 14  release_date           158 non-null    object \n",
            " 15  revenue                158 non-null    float64\n",
            " 16  runtime                158 non-null    float64\n",
            " 17  spoken_languages       158 non-null    object \n",
            " 18  status                 158 non-null    object \n",
            " 19  tagline                158 non-null    object \n",
            " 20  title                  158 non-null    object \n",
            " 21  video                  158 non-null    object \n",
            " 22  vote_average           158 non-null    float64\n",
            " 23  vote_count             158 non-null    float64\n",
            "dtypes: float64(4), object(20)\n",
            "memory usage: 30.9+ KB\n"
          ],
          "name": "stdout"
        }
      ]
    },
    {
      "cell_type": "code",
      "metadata": {
        "id": "_6ZonJlBjhrx"
      },
      "source": [
        "from sklearn.feature_extraction.text import TfidfVectorizer\n"
      ],
      "execution_count": 19,
      "outputs": []
    },
    {
      "cell_type": "code",
      "metadata": {
        "id": "GnU0wev-i2EU",
        "colab": {
          "base_uri": "https://localhost:8080/"
        },
        "outputId": "9930b5b5-2512-4341-89e0-d481805745da"
      },
      "source": [
        "tfidf = TfidfVectorizer()\n",
        "tfidf_matrix = tfidf.fit_transform(data['overview'])\n",
        "tfidf_matrix.shape"
      ],
      "execution_count": 21,
      "outputs": [
        {
          "output_type": "execute_result",
          "data": {
            "text/plain": [
              "(158, 2696)"
            ]
          },
          "metadata": {},
          "execution_count": 21
        }
      ]
    },
    {
      "cell_type": "code",
      "metadata": {
        "colab": {
          "base_uri": "https://localhost:8080/"
        },
        "id": "KWTqONCoo8aK",
        "outputId": "e3691367-0f2f-4826-81db-bcaa58b2fca2"
      },
      "source": [
        "len(tfidf.vocabulary_)"
      ],
      "execution_count": 22,
      "outputs": [
        {
          "output_type": "execute_result",
          "data": {
            "text/plain": [
              "2696"
            ]
          },
          "metadata": {},
          "execution_count": 22
        }
      ]
    },
    {
      "cell_type": "code",
      "metadata": {
        "colab": {
          "base_uri": "https://localhost:8080/"
        },
        "id": "WLpMxzZ2paTF",
        "outputId": "caa1dd3b-ba93-48c3-e036-0629cf702cba"
      },
      "source": [
        "print(tfidf_matrix[4].toarray())"
      ],
      "execution_count": 23,
      "outputs": [
        {
          "output_type": "stream",
          "text": [
            "[[0. 0. 0. ... 0. 0. 0.]]\n"
          ],
          "name": "stdout"
        }
      ]
    },
    {
      "cell_type": "code",
      "metadata": {
        "id": "tjmoNBTpqDP3"
      },
      "source": [
        "from sklearn.metrics.pairwise import linear_kernel"
      ],
      "execution_count": 24,
      "outputs": []
    },
    {
      "cell_type": "code",
      "metadata": {
        "colab": {
          "base_uri": "https://localhost:8080/"
        },
        "id": "jee8HeckqG2f",
        "outputId": "2ef8e522-6c3e-46d6-a7b1-d19f0b508e6b"
      },
      "source": [
        "cosin_sim = linear_kernel(tfidf_matrix, tfidf_matrix)\n",
        "type(cosin_sim), cosin_sim.shape"
      ],
      "execution_count": 27,
      "outputs": [
        {
          "output_type": "execute_result",
          "data": {
            "text/plain": [
              "(numpy.ndarray, (158, 158))"
            ]
          },
          "metadata": {},
          "execution_count": 27
        }
      ]
    },
    {
      "cell_type": "code",
      "metadata": {
        "colab": {
          "base_uri": "https://localhost:8080/"
        },
        "id": "kP7lJEDyqa-1",
        "outputId": "ae6c9471-03fd-40b2-9254-e69d926e4950"
      },
      "source": [
        "cosin_sim[3]"
      ],
      "execution_count": 28,
      "outputs": [
        {
          "output_type": "execute_result",
          "data": {
            "text/plain": [
              "array([0.03403894, 0.07378662, 0.0606532 , 1.        , 0.05231864,\n",
              "       0.05361942, 0.04305033, 0.01963748, 0.03302958, 0.04013632,\n",
              "       0.05650286, 0.04380791, 0.045455  , 0.0360105 , 0.07208718,\n",
              "       0.06037126, 0.02463999, 0.06438099, 0.0261279 , 0.03232211,\n",
              "       0.03084823, 0.04654037, 0.05100054, 0.02586476, 0.01778496,\n",
              "       0.05746612, 0.10967293, 0.0282976 , 0.04640804, 0.02406314,\n",
              "       0.0671682 , 0.03956612, 0.04875229, 0.04437252, 0.02699316,\n",
              "       0.02809418, 0.04223523, 0.02060186, 0.05070264, 0.03129839,\n",
              "       0.02382746, 0.03403162, 0.03612028, 0.0502291 , 0.04674237,\n",
              "       0.07158003, 0.02806686, 0.03066928, 0.07962729, 0.04691775,\n",
              "       0.00644533, 0.0481169 , 0.03853567, 0.03240614, 0.01586077,\n",
              "       0.02972285, 0.06138844, 0.02404479, 0.02269754, 0.03191292,\n",
              "       0.05483523, 0.03238852, 0.10369226, 0.01014625, 0.02365042,\n",
              "       0.07221074, 0.0937075 , 0.06614349, 0.06212896, 0.03717476,\n",
              "       0.03104298, 0.04467526, 0.04421634, 0.0348611 , 0.0419346 ,\n",
              "       0.04463273, 0.08416776, 0.02689952, 0.0765093 , 0.03427164,\n",
              "       0.05688173, 0.03798184, 0.06100084, 0.06977991, 0.043257  ,\n",
              "       0.06593067, 0.07318941, 0.03004147, 0.07785691, 0.03362121,\n",
              "       0.04905523, 0.05165596, 0.0530247 , 0.03135838, 0.03568706,\n",
              "       0.01777612, 0.02582292, 0.06439404, 0.09755842, 0.04048298,\n",
              "       0.02410179, 0.11799301, 0.02372764, 0.03365979, 0.0516431 ,\n",
              "       0.03419398, 0.05102216, 0.03686381, 0.05020573, 0.        ,\n",
              "       0.04703451, 0.06167647, 0.09303921, 0.05049593, 0.04349756,\n",
              "       0.06190237, 0.01970586, 0.0232032 , 0.04319589, 0.03768416,\n",
              "       0.01250471, 0.04833805, 0.03121207, 0.01953039, 0.03584489,\n",
              "       0.04046393, 0.04644173, 0.07827514, 0.06894843, 0.0402017 ,\n",
              "       0.04454245, 0.04634837, 0.07287341, 0.05707715, 0.03935795,\n",
              "       0.02696071, 0.03522189, 0.03972236, 0.04045747, 0.03815843,\n",
              "       0.04161958, 0.05359455, 0.0795967 , 0.04720775, 0.06361119,\n",
              "       0.03409284, 0.09568197, 0.03113103, 0.07496798, 0.06092952,\n",
              "       0.02241252, 0.03758525, 0.02565086, 0.06497691, 0.03866494,\n",
              "       0.09101481, 0.05321531, 0.05776599])"
            ]
          },
          "metadata": {},
          "execution_count": 28
        }
      ]
    },
    {
      "cell_type": "code",
      "metadata": {
        "colab": {
          "base_uri": "https://localhost:8080/"
        },
        "id": "PJHo46YUrBAZ",
        "outputId": "86e12cd5-9b27-48b4-fc28-33e362fa2ffc"
      },
      "source": [
        "indeces = pd.Series(data.index, index=data['title']).drop_duplicates()\n",
        "indeces.head(5)"
      ],
      "execution_count": 29,
      "outputs": [
        {
          "output_type": "execute_result",
          "data": {
            "text/plain": [
              "title\n",
              "GoldenEye                                    9\n",
              "Friday                                      68\n",
              "From Dusk Till Dawn                         69\n",
              "Blue in the Face                           153\n",
              "Mighty Morphin Power Rangers: The Movie    178\n",
              "dtype: int64"
            ]
          },
          "metadata": {},
          "execution_count": 29
        }
      ]
    },
    {
      "cell_type": "code",
      "metadata": {
        "colab": {
          "base_uri": "https://localhost:8080/"
        },
        "id": "xkELYguerjd4",
        "outputId": "4556efa7-54ba-4bfc-9e12-41ec014989ed"
      },
      "source": [
        "indeces['From Dusk Till Dawn']"
      ],
      "execution_count": 30,
      "outputs": [
        {
          "output_type": "execute_result",
          "data": {
            "text/plain": [
              "69"
            ]
          },
          "metadata": {},
          "execution_count": 30
        }
      ]
    },
    {
      "cell_type": "code",
      "metadata": {
        "colab": {
          "base_uri": "https://localhost:8080/"
        },
        "id": "dk08VmH8sRfI",
        "outputId": "8e69f2b3-1588-4b19-f76c-87402f65f2e8"
      },
      "source": [
        "list(cosin_sim[69])"
      ],
      "execution_count": 31,
      "outputs": [
        {
          "output_type": "execute_result",
          "data": {
            "text/plain": [
              "[0.0727441763199051,\n",
              " 0.02892051203972273,\n",
              " 0.02996503077446317,\n",
              " 0.037174758464543475,\n",
              " 0.02346836061741026,\n",
              " 0.021246298385504493,\n",
              " 0.03633447712794377,\n",
              " 0.02409510202753557,\n",
              " 0.06229400104850713,\n",
              " 0.03702937763287602,\n",
              " 0.02266926258350839,\n",
              " 0.03550986180781372,\n",
              " 0.04067791017893172,\n",
              " 0.02258712427618866,\n",
              " 0.055681642758578426,\n",
              " 0.03285809837552814,\n",
              " 0.008864996791036644,\n",
              " 0.051654345203359445,\n",
              " 0.036543295302026296,\n",
              " 0.05436611020060969,\n",
              " 0.033444124944652376,\n",
              " 0.034369941078449484,\n",
              " 0.015738855191422714,\n",
              " 0.04867096565015526,\n",
              " 0.0165640075249569,\n",
              " 0.045349328897193536,\n",
              " 0.046479507343680074,\n",
              " 0.02335116601519331,\n",
              " 0.03414460067128391,\n",
              " 0.01880098894929399,\n",
              " 0.03749684968923591,\n",
              " 0.03495873912734175,\n",
              " 0.028904142549040543,\n",
              " 0.07653702067400137,\n",
              " 0.0420053856954951,\n",
              " 0.01887417858509342,\n",
              " 0.03899075747625005,\n",
              " 0.018905351270920575,\n",
              " 0.0581371686844761,\n",
              " 0.06256835081107805,\n",
              " 0.06418018781492944,\n",
              " 0.02818557476486423,\n",
              " 0.012636801969483472,\n",
              " 0.03411513362071413,\n",
              " 0.022011528214427596,\n",
              " 0.04084155794601536,\n",
              " 0.023258756302241734,\n",
              " 0.019434400902220792,\n",
              " 0.011090334694260625,\n",
              " 0.03129096914175193,\n",
              " 0.04968739277034367,\n",
              " 0.03873771943547791,\n",
              " 0.034845850090862746,\n",
              " 0.03605364586541966,\n",
              " 0.0548995128641066,\n",
              " 0.02896844624837778,\n",
              " 0.12396013932603699,\n",
              " 0.017560212468627247,\n",
              " 0.022379533800444853,\n",
              " 0.016716442893773248,\n",
              " 0.028666856516304462,\n",
              " 0.012784701549151406,\n",
              " 0.1021239662265584,\n",
              " 0.03605753708829086,\n",
              " 0.01856145411679454,\n",
              " 0.007536792238047464,\n",
              " 0.03627565301897282,\n",
              " 0.14772757089625846,\n",
              " 0.07863939654572888,\n",
              " 1.0000000000000002,\n",
              " 0.06490919638216405,\n",
              " 0.11846245157106666,\n",
              " 0.06759477729852406,\n",
              " 0.007901538716347259,\n",
              " 0.11163546861489206,\n",
              " 0.01962351198325638,\n",
              " 0.01181452076934861,\n",
              " 0.018959047441475984,\n",
              " 0.0777240551998175,\n",
              " 0.051627310335658996,\n",
              " 0.06704982880658902,\n",
              " 0.028672356399621114,\n",
              " 0.07708831666547515,\n",
              " 0.15998660887787308,\n",
              " 0.06751206299021836,\n",
              " 0.10414294242114651,\n",
              " 0.04845924109409865,\n",
              " 0.0717245949157262,\n",
              " 0.10207971087196481,\n",
              " 0.03816176849889954,\n",
              " 0.09094390029051094,\n",
              " 0.06753700009620281,\n",
              " 0.049070838287092515,\n",
              " 0.034855063923446575,\n",
              " 0.024062479484665455,\n",
              " 0.030183934970486534,\n",
              " 0.06296895414834959,\n",
              " 0.023769001423475638,\n",
              " 0.030156580008166636,\n",
              " 0.03376180402655872,\n",
              " 0.061113241865163405,\n",
              " 0.037795124213644886,\n",
              " 0.013543880450032412,\n",
              " 0.05214196347976607,\n",
              " 0.017136047440244224,\n",
              " 0.0545485044703303,\n",
              " 0.03825794763419014,\n",
              " 0.04060438050660771,\n",
              " 0.03959379257603307,\n",
              " 0.007428128800515271,\n",
              " 0.04368412791359948,\n",
              " 0.03345980038521615,\n",
              " 0.07328169202429911,\n",
              " 0.0689153492778048,\n",
              " 0.04811438035541243,\n",
              " 0.04703552901593579,\n",
              " 0.014362995369105555,\n",
              " 0.014307027867566774,\n",
              " 0.06985103392068573,\n",
              " 0.029171828881181305,\n",
              " 0.006024975732732928,\n",
              " 0.014747555638018852,\n",
              " 0.030870304828824347,\n",
              " 0.030274526518226395,\n",
              " 0.053070918929712795,\n",
              " 0.011049442309096387,\n",
              " 0.05400170634573909,\n",
              " 0.019459697602779054,\n",
              " 0.016100559847618837,\n",
              " 0.03879250264403164,\n",
              " 0.028407275208326067,\n",
              " 0.023713241492282357,\n",
              " 0.04701350455478659,\n",
              " 0.1189225068324697,\n",
              " 0.055885332432776914,\n",
              " 0.020799280936346448,\n",
              " 0.04803360538836958,\n",
              " 0.13396597843861469,\n",
              " 0.12763954217361856,\n",
              " 0.08967898602019628,\n",
              " 0.07594087445235678,\n",
              " 0.02408693980023397,\n",
              " 0.08666987642376395,\n",
              " 0.06478599766441434,\n",
              " 0.028746339265731016,\n",
              " 0.03514313566038776,\n",
              " 0.0534815153722194,\n",
              " 0.021863433525886794,\n",
              " 0.05246406756710896,\n",
              " 0.0948290631705181,\n",
              " 0.006121010082791553,\n",
              " 0.026997757361824554,\n",
              " 0.03204387494829313,\n",
              " 0.019101143576897628,\n",
              " 0.041909783109255964,\n",
              " 0.03110393121739402,\n",
              " 0.042092553084743786,\n",
              " 0.044729912840070066]"
            ]
          },
          "metadata": {},
          "execution_count": 31
        }
      ]
    },
    {
      "cell_type": "code",
      "metadata": {
        "colab": {
          "base_uri": "https://localhost:8080/"
        },
        "id": "FYs7JjURxgeG",
        "outputId": "749f160b-2cef-48e4-98df-3ce47f3980ff"
      },
      "source": [
        "cosin_list = list(enumerate(cosin_sim[69]))\n",
        "cosin_list"
      ],
      "execution_count": 35,
      "outputs": [
        {
          "output_type": "execute_result",
          "data": {
            "text/plain": [
              "[(0, 0.0727441763199051),\n",
              " (1, 0.02892051203972273),\n",
              " (2, 0.02996503077446317),\n",
              " (3, 0.037174758464543475),\n",
              " (4, 0.02346836061741026),\n",
              " (5, 0.021246298385504493),\n",
              " (6, 0.03633447712794377),\n",
              " (7, 0.02409510202753557),\n",
              " (8, 0.06229400104850713),\n",
              " (9, 0.03702937763287602),\n",
              " (10, 0.02266926258350839),\n",
              " (11, 0.03550986180781372),\n",
              " (12, 0.04067791017893172),\n",
              " (13, 0.02258712427618866),\n",
              " (14, 0.055681642758578426),\n",
              " (15, 0.03285809837552814),\n",
              " (16, 0.008864996791036644),\n",
              " (17, 0.051654345203359445),\n",
              " (18, 0.036543295302026296),\n",
              " (19, 0.05436611020060969),\n",
              " (20, 0.033444124944652376),\n",
              " (21, 0.034369941078449484),\n",
              " (22, 0.015738855191422714),\n",
              " (23, 0.04867096565015526),\n",
              " (24, 0.0165640075249569),\n",
              " (25, 0.045349328897193536),\n",
              " (26, 0.046479507343680074),\n",
              " (27, 0.02335116601519331),\n",
              " (28, 0.03414460067128391),\n",
              " (29, 0.01880098894929399),\n",
              " (30, 0.03749684968923591),\n",
              " (31, 0.03495873912734175),\n",
              " (32, 0.028904142549040543),\n",
              " (33, 0.07653702067400137),\n",
              " (34, 0.0420053856954951),\n",
              " (35, 0.01887417858509342),\n",
              " (36, 0.03899075747625005),\n",
              " (37, 0.018905351270920575),\n",
              " (38, 0.0581371686844761),\n",
              " (39, 0.06256835081107805),\n",
              " (40, 0.06418018781492944),\n",
              " (41, 0.02818557476486423),\n",
              " (42, 0.012636801969483472),\n",
              " (43, 0.03411513362071413),\n",
              " (44, 0.022011528214427596),\n",
              " (45, 0.04084155794601536),\n",
              " (46, 0.023258756302241734),\n",
              " (47, 0.019434400902220792),\n",
              " (48, 0.011090334694260625),\n",
              " (49, 0.03129096914175193),\n",
              " (50, 0.04968739277034367),\n",
              " (51, 0.03873771943547791),\n",
              " (52, 0.034845850090862746),\n",
              " (53, 0.03605364586541966),\n",
              " (54, 0.0548995128641066),\n",
              " (55, 0.02896844624837778),\n",
              " (56, 0.12396013932603699),\n",
              " (57, 0.017560212468627247),\n",
              " (58, 0.022379533800444853),\n",
              " (59, 0.016716442893773248),\n",
              " (60, 0.028666856516304462),\n",
              " (61, 0.012784701549151406),\n",
              " (62, 0.1021239662265584),\n",
              " (63, 0.03605753708829086),\n",
              " (64, 0.01856145411679454),\n",
              " (65, 0.007536792238047464),\n",
              " (66, 0.03627565301897282),\n",
              " (67, 0.14772757089625846),\n",
              " (68, 0.07863939654572888),\n",
              " (69, 1.0000000000000002),\n",
              " (70, 0.06490919638216405),\n",
              " (71, 0.11846245157106666),\n",
              " (72, 0.06759477729852406),\n",
              " (73, 0.007901538716347259),\n",
              " (74, 0.11163546861489206),\n",
              " (75, 0.01962351198325638),\n",
              " (76, 0.01181452076934861),\n",
              " (77, 0.018959047441475984),\n",
              " (78, 0.0777240551998175),\n",
              " (79, 0.051627310335658996),\n",
              " (80, 0.06704982880658902),\n",
              " (81, 0.028672356399621114),\n",
              " (82, 0.07708831666547515),\n",
              " (83, 0.15998660887787308),\n",
              " (84, 0.06751206299021836),\n",
              " (85, 0.10414294242114651),\n",
              " (86, 0.04845924109409865),\n",
              " (87, 0.0717245949157262),\n",
              " (88, 0.10207971087196481),\n",
              " (89, 0.03816176849889954),\n",
              " (90, 0.09094390029051094),\n",
              " (91, 0.06753700009620281),\n",
              " (92, 0.049070838287092515),\n",
              " (93, 0.034855063923446575),\n",
              " (94, 0.024062479484665455),\n",
              " (95, 0.030183934970486534),\n",
              " (96, 0.06296895414834959),\n",
              " (97, 0.023769001423475638),\n",
              " (98, 0.030156580008166636),\n",
              " (99, 0.03376180402655872),\n",
              " (100, 0.061113241865163405),\n",
              " (101, 0.037795124213644886),\n",
              " (102, 0.013543880450032412),\n",
              " (103, 0.05214196347976607),\n",
              " (104, 0.017136047440244224),\n",
              " (105, 0.0545485044703303),\n",
              " (106, 0.03825794763419014),\n",
              " (107, 0.04060438050660771),\n",
              " (108, 0.03959379257603307),\n",
              " (109, 0.007428128800515271),\n",
              " (110, 0.04368412791359948),\n",
              " (111, 0.03345980038521615),\n",
              " (112, 0.07328169202429911),\n",
              " (113, 0.0689153492778048),\n",
              " (114, 0.04811438035541243),\n",
              " (115, 0.04703552901593579),\n",
              " (116, 0.014362995369105555),\n",
              " (117, 0.014307027867566774),\n",
              " (118, 0.06985103392068573),\n",
              " (119, 0.029171828881181305),\n",
              " (120, 0.006024975732732928),\n",
              " (121, 0.014747555638018852),\n",
              " (122, 0.030870304828824347),\n",
              " (123, 0.030274526518226395),\n",
              " (124, 0.053070918929712795),\n",
              " (125, 0.011049442309096387),\n",
              " (126, 0.05400170634573909),\n",
              " (127, 0.019459697602779054),\n",
              " (128, 0.016100559847618837),\n",
              " (129, 0.03879250264403164),\n",
              " (130, 0.028407275208326067),\n",
              " (131, 0.023713241492282357),\n",
              " (132, 0.04701350455478659),\n",
              " (133, 0.1189225068324697),\n",
              " (134, 0.055885332432776914),\n",
              " (135, 0.020799280936346448),\n",
              " (136, 0.04803360538836958),\n",
              " (137, 0.13396597843861469),\n",
              " (138, 0.12763954217361856),\n",
              " (139, 0.08967898602019628),\n",
              " (140, 0.07594087445235678),\n",
              " (141, 0.02408693980023397),\n",
              " (142, 0.08666987642376395),\n",
              " (143, 0.06478599766441434),\n",
              " (144, 0.028746339265731016),\n",
              " (145, 0.03514313566038776),\n",
              " (146, 0.0534815153722194),\n",
              " (147, 0.021863433525886794),\n",
              " (148, 0.05246406756710896),\n",
              " (149, 0.0948290631705181),\n",
              " (150, 0.006121010082791553),\n",
              " (151, 0.026997757361824554),\n",
              " (152, 0.03204387494829313),\n",
              " (153, 0.019101143576897628),\n",
              " (154, 0.041909783109255964),\n",
              " (155, 0.03110393121739402),\n",
              " (156, 0.042092553084743786),\n",
              " (157, 0.044729912840070066)]"
            ]
          },
          "metadata": {},
          "execution_count": 35
        }
      ]
    },
    {
      "cell_type": "code",
      "metadata": {
        "colab": {
          "base_uri": "https://localhost:8080/",
          "height": 129
        },
        "id": "I0njrREus5Gm",
        "outputId": "54f319d7-7892-4c03-c493-1cbfa208b4f6"
      },
      "source": [
        "cosin_index = sorted(list(cosin_list, key=lambda x:x[1], reverse=True)\n",
        "# cosin_index[1:11]"
      ],
      "execution_count": 41,
      "outputs": [
        {
          "output_type": "error",
          "ename": "SyntaxError",
          "evalue": "ignored",
          "traceback": [
            "\u001b[0;36m  File \u001b[0;32m\"<ipython-input-41-724459555454>\"\u001b[0;36m, line \u001b[0;32m2\u001b[0m\n\u001b[0;31m    # cosin_index[1:11]\u001b[0m\n\u001b[0m                       ^\u001b[0m\n\u001b[0;31mSyntaxError\u001b[0m\u001b[0;31m:\u001b[0m unexpected EOF while parsing\n"
          ]
        }
      ]
    },
    {
      "cell_type": "code",
      "metadata": {
        "id": "3bwXX_h2s_Hp"
      },
      "source": [
        "data.iloc[]movie"
      ],
      "execution_count": null,
      "outputs": []
    }
  ]
}