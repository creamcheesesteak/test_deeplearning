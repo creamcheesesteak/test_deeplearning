{
  "nbformat": 4,
  "nbformat_minor": 0,
  "metadata": {
    "colab": {
      "name": "win_deeplearning_practice.ipynb",
      "provenance": [],
      "authorship_tag": "ABX9TyNdrDAtOVxFeq5FbHdwJFXN",
      "include_colab_link": true
    },
    "kernelspec": {
      "name": "python3",
      "display_name": "Python 3"
    },
    "language_info": {
      "name": "python"
    }
  },
  "cells": [
    {
      "cell_type": "markdown",
      "metadata": {
        "id": "view-in-github",
        "colab_type": "text"
      },
      "source": [
        "<a href=\"https://colab.research.google.com/github/creamcheesesteak/test_deeplearning/blob/master/wine_deeplearning_practice.ipynb\" target=\"_parent\"><img src=\"https://colab.research.google.com/assets/colab-badge.svg\" alt=\"Open In Colab\"/></a>"
      ]
    },
    {
      "cell_type": "code",
      "metadata": {
        "id": "TziyfzpGpwJM"
      },
      "source": [
        "from sklearn import datasets\n",
        "import numpy as np"
      ],
      "execution_count": 1,
      "outputs": []
    },
    {
      "cell_type": "code",
      "metadata": {
        "id": "qJlQmr5ppwr0"
      },
      "source": [
        "wine = datasets.load_wine()"
      ],
      "execution_count": 2,
      "outputs": []
    },
    {
      "cell_type": "code",
      "metadata": {
        "colab": {
          "base_uri": "https://localhost:8080/"
        },
        "id": "Hq2WNWyepwy-",
        "outputId": "e2f410dc-6296-400c-a72b-7dd8099cc7eb"
      },
      "source": [
        "wine.keys()  # 'target'은 y의 data임 "
      ],
      "execution_count": 3,
      "outputs": [
        {
          "output_type": "execute_result",
          "data": {
            "text/plain": [
              "dict_keys(['data', 'target', 'target_names', 'DESCR', 'feature_names'])"
            ]
          },
          "metadata": {
            "tags": []
          },
          "execution_count": 3
        }
      ]
    },
    {
      "cell_type": "code",
      "metadata": {
        "colab": {
          "base_uri": "https://localhost:8080/"
        },
        "id": "Zmfhxvlmpw6u",
        "outputId": "9c9dea32-b334-4fd4-e290-ee85f7bed995"
      },
      "source": [
        "x_data = wine['data']\n",
        "x_data.shape"
      ],
      "execution_count": 4,
      "outputs": [
        {
          "output_type": "execute_result",
          "data": {
            "text/plain": [
              "(178, 13)"
            ]
          },
          "metadata": {
            "tags": []
          },
          "execution_count": 4
        }
      ]
    },
    {
      "cell_type": "code",
      "metadata": {
        "colab": {
          "base_uri": "https://localhost:8080/"
        },
        "id": "GMxDUP3VpxAK",
        "outputId": "4d7673bc-a008-43c3-f49d-16707a4d620f"
      },
      "source": [
        "y_data = wine['target']\n",
        "y_data.shape"
      ],
      "execution_count": 5,
      "outputs": [
        {
          "output_type": "execute_result",
          "data": {
            "text/plain": [
              "(178,)"
            ]
          },
          "metadata": {
            "tags": []
          },
          "execution_count": 5
        }
      ]
    },
    {
      "cell_type": "code",
      "metadata": {
        "id": "6VFUGiDd6i9r"
      },
      "source": [
        "data = np.c_[x_data, y_data]"
      ],
      "execution_count": 6,
      "outputs": []
    },
    {
      "cell_type": "markdown",
      "metadata": {
        "id": "vhr0NIoIqM4n"
      },
      "source": [
        "# data to DB 저장 + table(data, target)"
      ]
    },
    {
      "cell_type": "code",
      "metadata": {
        "id": "nle__IocpxH8"
      },
      "source": [
        "import pandas as pd\n",
        "\n",
        "df_wine = pd.DataFrame(data)"
      ],
      "execution_count": 7,
      "outputs": []
    },
    {
      "cell_type": "code",
      "metadata": {
        "id": "LuW63J7M6Kxb"
      },
      "source": [
        "# df_wine.iloc[:, 0:12]"
      ],
      "execution_count": 8,
      "outputs": []
    },
    {
      "cell_type": "code",
      "metadata": {
        "id": "lS7xoqSrpxMQ"
      },
      "source": [
        "import sqlite3\n",
        "connect = sqlite3.connect('./db.sqlite3')\n",
        "df_wine.to_sql('wine_dataframe', connect, if_exists='append', index=False)"
      ],
      "execution_count": 9,
      "outputs": []
    },
    {
      "cell_type": "markdown",
      "metadata": {
        "id": "IvHG8R4qrvDW"
      },
      "source": [
        "# DB 불러오기"
      ]
    },
    {
      "cell_type": "code",
      "metadata": {
        "id": "Sr3V44ZepxRS"
      },
      "source": [
        "df_load = pd.read_sql_query('select * from wine_dataframe', connect)"
      ],
      "execution_count": 10,
      "outputs": []
    },
    {
      "cell_type": "code",
      "metadata": {
        "colab": {
          "base_uri": "https://localhost:8080/"
        },
        "id": "kOLLxTCr6538",
        "outputId": "5c0d3479-4c98-4bc1-8ef9-8a3ae683d1c8"
      },
      "source": [
        "df_load.shape"
      ],
      "execution_count": 11,
      "outputs": [
        {
          "output_type": "execute_result",
          "data": {
            "text/plain": [
              "(178, 14)"
            ]
          },
          "metadata": {
            "tags": []
          },
          "execution_count": 11
        }
      ]
    },
    {
      "cell_type": "code",
      "metadata": {
        "id": "HpPI9DSf65y0"
      },
      "source": [
        "# df_load.iloc[:, 0:13]"
      ],
      "execution_count": 12,
      "outputs": []
    },
    {
      "cell_type": "code",
      "metadata": {
        "colab": {
          "base_uri": "https://localhost:8080/"
        },
        "id": "0iilZkbQ65uT",
        "outputId": "1874eb8c-1eab-4986-860d-0e09253261bc"
      },
      "source": [
        "x_data = df_load.iloc[:, 0:13].to_numpy()\n",
        "x_data.shape"
      ],
      "execution_count": 13,
      "outputs": [
        {
          "output_type": "execute_result",
          "data": {
            "text/plain": [
              "(178, 13)"
            ]
          },
          "metadata": {
            "tags": []
          },
          "execution_count": 13
        }
      ]
    },
    {
      "cell_type": "code",
      "metadata": {
        "colab": {
          "base_uri": "https://localhost:8080/"
        },
        "id": "tadPn0qY7dIa",
        "outputId": "55ea4df6-6bb1-4237-c634-8475033f7cde"
      },
      "source": [
        "y_data = df_load.iloc[:, 13:14].to_numpy()\n",
        "y_data.shape"
      ],
      "execution_count": 14,
      "outputs": [
        {
          "output_type": "execute_result",
          "data": {
            "text/plain": [
              "(178, 1)"
            ]
          },
          "metadata": {
            "tags": []
          },
          "execution_count": 14
        }
      ]
    },
    {
      "cell_type": "code",
      "metadata": {
        "colab": {
          "base_uri": "https://localhost:8080/"
        },
        "id": "MTHIqAtfs6Fy",
        "outputId": "30091639-5724-42a2-eaa3-4f5b7368e302"
      },
      "source": [
        "np.unique(y_data)"
      ],
      "execution_count": 15,
      "outputs": [
        {
          "output_type": "execute_result",
          "data": {
            "text/plain": [
              "array([0., 1., 2.])"
            ]
          },
          "metadata": {
            "tags": []
          },
          "execution_count": 15
        }
      ]
    },
    {
      "cell_type": "markdown",
      "metadata": {
        "id": "52eke9jaulom"
      },
      "source": [
        "# 데이터 전처리, split"
      ]
    },
    {
      "cell_type": "code",
      "metadata": {
        "id": "tfGSIbOWulUu"
      },
      "source": [
        "from sklearn.preprocessing import StandardScaler\n",
        "from sklearn.model_selection import train_test_split"
      ],
      "execution_count": 16,
      "outputs": []
    },
    {
      "cell_type": "code",
      "metadata": {
        "id": "I4--vIhmvMkQ"
      },
      "source": [
        "x_train, x_test, y_train, y_test = train_test_split(x_data, y_data, test_size=0.3)"
      ],
      "execution_count": 17,
      "outputs": []
    },
    {
      "cell_type": "code",
      "metadata": {
        "colab": {
          "base_uri": "https://localhost:8080/"
        },
        "id": "x8RYhKJyuna5",
        "outputId": "adb674f5-95b7-4348-9b71-fb688d9e4e82"
      },
      "source": [
        "scaler = StandardScaler()\n",
        "scaler.fit(x_train)\n",
        "scaler.fit(x_test)"
      ],
      "execution_count": 18,
      "outputs": [
        {
          "output_type": "execute_result",
          "data": {
            "text/plain": [
              "StandardScaler(copy=True, with_mean=True, with_std=True)"
            ]
          },
          "metadata": {
            "tags": []
          },
          "execution_count": 18
        }
      ]
    },
    {
      "cell_type": "code",
      "metadata": {
        "colab": {
          "base_uri": "https://localhost:8080/"
        },
        "id": "yNq06bl3ungk",
        "outputId": "8742ff5c-4c24-4691-cea5-2315288bc128"
      },
      "source": [
        "x_train = scaler.transform(x_train)\n",
        "x_test = scaler.transform(x_test)\n",
        "x_train.shape, x_test.shape"
      ],
      "execution_count": 19,
      "outputs": [
        {
          "output_type": "execute_result",
          "data": {
            "text/plain": [
              "((124, 13), (54, 13))"
            ]
          },
          "metadata": {
            "tags": []
          },
          "execution_count": 19
        }
      ]
    },
    {
      "cell_type": "markdown",
      "metadata": {
        "id": "EvGlyUpms4Pm"
      },
      "source": [
        "deeplearning model 만들기"
      ]
    },
    {
      "cell_type": "code",
      "metadata": {
        "id": "JequwzBwpxwM"
      },
      "source": [
        "import tensorflow as tf"
      ],
      "execution_count": 20,
      "outputs": []
    },
    {
      "cell_type": "code",
      "metadata": {
        "id": "1AFyRPVspx1c"
      },
      "source": [
        "model = tf.keras.Sequential()"
      ],
      "execution_count": 21,
      "outputs": []
    },
    {
      "cell_type": "code",
      "metadata": {
        "colab": {
          "base_uri": "https://localhost:8080/"
        },
        "id": "GhUvVqDKtI0I",
        "outputId": "0529830a-45e4-4f43-a1ba-51116669b1af"
      },
      "source": [
        "model.add(tf.keras.Input(13, )) # input layer\n",
        "model.add(tf.keras.layers.Dense(64, activation='relu')) # hidden layer\n",
        "model.add(tf.keras.layers.Dense(32, activation='relu')) # hidden layer\n",
        "model.add(tf.keras.layers.Dense(3, activation='softmax')) # output layer\n",
        "\n",
        "model.compile(optimizer='sgd', loss='sparse_categorical_crossentropy', metrics=['acc'])"
      ],
      "execution_count": 22,
      "outputs": [
        {
          "output_type": "stream",
          "text": [
            "WARNING:tensorflow:Please add `keras.layers.InputLayer` instead of `keras.Input` to Sequential model. `keras.Input` is intended to be used by Functional model.\n"
          ],
          "name": "stdout"
        }
      ]
    },
    {
      "cell_type": "code",
      "metadata": {
        "colab": {
          "base_uri": "https://localhost:8080/",
          "height": 422
        },
        "id": "Erg5scEfpx7J",
        "outputId": "5537eeb4-2019-476d-f24d-19850c51b983"
      },
      "source": [
        "tf.keras.utils.plot_model(model, show_shapes=True)"
      ],
      "execution_count": 23,
      "outputs": [
        {
          "output_type": "execute_result",
          "data": {
            "image/png": "[encoded data removed]",
            "text/plain": [
              "<IPython.core.display.Image object>"
            ]
          },
          "metadata": {
            "tags": []
          },
          "execution_count": 23
        }
      ]
    },
    {
      "cell_type": "markdown",
      "metadata": {
        "id": "e10DLwHS8cnc"
      },
      "source": [
        "# 교육"
      ]
    },
    {
      "cell_type": "code",
      "metadata": {
        "colab": {
          "base_uri": "https://localhost:8080/"
        },
        "id": "bk3ebUzCyGHv",
        "outputId": "d28b92a1-ce5a-48c8-fdde-44e0bc88e98e"
      },
      "source": [
        "hist = model.fit(x_train, y_train, epochs=100, validation_split=0.3)"
      ],
      "execution_count": 24,
      "outputs": [
        {
          "output_type": "stream",
          "text": [
            "Epoch 1/100\n",
            "3/3 [==============================] - 1s 91ms/step - loss: 1.1348 - acc: 0.4070 - val_loss: 1.0899 - val_acc: 0.3421\n",
            "Epoch 2/100\n",
            "3/3 [==============================] - 0s 13ms/step - loss: 1.0971 - acc: 0.4419 - val_loss: 1.0546 - val_acc: 0.3684\n",
            "Epoch 3/100\n",
            "3/3 [==============================] - 0s 23ms/step - loss: 1.0623 - acc: 0.4535 - val_loss: 1.0219 - val_acc: 0.4474\n",
            "Epoch 4/100\n",
            "3/3 [==============================] - 0s 13ms/step - loss: 1.0292 - acc: 0.4767 - val_loss: 0.9917 - val_acc: 0.4737\n",
            "Epoch 5/100\n",
            "3/3 [==============================] - 0s 12ms/step - loss: 0.9987 - acc: 0.5233 - val_loss: 0.9633 - val_acc: 0.5263\n",
            "Epoch 6/100\n",
            "3/3 [==============================] - 0s 12ms/step - loss: 0.9705 - acc: 0.5349 - val_loss: 0.9365 - val_acc: 0.5789\n",
            "Epoch 7/100\n",
            "3/3 [==============================] - 0s 12ms/step - loss: 0.9427 - acc: 0.5465 - val_loss: 0.9119 - val_acc: 0.6316\n",
            "Epoch 8/100\n",
            "3/3 [==============================] - 0s 12ms/step - loss: 0.9177 - acc: 0.6047 - val_loss: 0.8888 - val_acc: 0.6316\n",
            "Epoch 9/100\n",
            "3/3 [==============================] - 0s 17ms/step - loss: 0.8940 - acc: 0.6279 - val_loss: 0.8665 - val_acc: 0.6579\n",
            "Epoch 10/100\n",
            "3/3 [==============================] - 0s 15ms/step - loss: 0.8712 - acc: 0.6395 - val_loss: 0.8450 - val_acc: 0.6842\n",
            "Epoch 11/100\n",
            "3/3 [==============================] - 0s 21ms/step - loss: 0.8488 - acc: 0.6512 - val_loss: 0.8247 - val_acc: 0.7105\n",
            "Epoch 12/100\n",
            "3/3 [==============================] - 0s 16ms/step - loss: 0.8277 - acc: 0.6744 - val_loss: 0.8053 - val_acc: 0.7368\n",
            "Epoch 13/100\n",
            "3/3 [==============================] - 0s 13ms/step - loss: 0.8078 - acc: 0.6977 - val_loss: 0.7869 - val_acc: 0.7105\n",
            "Epoch 14/100\n",
            "3/3 [==============================] - 0s 13ms/step - loss: 0.7885 - acc: 0.6977 - val_loss: 0.7690 - val_acc: 0.7105\n",
            "Epoch 15/100\n",
            "3/3 [==============================] - 0s 15ms/step - loss: 0.7701 - acc: 0.7326 - val_loss: 0.7521 - val_acc: 0.7105\n",
            "Epoch 16/100\n",
            "3/3 [==============================] - 0s 17ms/step - loss: 0.7523 - acc: 0.7326 - val_loss: 0.7358 - val_acc: 0.7105\n",
            "Epoch 17/100\n",
            "3/3 [==============================] - 0s 19ms/step - loss: 0.7351 - acc: 0.7326 - val_loss: 0.7202 - val_acc: 0.7368\n",
            "Epoch 18/100\n",
            "3/3 [==============================] - 0s 13ms/step - loss: 0.7188 - acc: 0.7442 - val_loss: 0.7049 - val_acc: 0.7368\n",
            "Epoch 19/100\n",
            "3/3 [==============================] - 0s 14ms/step - loss: 0.7033 - acc: 0.7442 - val_loss: 0.6898 - val_acc: 0.7368\n",
            "Epoch 20/100\n",
            "3/3 [==============================] - 0s 14ms/step - loss: 0.6875 - acc: 0.7442 - val_loss: 0.6754 - val_acc: 0.8158\n",
            "Epoch 21/100\n",
            "3/3 [==============================] - 0s 14ms/step - loss: 0.6723 - acc: 0.7442 - val_loss: 0.6614 - val_acc: 0.8684\n",
            "Epoch 22/100\n",
            "3/3 [==============================] - 0s 12ms/step - loss: 0.6583 - acc: 0.7674 - val_loss: 0.6475 - val_acc: 0.8684\n",
            "Epoch 23/100\n",
            "3/3 [==============================] - 0s 15ms/step - loss: 0.6444 - acc: 0.7791 - val_loss: 0.6343 - val_acc: 0.8684\n",
            "Epoch 24/100\n",
            "3/3 [==============================] - 0s 13ms/step - loss: 0.6306 - acc: 0.8023 - val_loss: 0.6217 - val_acc: 0.8684\n",
            "Epoch 25/100\n",
            "3/3 [==============================] - 0s 12ms/step - loss: 0.6174 - acc: 0.8140 - val_loss: 0.6093 - val_acc: 0.8684\n",
            "Epoch 26/100\n",
            "3/3 [==============================] - 0s 11ms/step - loss: 0.6047 - acc: 0.8140 - val_loss: 0.5972 - val_acc: 0.8684\n",
            "Epoch 27/100\n",
            "3/3 [==============================] - 0s 15ms/step - loss: 0.5921 - acc: 0.8372 - val_loss: 0.5856 - val_acc: 0.8684\n",
            "Epoch 28/100\n",
            "3/3 [==============================] - 0s 14ms/step - loss: 0.5800 - acc: 0.8488 - val_loss: 0.5742 - val_acc: 0.8684\n",
            "Epoch 29/100\n",
            "3/3 [==============================] - 0s 13ms/step - loss: 0.5681 - acc: 0.8488 - val_loss: 0.5631 - val_acc: 0.8684\n",
            "Epoch 30/100\n",
            "3/3 [==============================] - 0s 15ms/step - loss: 0.5563 - acc: 0.8605 - val_loss: 0.5524 - val_acc: 0.8684\n",
            "Epoch 31/100\n",
            "3/3 [==============================] - 0s 15ms/step - loss: 0.5450 - acc: 0.8721 - val_loss: 0.5418 - val_acc: 0.8684\n",
            "Epoch 32/100\n",
            "3/3 [==============================] - 0s 13ms/step - loss: 0.5337 - acc: 0.8837 - val_loss: 0.5314 - val_acc: 0.8684\n",
            "Epoch 33/100\n",
            "3/3 [==============================] - 0s 15ms/step - loss: 0.5232 - acc: 0.8837 - val_loss: 0.5212 - val_acc: 0.8684\n",
            "Epoch 34/100\n",
            "3/3 [==============================] - 0s 15ms/step - loss: 0.5132 - acc: 0.9070 - val_loss: 0.5115 - val_acc: 0.8684\n",
            "Epoch 35/100\n",
            "3/3 [==============================] - 0s 13ms/step - loss: 0.5025 - acc: 0.9186 - val_loss: 0.5017 - val_acc: 0.8684\n",
            "Epoch 36/100\n",
            "3/3 [==============================] - 0s 13ms/step - loss: 0.4925 - acc: 0.9186 - val_loss: 0.4924 - val_acc: 0.8684\n",
            "Epoch 37/100\n",
            "3/3 [==============================] - 0s 15ms/step - loss: 0.4829 - acc: 0.9302 - val_loss: 0.4832 - val_acc: 0.8684\n",
            "Epoch 38/100\n",
            "3/3 [==============================] - 0s 14ms/step - loss: 0.4730 - acc: 0.9302 - val_loss: 0.4741 - val_acc: 0.8684\n",
            "Epoch 39/100\n",
            "3/3 [==============================] - 0s 12ms/step - loss: 0.4636 - acc: 0.9419 - val_loss: 0.4654 - val_acc: 0.8684\n",
            "Epoch 40/100\n",
            "3/3 [==============================] - 0s 12ms/step - loss: 0.4543 - acc: 0.9419 - val_loss: 0.4567 - val_acc: 0.8684\n",
            "Epoch 41/100\n",
            "3/3 [==============================] - 0s 14ms/step - loss: 0.4452 - acc: 0.9419 - val_loss: 0.4482 - val_acc: 0.8684\n",
            "Epoch 42/100\n",
            "3/3 [==============================] - 0s 15ms/step - loss: 0.4365 - acc: 0.9419 - val_loss: 0.4400 - val_acc: 0.8684\n",
            "Epoch 43/100\n",
            "3/3 [==============================] - 0s 15ms/step - loss: 0.4277 - acc: 0.9419 - val_loss: 0.4318 - val_acc: 0.8684\n",
            "Epoch 44/100\n",
            "3/3 [==============================] - 0s 15ms/step - loss: 0.4191 - acc: 0.9419 - val_loss: 0.4240 - val_acc: 0.8684\n",
            "Epoch 45/100\n",
            "3/3 [==============================] - 0s 14ms/step - loss: 0.4107 - acc: 0.9419 - val_loss: 0.4163 - val_acc: 0.8684\n",
            "Epoch 46/100\n",
            "3/3 [==============================] - 0s 12ms/step - loss: 0.4026 - acc: 0.9535 - val_loss: 0.4087 - val_acc: 0.8684\n",
            "Epoch 47/100\n",
            "3/3 [==============================] - 0s 12ms/step - loss: 0.3946 - acc: 0.9651 - val_loss: 0.4012 - val_acc: 0.8684\n",
            "Epoch 48/100\n",
            "3/3 [==============================] - 0s 21ms/step - loss: 0.3868 - acc: 0.9651 - val_loss: 0.3939 - val_acc: 0.8684\n",
            "Epoch 49/100\n",
            "3/3 [==============================] - 0s 12ms/step - loss: 0.3793 - acc: 0.9651 - val_loss: 0.3869 - val_acc: 0.8684\n",
            "Epoch 50/100\n",
            "3/3 [==============================] - 0s 14ms/step - loss: 0.3716 - acc: 0.9651 - val_loss: 0.3799 - val_acc: 0.8947\n",
            "Epoch 51/100\n",
            "3/3 [==============================] - 0s 14ms/step - loss: 0.3647 - acc: 0.9767 - val_loss: 0.3732 - val_acc: 0.8947\n",
            "Epoch 52/100\n",
            "3/3 [==============================] - 0s 13ms/step - loss: 0.3570 - acc: 0.9767 - val_loss: 0.3665 - val_acc: 0.9211\n",
            "Epoch 53/100\n",
            "3/3 [==============================] - 0s 12ms/step - loss: 0.3499 - acc: 0.9767 - val_loss: 0.3601 - val_acc: 0.9211\n",
            "Epoch 54/100\n",
            "3/3 [==============================] - 0s 12ms/step - loss: 0.3432 - acc: 0.9767 - val_loss: 0.3538 - val_acc: 0.9211\n",
            "Epoch 55/100\n",
            "3/3 [==============================] - 0s 15ms/step - loss: 0.3363 - acc: 0.9767 - val_loss: 0.3477 - val_acc: 0.9211\n",
            "Epoch 56/100\n",
            "3/3 [==============================] - 0s 16ms/step - loss: 0.3300 - acc: 0.9884 - val_loss: 0.3417 - val_acc: 0.9211\n",
            "Epoch 57/100\n",
            "3/3 [==============================] - 0s 13ms/step - loss: 0.3233 - acc: 0.9884 - val_loss: 0.3358 - val_acc: 0.9211\n",
            "Epoch 58/100\n",
            "3/3 [==============================] - 0s 18ms/step - loss: 0.3170 - acc: 0.9884 - val_loss: 0.3301 - val_acc: 0.9211\n",
            "Epoch 59/100\n",
            "3/3 [==============================] - 0s 14ms/step - loss: 0.3106 - acc: 0.9884 - val_loss: 0.3246 - val_acc: 0.9211\n",
            "Epoch 60/100\n",
            "3/3 [==============================] - 0s 15ms/step - loss: 0.3045 - acc: 0.9884 - val_loss: 0.3192 - val_acc: 0.9211\n",
            "Epoch 61/100\n",
            "3/3 [==============================] - 0s 14ms/step - loss: 0.2984 - acc: 0.9884 - val_loss: 0.3138 - val_acc: 0.9211\n",
            "Epoch 62/100\n",
            "3/3 [==============================] - 0s 16ms/step - loss: 0.2926 - acc: 0.9884 - val_loss: 0.3086 - val_acc: 0.9211\n",
            "Epoch 63/100\n",
            "3/3 [==============================] - 0s 14ms/step - loss: 0.2868 - acc: 0.9884 - val_loss: 0.3036 - val_acc: 0.9211\n",
            "Epoch 64/100\n",
            "3/3 [==============================] - 0s 15ms/step - loss: 0.2813 - acc: 0.9884 - val_loss: 0.2986 - val_acc: 0.9211\n",
            "Epoch 65/100\n",
            "3/3 [==============================] - 0s 13ms/step - loss: 0.2759 - acc: 1.0000 - val_loss: 0.2939 - val_acc: 0.9211\n",
            "Epoch 66/100\n",
            "3/3 [==============================] - 0s 14ms/step - loss: 0.2703 - acc: 1.0000 - val_loss: 0.2892 - val_acc: 0.9211\n",
            "Epoch 67/100\n",
            "3/3 [==============================] - 0s 16ms/step - loss: 0.2651 - acc: 1.0000 - val_loss: 0.2847 - val_acc: 0.9211\n",
            "Epoch 68/100\n",
            "3/3 [==============================] - 0s 13ms/step - loss: 0.2603 - acc: 1.0000 - val_loss: 0.2801 - val_acc: 0.9211\n",
            "Epoch 69/100\n",
            "3/3 [==============================] - 0s 15ms/step - loss: 0.2554 - acc: 1.0000 - val_loss: 0.2757 - val_acc: 0.9211\n",
            "Epoch 70/100\n",
            "3/3 [==============================] - 0s 15ms/step - loss: 0.2506 - acc: 1.0000 - val_loss: 0.2715 - val_acc: 0.9211\n",
            "Epoch 71/100\n",
            "3/3 [==============================] - 0s 16ms/step - loss: 0.2457 - acc: 1.0000 - val_loss: 0.2675 - val_acc: 0.9211\n",
            "Epoch 72/100\n",
            "3/3 [==============================] - 0s 14ms/step - loss: 0.2410 - acc: 1.0000 - val_loss: 0.2634 - val_acc: 0.9211\n",
            "Epoch 73/100\n",
            "3/3 [==============================] - 0s 13ms/step - loss: 0.2365 - acc: 1.0000 - val_loss: 0.2595 - val_acc: 0.9211\n",
            "Epoch 74/100\n",
            "3/3 [==============================] - 0s 13ms/step - loss: 0.2321 - acc: 1.0000 - val_loss: 0.2558 - val_acc: 0.9211\n",
            "Epoch 75/100\n",
            "3/3 [==============================] - 0s 16ms/step - loss: 0.2279 - acc: 1.0000 - val_loss: 0.2520 - val_acc: 0.9211\n",
            "Epoch 76/100\n",
            "3/3 [==============================] - 0s 14ms/step - loss: 0.2236 - acc: 1.0000 - val_loss: 0.2484 - val_acc: 0.9211\n",
            "Epoch 77/100\n",
            "3/3 [==============================] - 0s 17ms/step - loss: 0.2194 - acc: 1.0000 - val_loss: 0.2449 - val_acc: 0.9211\n",
            "Epoch 78/100\n",
            "3/3 [==============================] - 0s 14ms/step - loss: 0.2155 - acc: 1.0000 - val_loss: 0.2413 - val_acc: 0.9211\n",
            "Epoch 79/100\n",
            "3/3 [==============================] - 0s 15ms/step - loss: 0.2116 - acc: 1.0000 - val_loss: 0.2377 - val_acc: 0.9211\n",
            "Epoch 80/100\n",
            "3/3 [==============================] - 0s 14ms/step - loss: 0.2076 - acc: 1.0000 - val_loss: 0.2344 - val_acc: 0.9211\n",
            "Epoch 81/100\n",
            "3/3 [==============================] - 0s 15ms/step - loss: 0.2039 - acc: 1.0000 - val_loss: 0.2312 - val_acc: 0.9211\n",
            "Epoch 82/100\n",
            "3/3 [==============================] - 0s 19ms/step - loss: 0.2003 - acc: 1.0000 - val_loss: 0.2280 - val_acc: 0.9211\n",
            "Epoch 83/100\n",
            "3/3 [==============================] - 0s 15ms/step - loss: 0.1966 - acc: 1.0000 - val_loss: 0.2249 - val_acc: 0.9211\n",
            "Epoch 84/100\n",
            "3/3 [==============================] - 0s 19ms/step - loss: 0.1931 - acc: 1.0000 - val_loss: 0.2219 - val_acc: 0.9211\n",
            "Epoch 85/100\n",
            "3/3 [==============================] - 0s 14ms/step - loss: 0.1897 - acc: 1.0000 - val_loss: 0.2190 - val_acc: 0.9211\n",
            "Epoch 86/100\n",
            "3/3 [==============================] - 0s 13ms/step - loss: 0.1863 - acc: 1.0000 - val_loss: 0.2162 - val_acc: 0.9211\n",
            "Epoch 87/100\n",
            "3/3 [==============================] - 0s 15ms/step - loss: 0.1831 - acc: 1.0000 - val_loss: 0.2134 - val_acc: 0.9211\n",
            "Epoch 88/100\n",
            "3/3 [==============================] - 0s 16ms/step - loss: 0.1801 - acc: 1.0000 - val_loss: 0.2107 - val_acc: 0.9211\n",
            "Epoch 89/100\n",
            "3/3 [==============================] - 0s 13ms/step - loss: 0.1773 - acc: 1.0000 - val_loss: 0.2080 - val_acc: 0.9211\n",
            "Epoch 90/100\n",
            "3/3 [==============================] - 0s 15ms/step - loss: 0.1739 - acc: 1.0000 - val_loss: 0.2054 - val_acc: 0.9211\n",
            "Epoch 91/100\n",
            "3/3 [==============================] - 0s 15ms/step - loss: 0.1711 - acc: 1.0000 - val_loss: 0.2028 - val_acc: 0.9211\n",
            "Epoch 92/100\n",
            "3/3 [==============================] - 0s 17ms/step - loss: 0.1680 - acc: 1.0000 - val_loss: 0.2004 - val_acc: 0.9211\n",
            "Epoch 93/100\n",
            "3/3 [==============================] - 0s 15ms/step - loss: 0.1651 - acc: 1.0000 - val_loss: 0.1979 - val_acc: 0.9211\n",
            "Epoch 94/100\n",
            "3/3 [==============================] - 0s 14ms/step - loss: 0.1625 - acc: 1.0000 - val_loss: 0.1955 - val_acc: 0.9211\n",
            "Epoch 95/100\n",
            "3/3 [==============================] - 0s 14ms/step - loss: 0.1597 - acc: 1.0000 - val_loss: 0.1931 - val_acc: 0.9474\n",
            "Epoch 96/100\n",
            "3/3 [==============================] - 0s 16ms/step - loss: 0.1571 - acc: 1.0000 - val_loss: 0.1908 - val_acc: 0.9474\n",
            "Epoch 97/100\n",
            "3/3 [==============================] - 0s 15ms/step - loss: 0.1545 - acc: 1.0000 - val_loss: 0.1886 - val_acc: 0.9474\n",
            "Epoch 98/100\n",
            "3/3 [==============================] - 0s 14ms/step - loss: 0.1520 - acc: 1.0000 - val_loss: 0.1863 - val_acc: 0.9474\n",
            "Epoch 99/100\n",
            "3/3 [==============================] - 0s 16ms/step - loss: 0.1497 - acc: 1.0000 - val_loss: 0.1842 - val_acc: 0.9474\n",
            "Epoch 100/100\n",
            "3/3 [==============================] - 0s 11ms/step - loss: 0.1471 - acc: 1.0000 - val_loss: 0.1822 - val_acc: 0.9474\n"
          ],
          "name": "stdout"
        }
      ]
    },
    {
      "cell_type": "markdown",
      "metadata": {
        "id": "S1v1dIbw81Rb"
      },
      "source": [
        "# 평가"
      ]
    },
    {
      "cell_type": "code",
      "metadata": {
        "colab": {
          "base_uri": "https://localhost:8080/"
        },
        "id": "68WjSwLkyGNI",
        "outputId": "9916ba5c-e46d-4274-9022-6e926713e51b"
      },
      "source": [
        "model.evaluate(x_train, y_train)"
      ],
      "execution_count": 25,
      "outputs": [
        {
          "output_type": "stream",
          "text": [
            "4/4 [==============================] - 0s 3ms/step - loss: 0.1566 - acc: 0.9839\n"
          ],
          "name": "stdout"
        },
        {
          "output_type": "execute_result",
          "data": {
            "text/plain": [
              "[0.15660054981708527, 0.9838709831237793]"
            ]
          },
          "metadata": {
            "tags": []
          },
          "execution_count": 25
        }
      ]
    },
    {
      "cell_type": "code",
      "metadata": {
        "colab": {
          "base_uri": "https://localhost:8080/"
        },
        "id": "xDVWGrBI9CX4",
        "outputId": "bcaae0ad-9802-417d-bb97-391a1ecef9fa"
      },
      "source": [
        "hist.history.keys()"
      ],
      "execution_count": 26,
      "outputs": [
        {
          "output_type": "execute_result",
          "data": {
            "text/plain": [
              "dict_keys(['loss', 'acc', 'val_loss', 'val_acc'])"
            ]
          },
          "metadata": {
            "tags": []
          },
          "execution_count": 26
        }
      ]
    },
    {
      "cell_type": "code",
      "metadata": {
        "id": "8Begk9Ij9CRs"
      },
      "source": [
        "import matplotlib.pyplot as plt"
      ],
      "execution_count": 27,
      "outputs": []
    },
    {
      "cell_type": "code",
      "metadata": {
        "colab": {
          "base_uri": "https://localhost:8080/",
          "height": 265
        },
        "id": "_t-o86hW9CKi",
        "outputId": "42146296-f240-4e6f-ab75-7d349f485b5e"
      },
      "source": [
        "plt.plot(hist.history['loss'])\n",
        "plt.plot(hist.history['val_loss'], 'b-')\n",
        "plt.show()"
      ],
      "execution_count": 28,
      "outputs": [
        {
          "output_type": "display_data",
          "data": {
            "image/png": "[encoded data removed]",
            "text/plain": [
              "<Figure size 432x288 with 1 Axes>"
            ]
          },
          "metadata": {
            "tags": [],
            "needs_background": "light"
          }
        }
      ]
    },
    {
      "cell_type": "code",
      "metadata": {
        "colab": {
          "base_uri": "https://localhost:8080/",
          "height": 265
        },
        "id": "iAnms-fg-Sa-",
        "outputId": "b32a0afc-fc9a-4db6-d79d-7a76dc291d6f"
      },
      "source": [
        "plt.plot(hist.history['acc'])\n",
        "plt.plot(hist.history['val_acc'], 'r-')\n",
        "plt.show()"
      ],
      "execution_count": 29,
      "outputs": [
        {
          "output_type": "display_data",
          "data": {
            "image/png": "[encoded data removed]",
            "text/plain": [
              "<Figure size 432x288 with 1 Axes>"
            ]
          },
          "metadata": {
            "tags": [],
            "needs_background": "light"
          }
        }
      ]
    },
    {
      "cell_type": "markdown",
      "metadata": {
        "id": "Z7wgZz0d96fb"
      },
      "source": [
        "# 서비스"
      ]
    },
    {
      "cell_type": "code",
      "metadata": {
        "colab": {
          "base_uri": "https://localhost:8080/"
        },
        "id": "jJ4pFi4u9CHC",
        "outputId": "beca4024-93f6-4bca-a201-1c7bc6fe9af6"
      },
      "source": [
        "x_train[18], y_train[18]"
      ],
      "execution_count": 30,
      "outputs": [
        {
          "output_type": "execute_result",
          "data": {
            "text/plain": [
              "(array([-0.53597516, -0.62476348, -1.5332207 ,  0.3088377 , -1.15592617,\n",
              "        -0.30465005, -0.31878729, -0.21771228, -0.55120581, -0.92764495,\n",
              "         0.35956171,  1.10598084, -0.24942491]), array([1.]))"
            ]
          },
          "metadata": {
            "tags": []
          },
          "execution_count": 30
        }
      ]
    },
    {
      "cell_type": "code",
      "metadata": {
        "id": "LjR5Tf4-9B8y"
      },
      "source": [
        "pred = model.predict([[-0.53597516, -0.62476348, -1.5332207 ,  0.3088377 , -1.15592617, -0.30465005, -0.31878729, -0.21771228, -0.55120581, -0.92764495, 0.35956171,  1.10598084, -0.24942491]])"
      ],
      "execution_count": 33,
      "outputs": []
    },
    {
      "cell_type": "code",
      "metadata": {
        "colab": {
          "base_uri": "https://localhost:8080/"
        },
        "id": "NkpNPJGcyGlJ",
        "outputId": "f744dc88-3d9d-4197-b8d6-7838498e768a"
      },
      "source": [
        "np.argmax(pred)"
      ],
      "execution_count": 34,
      "outputs": [
        {
          "output_type": "execute_result",
          "data": {
            "text/plain": [
              "1"
            ]
          },
          "metadata": {
            "tags": []
          },
          "execution_count": 34
        }
      ]
    },
    {
      "cell_type": "code",
      "metadata": {
        "id": "3OqvLyJayGpm"
      },
      "source": [
        ""
      ],
      "execution_count": 32,
      "outputs": []
    },
    {
      "cell_type": "code",
      "metadata": {
        "id": "pW0zGLNOyGuq"
      },
      "source": [
        ""
      ],
      "execution_count": 32,
      "outputs": []
    }
  ]
}