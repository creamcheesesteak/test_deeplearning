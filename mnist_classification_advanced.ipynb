{
  "nbformat": 4,
  "nbformat_minor": 0,
  "metadata": {
    "colab": {
      "name": "mnist_classification.ipynb",
      "provenance": [],
      "authorship_tag": "ABX9TyOYQwOwLFRDELphrmXLgcv6",
      "include_colab_link": true
    },
    "kernelspec": {
      "name": "python3",
      "display_name": "Python 3"
    },
    "language_info": {
      "name": "python"
    }
  },
  "cells": [
    {
      "cell_type": "markdown",
      "metadata": {
        "id": "view-in-github",
        "colab_type": "text"
      },
      "source": [
        "<a href=\"https://colab.research.google.com/github/creamcheesesteak/test_deeplearning/blob/master/mnist_classification_advanced.ipynb\" target=\"_parent\"><img src=\"https://colab.research.google.com/assets/colab-badge.svg\" alt=\"Open In Colab\"/></a>"
      ]
    },
    {
      "cell_type": "code",
      "metadata": {
        "id": "RZX5E4cGleWw"
      },
      "source": [
        "from tensorflow.keras.datasets.mnist import load_data"
      ],
      "execution_count": 1,
      "outputs": []
    },
    {
      "cell_type": "code",
      "metadata": {
        "colab": {
          "base_uri": "https://localhost:8080/"
        },
        "id": "m76-M8timpq_",
        "outputId": "d8539b70-d561-4ba8-8d37-f0a1689e7325"
      },
      "source": [
        "(x_train, y_train), (x_test, y_test) = load_data(path='mnist.npz')\n",
        "x_train.shape, y_train.shape,  x_test.shape, y_test.shape, "
      ],
      "execution_count": 2,
      "outputs": [
        {
          "output_type": "execute_result",
          "data": {
            "text/plain": [
              "((60000, 28, 28), (60000,), (10000, 28, 28), (10000,))"
            ]
          },
          "metadata": {
            "tags": []
          },
          "execution_count": 2
        }
      ]
    },
    {
      "cell_type": "code",
      "metadata": {
        "colab": {
          "base_uri": "https://localhost:8080/"
        },
        "id": "uZFnM8M7sRv_",
        "outputId": "7ef93b0f-bdc4-4e20-9ac0-503039fa80b0"
      },
      "source": [
        " y_train[4], x_train[4]"
      ],
      "execution_count": 3,
      "outputs": [
        {
          "output_type": "execute_result",
          "data": {
            "text/plain": [
              "(9, array([[  0,   0,   0,   0,   0,   0,   0,   0,   0,   0,   0,   0,   0,\n",
              "           0,   0,   0,   0,   0,   0,   0,   0,   0,   0,   0,   0,   0,\n",
              "           0,   0],\n",
              "        [  0,   0,   0,   0,   0,   0,   0,   0,   0,   0,   0,   0,   0,\n",
              "           0,   0,   0,   0,   0,   0,   0,   0,   0,   0,   0,   0,   0,\n",
              "           0,   0],\n",
              "        [  0,   0,   0,   0,   0,   0,   0,   0,   0,   0,   0,   0,   0,\n",
              "           0,   0,   0,   0,   0,   0,   0,   0,   0,   0,   0,   0,   0,\n",
              "           0,   0],\n",
              "        [  0,   0,   0,   0,   0,   0,   0,   0,   0,   0,   0,   0,   0,\n",
              "           0,   0,   0,   0,   0,   0,   0,   0,   0,   0,   0,   0,   0,\n",
              "           0,   0],\n",
              "        [  0,   0,   0,   0,   0,   0,   0,   0,   0,   0,   0,   0,   0,\n",
              "           0,   0,   0,   0,   0,   0,   0,   0,   0,   0,   0,   0,   0,\n",
              "           0,   0],\n",
              "        [  0,   0,   0,   0,   0,   0,   0,   0,   0,   0,   0,   0,   0,\n",
              "           0,   0,   0,   0,   0,   0,   0,   0,   0,   0,   0,   0,   0,\n",
              "           0,   0],\n",
              "        [  0,   0,   0,   0,   0,   0,   0,   0,   0,   0,   0,   0,   0,\n",
              "           0,   0,   0,   0,   0,   0,   0,   0,   0,   0,   0,   0,   0,\n",
              "           0,   0],\n",
              "        [  0,   0,   0,   0,   0,   0,   0,   0,   0,   0,   0,   0,  55,\n",
              "         148, 210, 253, 253, 113,  87, 148,  55,   0,   0,   0,   0,   0,\n",
              "           0,   0],\n",
              "        [  0,   0,   0,   0,   0,   0,   0,   0,   0,   0,   0,  87, 232,\n",
              "         252, 253, 189, 210, 252, 252, 253, 168,   0,   0,   0,   0,   0,\n",
              "           0,   0],\n",
              "        [  0,   0,   0,   0,   0,   0,   0,   0,   0,   4,  57, 242, 252,\n",
              "         190,  65,   5,  12, 182, 252, 253, 116,   0,   0,   0,   0,   0,\n",
              "           0,   0],\n",
              "        [  0,   0,   0,   0,   0,   0,   0,   0,   0,  96, 252, 252, 183,\n",
              "          14,   0,   0,  92, 252, 252, 225,  21,   0,   0,   0,   0,   0,\n",
              "           0,   0],\n",
              "        [  0,   0,   0,   0,   0,   0,   0,   0, 132, 253, 252, 146,  14,\n",
              "           0,   0,   0, 215, 252, 252,  79,   0,   0,   0,   0,   0,   0,\n",
              "           0,   0],\n",
              "        [  0,   0,   0,   0,   0,   0,   0, 126, 253, 247, 176,   9,   0,\n",
              "           0,   8,  78, 245, 253, 129,   0,   0,   0,   0,   0,   0,   0,\n",
              "           0,   0],\n",
              "        [  0,   0,   0,   0,   0,   0,  16, 232, 252, 176,   0,   0,   0,\n",
              "          36, 201, 252, 252, 169,  11,   0,   0,   0,   0,   0,   0,   0,\n",
              "           0,   0],\n",
              "        [  0,   0,   0,   0,   0,   0,  22, 252, 252,  30,  22, 119, 197,\n",
              "         241, 253, 252, 251,  77,   0,   0,   0,   0,   0,   0,   0,   0,\n",
              "           0,   0],\n",
              "        [  0,   0,   0,   0,   0,   0,  16, 231, 252, 253, 252, 252, 252,\n",
              "         226, 227, 252, 231,   0,   0,   0,   0,   0,   0,   0,   0,   0,\n",
              "           0,   0],\n",
              "        [  0,   0,   0,   0,   0,   0,   0,  55, 235, 253, 217, 138,  42,\n",
              "          24, 192, 252, 143,   0,   0,   0,   0,   0,   0,   0,   0,   0,\n",
              "           0,   0],\n",
              "        [  0,   0,   0,   0,   0,   0,   0,   0,   0,   0,   0,   0,   0,\n",
              "          62, 255, 253, 109,   0,   0,   0,   0,   0,   0,   0,   0,   0,\n",
              "           0,   0],\n",
              "        [  0,   0,   0,   0,   0,   0,   0,   0,   0,   0,   0,   0,   0,\n",
              "          71, 253, 252,  21,   0,   0,   0,   0,   0,   0,   0,   0,   0,\n",
              "           0,   0],\n",
              "        [  0,   0,   0,   0,   0,   0,   0,   0,   0,   0,   0,   0,   0,\n",
              "           0, 253, 252,  21,   0,   0,   0,   0,   0,   0,   0,   0,   0,\n",
              "           0,   0],\n",
              "        [  0,   0,   0,   0,   0,   0,   0,   0,   0,   0,   0,   0,   0,\n",
              "          71, 253, 252,  21,   0,   0,   0,   0,   0,   0,   0,   0,   0,\n",
              "           0,   0],\n",
              "        [  0,   0,   0,   0,   0,   0,   0,   0,   0,   0,   0,   0,   0,\n",
              "         106, 253, 252,  21,   0,   0,   0,   0,   0,   0,   0,   0,   0,\n",
              "           0,   0],\n",
              "        [  0,   0,   0,   0,   0,   0,   0,   0,   0,   0,   0,   0,   0,\n",
              "          45, 255, 253,  21,   0,   0,   0,   0,   0,   0,   0,   0,   0,\n",
              "           0,   0],\n",
              "        [  0,   0,   0,   0,   0,   0,   0,   0,   0,   0,   0,   0,   0,\n",
              "           0, 218, 252,  56,   0,   0,   0,   0,   0,   0,   0,   0,   0,\n",
              "           0,   0],\n",
              "        [  0,   0,   0,   0,   0,   0,   0,   0,   0,   0,   0,   0,   0,\n",
              "           0,  96, 252, 189,  42,   0,   0,   0,   0,   0,   0,   0,   0,\n",
              "           0,   0],\n",
              "        [  0,   0,   0,   0,   0,   0,   0,   0,   0,   0,   0,   0,   0,\n",
              "           0,  14, 184, 252, 170,  11,   0,   0,   0,   0,   0,   0,   0,\n",
              "           0,   0],\n",
              "        [  0,   0,   0,   0,   0,   0,   0,   0,   0,   0,   0,   0,   0,\n",
              "           0,   0,  14, 147, 252,  42,   0,   0,   0,   0,   0,   0,   0,\n",
              "           0,   0],\n",
              "        [  0,   0,   0,   0,   0,   0,   0,   0,   0,   0,   0,   0,   0,\n",
              "           0,   0,   0,   0,   0,   0,   0,   0,   0,   0,   0,   0,   0,\n",
              "           0,   0]], dtype=uint8))"
            ]
          },
          "metadata": {
            "tags": []
          },
          "execution_count": 3
        }
      ]
    },
    {
      "cell_type": "code",
      "metadata": {
        "id": "zpUKsEDFmpvL"
      },
      "source": [
        "import matplotlib.pyplot as plt"
      ],
      "execution_count": 4,
      "outputs": []
    },
    {
      "cell_type": "code",
      "metadata": {
        "colab": {
          "base_uri": "https://localhost:8080/",
          "height": 298
        },
        "id": "gGEp73p6sAA8",
        "outputId": "aefe83b6-25d5-4e38-bc76-a60dc5c6de2c"
      },
      "source": [
        "plt.imshow(x_train[50000])\n",
        "print(y_train[50000]), type(y_train[50000])"
      ],
      "execution_count": 5,
      "outputs": [
        {
          "output_type": "stream",
          "text": [
            "3\n"
          ],
          "name": "stdout"
        },
        {
          "output_type": "execute_result",
          "data": {
            "text/plain": [
              "(None, numpy.uint8)"
            ]
          },
          "metadata": {
            "tags": []
          },
          "execution_count": 5
        },
        {
          "output_type": "display_data",
          "data": {
            "image/png": "[encoded data removed]",
            "text/plain": [
              "<Figure size 432x288 with 1 Axes>"
            ]
          },
          "metadata": {
            "tags": [],
            "needs_background": "light"
          }
        }
      ]
    },
    {
      "cell_type": "code",
      "metadata": {
        "colab": {
          "base_uri": "https://localhost:8080/"
        },
        "id": "iOjfCG8imp1R",
        "outputId": "3f9d059b-06ba-4162-a5ab-2997f2123c3d"
      },
      "source": [
        "x_train = x_train.reshape(-1, 28*28)\n",
        "x_train.shape"
      ],
      "execution_count": 6,
      "outputs": [
        {
          "output_type": "execute_result",
          "data": {
            "text/plain": [
              "(60000, 784)"
            ]
          },
          "metadata": {
            "tags": []
          },
          "execution_count": 6
        }
      ]
    },
    {
      "cell_type": "code",
      "metadata": {
        "colab": {
          "base_uri": "https://localhost:8080/"
        },
        "id": "p0602lHXmp6D",
        "outputId": "5973a6d2-bba8-4fde-f3b0-b7c34704b1ac"
      },
      "source": [
        "x_test = x_test.reshape(-1, 28*28)\n",
        "x_test.shape"
      ],
      "execution_count": 7,
      "outputs": [
        {
          "output_type": "execute_result",
          "data": {
            "text/plain": [
              "(10000, 784)"
            ]
          },
          "metadata": {
            "tags": []
          },
          "execution_count": 7
        }
      ]
    },
    {
      "cell_type": "code",
      "metadata": {
        "colab": {
          "base_uri": "https://localhost:8080/"
        },
        "id": "osj3Dek5mp-O",
        "outputId": "ce4d42a1-6b03-4937-fe13-f0dcb4d79b17"
      },
      "source": [
        "y_train[2:10], y_train.shape"
      ],
      "execution_count": 8,
      "outputs": [
        {
          "output_type": "execute_result",
          "data": {
            "text/plain": [
              "(array([4, 1, 9, 2, 1, 3, 1, 4], dtype=uint8), (60000,))"
            ]
          },
          "metadata": {
            "tags": []
          },
          "execution_count": 8
        }
      ]
    },
    {
      "cell_type": "code",
      "metadata": {
        "colab": {
          "base_uri": "https://localhost:8080/"
        },
        "id": "AjYtEfjaxihV",
        "outputId": "8dc34a2d-f6a6-41b5-bb9a-c77808b9934e"
      },
      "source": [
        "import numpy as np\n",
        "np.unique(y_train)"
      ],
      "execution_count": 9,
      "outputs": [
        {
          "output_type": "execute_result",
          "data": {
            "text/plain": [
              "array([0, 1, 2, 3, 4, 5, 6, 7, 8, 9], dtype=uint8)"
            ]
          },
          "metadata": {
            "tags": []
          },
          "execution_count": 9
        }
      ]
    },
    {
      "cell_type": "markdown",
      "metadata": {
        "id": "kUBZ5SqowHnc"
      },
      "source": [
        "# apply model"
      ]
    },
    {
      "cell_type": "code",
      "metadata": {
        "id": "bphG7Ge0-0gz"
      },
      "source": [
        "import tensorflow as tf"
      ],
      "execution_count": 10,
      "outputs": []
    },
    {
      "cell_type": "code",
      "metadata": {
        "id": "1leFDDp4mqEf",
        "colab": {
          "base_uri": "https://localhost:8080/"
        },
        "outputId": "02b0e81c-3874-4754-9a1f-3ffff7af2f7e"
      },
      "source": [
        "model = tf.keras.models.Sequential()\n",
        "\n",
        "model.add(tf.keras.Input(shape=(784, ))) # input layer\n",
        "model.add(tf.keras.layers.Dense(64, activation='relu')) # hidden layer\n",
        "model.add(tf.keras.layers.Dense(64, activation='relu')) # hidden layer\n",
        "# 3이상 softmax, binary -> sigmoid\n",
        "model.add(tf.keras.layers.Dense(10, activation='softmax')) # hidden layer\n",
        "\n",
        "# regression -> loss : mse\n",
        "# binary classification -> loss : binary crossentropy\n",
        "# over 3 classification -> loss : categorical crossentropy(sparse_categorical_crossentropy)\n",
        "\n",
        "model.compile(optimizer='adam', loss='sparse_categorical_crossentropy', metrics=['acc'])"
      ],
      "execution_count": 16,
      "outputs": [
        {
          "output_type": "stream",
          "text": [
            "WARNING:tensorflow:Please add `keras.layers.InputLayer` instead of `keras.Input` to Sequential model. `keras.Input` is intended to be used by Functional model.\n"
          ],
          "name": "stdout"
        }
      ]
    },
    {
      "cell_type": "code",
      "metadata": {
        "colab": {
          "base_uri": "https://localhost:8080/"
        },
        "id": "SFQRI-Ke_ISc",
        "outputId": "f700945b-ae12-4a08-bf87-197e7144cf93"
      },
      "source": [
        "hist = model.fit(x_train, y_train, epochs=100, validation_split=0.3)"
      ],
      "execution_count": 17,
      "outputs": [
        {
          "output_type": "stream",
          "text": [
            "Epoch 1/100\n",
            "1313/1313 [==============================] - 3s 2ms/step - loss: 2.2708 - acc: 0.7812 - val_loss: 0.5673 - val_acc: 0.8536\n",
            "Epoch 2/100\n",
            "1313/1313 [==============================] - 3s 2ms/step - loss: 0.4569 - acc: 0.8872 - val_loss: 0.5196 - val_acc: 0.8731\n",
            "Epoch 3/100\n",
            "1313/1313 [==============================] - 3s 2ms/step - loss: 0.3799 - acc: 0.9041 - val_loss: 0.3895 - val_acc: 0.9213\n",
            "Epoch 4/100\n",
            "1313/1313 [==============================] - 3s 2ms/step - loss: 0.3389 - acc: 0.9182 - val_loss: 0.3558 - val_acc: 0.9142\n",
            "Epoch 5/100\n",
            "1313/1313 [==============================] - 3s 2ms/step - loss: 0.2881 - acc: 0.9286 - val_loss: 0.3294 - val_acc: 0.9268\n",
            "Epoch 6/100\n",
            "1313/1313 [==============================] - 3s 2ms/step - loss: 0.2780 - acc: 0.9325 - val_loss: 0.3385 - val_acc: 0.9242\n",
            "Epoch 7/100\n",
            "1313/1313 [==============================] - 3s 2ms/step - loss: 0.2494 - acc: 0.9392 - val_loss: 0.2845 - val_acc: 0.9327\n",
            "Epoch 8/100\n",
            "1313/1313 [==============================] - 3s 2ms/step - loss: 0.2261 - acc: 0.9427 - val_loss: 0.2698 - val_acc: 0.9373\n",
            "Epoch 9/100\n",
            "1313/1313 [==============================] - 3s 2ms/step - loss: 0.1990 - acc: 0.9490 - val_loss: 0.2739 - val_acc: 0.9358\n",
            "Epoch 10/100\n",
            "1313/1313 [==============================] - 3s 2ms/step - loss: 0.1840 - acc: 0.9510 - val_loss: 0.2433 - val_acc: 0.9441\n",
            "Epoch 11/100\n",
            "1313/1313 [==============================] - 3s 2ms/step - loss: 0.1657 - acc: 0.9558 - val_loss: 0.2513 - val_acc: 0.9382\n",
            "Epoch 12/100\n",
            "1313/1313 [==============================] - 3s 2ms/step - loss: 0.1481 - acc: 0.9589 - val_loss: 0.2378 - val_acc: 0.9466\n",
            "Epoch 13/100\n",
            "1313/1313 [==============================] - 3s 2ms/step - loss: 0.1423 - acc: 0.9602 - val_loss: 0.2308 - val_acc: 0.9468\n",
            "Epoch 14/100\n",
            "1313/1313 [==============================] - 3s 2ms/step - loss: 0.1353 - acc: 0.9626 - val_loss: 0.2092 - val_acc: 0.9502\n",
            "Epoch 15/100\n",
            "1313/1313 [==============================] - 3s 2ms/step - loss: 0.1242 - acc: 0.9652 - val_loss: 0.2119 - val_acc: 0.9501\n",
            "Epoch 16/100\n",
            "1313/1313 [==============================] - 3s 2ms/step - loss: 0.1176 - acc: 0.9670 - val_loss: 0.2452 - val_acc: 0.9486\n",
            "Epoch 17/100\n",
            "1313/1313 [==============================] - 3s 2ms/step - loss: 0.1149 - acc: 0.9683 - val_loss: 0.2347 - val_acc: 0.9514\n",
            "Epoch 18/100\n",
            "1313/1313 [==============================] - 3s 2ms/step - loss: 0.1065 - acc: 0.9702 - val_loss: 0.2169 - val_acc: 0.9541\n",
            "Epoch 19/100\n",
            "1313/1313 [==============================] - 3s 2ms/step - loss: 0.1044 - acc: 0.9716 - val_loss: 0.2011 - val_acc: 0.9545\n",
            "Epoch 20/100\n",
            "1313/1313 [==============================] - 3s 2ms/step - loss: 0.1002 - acc: 0.9720 - val_loss: 0.2386 - val_acc: 0.9524\n",
            "Epoch 21/100\n",
            "1313/1313 [==============================] - 3s 2ms/step - loss: 0.0987 - acc: 0.9726 - val_loss: 0.2357 - val_acc: 0.9544\n",
            "Epoch 22/100\n",
            "1313/1313 [==============================] - 3s 2ms/step - loss: 0.0930 - acc: 0.9744 - val_loss: 0.2098 - val_acc: 0.9578\n",
            "Epoch 23/100\n",
            "1313/1313 [==============================] - 3s 2ms/step - loss: 0.0934 - acc: 0.9744 - val_loss: 0.2325 - val_acc: 0.9530\n",
            "Epoch 24/100\n",
            "1313/1313 [==============================] - 3s 2ms/step - loss: 0.0867 - acc: 0.9762 - val_loss: 0.2245 - val_acc: 0.9576\n",
            "Epoch 25/100\n",
            "1313/1313 [==============================] - 3s 2ms/step - loss: 0.0866 - acc: 0.9759 - val_loss: 0.2155 - val_acc: 0.9566\n",
            "Epoch 26/100\n",
            "1313/1313 [==============================] - 3s 2ms/step - loss: 0.0824 - acc: 0.9776 - val_loss: 0.2144 - val_acc: 0.9568\n",
            "Epoch 27/100\n",
            "1313/1313 [==============================] - 3s 2ms/step - loss: 0.0763 - acc: 0.9784 - val_loss: 0.2461 - val_acc: 0.9541\n",
            "Epoch 28/100\n",
            "1313/1313 [==============================] - 3s 2ms/step - loss: 0.0815 - acc: 0.9772 - val_loss: 0.2528 - val_acc: 0.9561\n",
            "Epoch 29/100\n",
            "1313/1313 [==============================] - 3s 2ms/step - loss: 0.0778 - acc: 0.9787 - val_loss: 0.2334 - val_acc: 0.9588\n",
            "Epoch 30/100\n",
            "1313/1313 [==============================] - 3s 2ms/step - loss: 0.0766 - acc: 0.9797 - val_loss: 0.2386 - val_acc: 0.9573\n",
            "Epoch 31/100\n",
            "1313/1313 [==============================] - 3s 2ms/step - loss: 0.0718 - acc: 0.9796 - val_loss: 0.3078 - val_acc: 0.9526\n",
            "Epoch 32/100\n",
            "1313/1313 [==============================] - 3s 2ms/step - loss: 0.0713 - acc: 0.9809 - val_loss: 0.2635 - val_acc: 0.9528\n",
            "Epoch 33/100\n",
            "1313/1313 [==============================] - 3s 2ms/step - loss: 0.0716 - acc: 0.9802 - val_loss: 0.2660 - val_acc: 0.9565\n",
            "Epoch 34/100\n",
            "1313/1313 [==============================] - 3s 2ms/step - loss: 0.0679 - acc: 0.9819 - val_loss: 0.2886 - val_acc: 0.9574\n",
            "Epoch 35/100\n",
            "1313/1313 [==============================] - 3s 2ms/step - loss: 0.0717 - acc: 0.9811 - val_loss: 0.2429 - val_acc: 0.9570\n",
            "Epoch 36/100\n",
            "1313/1313 [==============================] - 3s 2ms/step - loss: 0.0672 - acc: 0.9817 - val_loss: 0.2533 - val_acc: 0.9581\n",
            "Epoch 37/100\n",
            "1313/1313 [==============================] - 3s 2ms/step - loss: 0.0629 - acc: 0.9828 - val_loss: 0.2857 - val_acc: 0.9563\n",
            "Epoch 38/100\n",
            "1313/1313 [==============================] - 3s 2ms/step - loss: 0.0648 - acc: 0.9827 - val_loss: 0.3027 - val_acc: 0.9571\n",
            "Epoch 39/100\n",
            "1313/1313 [==============================] - 3s 2ms/step - loss: 0.0659 - acc: 0.9826 - val_loss: 0.2864 - val_acc: 0.9573\n",
            "Epoch 40/100\n",
            "1313/1313 [==============================] - 3s 2ms/step - loss: 0.0675 - acc: 0.9828 - val_loss: 0.2817 - val_acc: 0.9585\n",
            "Epoch 41/100\n",
            "1313/1313 [==============================] - 3s 2ms/step - loss: 0.0587 - acc: 0.9844 - val_loss: 0.2982 - val_acc: 0.9569\n",
            "Epoch 42/100\n",
            "1313/1313 [==============================] - 3s 2ms/step - loss: 0.0550 - acc: 0.9853 - val_loss: 0.2879 - val_acc: 0.9568\n",
            "Epoch 43/100\n",
            "1313/1313 [==============================] - 3s 2ms/step - loss: 0.0585 - acc: 0.9847 - val_loss: 0.3097 - val_acc: 0.9566\n",
            "Epoch 44/100\n",
            "1313/1313 [==============================] - 3s 2ms/step - loss: 0.0604 - acc: 0.9847 - val_loss: 0.3146 - val_acc: 0.9579\n",
            "Epoch 45/100\n",
            "1313/1313 [==============================] - 3s 2ms/step - loss: 0.0540 - acc: 0.9857 - val_loss: 0.3118 - val_acc: 0.9540\n",
            "Epoch 46/100\n",
            "1313/1313 [==============================] - 3s 2ms/step - loss: 0.0606 - acc: 0.9837 - val_loss: 0.3226 - val_acc: 0.9549\n",
            "Epoch 47/100\n",
            "1313/1313 [==============================] - 3s 2ms/step - loss: 0.0552 - acc: 0.9856 - val_loss: 0.3044 - val_acc: 0.9596\n",
            "Epoch 48/100\n",
            "1313/1313 [==============================] - 3s 2ms/step - loss: 0.0579 - acc: 0.9848 - val_loss: 0.3287 - val_acc: 0.9554\n",
            "Epoch 49/100\n",
            "1313/1313 [==============================] - 3s 2ms/step - loss: 0.0589 - acc: 0.9849 - val_loss: 0.3210 - val_acc: 0.9572\n",
            "Epoch 50/100\n",
            "1313/1313 [==============================] - 3s 2ms/step - loss: 0.0544 - acc: 0.9865 - val_loss: 0.3665 - val_acc: 0.9545\n",
            "Epoch 51/100\n",
            "1313/1313 [==============================] - 3s 2ms/step - loss: 0.0554 - acc: 0.9863 - val_loss: 0.3790 - val_acc: 0.9527\n",
            "Epoch 52/100\n",
            "1313/1313 [==============================] - 3s 2ms/step - loss: 0.0560 - acc: 0.9861 - val_loss: 0.4116 - val_acc: 0.9554\n",
            "Epoch 53/100\n",
            "1313/1313 [==============================] - 3s 2ms/step - loss: 0.0584 - acc: 0.9855 - val_loss: 0.3497 - val_acc: 0.9552\n",
            "Epoch 54/100\n",
            "1313/1313 [==============================] - 3s 2ms/step - loss: 0.0508 - acc: 0.9870 - val_loss: 0.3854 - val_acc: 0.9553\n",
            "Epoch 55/100\n",
            "1313/1313 [==============================] - 3s 2ms/step - loss: 0.0516 - acc: 0.9867 - val_loss: 0.3698 - val_acc: 0.9573\n",
            "Epoch 56/100\n",
            "1313/1313 [==============================] - 3s 2ms/step - loss: 0.0519 - acc: 0.9863 - val_loss: 0.3501 - val_acc: 0.9569\n",
            "Epoch 57/100\n",
            "1313/1313 [==============================] - 3s 2ms/step - loss: 0.0562 - acc: 0.9860 - val_loss: 0.4129 - val_acc: 0.9558\n",
            "Epoch 58/100\n",
            "1313/1313 [==============================] - 3s 2ms/step - loss: 0.0538 - acc: 0.9863 - val_loss: 0.3778 - val_acc: 0.9577\n",
            "Epoch 59/100\n",
            "1313/1313 [==============================] - 3s 2ms/step - loss: 0.0458 - acc: 0.9882 - val_loss: 0.4020 - val_acc: 0.9558\n",
            "Epoch 60/100\n",
            "1313/1313 [==============================] - 3s 2ms/step - loss: 0.0523 - acc: 0.9869 - val_loss: 0.3708 - val_acc: 0.9589\n",
            "Epoch 61/100\n",
            "1313/1313 [==============================] - 3s 2ms/step - loss: 0.0522 - acc: 0.9877 - val_loss: 0.4104 - val_acc: 0.9567\n",
            "Epoch 62/100\n",
            "1313/1313 [==============================] - 3s 2ms/step - loss: 0.0473 - acc: 0.9882 - val_loss: 0.4434 - val_acc: 0.9570\n",
            "Epoch 63/100\n",
            "1313/1313 [==============================] - 3s 2ms/step - loss: 0.0523 - acc: 0.9866 - val_loss: 0.4210 - val_acc: 0.9541\n",
            "Epoch 64/100\n",
            "1313/1313 [==============================] - 3s 2ms/step - loss: 0.0509 - acc: 0.9877 - val_loss: 0.3831 - val_acc: 0.9550\n",
            "Epoch 65/100\n",
            "1313/1313 [==============================] - 3s 2ms/step - loss: 0.0473 - acc: 0.9883 - val_loss: 0.4217 - val_acc: 0.9576\n",
            "Epoch 66/100\n",
            "1313/1313 [==============================] - 3s 2ms/step - loss: 0.0505 - acc: 0.9874 - val_loss: 0.4320 - val_acc: 0.9573\n",
            "Epoch 67/100\n",
            "1313/1313 [==============================] - 3s 2ms/step - loss: 0.0435 - acc: 0.9883 - val_loss: 0.4107 - val_acc: 0.9545\n",
            "Epoch 68/100\n",
            "1313/1313 [==============================] - 3s 2ms/step - loss: 0.0428 - acc: 0.9888 - val_loss: 0.4209 - val_acc: 0.9569\n",
            "Epoch 69/100\n",
            "1313/1313 [==============================] - 3s 2ms/step - loss: 0.0521 - acc: 0.9872 - val_loss: 0.4093 - val_acc: 0.9577\n",
            "Epoch 70/100\n",
            "1313/1313 [==============================] - 3s 2ms/step - loss: 0.0452 - acc: 0.9890 - val_loss: 0.4845 - val_acc: 0.9564\n",
            "Epoch 71/100\n",
            "1313/1313 [==============================] - 3s 2ms/step - loss: 0.0488 - acc: 0.9883 - val_loss: 0.5062 - val_acc: 0.9538\n",
            "Epoch 72/100\n",
            "1313/1313 [==============================] - 3s 2ms/step - loss: 0.0480 - acc: 0.9881 - val_loss: 0.4305 - val_acc: 0.9574\n",
            "Epoch 73/100\n",
            "1313/1313 [==============================] - 3s 2ms/step - loss: 0.0426 - acc: 0.9893 - val_loss: 0.4400 - val_acc: 0.9553\n",
            "Epoch 74/100\n",
            "1313/1313 [==============================] - 3s 2ms/step - loss: 0.0493 - acc: 0.9884 - val_loss: 0.4249 - val_acc: 0.9564\n",
            "Epoch 75/100\n",
            "1313/1313 [==============================] - 3s 2ms/step - loss: 0.0451 - acc: 0.9882 - val_loss: 0.4507 - val_acc: 0.9539\n",
            "Epoch 76/100\n",
            "1313/1313 [==============================] - 3s 2ms/step - loss: 0.0459 - acc: 0.9888 - val_loss: 0.4672 - val_acc: 0.9554\n",
            "Epoch 77/100\n",
            "1313/1313 [==============================] - 3s 2ms/step - loss: 0.0464 - acc: 0.9883 - val_loss: 0.5063 - val_acc: 0.9548\n",
            "Epoch 78/100\n",
            "1313/1313 [==============================] - 3s 2ms/step - loss: 0.0479 - acc: 0.9890 - val_loss: 0.4754 - val_acc: 0.9548\n",
            "Epoch 79/100\n",
            "1313/1313 [==============================] - 3s 2ms/step - loss: 0.0491 - acc: 0.9885 - val_loss: 0.4729 - val_acc: 0.9564\n",
            "Epoch 80/100\n",
            "1313/1313 [==============================] - 3s 2ms/step - loss: 0.0434 - acc: 0.9896 - val_loss: 0.5374 - val_acc: 0.9556\n",
            "Epoch 81/100\n",
            "1313/1313 [==============================] - 3s 2ms/step - loss: 0.0492 - acc: 0.9882 - val_loss: 0.5180 - val_acc: 0.9547\n",
            "Epoch 82/100\n",
            "1313/1313 [==============================] - 3s 2ms/step - loss: 0.0444 - acc: 0.9894 - val_loss: 0.5209 - val_acc: 0.9551\n",
            "Epoch 83/100\n",
            "1313/1313 [==============================] - 3s 2ms/step - loss: 0.0452 - acc: 0.9898 - val_loss: 0.5370 - val_acc: 0.9548\n",
            "Epoch 84/100\n",
            "1313/1313 [==============================] - 3s 2ms/step - loss: 0.0549 - acc: 0.9896 - val_loss: 0.5661 - val_acc: 0.9548\n",
            "Epoch 85/100\n",
            "1313/1313 [==============================] - 3s 2ms/step - loss: 0.0473 - acc: 0.9891 - val_loss: 0.5696 - val_acc: 0.9561\n",
            "Epoch 86/100\n",
            "1313/1313 [==============================] - 3s 2ms/step - loss: 0.0370 - acc: 0.9904 - val_loss: 0.5391 - val_acc: 0.9551\n",
            "Epoch 87/100\n",
            "1313/1313 [==============================] - 3s 2ms/step - loss: 0.0478 - acc: 0.9892 - val_loss: 0.5469 - val_acc: 0.9545\n",
            "Epoch 88/100\n",
            "1313/1313 [==============================] - 3s 2ms/step - loss: 0.0466 - acc: 0.9896 - val_loss: 0.6734 - val_acc: 0.9549\n",
            "Epoch 89/100\n",
            "1313/1313 [==============================] - 3s 2ms/step - loss: 0.0447 - acc: 0.9895 - val_loss: 0.6130 - val_acc: 0.9552\n",
            "Epoch 90/100\n",
            "1313/1313 [==============================] - 3s 2ms/step - loss: 0.0449 - acc: 0.9902 - val_loss: 0.5812 - val_acc: 0.9578\n",
            "Epoch 91/100\n",
            "1313/1313 [==============================] - 3s 2ms/step - loss: 0.0497 - acc: 0.9898 - val_loss: 0.6172 - val_acc: 0.9533\n",
            "Epoch 92/100\n",
            "1313/1313 [==============================] - 3s 2ms/step - loss: 0.0476 - acc: 0.9892 - val_loss: 0.6359 - val_acc: 0.9567\n",
            "Epoch 93/100\n",
            "1313/1313 [==============================] - 3s 2ms/step - loss: 0.0359 - acc: 0.9914 - val_loss: 0.6599 - val_acc: 0.9554\n",
            "Epoch 94/100\n",
            "1313/1313 [==============================] - 3s 2ms/step - loss: 0.0454 - acc: 0.9902 - val_loss: 0.6270 - val_acc: 0.9535\n",
            "Epoch 95/100\n",
            "1313/1313 [==============================] - 3s 2ms/step - loss: 0.0443 - acc: 0.9899 - val_loss: 0.6696 - val_acc: 0.9557\n",
            "Epoch 96/100\n",
            "1313/1313 [==============================] - 3s 2ms/step - loss: 0.0473 - acc: 0.9902 - val_loss: 0.6386 - val_acc: 0.9569\n",
            "Epoch 97/100\n",
            "1313/1313 [==============================] - 3s 2ms/step - loss: 0.0518 - acc: 0.9910 - val_loss: 0.6562 - val_acc: 0.9546\n",
            "Epoch 98/100\n",
            "1313/1313 [==============================] - 3s 2ms/step - loss: 0.0497 - acc: 0.9895 - val_loss: 0.6706 - val_acc: 0.9547\n",
            "Epoch 99/100\n",
            "1313/1313 [==============================] - 3s 2ms/step - loss: 0.0375 - acc: 0.9910 - val_loss: 0.5907 - val_acc: 0.9568\n",
            "Epoch 100/100\n",
            "1313/1313 [==============================] - 3s 2ms/step - loss: 0.0429 - acc: 0.9902 - val_loss: 0.7644 - val_acc: 0.9549\n"
          ],
          "name": "stdout"
        }
      ]
    },
    {
      "cell_type": "markdown",
      "metadata": {
        "id": "xTvN5xiHK4CJ"
      },
      "source": [
        "# evaluation"
      ]
    },
    {
      "cell_type": "code",
      "metadata": {
        "colab": {
          "base_uri": "https://localhost:8080/"
        },
        "id": "j9zdc_xJLCJ8",
        "outputId": "57661e94-b20b-4bae-8a3e-cf52f2e1981d"
      },
      "source": [
        "hist.history.keys()"
      ],
      "execution_count": 20,
      "outputs": [
        {
          "output_type": "execute_result",
          "data": {
            "text/plain": [
              "dict_keys(['loss', 'acc', 'val_loss', 'val_acc'])"
            ]
          },
          "metadata": {
            "tags": []
          },
          "execution_count": 20
        }
      ]
    },
    {
      "cell_type": "code",
      "metadata": {
        "id": "9PEgqYTm_Y9y"
      },
      "source": [
        "import matplotlib.pyplot as plt"
      ],
      "execution_count": 21,
      "outputs": []
    },
    {
      "cell_type": "code",
      "metadata": {
        "colab": {
          "base_uri": "https://localhost:8080/",
          "height": 265
        },
        "id": "8egQa_luK9ZG",
        "outputId": "18c80e1d-fac0-42fb-a122-18ab0c573270"
      },
      "source": [
        "plt.plot(hist.history['loss'])\n",
        "plt.plot(hist.history['val_loss'], 'b-')\n",
        "plt.show()"
      ],
      "execution_count": 31,
      "outputs": [
        {
          "output_type": "display_data",
          "data": {
            "image/png": "[encoded data removed]",
            "text/plain": [
              "<Figure size 432x288 with 1 Axes>"
            ]
          },
          "metadata": {
            "tags": [],
            "needs_background": "light"
          }
        }
      ]
    },
    {
      "cell_type": "code",
      "metadata": {
        "colab": {
          "base_uri": "https://localhost:8080/",
          "height": 268
        },
        "id": "fvH-_FAuLqNw",
        "outputId": "31315129-98f4-4c60-d163-4e777e788038"
      },
      "source": [
        "plt.plot(hist.history['acc'])\n",
        "plt.plot(hist.history['val_acc'], 'r-')\n",
        "plt.show()"
      ],
      "execution_count": 32,
      "outputs": [
        {
          "output_type": "display_data",
          "data": {
            "image/png": "[encoded data removed]",
            "text/plain": [
              "<Figure size 432x288 with 1 Axes>"
            ]
          },
          "metadata": {
            "tags": [],
            "needs_background": "light"
          }
        }
      ]
    },
    {
      "cell_type": "markdown",
      "metadata": {
        "id": "aM_v-H4xTlyx"
      },
      "source": [
        "# service"
      ]
    },
    {
      "cell_type": "code",
      "metadata": {
        "colab": {
          "base_uri": "https://localhost:8080/"
        },
        "id": "jtPetHPSTkpZ",
        "outputId": "4e59e8be-692a-4db3-80eb-48e44e863ee3"
      },
      "source": [
        "y_test[30]"
      ],
      "execution_count": 33,
      "outputs": [
        {
          "output_type": "execute_result",
          "data": {
            "text/plain": [
              "3"
            ]
          },
          "metadata": {
            "tags": []
          },
          "execution_count": 33
        }
      ]
    },
    {
      "cell_type": "code",
      "metadata": {
        "colab": {
          "base_uri": "https://localhost:8080/",
          "height": 837
        },
        "id": "DoaK63SqTn8n",
        "outputId": "92df4710-ee59-401f-c948-1d29290c7b0a"
      },
      "source": [
        "model.predict(x_test[30,:])"
      ],
      "execution_count": 34,
      "outputs": [
        {
          "output_type": "error",
          "ename": "ValueError",
          "evalue": "ignored",
          "traceback": [
            "\u001b[0;31m---------------------------------------------------------------------------\u001b[0m",
            "\u001b[0;31mValueError\u001b[0m                                Traceback (most recent call last)",
            "\u001b[0;32m<ipython-input-34-97f11094648d>\u001b[0m in \u001b[0;36m<module>\u001b[0;34m()\u001b[0m\n\u001b[0;32m----> 1\u001b[0;31m \u001b[0mmodel\u001b[0m\u001b[0;34m.\u001b[0m\u001b[0mpredict\u001b[0m\u001b[0;34m(\u001b[0m\u001b[0mx_test\u001b[0m\u001b[0;34m[\u001b[0m\u001b[0;36m30\u001b[0m\u001b[0;34m,\u001b[0m\u001b[0;34m:\u001b[0m\u001b[0;34m]\u001b[0m\u001b[0;34m)\u001b[0m\u001b[0;34m\u001b[0m\u001b[0;34m\u001b[0m\u001b[0m\n\u001b[0m",
            "\u001b[0;32m/usr/local/lib/python3.7/dist-packages/tensorflow/python/keras/engine/training.py\u001b[0m in \u001b[0;36mpredict\u001b[0;34m(self, x, batch_size, verbose, steps, callbacks, max_queue_size, workers, use_multiprocessing)\u001b[0m\n\u001b[1;32m   1725\u001b[0m           \u001b[0;32mfor\u001b[0m \u001b[0mstep\u001b[0m \u001b[0;32min\u001b[0m \u001b[0mdata_handler\u001b[0m\u001b[0;34m.\u001b[0m\u001b[0msteps\u001b[0m\u001b[0;34m(\u001b[0m\u001b[0;34m)\u001b[0m\u001b[0;34m:\u001b[0m\u001b[0;34m\u001b[0m\u001b[0;34m\u001b[0m\u001b[0m\n\u001b[1;32m   1726\u001b[0m             \u001b[0mcallbacks\u001b[0m\u001b[0;34m.\u001b[0m\u001b[0mon_predict_batch_begin\u001b[0m\u001b[0;34m(\u001b[0m\u001b[0mstep\u001b[0m\u001b[0;34m)\u001b[0m\u001b[0;34m\u001b[0m\u001b[0;34m\u001b[0m\u001b[0m\n\u001b[0;32m-> 1727\u001b[0;31m             \u001b[0mtmp_batch_outputs\u001b[0m \u001b[0;34m=\u001b[0m \u001b[0mself\u001b[0m\u001b[0;34m.\u001b[0m\u001b[0mpredict_function\u001b[0m\u001b[0;34m(\u001b[0m\u001b[0miterator\u001b[0m\u001b[0;34m)\u001b[0m\u001b[0;34m\u001b[0m\u001b[0;34m\u001b[0m\u001b[0m\n\u001b[0m\u001b[1;32m   1728\u001b[0m             \u001b[0;32mif\u001b[0m \u001b[0mdata_handler\u001b[0m\u001b[0;34m.\u001b[0m\u001b[0mshould_sync\u001b[0m\u001b[0;34m:\u001b[0m\u001b[0;34m\u001b[0m\u001b[0;34m\u001b[0m\u001b[0m\n\u001b[1;32m   1729\u001b[0m               \u001b[0mcontext\u001b[0m\u001b[0;34m.\u001b[0m\u001b[0masync_wait\u001b[0m\u001b[0;34m(\u001b[0m\u001b[0;34m)\u001b[0m\u001b[0;34m\u001b[0m\u001b[0;34m\u001b[0m\u001b[0m\n",
            "\u001b[0;32m/usr/local/lib/python3.7/dist-packages/tensorflow/python/eager/def_function.py\u001b[0m in \u001b[0;36m__call__\u001b[0;34m(self, *args, **kwds)\u001b[0m\n\u001b[1;32m    887\u001b[0m \u001b[0;34m\u001b[0m\u001b[0m\n\u001b[1;32m    888\u001b[0m       \u001b[0;32mwith\u001b[0m \u001b[0mOptionalXlaContext\u001b[0m\u001b[0;34m(\u001b[0m\u001b[0mself\u001b[0m\u001b[0;34m.\u001b[0m\u001b[0m_jit_compile\u001b[0m\u001b[0;34m)\u001b[0m\u001b[0;34m:\u001b[0m\u001b[0;34m\u001b[0m\u001b[0;34m\u001b[0m\u001b[0m\n\u001b[0;32m--> 889\u001b[0;31m         \u001b[0mresult\u001b[0m \u001b[0;34m=\u001b[0m \u001b[0mself\u001b[0m\u001b[0;34m.\u001b[0m\u001b[0m_call\u001b[0m\u001b[0;34m(\u001b[0m\u001b[0;34m*\u001b[0m\u001b[0margs\u001b[0m\u001b[0;34m,\u001b[0m \u001b[0;34m**\u001b[0m\u001b[0mkwds\u001b[0m\u001b[0;34m)\u001b[0m\u001b[0;34m\u001b[0m\u001b[0;34m\u001b[0m\u001b[0m\n\u001b[0m\u001b[1;32m    890\u001b[0m \u001b[0;34m\u001b[0m\u001b[0m\n\u001b[1;32m    891\u001b[0m       \u001b[0mnew_tracing_count\u001b[0m \u001b[0;34m=\u001b[0m \u001b[0mself\u001b[0m\u001b[0;34m.\u001b[0m\u001b[0mexperimental_get_tracing_count\u001b[0m\u001b[0;34m(\u001b[0m\u001b[0;34m)\u001b[0m\u001b[0;34m\u001b[0m\u001b[0;34m\u001b[0m\u001b[0m\n",
            "\u001b[0;32m/usr/local/lib/python3.7/dist-packages/tensorflow/python/eager/def_function.py\u001b[0m in \u001b[0;36m_call\u001b[0;34m(self, *args, **kwds)\u001b[0m\n\u001b[1;32m    931\u001b[0m       \u001b[0;31m# This is the first call of __call__, so we have to initialize.\u001b[0m\u001b[0;34m\u001b[0m\u001b[0;34m\u001b[0m\u001b[0;34m\u001b[0m\u001b[0m\n\u001b[1;32m    932\u001b[0m       \u001b[0minitializers\u001b[0m \u001b[0;34m=\u001b[0m \u001b[0;34m[\u001b[0m\u001b[0;34m]\u001b[0m\u001b[0;34m\u001b[0m\u001b[0;34m\u001b[0m\u001b[0m\n\u001b[0;32m--> 933\u001b[0;31m       \u001b[0mself\u001b[0m\u001b[0;34m.\u001b[0m\u001b[0m_initialize\u001b[0m\u001b[0;34m(\u001b[0m\u001b[0margs\u001b[0m\u001b[0;34m,\u001b[0m \u001b[0mkwds\u001b[0m\u001b[0;34m,\u001b[0m \u001b[0madd_initializers_to\u001b[0m\u001b[0;34m=\u001b[0m\u001b[0minitializers\u001b[0m\u001b[0;34m)\u001b[0m\u001b[0;34m\u001b[0m\u001b[0;34m\u001b[0m\u001b[0m\n\u001b[0m\u001b[1;32m    934\u001b[0m     \u001b[0;32mfinally\u001b[0m\u001b[0;34m:\u001b[0m\u001b[0;34m\u001b[0m\u001b[0;34m\u001b[0m\u001b[0m\n\u001b[1;32m    935\u001b[0m       \u001b[0;31m# At this point we know that the initialization is complete (or less\u001b[0m\u001b[0;34m\u001b[0m\u001b[0;34m\u001b[0m\u001b[0;34m\u001b[0m\u001b[0m\n",
            "\u001b[0;32m/usr/local/lib/python3.7/dist-packages/tensorflow/python/eager/def_function.py\u001b[0m in \u001b[0;36m_initialize\u001b[0;34m(self, args, kwds, add_initializers_to)\u001b[0m\n\u001b[1;32m    762\u001b[0m     self._concrete_stateful_fn = (\n\u001b[1;32m    763\u001b[0m         self._stateful_fn._get_concrete_function_internal_garbage_collected(  # pylint: disable=protected-access\n\u001b[0;32m--> 764\u001b[0;31m             *args, **kwds))\n\u001b[0m\u001b[1;32m    765\u001b[0m \u001b[0;34m\u001b[0m\u001b[0m\n\u001b[1;32m    766\u001b[0m     \u001b[0;32mdef\u001b[0m \u001b[0minvalid_creator_scope\u001b[0m\u001b[0;34m(\u001b[0m\u001b[0;34m*\u001b[0m\u001b[0munused_args\u001b[0m\u001b[0;34m,\u001b[0m \u001b[0;34m**\u001b[0m\u001b[0munused_kwds\u001b[0m\u001b[0;34m)\u001b[0m\u001b[0;34m:\u001b[0m\u001b[0;34m\u001b[0m\u001b[0;34m\u001b[0m\u001b[0m\n",
            "\u001b[0;32m/usr/local/lib/python3.7/dist-packages/tensorflow/python/eager/function.py\u001b[0m in \u001b[0;36m_get_concrete_function_internal_garbage_collected\u001b[0;34m(self, *args, **kwargs)\u001b[0m\n\u001b[1;32m   3048\u001b[0m       \u001b[0margs\u001b[0m\u001b[0;34m,\u001b[0m \u001b[0mkwargs\u001b[0m \u001b[0;34m=\u001b[0m \u001b[0;32mNone\u001b[0m\u001b[0;34m,\u001b[0m \u001b[0;32mNone\u001b[0m\u001b[0;34m\u001b[0m\u001b[0;34m\u001b[0m\u001b[0m\n\u001b[1;32m   3049\u001b[0m     \u001b[0;32mwith\u001b[0m \u001b[0mself\u001b[0m\u001b[0;34m.\u001b[0m\u001b[0m_lock\u001b[0m\u001b[0;34m:\u001b[0m\u001b[0;34m\u001b[0m\u001b[0;34m\u001b[0m\u001b[0m\n\u001b[0;32m-> 3050\u001b[0;31m       \u001b[0mgraph_function\u001b[0m\u001b[0;34m,\u001b[0m \u001b[0m_\u001b[0m \u001b[0;34m=\u001b[0m \u001b[0mself\u001b[0m\u001b[0;34m.\u001b[0m\u001b[0m_maybe_define_function\u001b[0m\u001b[0;34m(\u001b[0m\u001b[0margs\u001b[0m\u001b[0;34m,\u001b[0m \u001b[0mkwargs\u001b[0m\u001b[0;34m)\u001b[0m\u001b[0;34m\u001b[0m\u001b[0;34m\u001b[0m\u001b[0m\n\u001b[0m\u001b[1;32m   3051\u001b[0m     \u001b[0;32mreturn\u001b[0m \u001b[0mgraph_function\u001b[0m\u001b[0;34m\u001b[0m\u001b[0;34m\u001b[0m\u001b[0m\n\u001b[1;32m   3052\u001b[0m \u001b[0;34m\u001b[0m\u001b[0m\n",
            "\u001b[0;32m/usr/local/lib/python3.7/dist-packages/tensorflow/python/eager/function.py\u001b[0m in \u001b[0;36m_maybe_define_function\u001b[0;34m(self, args, kwargs)\u001b[0m\n\u001b[1;32m   3442\u001b[0m \u001b[0;34m\u001b[0m\u001b[0m\n\u001b[1;32m   3443\u001b[0m           \u001b[0mself\u001b[0m\u001b[0;34m.\u001b[0m\u001b[0m_function_cache\u001b[0m\u001b[0;34m.\u001b[0m\u001b[0mmissed\u001b[0m\u001b[0;34m.\u001b[0m\u001b[0madd\u001b[0m\u001b[0;34m(\u001b[0m\u001b[0mcall_context_key\u001b[0m\u001b[0;34m)\u001b[0m\u001b[0;34m\u001b[0m\u001b[0;34m\u001b[0m\u001b[0m\n\u001b[0;32m-> 3444\u001b[0;31m           \u001b[0mgraph_function\u001b[0m \u001b[0;34m=\u001b[0m \u001b[0mself\u001b[0m\u001b[0;34m.\u001b[0m\u001b[0m_create_graph_function\u001b[0m\u001b[0;34m(\u001b[0m\u001b[0margs\u001b[0m\u001b[0;34m,\u001b[0m \u001b[0mkwargs\u001b[0m\u001b[0;34m)\u001b[0m\u001b[0;34m\u001b[0m\u001b[0;34m\u001b[0m\u001b[0m\n\u001b[0m\u001b[1;32m   3445\u001b[0m           \u001b[0mself\u001b[0m\u001b[0;34m.\u001b[0m\u001b[0m_function_cache\u001b[0m\u001b[0;34m.\u001b[0m\u001b[0mprimary\u001b[0m\u001b[0;34m[\u001b[0m\u001b[0mcache_key\u001b[0m\u001b[0;34m]\u001b[0m \u001b[0;34m=\u001b[0m \u001b[0mgraph_function\u001b[0m\u001b[0;34m\u001b[0m\u001b[0;34m\u001b[0m\u001b[0m\n\u001b[1;32m   3446\u001b[0m \u001b[0;34m\u001b[0m\u001b[0m\n",
            "\u001b[0;32m/usr/local/lib/python3.7/dist-packages/tensorflow/python/eager/function.py\u001b[0m in \u001b[0;36m_create_graph_function\u001b[0;34m(self, args, kwargs, override_flat_arg_shapes)\u001b[0m\n\u001b[1;32m   3287\u001b[0m             \u001b[0marg_names\u001b[0m\u001b[0;34m=\u001b[0m\u001b[0marg_names\u001b[0m\u001b[0;34m,\u001b[0m\u001b[0;34m\u001b[0m\u001b[0;34m\u001b[0m\u001b[0m\n\u001b[1;32m   3288\u001b[0m             \u001b[0moverride_flat_arg_shapes\u001b[0m\u001b[0;34m=\u001b[0m\u001b[0moverride_flat_arg_shapes\u001b[0m\u001b[0;34m,\u001b[0m\u001b[0;34m\u001b[0m\u001b[0;34m\u001b[0m\u001b[0m\n\u001b[0;32m-> 3289\u001b[0;31m             capture_by_value=self._capture_by_value),\n\u001b[0m\u001b[1;32m   3290\u001b[0m         \u001b[0mself\u001b[0m\u001b[0;34m.\u001b[0m\u001b[0m_function_attributes\u001b[0m\u001b[0;34m,\u001b[0m\u001b[0;34m\u001b[0m\u001b[0;34m\u001b[0m\u001b[0m\n\u001b[1;32m   3291\u001b[0m         \u001b[0mfunction_spec\u001b[0m\u001b[0;34m=\u001b[0m\u001b[0mself\u001b[0m\u001b[0;34m.\u001b[0m\u001b[0mfunction_spec\u001b[0m\u001b[0;34m,\u001b[0m\u001b[0;34m\u001b[0m\u001b[0;34m\u001b[0m\u001b[0m\n",
            "\u001b[0;32m/usr/local/lib/python3.7/dist-packages/tensorflow/python/framework/func_graph.py\u001b[0m in \u001b[0;36mfunc_graph_from_py_func\u001b[0;34m(name, python_func, args, kwargs, signature, func_graph, autograph, autograph_options, add_control_dependencies, arg_names, op_return_value, collections, capture_by_value, override_flat_arg_shapes)\u001b[0m\n\u001b[1;32m    997\u001b[0m         \u001b[0m_\u001b[0m\u001b[0;34m,\u001b[0m \u001b[0moriginal_func\u001b[0m \u001b[0;34m=\u001b[0m \u001b[0mtf_decorator\u001b[0m\u001b[0;34m.\u001b[0m\u001b[0munwrap\u001b[0m\u001b[0;34m(\u001b[0m\u001b[0mpython_func\u001b[0m\u001b[0;34m)\u001b[0m\u001b[0;34m\u001b[0m\u001b[0;34m\u001b[0m\u001b[0m\n\u001b[1;32m    998\u001b[0m \u001b[0;34m\u001b[0m\u001b[0m\n\u001b[0;32m--> 999\u001b[0;31m       \u001b[0mfunc_outputs\u001b[0m \u001b[0;34m=\u001b[0m \u001b[0mpython_func\u001b[0m\u001b[0;34m(\u001b[0m\u001b[0;34m*\u001b[0m\u001b[0mfunc_args\u001b[0m\u001b[0;34m,\u001b[0m \u001b[0;34m**\u001b[0m\u001b[0mfunc_kwargs\u001b[0m\u001b[0;34m)\u001b[0m\u001b[0;34m\u001b[0m\u001b[0;34m\u001b[0m\u001b[0m\n\u001b[0m\u001b[1;32m   1000\u001b[0m \u001b[0;34m\u001b[0m\u001b[0m\n\u001b[1;32m   1001\u001b[0m       \u001b[0;31m# invariant: `func_outputs` contains only Tensors, CompositeTensors,\u001b[0m\u001b[0;34m\u001b[0m\u001b[0;34m\u001b[0m\u001b[0;34m\u001b[0m\u001b[0m\n",
            "\u001b[0;32m/usr/local/lib/python3.7/dist-packages/tensorflow/python/eager/def_function.py\u001b[0m in \u001b[0;36mwrapped_fn\u001b[0;34m(*args, **kwds)\u001b[0m\n\u001b[1;32m    670\u001b[0m         \u001b[0;31m# the function a weak reference to itself to avoid a reference cycle.\u001b[0m\u001b[0;34m\u001b[0m\u001b[0;34m\u001b[0m\u001b[0;34m\u001b[0m\u001b[0m\n\u001b[1;32m    671\u001b[0m         \u001b[0;32mwith\u001b[0m \u001b[0mOptionalXlaContext\u001b[0m\u001b[0;34m(\u001b[0m\u001b[0mcompile_with_xla\u001b[0m\u001b[0;34m)\u001b[0m\u001b[0;34m:\u001b[0m\u001b[0;34m\u001b[0m\u001b[0;34m\u001b[0m\u001b[0m\n\u001b[0;32m--> 672\u001b[0;31m           \u001b[0mout\u001b[0m \u001b[0;34m=\u001b[0m \u001b[0mweak_wrapped_fn\u001b[0m\u001b[0;34m(\u001b[0m\u001b[0;34m)\u001b[0m\u001b[0;34m.\u001b[0m\u001b[0m__wrapped__\u001b[0m\u001b[0;34m(\u001b[0m\u001b[0;34m*\u001b[0m\u001b[0margs\u001b[0m\u001b[0;34m,\u001b[0m \u001b[0;34m**\u001b[0m\u001b[0mkwds\u001b[0m\u001b[0;34m)\u001b[0m\u001b[0;34m\u001b[0m\u001b[0;34m\u001b[0m\u001b[0m\n\u001b[0m\u001b[1;32m    673\u001b[0m         \u001b[0;32mreturn\u001b[0m \u001b[0mout\u001b[0m\u001b[0;34m\u001b[0m\u001b[0;34m\u001b[0m\u001b[0m\n\u001b[1;32m    674\u001b[0m \u001b[0;34m\u001b[0m\u001b[0m\n",
            "\u001b[0;32m/usr/local/lib/python3.7/dist-packages/tensorflow/python/framework/func_graph.py\u001b[0m in \u001b[0;36mwrapper\u001b[0;34m(*args, **kwargs)\u001b[0m\n\u001b[1;32m    984\u001b[0m           \u001b[0;32mexcept\u001b[0m \u001b[0mException\u001b[0m \u001b[0;32mas\u001b[0m \u001b[0me\u001b[0m\u001b[0;34m:\u001b[0m  \u001b[0;31m# pylint:disable=broad-except\u001b[0m\u001b[0;34m\u001b[0m\u001b[0;34m\u001b[0m\u001b[0m\n\u001b[1;32m    985\u001b[0m             \u001b[0;32mif\u001b[0m \u001b[0mhasattr\u001b[0m\u001b[0;34m(\u001b[0m\u001b[0me\u001b[0m\u001b[0;34m,\u001b[0m \u001b[0;34m\"ag_error_metadata\"\u001b[0m\u001b[0;34m)\u001b[0m\u001b[0;34m:\u001b[0m\u001b[0;34m\u001b[0m\u001b[0;34m\u001b[0m\u001b[0m\n\u001b[0;32m--> 986\u001b[0;31m               \u001b[0;32mraise\u001b[0m \u001b[0me\u001b[0m\u001b[0;34m.\u001b[0m\u001b[0mag_error_metadata\u001b[0m\u001b[0;34m.\u001b[0m\u001b[0mto_exception\u001b[0m\u001b[0;34m(\u001b[0m\u001b[0me\u001b[0m\u001b[0;34m)\u001b[0m\u001b[0;34m\u001b[0m\u001b[0;34m\u001b[0m\u001b[0m\n\u001b[0m\u001b[1;32m    987\u001b[0m             \u001b[0;32melse\u001b[0m\u001b[0;34m:\u001b[0m\u001b[0;34m\u001b[0m\u001b[0;34m\u001b[0m\u001b[0m\n\u001b[1;32m    988\u001b[0m               \u001b[0;32mraise\u001b[0m\u001b[0;34m\u001b[0m\u001b[0;34m\u001b[0m\u001b[0m\n",
            "\u001b[0;31mValueError\u001b[0m: in user code:\n\n    /usr/local/lib/python3.7/dist-packages/tensorflow/python/keras/engine/training.py:1569 predict_function  *\n        return step_function(self, iterator)\n    /usr/local/lib/python3.7/dist-packages/tensorflow/python/keras/engine/training.py:1559 step_function  **\n        outputs = model.distribute_strategy.run(run_step, args=(data,))\n    /usr/local/lib/python3.7/dist-packages/tensorflow/python/distribute/distribute_lib.py:1285 run\n        return self._extended.call_for_each_replica(fn, args=args, kwargs=kwargs)\n    /usr/local/lib/python3.7/dist-packages/tensorflow/python/distribute/distribute_lib.py:2833 call_for_each_replica\n        return self._call_for_each_replica(fn, args, kwargs)\n    /usr/local/lib/python3.7/dist-packages/tensorflow/python/distribute/distribute_lib.py:3608 _call_for_each_replica\n        return fn(*args, **kwargs)\n    /usr/local/lib/python3.7/dist-packages/tensorflow/python/keras/engine/training.py:1552 run_step  **\n        outputs = model.predict_step(data)\n    /usr/local/lib/python3.7/dist-packages/tensorflow/python/keras/engine/training.py:1525 predict_step\n        return self(x, training=False)\n    /usr/local/lib/python3.7/dist-packages/tensorflow/python/keras/engine/base_layer.py:1013 __call__\n        input_spec.assert_input_compatibility(self.input_spec, inputs, self.name)\n    /usr/local/lib/python3.7/dist-packages/tensorflow/python/keras/engine/input_spec.py:255 assert_input_compatibility\n        ' but received input with shape ' + display_shape(x.shape))\n\n    ValueError: Input 0 of layer sequential_3 is incompatible with the layer: expected axis -1 of input shape to have value 784 but received input with shape (None, 1)\n"
          ]
        }
      ]
    },
    {
      "cell_type": "code",
      "metadata": {
        "id": "_J0Chdg5TrcG"
      },
      "source": [
        ""
      ],
      "execution_count": null,
      "outputs": []
    }
  ]
}