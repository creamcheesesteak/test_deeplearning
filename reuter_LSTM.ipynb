{
  "nbformat": 4,
  "nbformat_minor": 0,
  "metadata": {
    "colab": {
      "name": "reuter_LSTM.ipynb",
      "provenance": [],
      "authorship_tag": "ABX9TyOw7x/L4cj1nHCmaLO06Tt+",
      "include_colab_link": true
    },
    "kernelspec": {
      "name": "python3",
      "display_name": "Python 3"
    },
    "language_info": {
      "name": "python"
    }
  },
  "cells": [
    {
      "cell_type": "markdown",
      "metadata": {
        "id": "view-in-github",
        "colab_type": "text"
      },
      "source": [
        "<a href=\"https://colab.research.google.com/github/creamcheesesteak/test_deeplearning/blob/master/reuter_LSTM.ipynb\" target=\"_parent\"><img src=\"https://colab.research.google.com/assets/colab-badge.svg\" alt=\"Open In Colab\"/></a>"
      ]
    },
    {
      "cell_type": "code",
      "metadata": {
        "id": "1tMuS3l53NXt"
      },
      "source": [
        "import tensorflow as tf"
      ],
      "execution_count": 1,
      "outputs": []
    },
    {
      "cell_type": "code",
      "metadata": {
        "colab": {
          "base_uri": "https://localhost:8080/"
        },
        "id": "vief-qvj3gf3",
        "outputId": "8aa87327-f4ca-4775-e6e9-67148cafaecb"
      },
      "source": [
        "(x_train, y_train), (x_test, y_test) = tf.keras.datasets.reuters.load_data(num_words=10000)\n",
        "x_train.shape, y_train.shape, x_test.shape, y_test.shape, "
      ],
      "execution_count": 2,
      "outputs": [
        {
          "output_type": "stream",
          "text": [
            "Downloading data from https://storage.googleapis.com/tensorflow/tf-keras-datasets/reuters.npz\n",
            "2113536/2110848 [==============================] - 0s 0us/step\n"
          ],
          "name": "stdout"
        },
        {
          "output_type": "stream",
          "text": [
            "/usr/local/lib/python3.7/dist-packages/tensorflow/python/keras/datasets/reuters.py:143: VisibleDeprecationWarning: Creating an ndarray from ragged nested sequences (which is a list-or-tuple of lists-or-tuples-or ndarrays with different lengths or shapes) is deprecated. If you meant to do this, you must specify 'dtype=object' when creating the ndarray\n",
            "  x_train, y_train = np.array(xs[:idx]), np.array(labels[:idx])\n",
            "/usr/local/lib/python3.7/dist-packages/tensorflow/python/keras/datasets/reuters.py:144: VisibleDeprecationWarning: Creating an ndarray from ragged nested sequences (which is a list-or-tuple of lists-or-tuples-or ndarrays with different lengths or shapes) is deprecated. If you meant to do this, you must specify 'dtype=object' when creating the ndarray\n",
            "  x_test, y_test = np.array(xs[idx:]), np.array(labels[idx:])\n"
          ],
          "name": "stderr"
        },
        {
          "output_type": "execute_result",
          "data": {
            "text/plain": [
              "((8982,), (8982,), (2246,), (2246,))"
            ]
          },
          "metadata": {
            "tags": []
          },
          "execution_count": 2
        }
      ]
    },
    {
      "cell_type": "code",
      "metadata": {
        "colab": {
          "base_uri": "https://localhost:8080/"
        },
        "id": "MKDxLB6p3YVN",
        "outputId": "699b842c-9798-46e9-b01b-9885749608b4"
      },
      "source": [
        "print(y_train[5], x_train[50])"
      ],
      "execution_count": 3,
      "outputs": [
        {
          "output_type": "stream",
          "text": [
            "4 [1, 1479, 1197, 71, 8, 25, 1479, 1197, 640, 71, 304, 471, 80, 9, 1379, 1901, 4530, 6797, 79, 5, 8144, 71, 175, 80, 58, 4, 1279, 5, 63, 32, 20, 5, 4, 326, 175, 80, 335, 7, 10, 845, 31, 4, 221, 9, 108, 259, 1479, 1197, 640, 8, 16, 600, 69, 68, 11, 15, 6, 8144, 21, 397, 321, 6, 438, 1761, 3072, 79, 5, 8144, 1040, 894, 1051, 617, 80, 4, 617, 80, 23, 1051, 172, 3814, 3206, 8144, 175, 79, 9, 1379, 6, 264, 395, 3814, 3206, 79, 1479, 1197, 9, 25, 323, 8, 4, 8144, 80, 23, 381, 43, 42, 205, 50, 77, 33, 909, 9, 3509, 22, 216, 6, 216, 17, 12]\n"
          ],
          "name": "stdout"
        }
      ]
    },
    {
      "cell_type": "code",
      "metadata": {
        "colab": {
          "base_uri": "https://localhost:8080/"
        },
        "id": "B6LFeBF47jB0",
        "outputId": "c04a4a4c-9ab9-41ac-8f91-dcd651e629db"
      },
      "source": [
        "pad_x_train = tf.keras.preprocessing.sequence.pad_sequences(x_train, maxlen=500)\n",
        "len(pad_x_train[50])"
      ],
      "execution_count": 4,
      "outputs": [
        {
          "output_type": "execute_result",
          "data": {
            "text/plain": [
              "500"
            ]
          },
          "metadata": {
            "tags": []
          },
          "execution_count": 4
        }
      ]
    },
    {
      "cell_type": "code",
      "metadata": {
        "id": "YZZ3Hi1F7izC"
      },
      "source": [
        "import numpy as np"
      ],
      "execution_count": 5,
      "outputs": []
    },
    {
      "cell_type": "code",
      "metadata": {
        "colab": {
          "base_uri": "https://localhost:8080/"
        },
        "id": "9OnUDqXa7ifZ",
        "outputId": "2e45768e-5ea0-48d8-a065-60eab1fe1c1c"
      },
      "source": [
        "np.unique(y_train)"
      ],
      "execution_count": 6,
      "outputs": [
        {
          "output_type": "execute_result",
          "data": {
            "text/plain": [
              "array([ 0,  1,  2,  3,  4,  5,  6,  7,  8,  9, 10, 11, 12, 13, 14, 15, 16,\n",
              "       17, 18, 19, 20, 21, 22, 23, 24, 25, 26, 27, 28, 29, 30, 31, 32, 33,\n",
              "       34, 35, 36, 37, 38, 39, 40, 41, 42, 43, 44, 45])"
            ]
          },
          "metadata": {
            "tags": []
          },
          "execution_count": 6
        }
      ]
    },
    {
      "cell_type": "code",
      "metadata": {
        "colab": {
          "base_uri": "https://localhost:8080/"
        },
        "id": "Mfa8-w-1EcL7",
        "outputId": "a767184e-1523-48cb-bbd1-e3a9f95603ff"
      },
      "source": [
        "len(np.unique(y_train))"
      ],
      "execution_count": 7,
      "outputs": [
        {
          "output_type": "execute_result",
          "data": {
            "text/plain": [
              "46"
            ]
          },
          "metadata": {
            "tags": []
          },
          "execution_count": 7
        }
      ]
    },
    {
      "cell_type": "code",
      "metadata": {
        "id": "6r_xzmgoEe3P"
      },
      "source": [
        ""
      ],
      "execution_count": 7,
      "outputs": []
    },
    {
      "cell_type": "markdown",
      "metadata": {
        "id": "UrLELjLG7ghu"
      },
      "source": [
        "# make model"
      ]
    },
    {
      "cell_type": "code",
      "metadata": {
        "id": "w58SerrG3YYq"
      },
      "source": [
        "model = tf.keras.Sequential()"
      ],
      "execution_count": 8,
      "outputs": []
    },
    {
      "cell_type": "code",
      "metadata": {
        "id": "YIq4_08_3Ydy"
      },
      "source": [
        "model.add(tf.keras.layers.Embedding(input_length=500, input_dim=10000, output_dim=42)) # input layer\n",
        "model.add(tf.keras.layers.LSTM(24, return_sequences=True, activation='tanh'))\n",
        "model.add(tf.keras.layers.LSTM(12, activation='tanh'))\n",
        "model.add(tf.keras.layers.Flatten()) # hidden layer\n",
        "model.add(tf.keras.layers.Dense(46, activation='softmax')) # output layer\n",
        "\n",
        "model.compile(optimizer='adam', loss='sparse_categorical_crossentropy') #gadget"
      ],
      "execution_count": 9,
      "outputs": []
    },
    {
      "cell_type": "code",
      "metadata": {
        "colab": {
          "base_uri": "https://localhost:8080/"
        },
        "id": "bXXOag0-3Yih",
        "outputId": "66f0c9d6-0db9-4914-ecee-f53f8c996e10"
      },
      "source": [
        "hist = model.fit(pad_x_train, y_train, epochs=100, validation_split=0.3, batch_size=256)"
      ],
      "execution_count": 10,
      "outputs": [
        {
          "output_type": "stream",
          "text": [
            "Epoch 1/100\n",
            "25/25 [==============================] - 23s 777ms/step - loss: 3.7549 - val_loss: 3.5799\n",
            "Epoch 2/100\n",
            "25/25 [==============================] - 18s 742ms/step - loss: 3.3668 - val_loss: 3.1141\n",
            "Epoch 3/100\n",
            "25/25 [==============================] - 19s 746ms/step - loss: 2.9277 - val_loss: 2.7272\n",
            "Epoch 4/100\n",
            "25/25 [==============================] - 19s 744ms/step - loss: 2.6441 - val_loss: 2.5371\n",
            "Epoch 5/100\n",
            "25/25 [==============================] - 19s 750ms/step - loss: 2.5160 - val_loss: 2.4514\n",
            "Epoch 6/100\n",
            "25/25 [==============================] - 19s 744ms/step - loss: 2.4598 - val_loss: 2.4163\n",
            "Epoch 7/100\n",
            "25/25 [==============================] - 19s 752ms/step - loss: 2.4375 - val_loss: 2.4013\n",
            "Epoch 8/100\n",
            "25/25 [==============================] - 19s 753ms/step - loss: 2.4269 - val_loss: 2.3938\n",
            "Epoch 9/100\n",
            "25/25 [==============================] - 19s 750ms/step - loss: 2.4212 - val_loss: 2.3897\n",
            "Epoch 10/100\n",
            "25/25 [==============================] - 19s 757ms/step - loss: 2.4174 - val_loss: 2.3857\n",
            "Epoch 11/100\n",
            "25/25 [==============================] - 19s 751ms/step - loss: 2.4129 - val_loss: 2.3778\n",
            "Epoch 12/100\n",
            "25/25 [==============================] - 18s 742ms/step - loss: 2.4139 - val_loss: 2.3862\n",
            "Epoch 13/100\n",
            "25/25 [==============================] - 19s 747ms/step - loss: 2.4102 - val_loss: 2.3719\n",
            "Epoch 14/100\n",
            "25/25 [==============================] - 19s 754ms/step - loss: 2.3708 - val_loss: 2.2862\n",
            "Epoch 15/100\n",
            "25/25 [==============================] - 19s 756ms/step - loss: 2.2420 - val_loss: 2.1628\n",
            "Epoch 16/100\n",
            "25/25 [==============================] - 19s 758ms/step - loss: 2.0973 - val_loss: 2.0390\n",
            "Epoch 17/100\n",
            "25/25 [==============================] - 19s 747ms/step - loss: 1.9815 - val_loss: 1.9710\n",
            "Epoch 18/100\n",
            "25/25 [==============================] - 18s 743ms/step - loss: 1.8853 - val_loss: 1.9324\n",
            "Epoch 19/100\n",
            "25/25 [==============================] - 19s 751ms/step - loss: 1.8138 - val_loss: 1.8786\n",
            "Epoch 20/100\n",
            "25/25 [==============================] - 19s 749ms/step - loss: 1.7226 - val_loss: 1.8417\n",
            "Epoch 21/100\n",
            "25/25 [==============================] - 19s 750ms/step - loss: 1.6493 - val_loss: 1.8040\n",
            "Epoch 22/100\n",
            "25/25 [==============================] - 19s 750ms/step - loss: 1.5940 - val_loss: 1.7933\n",
            "Epoch 23/100\n",
            "25/25 [==============================] - 19s 750ms/step - loss: 1.5161 - val_loss: 1.7665\n",
            "Epoch 24/100\n",
            "25/25 [==============================] - 19s 753ms/step - loss: 1.4680 - val_loss: 1.7626\n",
            "Epoch 25/100\n",
            "25/25 [==============================] - 19s 753ms/step - loss: 1.4626 - val_loss: 1.8156\n",
            "Epoch 26/100\n",
            "25/25 [==============================] - 19s 754ms/step - loss: 1.4278 - val_loss: 1.7619\n",
            "Epoch 27/100\n",
            "25/25 [==============================] - 19s 750ms/step - loss: 1.3383 - val_loss: 1.7490\n",
            "Epoch 28/100\n",
            "25/25 [==============================] - 19s 753ms/step - loss: 1.2790 - val_loss: 1.7257\n",
            "Epoch 29/100\n",
            "25/25 [==============================] - 19s 758ms/step - loss: 1.2352 - val_loss: 1.7194\n",
            "Epoch 30/100\n",
            "25/25 [==============================] - 19s 752ms/step - loss: 1.1844 - val_loss: 1.7213\n",
            "Epoch 31/100\n",
            "25/25 [==============================] - 19s 753ms/step - loss: 1.1420 - val_loss: 1.7112\n",
            "Epoch 32/100\n",
            "25/25 [==============================] - 19s 752ms/step - loss: 1.1139 - val_loss: 1.7097\n",
            "Epoch 33/100\n",
            "25/25 [==============================] - 19s 748ms/step - loss: 1.0942 - val_loss: 1.7103\n",
            "Epoch 34/100\n",
            "25/25 [==============================] - 19s 753ms/step - loss: 1.0652 - val_loss: 1.7077\n",
            "Epoch 35/100\n",
            "25/25 [==============================] - 19s 748ms/step - loss: 1.0359 - val_loss: 1.7098\n",
            "Epoch 36/100\n",
            "25/25 [==============================] - 19s 750ms/step - loss: 1.0043 - val_loss: 1.7178\n",
            "Epoch 37/100\n",
            "25/25 [==============================] - 19s 748ms/step - loss: 0.9909 - val_loss: 1.7410\n",
            "Epoch 38/100\n",
            "25/25 [==============================] - 19s 749ms/step - loss: 0.9596 - val_loss: 1.7312\n",
            "Epoch 39/100\n",
            "25/25 [==============================] - 19s 749ms/step - loss: 0.9657 - val_loss: 1.7777\n",
            "Epoch 40/100\n",
            "25/25 [==============================] - 19s 758ms/step - loss: 1.0017 - val_loss: 1.7465\n",
            "Epoch 41/100\n",
            "25/25 [==============================] - 19s 747ms/step - loss: 0.9368 - val_loss: 1.7309\n",
            "Epoch 42/100\n",
            "25/25 [==============================] - 19s 755ms/step - loss: 0.9152 - val_loss: 1.7327\n",
            "Epoch 43/100\n",
            "25/25 [==============================] - 19s 752ms/step - loss: 1.0023 - val_loss: 1.7469\n",
            "Epoch 44/100\n",
            "25/25 [==============================] - 19s 750ms/step - loss: 0.8961 - val_loss: 1.7302\n",
            "Epoch 45/100\n",
            "25/25 [==============================] - 19s 752ms/step - loss: 1.0550 - val_loss: 1.7164\n",
            "Epoch 46/100\n",
            "25/25 [==============================] - 19s 747ms/step - loss: 1.0051 - val_loss: 1.8467\n",
            "Epoch 47/100\n",
            "25/25 [==============================] - 19s 749ms/step - loss: 0.9413 - val_loss: 1.7103\n",
            "Epoch 48/100\n",
            "25/25 [==============================] - 19s 754ms/step - loss: 0.8482 - val_loss: 1.6866\n",
            "Epoch 49/100\n",
            "25/25 [==============================] - 19s 749ms/step - loss: 0.8007 - val_loss: 1.7050\n",
            "Epoch 50/100\n",
            "25/25 [==============================] - 19s 746ms/step - loss: 0.7741 - val_loss: 1.7109\n",
            "Epoch 51/100\n",
            "25/25 [==============================] - 19s 747ms/step - loss: 0.7540 - val_loss: 1.7189\n",
            "Epoch 52/100\n",
            "25/25 [==============================] - 19s 747ms/step - loss: 0.7411 - val_loss: 1.7303\n",
            "Epoch 53/100\n",
            "25/25 [==============================] - 19s 753ms/step - loss: 0.7251 - val_loss: 1.7587\n",
            "Epoch 54/100\n",
            "25/25 [==============================] - 19s 750ms/step - loss: 0.7118 - val_loss: 1.7419\n",
            "Epoch 55/100\n",
            "25/25 [==============================] - 19s 755ms/step - loss: 0.6983 - val_loss: 1.7544\n",
            "Epoch 56/100\n",
            "25/25 [==============================] - 19s 750ms/step - loss: 0.6804 - val_loss: 1.7628\n",
            "Epoch 57/100\n",
            "25/25 [==============================] - 19s 746ms/step - loss: 0.6877 - val_loss: 1.7897\n",
            "Epoch 58/100\n",
            "25/25 [==============================] - 19s 749ms/step - loss: 0.6716 - val_loss: 1.7965\n",
            "Epoch 59/100\n",
            "25/25 [==============================] - 19s 749ms/step - loss: 0.6920 - val_loss: 1.8131\n",
            "Epoch 60/100\n",
            "25/25 [==============================] - 19s 749ms/step - loss: 0.6448 - val_loss: 1.8074\n",
            "Epoch 61/100\n",
            "25/25 [==============================] - 19s 751ms/step - loss: 0.6318 - val_loss: 1.8249\n",
            "Epoch 62/100\n",
            "25/25 [==============================] - 19s 748ms/step - loss: 0.6209 - val_loss: 1.8043\n",
            "Epoch 63/100\n",
            "25/25 [==============================] - 19s 749ms/step - loss: 0.6076 - val_loss: 1.8186\n",
            "Epoch 64/100\n",
            "25/25 [==============================] - 19s 751ms/step - loss: 0.5995 - val_loss: 1.8163\n",
            "Epoch 65/100\n",
            "25/25 [==============================] - 19s 750ms/step - loss: 0.5905 - val_loss: 1.8187\n",
            "Epoch 66/100\n",
            "25/25 [==============================] - 19s 750ms/step - loss: 0.5798 - val_loss: 1.8414\n",
            "Epoch 67/100\n",
            "25/25 [==============================] - 19s 753ms/step - loss: 0.5692 - val_loss: 1.8411\n",
            "Epoch 68/100\n",
            "25/25 [==============================] - 19s 754ms/step - loss: 0.5573 - val_loss: 1.8370\n",
            "Epoch 69/100\n",
            "25/25 [==============================] - 19s 748ms/step - loss: 0.5474 - val_loss: 1.8635\n",
            "Epoch 70/100\n",
            "25/25 [==============================] - 19s 750ms/step - loss: 0.5413 - val_loss: 1.8548\n",
            "Epoch 71/100\n",
            "25/25 [==============================] - 19s 749ms/step - loss: 0.5331 - val_loss: 1.8591\n",
            "Epoch 72/100\n",
            "25/25 [==============================] - 19s 747ms/step - loss: 0.5282 - val_loss: 1.8755\n",
            "Epoch 73/100\n",
            "25/25 [==============================] - 19s 755ms/step - loss: 0.5205 - val_loss: 1.8790\n",
            "Epoch 74/100\n",
            "25/25 [==============================] - 19s 751ms/step - loss: 0.5157 - val_loss: 1.8710\n",
            "Epoch 75/100\n",
            "25/25 [==============================] - 19s 749ms/step - loss: 0.5068 - val_loss: 1.8860\n",
            "Epoch 76/100\n",
            "25/25 [==============================] - 19s 754ms/step - loss: 0.5361 - val_loss: 1.9253\n",
            "Epoch 77/100\n",
            "25/25 [==============================] - 19s 748ms/step - loss: 0.5515 - val_loss: 1.8839\n",
            "Epoch 78/100\n",
            "25/25 [==============================] - 19s 754ms/step - loss: 0.5352 - val_loss: 1.8925\n",
            "Epoch 79/100\n",
            "25/25 [==============================] - 19s 744ms/step - loss: 0.5036 - val_loss: 1.9075\n",
            "Epoch 80/100\n",
            "25/25 [==============================] - 19s 745ms/step - loss: 0.4911 - val_loss: 1.8911\n",
            "Epoch 81/100\n",
            "25/25 [==============================] - 19s 747ms/step - loss: 0.6066 - val_loss: 1.9481\n",
            "Epoch 82/100\n",
            "25/25 [==============================] - 19s 755ms/step - loss: 0.5909 - val_loss: 1.9346\n",
            "Epoch 83/100\n",
            "25/25 [==============================] - 19s 744ms/step - loss: 0.6992 - val_loss: 2.1061\n",
            "Epoch 84/100\n",
            "25/25 [==============================] - 19s 745ms/step - loss: 0.6701 - val_loss: 1.9222\n",
            "Epoch 85/100\n",
            "25/25 [==============================] - 19s 751ms/step - loss: 0.5989 - val_loss: 1.8490\n",
            "Epoch 86/100\n",
            "25/25 [==============================] - 19s 744ms/step - loss: 0.5127 - val_loss: 1.8472\n",
            "Epoch 87/100\n",
            "25/25 [==============================] - 19s 745ms/step - loss: 0.4770 - val_loss: 1.8757\n",
            "Epoch 88/100\n",
            "25/25 [==============================] - 18s 736ms/step - loss: 0.4571 - val_loss: 1.8695\n",
            "Epoch 89/100\n",
            "25/25 [==============================] - 18s 742ms/step - loss: 0.4447 - val_loss: 1.8770\n",
            "Epoch 90/100\n",
            "25/25 [==============================] - 18s 739ms/step - loss: 0.4350 - val_loss: 1.8828\n",
            "Epoch 91/100\n",
            "25/25 [==============================] - 19s 744ms/step - loss: 0.4281 - val_loss: 1.8959\n",
            "Epoch 92/100\n",
            "25/25 [==============================] - 18s 737ms/step - loss: 0.4205 - val_loss: 1.9019\n",
            "Epoch 93/100\n",
            "25/25 [==============================] - 18s 741ms/step - loss: 0.4134 - val_loss: 1.9021\n",
            "Epoch 94/100\n",
            "25/25 [==============================] - 18s 739ms/step - loss: 0.4076 - val_loss: 1.9126\n",
            "Epoch 95/100\n",
            "25/25 [==============================] - 18s 742ms/step - loss: 0.4025 - val_loss: 1.9209\n",
            "Epoch 96/100\n",
            "25/25 [==============================] - 18s 739ms/step - loss: 0.3996 - val_loss: 1.9196\n",
            "Epoch 97/100\n",
            "25/25 [==============================] - 18s 743ms/step - loss: 0.3930 - val_loss: 1.9334\n",
            "Epoch 98/100\n",
            "25/25 [==============================] - 19s 755ms/step - loss: 0.3898 - val_loss: 1.9230\n",
            "Epoch 99/100\n",
            "25/25 [==============================] - 19s 752ms/step - loss: 0.3899 - val_loss: 1.9832\n",
            "Epoch 100/100\n",
            "25/25 [==============================] - 19s 754ms/step - loss: 0.3956 - val_loss: 1.9965\n"
          ],
          "name": "stdout"
        }
      ]
    },
    {
      "cell_type": "code",
      "metadata": {
        "id": "PIZfTkMv3YmI"
      },
      "source": [
        ""
      ],
      "execution_count": 10,
      "outputs": []
    },
    {
      "cell_type": "markdown",
      "metadata": {
        "id": "X4uJqXmmTi5Q"
      },
      "source": [
        "# evaluation"
      ]
    },
    {
      "cell_type": "code",
      "metadata": {
        "colab": {
          "base_uri": "https://localhost:8080/"
        },
        "id": "FCilEFBoomm7",
        "outputId": "f9eba0e4-2e56-4053-fbe5-5af9b5e507eb"
      },
      "source": [
        "hist.history.keys()"
      ],
      "execution_count": 27,
      "outputs": [
        {
          "output_type": "execute_result",
          "data": {
            "text/plain": [
              "dict_keys(['loss', 'val_loss'])"
            ]
          },
          "metadata": {
            "tags": []
          },
          "execution_count": 27
        }
      ]
    },
    {
      "cell_type": "code",
      "metadata": {
        "colab": {
          "base_uri": "https://localhost:8080/"
        },
        "id": "hazjd0pB3YrT",
        "outputId": "1656551b-67e3-40ba-cd1f-8ab33a33818d"
      },
      "source": [
        "# 학습 시켰던 데이터\n",
        "model.evaluate(pad_x_train, y_train)"
      ],
      "execution_count": 11,
      "outputs": [
        {
          "output_type": "stream",
          "text": [
            "281/281 [==============================] - 18s 63ms/step - loss: 0.8928\n"
          ],
          "name": "stdout"
        },
        {
          "output_type": "execute_result",
          "data": {
            "text/plain": [
              "0.8928269743919373"
            ]
          },
          "metadata": {
            "tags": []
          },
          "execution_count": 11
        }
      ]
    },
    {
      "cell_type": "code",
      "metadata": {
        "id": "tXcZzEJnTnUf"
      },
      "source": [
        "pad_x_train= tf.keras.preprocessing.sequence.pad_sequences(x_train, maxlen=500)\n",
        "pad_x_test= tf.keras.preprocessing.sequence.pad_sequences(x_test, maxlen=500)"
      ],
      "execution_count": 12,
      "outputs": []
    },
    {
      "cell_type": "code",
      "metadata": {
        "id": "a0tm7OePX2Z_"
      },
      "source": [
        "def pad_make(x_data):\n",
        "  pad_x= tf.keras.preprocessing.sequence.pad_sequences(x_data, maxlen=500)\n",
        "  return pad_x"
      ],
      "execution_count": 13,
      "outputs": []
    },
    {
      "cell_type": "code",
      "metadata": {
        "id": "emUTpSlCYVp8"
      },
      "source": [
        "pad_make_x = pad_make(x_test)"
      ],
      "execution_count": 14,
      "outputs": []
    },
    {
      "cell_type": "code",
      "metadata": {
        "colab": {
          "base_uri": "https://localhost:8080/"
        },
        "id": "_h6IuDhNYRo2",
        "outputId": "9dcce202-085e-435c-b24b-5efa837f3341"
      },
      "source": [
        "model.evaluate(pad_make_x, y_test)"
      ],
      "execution_count": 15,
      "outputs": [
        {
          "output_type": "stream",
          "text": [
            "71/71 [==============================] - 4s 62ms/step - loss: 2.2017\n"
          ],
          "name": "stdout"
        },
        {
          "output_type": "execute_result",
          "data": {
            "text/plain": [
              "2.2016701698303223"
            ]
          },
          "metadata": {
            "tags": []
          },
          "execution_count": 15
        }
      ]
    },
    {
      "cell_type": "code",
      "metadata": {
        "colab": {
          "base_uri": "https://localhost:8080/"
        },
        "id": "27fwswGjX_jH",
        "outputId": "a15b3352-1b22-4e83-d797-85e18fa21290"
      },
      "source": [
        "pad_make(x_test)"
      ],
      "execution_count": 16,
      "outputs": [
        {
          "output_type": "execute_result",
          "data": {
            "text/plain": [
              "array([[   0,    0,    0, ...,  510,   17,   12],\n",
              "       [6337,  268,  609, ...,  760,   17,   12],\n",
              "       [   0,    0,    0, ...,    8,   17,   12],\n",
              "       ...,\n",
              "       [   0,    0,    0, ...,   11,   17,   12],\n",
              "       [   0,    0,    0, ...,    8,   17,   12],\n",
              "       [   0,    0,    0, ..., 1523,   17,   12]], dtype=int32)"
            ]
          },
          "metadata": {
            "tags": []
          },
          "execution_count": 16
        }
      ]
    },
    {
      "cell_type": "code",
      "metadata": {
        "colab": {
          "base_uri": "https://localhost:8080/"
        },
        "id": "XZcsegi33YwA",
        "outputId": "b0ed5ecb-ab22-47d8-c500-6273da455ac7"
      },
      "source": [
        "model.evaluate(pad_x_test, y_test)"
      ],
      "execution_count": 17,
      "outputs": [
        {
          "output_type": "stream",
          "text": [
            "71/71 [==============================] - 4s 62ms/step - loss: 2.2017\n"
          ],
          "name": "stdout"
        },
        {
          "output_type": "execute_result",
          "data": {
            "text/plain": [
              "2.2016701698303223"
            ]
          },
          "metadata": {
            "tags": []
          },
          "execution_count": 17
        }
      ]
    },
    {
      "cell_type": "code",
      "metadata": {
        "id": "a8R8pq9d3Y1Z"
      },
      "source": [
        "import matplotlib.pyplot as plt"
      ],
      "execution_count": 18,
      "outputs": []
    },
    {
      "cell_type": "code",
      "metadata": {
        "id": "VE9AVnWgVoP6"
      },
      "source": [
        "hist.history['loss']"
      ],
      "execution_count": null,
      "outputs": []
    },
    {
      "cell_type": "code",
      "metadata": {
        "colab": {
          "base_uri": "https://localhost:8080/",
          "height": 265
        },
        "id": "gTEiJR6F3Y5r",
        "outputId": "730571d6-5b04-4068-9a73-8c8c55283e71"
      },
      "source": [
        "plt.plot(hist.history['loss'])\n",
        "plt.plot(hist.history['val_loss'])\n",
        "plt.show()"
      ],
      "execution_count": 24,
      "outputs": [
        {
          "output_type": "display_data",
          "data": {
            "image/png": "[encoded data removed]",
            "text/plain": [
              "<Figure size 432x288 with 1 Axes>"
            ]
          },
          "metadata": {
            "tags": [],
            "needs_background": "light"
          }
        }
      ]
    },
    {
      "cell_type": "code",
      "metadata": {
        "id": "NJJO9qYK3Y_x"
      },
      "source": [
        "plt.plot(hist.history['acc'])\n",
        "plt.plot(hist.history['val_acc'])\n",
        "plt.show()"
      ],
      "execution_count": null,
      "outputs": []
    },
    {
      "cell_type": "code",
      "metadata": {
        "id": "K9xmna6O3ZHk"
      },
      "source": [
        ""
      ],
      "execution_count": 23,
      "outputs": []
    }
  ]
}