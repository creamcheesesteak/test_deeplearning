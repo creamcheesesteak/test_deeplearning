{
  "nbformat": 4,
  "nbformat_minor": 0,
  "metadata": {
    "colab": {
      "name": "smtph_total.ipynb",
      "provenance": [],
      "authorship_tag": "ABX9TyPzNG1xrqVCsJMWx1HRv7jG",
      "include_colab_link": true
    },
    "kernelspec": {
      "name": "python3",
      "display_name": "Python 3"
    },
    "language_info": {
      "name": "python"
    }
  },
  "cells": [
    {
      "cell_type": "markdown",
      "metadata": {
        "id": "view-in-github",
        "colab_type": "text"
      },
      "source": [
        "<a href=\"https://colab.research.google.com/github/creamcheesesteak/test_deeplearning/blob/master/smtph_total.ipynb\" target=\"_parent\"><img src=\"https://colab.research.google.com/assets/colab-badge.svg\" alt=\"Open In Colab\"/></a>"
      ]
    },
    {
      "cell_type": "code",
      "metadata": {
        "id": "VE2SJ0b-BH_9"
      },
      "source": [
        "import pandas as pd"
      ],
      "execution_count": 3,
      "outputs": []
    },
    {
      "cell_type": "code",
      "metadata": {
        "colab": {
          "base_uri": "https://localhost:8080/",
          "height": 1000
        },
        "id": "TjaR_pB9BJQu",
        "outputId": "49e82d82-d883-4a9f-c57f-19d4ba0ae24c"
      },
      "source": [
        "df = pd.read_csv('smtph_total.csv')\n",
        "df.head(5)"
      ],
      "execution_count": 4,
      "outputs": [
        {
          "output_type": "execute_result",
          "data": {
            "text/html": [
              "<div>\n",
              "<style scoped>\n",
              "    .dataframe tbody tr th:only-of-type {\n",
              "        vertical-align: middle;\n",
              "    }\n",
              "\n",
              "    .dataframe tbody tr th {\n",
              "        vertical-align: top;\n",
              "    }\n",
              "\n",
              "    .dataframe thead th {\n",
              "        text-align: right;\n",
              "    }\n",
              "</style>\n",
              "<table border=\"1\" class=\"dataframe\">\n",
              "  <thead>\n",
              "    <tr style=\"text-align: right;\">\n",
              "      <th></th>\n",
              "      <th>Title</th>\n",
              "      <th>Link</th>\n",
              "      <th>Description</th>\n",
              "      <th>Blogger Name</th>\n",
              "      <th>Blogger Link</th>\n",
              "      <th>Post Date</th>\n",
              "      <th>Post Contents</th>\n",
              "    </tr>\n",
              "  </thead>\n",
              "  <tbody>\n",
              "    <tr>\n",
              "      <th>0</th>\n",
              "      <td>갤럭시 Z 플립과 한 달, 접는 스마트폰의 가치만 남다</td>\n",
              "      <td>https://chitsol.com/entry/galaxy_z_flip_review/</td>\n",
              "      <td>반으로 접을 수 있는 갤럭시 Z 플립이 접지 않는 스마트폰과 얼마나 다른 경험인가를...</td>\n",
              "      <td>https://chitsol.com/</td>\n",
              "      <td>https://chitsol.com/</td>\n",
              "      <td>20210712</td>\n",
              "      <td>NaN</td>\n",
              "    </tr>\n",
              "    <tr>\n",
              "      <th>1</th>\n",
              "      <td>스마트폰 삼각대 추천 내돈내산 리뷰</td>\n",
              "      <td>https://blog.naver.com/kimhw1020?Redirect=Log&amp;...</td>\n",
              "      <td>그래서 스마트폰 삼각대 추천 하는 제품을 구매하게 된 것 같아요. 2018년 4월 ...</td>\n",
              "      <td>진돗개 솜이랑 언니랑</td>\n",
              "      <td>https://blog.naver.com/kimhw1020</td>\n",
              "      <td>20210720</td>\n",
              "      <td>\\n\\n\\n\\n\\n\\n\\n솜이언니 일상\\n\\n\\n\\n\\n스마트폰 삼각대 추천 내돈내...</td>\n",
              "    </tr>\n",
              "    <tr>\n",
              "      <th>2</th>\n",
              "      <td>귀여운 스마트폰 거치대 + 아이폰 케이스(다이소 비교)</td>\n",
              "      <td>https://blog.naver.com/logix200?Redirect=Log&amp;l...</td>\n",
              "      <td>스마트폰 거치대 홀더 &amp;quot;아이폰 케이스도 졸.귀.탱&amp;quot; 안녕하세요. ...</td>\n",
              "      <td>옥희돌이 칩시크족</td>\n",
              "      <td>https://blog.naver.com/logix200</td>\n",
              "      <td>20210802</td>\n",
              "      <td>\\n\\n\\n\\n\\n\\n\\n일반 수령기\\n\\n\\n\\n\\n귀여운 스마트폰 거치대 + 아...</td>\n",
              "    </tr>\n",
              "    <tr>\n",
              "      <th>3</th>\n",
              "      <td>베스틴 원패스 스마트폰 어플, 아이파크 공동 현관문 핸드폰 연동</td>\n",
              "      <td>https://blog.naver.com/july7th73?Redirect=Log&amp;...</td>\n",
              "      <td>요즘 신축 아파트들은 대부분 IoT 스마트 기기들을 이용한 출입시스템을 도입, 각종...</td>\n",
              "      <td>수연아빠의 야구장 출동 (개포맘모스)</td>\n",
              "      <td>https://blog.naver.com/july7th73</td>\n",
              "      <td>20210816</td>\n",
              "      <td>\\n\\n\\n\\n\\n\\n\\n파워리뷰즐기기\\n\\n\\n\\n\\n베스틴 원패스 스마트폰 어플...</td>\n",
              "    </tr>\n",
              "    <tr>\n",
              "      <th>4</th>\n",
              "      <td>대전스마트폰복구 삭제나 고장도 걱정없이</td>\n",
              "      <td>https://blog.naver.com/jcy0207?Redirect=Log&amp;lo...</td>\n",
              "      <td>바쁜 현대인들의 곁에서 어디서든 일상을 함께하는 스마트폰은 한순간도 뗄레야 뗄 수 ...</td>\n",
              "      <td>모아의 교육정보 모아모아</td>\n",
              "      <td>https://blog.naver.com/jcy0207</td>\n",
              "      <td>20210609</td>\n",
              "      <td>\\n\\n안녕하세요 모아입니다.바쁜 현대인들의 곁에서어디서든 일상을 함께하는 스마트폰...</td>\n",
              "    </tr>\n",
              "  </tbody>\n",
              "</table>\n",
              "</div>"
            ],
            "text/plain": [
              "                                 Title  ...                                      Post Contents\n",
              "0       갤럭시 Z 플립과 한 달, 접는 스마트폰의 가치만 남다  ...                                                NaN\n",
              "1                  스마트폰 삼각대 추천 내돈내산 리뷰  ...  \\n\\n\\n\\n\\n\\n\\n솜이언니 일상\\n\\n\\n\\n\\n스마트폰 삼각대 추천 내돈내...\n",
              "2       귀여운 스마트폰 거치대 + 아이폰 케이스(다이소 비교)  ...  \\n\\n\\n\\n\\n\\n\\n일반 수령기\\n\\n\\n\\n\\n귀여운 스마트폰 거치대 + 아...\n",
              "3  베스틴 원패스 스마트폰 어플, 아이파크 공동 현관문 핸드폰 연동  ...  \\n\\n\\n\\n\\n\\n\\n파워리뷰즐기기\\n\\n\\n\\n\\n베스틴 원패스 스마트폰 어플...\n",
              "4                대전스마트폰복구 삭제나 고장도 걱정없이  ...  \\n\\n안녕하세요 모아입니다.바쁜 현대인들의 곁에서어디서든 일상을 함께하는 스마트폰...\n",
              "\n",
              "[5 rows x 7 columns]"
            ]
          },
          "metadata": {},
          "execution_count": 4
        }
      ]
    },
    {
      "cell_type": "code",
      "metadata": {
        "colab": {
          "base_uri": "https://localhost:8080/"
        },
        "id": "ecfR26lhBJYu",
        "outputId": "2610d067-6ae0-4fe3-a818-0d8e1641e771"
      },
      "source": [
        "df.columns"
      ],
      "execution_count": 5,
      "outputs": [
        {
          "output_type": "execute_result",
          "data": {
            "text/plain": [
              "Index(['Title', 'Link', 'Description', 'Blogger Name', 'Blogger Link',\n",
              "       'Post Date', 'Post Contents'],\n",
              "      dtype='object')"
            ]
          },
          "metadata": {},
          "execution_count": 5
        }
      ]
    },
    {
      "cell_type": "code",
      "metadata": {
        "colab": {
          "base_uri": "https://localhost:8080/"
        },
        "id": "u5V4RWOWBJdu",
        "outputId": "76ce6897-fbff-4364-9b89-93f85112aea4"
      },
      "source": [
        "posts = df['Title']+['Description']\n",
        "type(posts)"
      ],
      "execution_count": 6,
      "outputs": [
        {
          "output_type": "execute_result",
          "data": {
            "text/plain": [
              "pandas.core.series.Series"
            ]
          },
          "metadata": {},
          "execution_count": 6
        }
      ]
    },
    {
      "cell_type": "code",
      "metadata": {
        "id": "nDliXqsJBJg-"
      },
      "source": [
        "# posts.max(), posts.min()"
      ],
      "execution_count": 7,
      "outputs": []
    },
    {
      "cell_type": "code",
      "metadata": {
        "colab": {
          "base_uri": "https://localhost:8080/"
        },
        "id": "afpT84_YBJkw",
        "outputId": "1cbd6199-4762-46c6-9ded-3c2195fc3fab"
      },
      "source": [
        "!python3 -version"
      ],
      "execution_count": 8,
      "outputs": [
        {
          "output_type": "stream",
          "text": [
            "Unknown option: -e\n",
            "usage: python3 [option] ... [-c cmd | -m mod | file | -] [arg] ...\n",
            "Try `python -h' for more information.\n"
          ],
          "name": "stdout"
        }
      ]
    },
    {
      "cell_type": "code",
      "metadata": {
        "colab": {
          "base_uri": "https://localhost:8080/"
        },
        "id": "XFij0rREBJol",
        "outputId": "50bbd1e0-9158-4316-8f4e-433500c772cd"
      },
      "source": [
        "!python -m pip install konlpy"
      ],
      "execution_count": 9,
      "outputs": [
        {
          "output_type": "stream",
          "text": [
            "Collecting konlpy\n",
            "  Downloading konlpy-0.5.2-py2.py3-none-any.whl (19.4 MB)\n",
            "\u001b[K     |████████████████████████████████| 19.4 MB 1.3 MB/s \n",
            "\u001b[?25hCollecting colorama\n",
            "  Downloading colorama-0.4.4-py2.py3-none-any.whl (16 kB)\n",
            "Requirement already satisfied: tweepy>=3.7.0 in /usr/local/lib/python3.7/dist-packages (from konlpy) (3.10.0)\n",
            "Collecting JPype1>=0.7.0\n",
            "  Downloading JPype1-1.3.0-cp37-cp37m-manylinux_2_5_x86_64.manylinux1_x86_64.whl (448 kB)\n",
            "\u001b[K     |████████████████████████████████| 448 kB 46.9 MB/s \n",
            "\u001b[?25hRequirement already satisfied: lxml>=4.1.0 in /usr/local/lib/python3.7/dist-packages (from konlpy) (4.2.6)\n",
            "Collecting beautifulsoup4==4.6.0\n",
            "  Downloading beautifulsoup4-4.6.0-py3-none-any.whl (86 kB)\n",
            "\u001b[K     |████████████████████████████████| 86 kB 3.0 MB/s \n",
            "\u001b[?25hRequirement already satisfied: numpy>=1.6 in /usr/local/lib/python3.7/dist-packages (from konlpy) (1.19.5)\n",
            "Requirement already satisfied: typing-extensions in /usr/local/lib/python3.7/dist-packages (from JPype1>=0.7.0->konlpy) (3.7.4.3)\n",
            "Requirement already satisfied: six>=1.10.0 in /usr/local/lib/python3.7/dist-packages (from tweepy>=3.7.0->konlpy) (1.15.0)\n",
            "Requirement already satisfied: requests[socks]>=2.11.1 in /usr/local/lib/python3.7/dist-packages (from tweepy>=3.7.0->konlpy) (2.23.0)\n",
            "Requirement already satisfied: requests-oauthlib>=0.7.0 in /usr/local/lib/python3.7/dist-packages (from tweepy>=3.7.0->konlpy) (1.3.0)\n",
            "Requirement already satisfied: oauthlib>=3.0.0 in /usr/local/lib/python3.7/dist-packages (from requests-oauthlib>=0.7.0->tweepy>=3.7.0->konlpy) (3.1.1)\n",
            "Requirement already satisfied: chardet<4,>=3.0.2 in /usr/local/lib/python3.7/dist-packages (from requests[socks]>=2.11.1->tweepy>=3.7.0->konlpy) (3.0.4)\n",
            "Requirement already satisfied: certifi>=2017.4.17 in /usr/local/lib/python3.7/dist-packages (from requests[socks]>=2.11.1->tweepy>=3.7.0->konlpy) (2021.5.30)\n",
            "Requirement already satisfied: idna<3,>=2.5 in /usr/local/lib/python3.7/dist-packages (from requests[socks]>=2.11.1->tweepy>=3.7.0->konlpy) (2.10)\n",
            "Requirement already satisfied: urllib3!=1.25.0,!=1.25.1,<1.26,>=1.21.1 in /usr/local/lib/python3.7/dist-packages (from requests[socks]>=2.11.1->tweepy>=3.7.0->konlpy) (1.24.3)\n",
            "Requirement already satisfied: PySocks!=1.5.7,>=1.5.6 in /usr/local/lib/python3.7/dist-packages (from requests[socks]>=2.11.1->tweepy>=3.7.0->konlpy) (1.7.1)\n",
            "Installing collected packages: JPype1, colorama, beautifulsoup4, konlpy\n",
            "  Attempting uninstall: beautifulsoup4\n",
            "    Found existing installation: beautifulsoup4 4.6.3\n",
            "    Uninstalling beautifulsoup4-4.6.3:\n",
            "      Successfully uninstalled beautifulsoup4-4.6.3\n",
            "Successfully installed JPype1-1.3.0 beautifulsoup4-4.6.0 colorama-0.4.4 konlpy-0.5.2\n"
          ],
          "name": "stdout"
        }
      ]
    },
    {
      "cell_type": "code",
      "metadata": {
        "id": "K3UKZuD5BJsH"
      },
      "source": [
        "from konlpy.tag import Okt\n",
        "tagger = Okt()"
      ],
      "execution_count": 10,
      "outputs": []
    },
    {
      "cell_type": "code",
      "metadata": {
        "id": "3scociy2BJ08"
      },
      "source": [
        "stop_words = ['강,', '글,', '애', '미', '번', '은', '이', '것', '등', '더', '를', '좀', '즉', '인', '옹', '때', '만', '원', '이때', '개']\n"
      ],
      "execution_count": 11,
      "outputs": []
    },
    {
      "cell_type": "code",
      "metadata": {
        "colab": {
          "base_uri": "https://localhost:8080/"
        },
        "id": "WL0eXJ4zBJxC",
        "outputId": "98683465-25ec-41d7-aa91-6f3f75d42616"
      },
      "source": [
        "posts_noun = []\n",
        "for post in posts:\n",
        "  # print(tagger.nouns(post))\n",
        "  for noun in tagger.nouns(post):\n",
        "    posts_noun.append(noun)\n",
        "\n",
        "len(posts_noun)\n",
        "\n",
        "# posts_noun = []\n",
        "# for post in posts:\n",
        "#   # print(tagger.nouns(post))\n",
        "#   for noun in tagger.nouns(post):\n",
        "#     posts_noun.append(tagger.nouns(post))\n",
        "\n",
        "# len(posts_noun), type(posts_noun)"
      ],
      "execution_count": 23,
      "outputs": [
        {
          "output_type": "execute_result",
          "data": {
            "text/plain": [
              "6083"
            ]
          },
          "metadata": {},
          "execution_count": 23
        }
      ]
    },
    {
      "cell_type": "code",
      "metadata": {
        "id": "1pV-axe0XpMu"
      },
      "source": [
        ""
      ],
      "execution_count": 23,
      "outputs": []
    },
    {
      "cell_type": "code",
      "metadata": {
        "id": "Z363eouOBJ9I"
      },
      "source": [
        "from collections import Counter"
      ],
      "execution_count": 24,
      "outputs": []
    },
    {
      "cell_type": "code",
      "metadata": {
        "id": "DeL30NMgBKAT"
      },
      "source": [
        "noun_counter = Counter(posts_noun)\n",
        "noun_counter"
      ],
      "execution_count": null,
      "outputs": []
    },
    {
      "cell_type": "code",
      "metadata": {
        "colab": {
          "base_uri": "https://localhost:8080/"
        },
        "id": "ylLWFtH8BKDu",
        "outputId": "65b07462-2aeb-4d3e-bb12-c2abbbe31759"
      },
      "source": [
        "type(noun_counter)"
      ],
      "execution_count": 26,
      "outputs": [
        {
          "output_type": "execute_result",
          "data": {
            "text/plain": [
              "collections.Counter"
            ]
          },
          "metadata": {},
          "execution_count": 26
        }
      ]
    },
    {
      "cell_type": "code",
      "metadata": {
        "id": "Rc70p6fzBKIU"
      },
      "source": [
        "top_30_nouns = noun_counter.most_commen(30)\n",
        "type(top_30_nouns), top_30_nouns"
      ],
      "execution_count": null,
      "outputs": []
    },
    {
      "cell_type": "code",
      "metadata": {
        "id": "KC_8Nyq7BKNB"
      },
      "source": [
        "top_nouns_dic = dict(top_30_nouns)\n",
        "type(top_nouns_dic)"
      ],
      "execution_count": null,
      "outputs": []
    },
    {
      "cell_type": "code",
      "metadata": {
        "id": "xmQwKdLxZkOm"
      },
      "source": [
        "from wordcloud import WordCloud"
      ],
      "execution_count": null,
      "outputs": []
    },
    {
      "cell_type": "code",
      "metadata": {
        "id": "k2N6zzm-Zppx"
      },
      "source": [
        "nouns_wordcloud = WordCloud()"
      ],
      "execution_count": null,
      "outputs": []
    },
    {
      "cell_type": "code",
      "metadata": {
        "id": "fivQVNuPZsPz"
      },
      "source": [
        "nouns_wordcloud.generate_from_frequencies(top_nouns_dict)"
      ],
      "execution_count": null,
      "outputs": []
    },
    {
      "cell_type": "code",
      "metadata": {
        "id": "aGehjRcRZwti"
      },
      "source": [
        "import matplotlib as plt"
      ],
      "execution_count": null,
      "outputs": []
    },
    {
      "cell_type": "code",
      "metadata": {
        "id": "C7fipDVXaEqZ"
      },
      "source": [
        "ax = figure.add.subplot(1, 1, 1)\n",
        "ax.imshow()"
      ],
      "execution_count": null,
      "outputs": []
    },
    {
      "cell_type": "code",
      "metadata": {
        "id": "gI1we_DnZwwk"
      },
      "source": [
        ""
      ],
      "execution_count": null,
      "outputs": []
    },
    {
      "cell_type": "code",
      "metadata": {
        "id": "EXmxvXUTZwzm"
      },
      "source": [
        ""
      ],
      "execution_count": null,
      "outputs": []
    },
    {
      "cell_type": "code",
      "metadata": {
        "id": "aQq2ARutZw2a"
      },
      "source": [
        ""
      ],
      "execution_count": null,
      "outputs": []
    },
    {
      "cell_type": "code",
      "metadata": {
        "id": "pNkpWsOAZw5V"
      },
      "source": [
        ""
      ],
      "execution_count": null,
      "outputs": []
    },
    {
      "cell_type": "code",
      "metadata": {
        "id": "Jg6lUQWuZw8a"
      },
      "source": [
        ""
      ],
      "execution_count": null,
      "outputs": []
    },
    {
      "cell_type": "code",
      "metadata": {
        "id": "HAP3cyV1Zw_K"
      },
      "source": [
        ""
      ],
      "execution_count": null,
      "outputs": []
    },
    {
      "cell_type": "code",
      "metadata": {
        "id": "gCLQV-BRZxE6"
      },
      "source": [
        ""
      ],
      "execution_count": null,
      "outputs": []
    },
    {
      "cell_type": "code",
      "metadata": {
        "id": "iVf0BfHSZxXe"
      },
      "source": [
        ""
      ],
      "execution_count": null,
      "outputs": []
    }
  ]
}