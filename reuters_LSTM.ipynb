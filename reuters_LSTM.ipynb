{
  "nbformat": 4,
  "nbformat_minor": 0,
  "metadata": {
    "colab": {
      "name": "reuters_LSTM.ipynb",
      "provenance": [],
      "authorship_tag": "ABX9TyMO5pasR8qg1qHyVMhGaa4a",
      "include_colab_link": true
    },
    "kernelspec": {
      "name": "python3",
      "display_name": "Python 3"
    },
    "language_info": {
      "name": "python"
    }
  },
  "cells": [
    {
      "cell_type": "markdown",
      "metadata": {
        "id": "view-in-github",
        "colab_type": "text"
      },
      "source": [
        "<a href=\"https://colab.research.google.com/github/creamcheesesteak/test_deeplearning/blob/master/reuters_LSTM.ipynb\" target=\"_parent\"><img src=\"https://colab.research.google.com/assets/colab-badge.svg\" alt=\"Open In Colab\"/></a>"
      ]
    },
    {
      "cell_type": "code",
      "metadata": {
        "id": "1tMuS3l53NXt"
      },
      "source": [
        "import tensorflow as tf"
      ],
      "execution_count": 1,
      "outputs": []
    },
    {
      "cell_type": "code",
      "metadata": {
        "colab": {
          "base_uri": "https://localhost:8080/"
        },
        "id": "vief-qvj3gf3",
        "outputId": "a409c3f8-0328-4622-b5cb-7dd25ae81739"
      },
      "source": [
        "(x_train, y_train), (x_test, y_test) = tf.keras.datasets.reuters.load_data(num_words=10000)\n",
        "x_train.shape, y_train.shape, x_test.shape, y_test.shape, "
      ],
      "execution_count": 2,
      "outputs": [
        {
          "output_type": "stream",
          "text": [
            "Downloading data from https://storage.googleapis.com/tensorflow/tf-keras-datasets/reuters.npz\n",
            "2113536/2110848 [==============================] - 0s 0us/step\n"
          ],
          "name": "stdout"
        },
        {
          "output_type": "stream",
          "text": [
            "/usr/local/lib/python3.7/dist-packages/tensorflow/python/keras/datasets/reuters.py:143: VisibleDeprecationWarning: Creating an ndarray from ragged nested sequences (which is a list-or-tuple of lists-or-tuples-or ndarrays with different lengths or shapes) is deprecated. If you meant to do this, you must specify 'dtype=object' when creating the ndarray\n",
            "  x_train, y_train = np.array(xs[:idx]), np.array(labels[:idx])\n",
            "/usr/local/lib/python3.7/dist-packages/tensorflow/python/keras/datasets/reuters.py:144: VisibleDeprecationWarning: Creating an ndarray from ragged nested sequences (which is a list-or-tuple of lists-or-tuples-or ndarrays with different lengths or shapes) is deprecated. If you meant to do this, you must specify 'dtype=object' when creating the ndarray\n",
            "  x_test, y_test = np.array(xs[idx:]), np.array(labels[idx:])\n"
          ],
          "name": "stderr"
        },
        {
          "output_type": "execute_result",
          "data": {
            "text/plain": [
              "((8982,), (8982,), (2246,), (2246,))"
            ]
          },
          "metadata": {
            "tags": []
          },
          "execution_count": 2
        }
      ]
    },
    {
      "cell_type": "code",
      "metadata": {
        "colab": {
          "base_uri": "https://localhost:8080/"
        },
        "id": "MKDxLB6p3YVN",
        "outputId": "7ba99e95-6c9d-4248-88df-ce70a9f08541"
      },
      "source": [
        "print(y_train[5], x_train[50])"
      ],
      "execution_count": 3,
      "outputs": [
        {
          "output_type": "stream",
          "text": [
            "4 [1, 1479, 1197, 71, 8, 25, 1479, 1197, 640, 71, 304, 471, 80, 9, 1379, 1901, 4530, 6797, 79, 5, 8144, 71, 175, 80, 58, 4, 1279, 5, 63, 32, 20, 5, 4, 326, 175, 80, 335, 7, 10, 845, 31, 4, 221, 9, 108, 259, 1479, 1197, 640, 8, 16, 600, 69, 68, 11, 15, 6, 8144, 21, 397, 321, 6, 438, 1761, 3072, 79, 5, 8144, 1040, 894, 1051, 617, 80, 4, 617, 80, 23, 1051, 172, 3814, 3206, 8144, 175, 79, 9, 1379, 6, 264, 395, 3814, 3206, 79, 1479, 1197, 9, 25, 323, 8, 4, 8144, 80, 23, 381, 43, 42, 205, 50, 77, 33, 909, 9, 3509, 22, 216, 6, 216, 17, 12]\n"
          ],
          "name": "stdout"
        }
      ]
    },
    {
      "cell_type": "code",
      "metadata": {
        "colab": {
          "base_uri": "https://localhost:8080/"
        },
        "id": "B6LFeBF47jB0",
        "outputId": "7bd335c1-c65d-43ce-d889-b05726f3ad2e"
      },
      "source": [
        "pad_x_train = tf.keras.preprocessing.sequence.pad_sequences(x_train, maxlen=500)\n",
        "len(pad_x_train[50])"
      ],
      "execution_count": 4,
      "outputs": [
        {
          "output_type": "execute_result",
          "data": {
            "text/plain": [
              "500"
            ]
          },
          "metadata": {
            "tags": []
          },
          "execution_count": 4
        }
      ]
    },
    {
      "cell_type": "code",
      "metadata": {
        "id": "YZZ3Hi1F7izC"
      },
      "source": [
        "import numpy as np"
      ],
      "execution_count": 5,
      "outputs": []
    },
    {
      "cell_type": "code",
      "metadata": {
        "colab": {
          "base_uri": "https://localhost:8080/"
        },
        "id": "9OnUDqXa7ifZ",
        "outputId": "2753fba6-dfb8-4f75-cdcf-0c3a15f5e523"
      },
      "source": [
        "np.unique(y_train)"
      ],
      "execution_count": 6,
      "outputs": [
        {
          "output_type": "execute_result",
          "data": {
            "text/plain": [
              "array([ 0,  1,  2,  3,  4,  5,  6,  7,  8,  9, 10, 11, 12, 13, 14, 15, 16,\n",
              "       17, 18, 19, 20, 21, 22, 23, 24, 25, 26, 27, 28, 29, 30, 31, 32, 33,\n",
              "       34, 35, 36, 37, 38, 39, 40, 41, 42, 43, 44, 45])"
            ]
          },
          "metadata": {
            "tags": []
          },
          "execution_count": 6
        }
      ]
    },
    {
      "cell_type": "code",
      "metadata": {
        "colab": {
          "base_uri": "https://localhost:8080/"
        },
        "id": "Mfa8-w-1EcL7",
        "outputId": "ade8ddf5-7bd7-4289-afcb-11907eca4b18"
      },
      "source": [
        "len(np.unique(y_train))"
      ],
      "execution_count": 7,
      "outputs": [
        {
          "output_type": "execute_result",
          "data": {
            "text/plain": [
              "46"
            ]
          },
          "metadata": {
            "tags": []
          },
          "execution_count": 7
        }
      ]
    },
    {
      "cell_type": "code",
      "metadata": {
        "id": "6r_xzmgoEe3P"
      },
      "source": [
        ""
      ],
      "execution_count": 7,
      "outputs": []
    },
    {
      "cell_type": "markdown",
      "metadata": {
        "id": "UrLELjLG7ghu"
      },
      "source": [
        "# make model"
      ]
    },
    {
      "cell_type": "code",
      "metadata": {
        "id": "w58SerrG3YYq"
      },
      "source": [
        "model = tf.keras.Sequential()"
      ],
      "execution_count": 8,
      "outputs": []
    },
    {
      "cell_type": "code",
      "metadata": {
        "id": "YIq4_08_3Ydy"
      },
      "source": [
        "model.add(tf.keras.layers.Embedding(input_length=500, input_dim=10000, output_dim=42)) # input layer\n",
        "model.add(tf.keras.layers.LSTM(24, return_sequences=True, activation='tanh'))\n",
        "model.add(tf.keras.layers.LSTM(12, activation='tanh'))\n",
        "model.add(tf.keras.layers.Flatten()) # hidden layer\n",
        "model.add(tf.keras.layers.Dense(46, activation='softmax')) # output layer\n",
        "\n",
        "model.compile(optimizer='adam', loss='sparse_categorical_crossentropy', metrics=['acc']) #gadget"
      ],
      "execution_count": 9,
      "outputs": []
    },
    {
      "cell_type": "code",
      "metadata": {
        "colab": {
          "base_uri": "https://localhost:8080/"
        },
        "id": "bXXOag0-3Yih",
        "outputId": "e4925725-b04f-4897-b495-9bd20e749eb5"
      },
      "source": [
        "hist = model.fit(pad_x_train, y_train, epochs=70, validation_split=0.3, batch_size=256)"
      ],
      "execution_count": 10,
      "outputs": [
        {
          "output_type": "stream",
          "text": [
            "Epoch 1/70\n",
            "25/25 [==============================] - 22s 731ms/step - loss: 3.7540 - acc: 0.2036 - val_loss: 3.5625 - val_acc: 0.2215\n",
            "Epoch 2/70\n",
            "25/25 [==============================] - 17s 701ms/step - loss: 3.2854 - acc: 0.2150 - val_loss: 2.9867 - val_acc: 0.2215\n",
            "Epoch 3/70\n",
            "25/25 [==============================] - 17s 700ms/step - loss: 2.8296 - acc: 0.2150 - val_loss: 2.6523 - val_acc: 0.2215\n",
            "Epoch 4/70\n",
            "25/25 [==============================] - 18s 716ms/step - loss: 2.6012 - acc: 0.2150 - val_loss: 2.5063 - val_acc: 0.2215\n",
            "Epoch 5/70\n",
            "25/25 [==============================] - 18s 716ms/step - loss: 2.4754 - acc: 0.3851 - val_loss: 2.3766 - val_acc: 0.4968\n",
            "Epoch 6/70\n",
            "25/25 [==============================] - 18s 715ms/step - loss: 2.3630 - acc: 0.5109 - val_loss: 2.2967 - val_acc: 0.5210\n",
            "Epoch 7/70\n",
            "25/25 [==============================] - 18s 720ms/step - loss: 2.3054 - acc: 0.5217 - val_loss: 2.2568 - val_acc: 0.5280\n",
            "Epoch 8/70\n",
            "25/25 [==============================] - 18s 721ms/step - loss: 2.2941 - acc: 0.5015 - val_loss: 2.2412 - val_acc: 0.5161\n",
            "Epoch 9/70\n",
            "25/25 [==============================] - 18s 722ms/step - loss: 2.2326 - acc: 0.5274 - val_loss: 2.1936 - val_acc: 0.5310\n",
            "Epoch 10/70\n",
            "25/25 [==============================] - 18s 717ms/step - loss: 2.1897 - acc: 0.5348 - val_loss: 2.1703 - val_acc: 0.5243\n",
            "Epoch 11/70\n",
            "25/25 [==============================] - 18s 713ms/step - loss: 2.1553 - acc: 0.5363 - val_loss: 2.1220 - val_acc: 0.5347\n",
            "Epoch 12/70\n",
            "25/25 [==============================] - 18s 716ms/step - loss: 2.1119 - acc: 0.5405 - val_loss: 2.1099 - val_acc: 0.5258\n",
            "Epoch 13/70\n",
            "25/25 [==============================] - 18s 715ms/step - loss: 2.0738 - acc: 0.5438 - val_loss: 2.0778 - val_acc: 0.5288\n",
            "Epoch 14/70\n",
            "25/25 [==============================] - 18s 725ms/step - loss: 2.0356 - acc: 0.5480 - val_loss: 2.0463 - val_acc: 0.5295\n",
            "Epoch 15/70\n",
            "25/25 [==============================] - 18s 736ms/step - loss: 2.0014 - acc: 0.5468 - val_loss: 2.0567 - val_acc: 0.5310\n",
            "Epoch 16/70\n",
            "25/25 [==============================] - 18s 727ms/step - loss: 1.9829 - acc: 0.5468 - val_loss: 2.0873 - val_acc: 0.4820\n",
            "Epoch 17/70\n",
            "25/25 [==============================] - 18s 730ms/step - loss: 1.9843 - acc: 0.5397 - val_loss: 2.0604 - val_acc: 0.4876\n",
            "Epoch 18/70\n",
            "25/25 [==============================] - 18s 730ms/step - loss: 1.9464 - acc: 0.5386 - val_loss: 1.9684 - val_acc: 0.5302\n",
            "Epoch 19/70\n",
            "25/25 [==============================] - 18s 727ms/step - loss: 1.8660 - acc: 0.5507 - val_loss: 1.9013 - val_acc: 0.5332\n",
            "Epoch 20/70\n",
            "25/25 [==============================] - 18s 729ms/step - loss: 1.8185 - acc: 0.5510 - val_loss: 1.8684 - val_acc: 0.5351\n",
            "Epoch 21/70\n",
            "25/25 [==============================] - 18s 724ms/step - loss: 1.7592 - acc: 0.5529 - val_loss: 1.8295 - val_acc: 0.5347\n",
            "Epoch 22/70\n",
            "25/25 [==============================] - 18s 717ms/step - loss: 1.7561 - acc: 0.5731 - val_loss: 1.8413 - val_acc: 0.5388\n",
            "Epoch 23/70\n",
            "25/25 [==============================] - 18s 716ms/step - loss: 1.6979 - acc: 0.5974 - val_loss: 1.7877 - val_acc: 0.5744\n",
            "Epoch 24/70\n",
            "25/25 [==============================] - 18s 714ms/step - loss: 1.6525 - acc: 0.6043 - val_loss: 1.7816 - val_acc: 0.5681\n",
            "Epoch 25/70\n",
            "25/25 [==============================] - 18s 717ms/step - loss: 1.6060 - acc: 0.6094 - val_loss: 1.7176 - val_acc: 0.5729\n",
            "Epoch 26/70\n",
            "25/25 [==============================] - 18s 715ms/step - loss: 1.5610 - acc: 0.6095 - val_loss: 1.7064 - val_acc: 0.5744\n",
            "Epoch 27/70\n",
            "25/25 [==============================] - 18s 716ms/step - loss: 1.5079 - acc: 0.6249 - val_loss: 1.6437 - val_acc: 0.5963\n",
            "Epoch 28/70\n",
            "25/25 [==============================] - 18s 722ms/step - loss: 1.4572 - acc: 0.6373 - val_loss: 1.6237 - val_acc: 0.6033\n",
            "Epoch 29/70\n",
            "25/25 [==============================] - 18s 712ms/step - loss: 1.4123 - acc: 0.6490 - val_loss: 1.6227 - val_acc: 0.5970\n",
            "Epoch 30/70\n",
            "25/25 [==============================] - 18s 716ms/step - loss: 1.3755 - acc: 0.6518 - val_loss: 1.5957 - val_acc: 0.6004\n",
            "Epoch 31/70\n",
            "25/25 [==============================] - 18s 716ms/step - loss: 1.3483 - acc: 0.6548 - val_loss: 1.6000 - val_acc: 0.5981\n",
            "Epoch 32/70\n",
            "25/25 [==============================] - 18s 717ms/step - loss: 1.3458 - acc: 0.6585 - val_loss: 1.5801 - val_acc: 0.6030\n",
            "Epoch 33/70\n",
            "25/25 [==============================] - 18s 715ms/step - loss: 1.3045 - acc: 0.6700 - val_loss: 1.5958 - val_acc: 0.5937\n",
            "Epoch 34/70\n",
            "25/25 [==============================] - 18s 715ms/step - loss: 1.2908 - acc: 0.6746 - val_loss: 1.5819 - val_acc: 0.6000\n",
            "Epoch 35/70\n",
            "25/25 [==============================] - 18s 715ms/step - loss: 1.2581 - acc: 0.6787 - val_loss: 1.5891 - val_acc: 0.5937\n",
            "Epoch 36/70\n",
            "25/25 [==============================] - 18s 714ms/step - loss: 1.2330 - acc: 0.6876 - val_loss: 1.5804 - val_acc: 0.6011\n",
            "Epoch 37/70\n",
            "25/25 [==============================] - 18s 715ms/step - loss: 1.2129 - acc: 0.6902 - val_loss: 1.5865 - val_acc: 0.5944\n",
            "Epoch 38/70\n",
            "25/25 [==============================] - 18s 719ms/step - loss: 1.1907 - acc: 0.6995 - val_loss: 1.5822 - val_acc: 0.5941\n",
            "Epoch 39/70\n",
            "25/25 [==============================] - 18s 717ms/step - loss: 1.1760 - acc: 0.7081 - val_loss: 1.5805 - val_acc: 0.5941\n",
            "Epoch 40/70\n",
            "25/25 [==============================] - 18s 718ms/step - loss: 1.1905 - acc: 0.6964 - val_loss: 1.6571 - val_acc: 0.5737\n",
            "Epoch 41/70\n",
            "25/25 [==============================] - 18s 725ms/step - loss: 1.1554 - acc: 0.7132 - val_loss: 1.6101 - val_acc: 0.5870\n",
            "Epoch 42/70\n",
            "25/25 [==============================] - 18s 721ms/step - loss: 1.1322 - acc: 0.7201 - val_loss: 1.5833 - val_acc: 0.5985\n",
            "Epoch 43/70\n",
            "25/25 [==============================] - 18s 723ms/step - loss: 1.1162 - acc: 0.7234 - val_loss: 1.5994 - val_acc: 0.5922\n",
            "Epoch 44/70\n",
            "25/25 [==============================] - 18s 712ms/step - loss: 1.0942 - acc: 0.7345 - val_loss: 1.6078 - val_acc: 0.5889\n",
            "Epoch 45/70\n",
            "25/25 [==============================] - 18s 721ms/step - loss: 1.0753 - acc: 0.7363 - val_loss: 1.6232 - val_acc: 0.5889\n",
            "Epoch 46/70\n",
            "25/25 [==============================] - 18s 713ms/step - loss: 1.0671 - acc: 0.7412 - val_loss: 1.6174 - val_acc: 0.5922\n",
            "Epoch 47/70\n",
            "25/25 [==============================] - 18s 713ms/step - loss: 1.0511 - acc: 0.7409 - val_loss: 1.6377 - val_acc: 0.5807\n",
            "Epoch 48/70\n",
            "25/25 [==============================] - 18s 720ms/step - loss: 1.0419 - acc: 0.7425 - val_loss: 1.6551 - val_acc: 0.5844\n",
            "Epoch 49/70\n",
            "25/25 [==============================] - 18s 716ms/step - loss: 1.0569 - acc: 0.7391 - val_loss: 1.6845 - val_acc: 0.5833\n",
            "Epoch 50/70\n",
            "25/25 [==============================] - 18s 715ms/step - loss: 1.0349 - acc: 0.7412 - val_loss: 1.6340 - val_acc: 0.5866\n",
            "Epoch 51/70\n",
            "25/25 [==============================] - 18s 719ms/step - loss: 1.0123 - acc: 0.7482 - val_loss: 1.6425 - val_acc: 0.5929\n",
            "Epoch 52/70\n",
            "25/25 [==============================] - 18s 715ms/step - loss: 1.0009 - acc: 0.7469 - val_loss: 1.6702 - val_acc: 0.5833\n",
            "Epoch 53/70\n",
            "25/25 [==============================] - 18s 717ms/step - loss: 0.9802 - acc: 0.7539 - val_loss: 1.6624 - val_acc: 0.5929\n",
            "Epoch 54/70\n",
            "25/25 [==============================] - 18s 717ms/step - loss: 0.9742 - acc: 0.7525 - val_loss: 1.6764 - val_acc: 0.5863\n",
            "Epoch 55/70\n",
            "25/25 [==============================] - 18s 718ms/step - loss: 0.9607 - acc: 0.7541 - val_loss: 1.6892 - val_acc: 0.5889\n",
            "Epoch 56/70\n",
            "25/25 [==============================] - 18s 719ms/step - loss: 0.9637 - acc: 0.7530 - val_loss: 1.8092 - val_acc: 0.5725\n",
            "Epoch 57/70\n",
            "25/25 [==============================] - 18s 712ms/step - loss: 1.1283 - acc: 0.7049 - val_loss: 1.7209 - val_acc: 0.5885\n",
            "Epoch 58/70\n",
            "25/25 [==============================] - 18s 719ms/step - loss: 1.0610 - acc: 0.7226 - val_loss: 1.6971 - val_acc: 0.5885\n",
            "Epoch 59/70\n",
            "25/25 [==============================] - 18s 713ms/step - loss: 0.9990 - acc: 0.7422 - val_loss: 1.6803 - val_acc: 0.5981\n",
            "Epoch 60/70\n",
            "25/25 [==============================] - 18s 713ms/step - loss: 0.9535 - acc: 0.7519 - val_loss: 1.7047 - val_acc: 0.5881\n",
            "Epoch 61/70\n",
            "25/25 [==============================] - 18s 719ms/step - loss: 0.9300 - acc: 0.7547 - val_loss: 1.7365 - val_acc: 0.5852\n",
            "Epoch 62/70\n",
            "25/25 [==============================] - 18s 717ms/step - loss: 0.9146 - acc: 0.7585 - val_loss: 1.7145 - val_acc: 0.5896\n",
            "Epoch 63/70\n",
            "25/25 [==============================] - 18s 710ms/step - loss: 0.9049 - acc: 0.7644 - val_loss: 1.7286 - val_acc: 0.5889\n",
            "Epoch 64/70\n",
            "25/25 [==============================] - 17s 699ms/step - loss: 0.8977 - acc: 0.7665 - val_loss: 1.7406 - val_acc: 0.5922\n",
            "Epoch 65/70\n",
            "25/25 [==============================] - 18s 704ms/step - loss: 0.8884 - acc: 0.7698 - val_loss: 1.7451 - val_acc: 0.5918\n",
            "Epoch 66/70\n",
            "25/25 [==============================] - 18s 703ms/step - loss: 0.8848 - acc: 0.7713 - val_loss: 1.7491 - val_acc: 0.5933\n",
            "Epoch 67/70\n",
            "25/25 [==============================] - 17s 699ms/step - loss: 0.8798 - acc: 0.7729 - val_loss: 1.7767 - val_acc: 0.5840\n",
            "Epoch 68/70\n",
            "25/25 [==============================] - 18s 703ms/step - loss: 0.8756 - acc: 0.7740 - val_loss: 1.7664 - val_acc: 0.5844\n",
            "Epoch 69/70\n",
            "25/25 [==============================] - 18s 704ms/step - loss: 0.8683 - acc: 0.7768 - val_loss: 1.7907 - val_acc: 0.5822\n",
            "Epoch 70/70\n",
            "25/25 [==============================] - 17s 702ms/step - loss: 0.8619 - acc: 0.7786 - val_loss: 1.7788 - val_acc: 0.5885\n"
          ],
          "name": "stdout"
        }
      ]
    },
    {
      "cell_type": "code",
      "metadata": {
        "id": "PIZfTkMv3YmI"
      },
      "source": [
        ""
      ],
      "execution_count": 10,
      "outputs": []
    },
    {
      "cell_type": "markdown",
      "metadata": {
        "id": "X4uJqXmmTi5Q"
      },
      "source": [
        "# evaluation"
      ]
    },
    {
      "cell_type": "code",
      "metadata": {
        "colab": {
          "base_uri": "https://localhost:8080/"
        },
        "id": "FCilEFBoomm7",
        "outputId": "5bec5bd4-ded9-44de-a92c-005627e79d2e"
      },
      "source": [
        "hist.history.keys()"
      ],
      "execution_count": 11,
      "outputs": [
        {
          "output_type": "execute_result",
          "data": {
            "text/plain": [
              "dict_keys(['loss', 'acc', 'val_loss', 'val_acc'])"
            ]
          },
          "metadata": {
            "tags": []
          },
          "execution_count": 11
        }
      ]
    },
    {
      "cell_type": "code",
      "metadata": {
        "colab": {
          "base_uri": "https://localhost:8080/"
        },
        "id": "hazjd0pB3YrT",
        "outputId": "325eeabf-985c-456e-b17a-447695696a97"
      },
      "source": [
        "# 학습 시켰던 데이터\n",
        "model.evaluate(pad_x_train, y_train)"
      ],
      "execution_count": 12,
      "outputs": [
        {
          "output_type": "stream",
          "text": [
            "281/281 [==============================] - 16s 56ms/step - loss: 1.1401 - acc: 0.7209\n"
          ],
          "name": "stdout"
        },
        {
          "output_type": "execute_result",
          "data": {
            "text/plain": [
              "[1.1401193141937256, 0.72088623046875]"
            ]
          },
          "metadata": {
            "tags": []
          },
          "execution_count": 12
        }
      ]
    },
    {
      "cell_type": "code",
      "metadata": {
        "id": "tXcZzEJnTnUf"
      },
      "source": [
        "pad_x_train= tf.keras.preprocessing.sequence.pad_sequences(x_train, maxlen=500)\n",
        "pad_x_test= tf.keras.preprocessing.sequence.pad_sequences(x_test, maxlen=500)"
      ],
      "execution_count": 13,
      "outputs": []
    },
    {
      "cell_type": "code",
      "metadata": {
        "id": "a0tm7OePX2Z_"
      },
      "source": [
        "def pad_make(x_data):\n",
        "  pad_x= tf.keras.preprocessing.sequence.pad_sequences(x_data, maxlen=500)\n",
        "  return pad_x"
      ],
      "execution_count": 14,
      "outputs": []
    },
    {
      "cell_type": "code",
      "metadata": {
        "id": "emUTpSlCYVp8"
      },
      "source": [
        "pad_make_x = pad_make(x_test)"
      ],
      "execution_count": 15,
      "outputs": []
    },
    {
      "cell_type": "code",
      "metadata": {
        "colab": {
          "base_uri": "https://localhost:8080/"
        },
        "id": "_h6IuDhNYRo2",
        "outputId": "81aad964-d07c-43da-c807-c539e69d6b63"
      },
      "source": [
        "model.evaluate(pad_make_x, y_test)"
      ],
      "execution_count": 16,
      "outputs": [
        {
          "output_type": "stream",
          "text": [
            "71/71 [==============================] - 4s 57ms/step - loss: 1.8943 - acc: 0.5784\n"
          ],
          "name": "stdout"
        },
        {
          "output_type": "execute_result",
          "data": {
            "text/plain": [
              "[1.8942681550979614, 0.5783615112304688]"
            ]
          },
          "metadata": {
            "tags": []
          },
          "execution_count": 16
        }
      ]
    },
    {
      "cell_type": "code",
      "metadata": {
        "colab": {
          "base_uri": "https://localhost:8080/"
        },
        "id": "27fwswGjX_jH",
        "outputId": "2b4a68ea-229f-4302-87bb-cbd824993675"
      },
      "source": [
        "pad_make(x_test)"
      ],
      "execution_count": 17,
      "outputs": [
        {
          "output_type": "execute_result",
          "data": {
            "text/plain": [
              "array([[   0,    0,    0, ...,  510,   17,   12],\n",
              "       [6337,  268,  609, ...,  760,   17,   12],\n",
              "       [   0,    0,    0, ...,    8,   17,   12],\n",
              "       ...,\n",
              "       [   0,    0,    0, ...,   11,   17,   12],\n",
              "       [   0,    0,    0, ...,    8,   17,   12],\n",
              "       [   0,    0,    0, ..., 1523,   17,   12]], dtype=int32)"
            ]
          },
          "metadata": {
            "tags": []
          },
          "execution_count": 17
        }
      ]
    },
    {
      "cell_type": "code",
      "metadata": {
        "colab": {
          "base_uri": "https://localhost:8080/"
        },
        "id": "XZcsegi33YwA",
        "outputId": "242eaa4b-0360-4d6a-f28c-b9e7b67fab46"
      },
      "source": [
        "model.evaluate(pad_x_test, y_test)"
      ],
      "execution_count": 18,
      "outputs": [
        {
          "output_type": "stream",
          "text": [
            "71/71 [==============================] - 4s 58ms/step - loss: 1.8943 - acc: 0.5784\n"
          ],
          "name": "stdout"
        },
        {
          "output_type": "execute_result",
          "data": {
            "text/plain": [
              "[1.8942681550979614, 0.5783615112304688]"
            ]
          },
          "metadata": {
            "tags": []
          },
          "execution_count": 18
        }
      ]
    },
    {
      "cell_type": "code",
      "metadata": {
        "id": "a8R8pq9d3Y1Z"
      },
      "source": [
        "import matplotlib.pyplot as plt"
      ],
      "execution_count": 19,
      "outputs": []
    },
    {
      "cell_type": "code",
      "metadata": {
        "id": "VE9AVnWgVoP6"
      },
      "source": [
        "hist.history['loss']"
      ],
      "execution_count": null,
      "outputs": []
    },
    {
      "cell_type": "code",
      "metadata": {
        "colab": {
          "base_uri": "https://localhost:8080/",
          "height": 265
        },
        "id": "gTEiJR6F3Y5r",
        "outputId": "e74e218f-8ef3-49f5-8fa3-504455d6dae5"
      },
      "source": [
        "plt.plot(hist.history['loss'])\n",
        "plt.plot(hist.history['val_loss'])\n",
        "plt.show()"
      ],
      "execution_count": 21,
      "outputs": [
        {
          "output_type": "display_data",
          "data": {
            "image/png": "[encoded data removed]",
            "text/plain": [
              "<Figure size 432x288 with 1 Axes>"
            ]
          },
          "metadata": {
            "tags": [],
            "needs_background": "light"
          }
        }
      ]
    },
    {
      "cell_type": "code",
      "metadata": {
        "colab": {
          "base_uri": "https://localhost:8080/",
          "height": 267
        },
        "id": "NJJO9qYK3Y_x",
        "outputId": "56686912-9244-44c5-dee7-6f2bc43424d7"
      },
      "source": [
        "plt.plot(hist.history['acc'])\n",
        "plt.plot(hist.history['val_acc'])\n",
        "plt.show()"
      ],
      "execution_count": 22,
      "outputs": [
        {
          "output_type": "display_data",
          "data": {
            "image/png": "[encoded data removed]",
            "text/plain": [
              "<Figure size 432x288 with 1 Axes>"
            ]
          },
          "metadata": {
            "tags": [],
            "needs_background": "light"
          }
        }
      ]
    },
    {
      "cell_type": "code",
      "metadata": {
        "id": "K9xmna6O3ZHk"
      },
      "source": [
        "from sklearn.metrics import classification_report"
      ],
      "execution_count": 23,
      "outputs": []
    },
    {
      "cell_type": "code",
      "metadata": {
        "id": "sDhWCk6spyP8"
      },
      "source": [
        "y_train_pred = model.predict(pad_x_train)"
      ],
      "execution_count": 24,
      "outputs": []
    },
    {
      "cell_type": "code",
      "metadata": {
        "id": "1ZAuXzU-qVIh"
      },
      "source": [
        "import numpy as np"
      ],
      "execution_count": 25,
      "outputs": []
    },
    {
      "cell_type": "code",
      "metadata": {
        "colab": {
          "base_uri": "https://localhost:8080/"
        },
        "id": "HRsB6wzCqiu4",
        "outputId": "92c234e6-adf3-431b-b2aa-b1fa777a09c8"
      },
      "source": [
        "y_pred = np.argmax(y_train_pred, axis=1)\n",
        "y_pred.shape"
      ],
      "execution_count": 26,
      "outputs": [
        {
          "output_type": "execute_result",
          "data": {
            "text/plain": [
              "(8982,)"
            ]
          },
          "metadata": {
            "tags": []
          },
          "execution_count": 26
        }
      ]
    },
    {
      "cell_type": "code",
      "metadata": {
        "colab": {
          "base_uri": "https://localhost:8080/",
          "height": 255
        },
        "id": "6BNhFGJBp1TB",
        "outputId": "5977c659-abaf-4f8c-91c5-288f0d5ebb67"
      },
      "source": [
        "classification_report(y_train, y_pred)"
      ],
      "execution_count": 27,
      "outputs": [
        {
          "output_type": "stream",
          "text": [
            "/usr/local/lib/python3.7/dist-packages/sklearn/metrics/_classification.py:1272: UndefinedMetricWarning: Precision and F-score are ill-defined and being set to 0.0 in labels with no predicted samples. Use `zero_division` parameter to control this behavior.\n",
            "  _warn_prf(average, modifier, msg_start, len(result))\n"
          ],
          "name": "stderr"
        },
        {
          "output_type": "execute_result",
          "data": {
            "application/vnd.google.colaboratory.intrinsic+json": {
              "type": "string"
            },
            "text/plain": [
              "'              precision    recall  f1-score   support\\n\\n           0       0.00      0.00      0.00        55\\n           1       0.75      0.78      0.76       432\\n           2       0.00      0.00      0.00        74\\n           3       0.92      0.96      0.94      3159\\n           4       0.91      0.90      0.91      1949\\n           5       0.00      0.00      0.00        17\\n           6       0.00      0.00      0.00        48\\n           7       0.00      0.00      0.00        16\\n           8       0.00      0.00      0.00       139\\n           9       0.00      0.00      0.00       101\\n          10       0.17      0.75      0.28       124\\n          11       0.57      0.74      0.65       390\\n          12       0.00      0.00      0.00        49\\n          13       0.59      0.34      0.43       172\\n          14       0.00      0.00      0.00        26\\n          15       0.00      0.00      0.00        20\\n          16       0.65      0.65      0.65       444\\n          17       0.00      0.00      0.00        39\\n          18       0.00      0.00      0.00        66\\n          19       0.48      0.87      0.62       549\\n          20       0.00      0.00      0.00       269\\n          21       0.19      0.59      0.29       100\\n          22       0.00      0.00      0.00        15\\n          23       0.00      0.00      0.00        41\\n          24       0.00      0.00      0.00        62\\n          25       0.17      0.72      0.28        92\\n          26       0.00      0.00      0.00        24\\n          27       0.00      0.00      0.00        15\\n          28       0.00      0.00      0.00        48\\n          29       0.00      0.00      0.00        19\\n          30       0.00      0.00      0.00        45\\n          31       0.00      0.00      0.00        39\\n          32       0.00      0.00      0.00        32\\n          33       0.00      0.00      0.00        11\\n          34       0.00      0.00      0.00        50\\n          35       0.00      0.00      0.00        10\\n          36       0.00      0.00      0.00        49\\n          37       0.00      0.00      0.00        19\\n          38       0.00      0.00      0.00        19\\n          39       0.00      0.00      0.00        24\\n          40       0.00      0.00      0.00        36\\n          41       0.00      0.00      0.00        30\\n          42       0.00      0.00      0.00        13\\n          43       0.00      0.00      0.00        21\\n          44       0.00      0.00      0.00        12\\n          45       0.00      0.00      0.00        18\\n\\n    accuracy                           0.72      8982\\n   macro avg       0.12      0.16      0.13      8982\\nweighted avg       0.66      0.72      0.68      8982\\n'"
            ]
          },
          "metadata": {
            "tags": []
          },
          "execution_count": 27
        }
      ]
    },
    {
      "cell_type": "code",
      "metadata": {
        "colab": {
          "base_uri": "https://localhost:8080/"
        },
        "id": "IJCo2kwBqRAX",
        "outputId": "78c48466-188b-4715-e89e-f4a3f74f21aa"
      },
      "source": [
        "print(classification_report(y_train, y_pred))"
      ],
      "execution_count": 28,
      "outputs": [
        {
          "output_type": "stream",
          "text": [
            "              precision    recall  f1-score   support\n",
            "\n",
            "           0       0.00      0.00      0.00        55\n",
            "           1       0.75      0.78      0.76       432\n",
            "           2       0.00      0.00      0.00        74\n",
            "           3       0.92      0.96      0.94      3159\n",
            "           4       0.91      0.90      0.91      1949\n",
            "           5       0.00      0.00      0.00        17\n",
            "           6       0.00      0.00      0.00        48\n",
            "           7       0.00      0.00      0.00        16\n",
            "           8       0.00      0.00      0.00       139\n",
            "           9       0.00      0.00      0.00       101\n",
            "          10       0.17      0.75      0.28       124\n",
            "          11       0.57      0.74      0.65       390\n",
            "          12       0.00      0.00      0.00        49\n",
            "          13       0.59      0.34      0.43       172\n",
            "          14       0.00      0.00      0.00        26\n",
            "          15       0.00      0.00      0.00        20\n",
            "          16       0.65      0.65      0.65       444\n",
            "          17       0.00      0.00      0.00        39\n",
            "          18       0.00      0.00      0.00        66\n",
            "          19       0.48      0.87      0.62       549\n",
            "          20       0.00      0.00      0.00       269\n",
            "          21       0.19      0.59      0.29       100\n",
            "          22       0.00      0.00      0.00        15\n",
            "          23       0.00      0.00      0.00        41\n",
            "          24       0.00      0.00      0.00        62\n",
            "          25       0.17      0.72      0.28        92\n",
            "          26       0.00      0.00      0.00        24\n",
            "          27       0.00      0.00      0.00        15\n",
            "          28       0.00      0.00      0.00        48\n",
            "          29       0.00      0.00      0.00        19\n",
            "          30       0.00      0.00      0.00        45\n",
            "          31       0.00      0.00      0.00        39\n",
            "          32       0.00      0.00      0.00        32\n",
            "          33       0.00      0.00      0.00        11\n",
            "          34       0.00      0.00      0.00        50\n",
            "          35       0.00      0.00      0.00        10\n",
            "          36       0.00      0.00      0.00        49\n",
            "          37       0.00      0.00      0.00        19\n",
            "          38       0.00      0.00      0.00        19\n",
            "          39       0.00      0.00      0.00        24\n",
            "          40       0.00      0.00      0.00        36\n",
            "          41       0.00      0.00      0.00        30\n",
            "          42       0.00      0.00      0.00        13\n",
            "          43       0.00      0.00      0.00        21\n",
            "          44       0.00      0.00      0.00        12\n",
            "          45       0.00      0.00      0.00        18\n",
            "\n",
            "    accuracy                           0.72      8982\n",
            "   macro avg       0.12      0.16      0.13      8982\n",
            "weighted avg       0.66      0.72      0.68      8982\n",
            "\n"
          ],
          "name": "stdout"
        },
        {
          "output_type": "stream",
          "text": [
            "/usr/local/lib/python3.7/dist-packages/sklearn/metrics/_classification.py:1272: UndefinedMetricWarning: Precision and F-score are ill-defined and being set to 0.0 in labels with no predicted samples. Use `zero_division` parameter to control this behavior.\n",
            "  _warn_prf(average, modifier, msg_start, len(result))\n"
          ],
          "name": "stderr"
        }
      ]
    },
    {
      "cell_type": "code",
      "metadata": {
        "id": "0zRI7jO5rbyz"
      },
      "source": [
        "y_test_pred = model.predict(pad_x_test)"
      ],
      "execution_count": 28,
      "outputs": []
    },
    {
      "cell_type": "code",
      "metadata": {
        "id": "qmVANluGtHzD"
      },
      "source": [
        "y_pred = np.argmax(y_test_pred, axis=1)"
      ],
      "execution_count": null,
      "outputs": []
    },
    {
      "cell_type": "code",
      "metadata": {
        "id": "W1P_TrEXtHiJ"
      },
      "source": [
        "classification_report(y_test, y_pred)"
      ],
      "execution_count": null,
      "outputs": []
    },
    {
      "cell_type": "code",
      "metadata": {
        "id": "l5fBSsEftHRF"
      },
      "source": [
        ""
      ],
      "execution_count": null,
      "outputs": []
    }
  ]
}